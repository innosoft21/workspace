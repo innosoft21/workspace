{
  "nbformat": 4,
  "nbformat_minor": 0,
  "metadata": {
    "colab": {
      "name": "Excel_RPA1.ipynb",
      "provenance": [],
      "authorship_tag": "ABX9TyMyhUkX1pLhSCZH3hzK4GF3",
      "include_colab_link": true
    },
    "kernelspec": {
      "name": "python3",
      "display_name": "Python 3"
    },
    "language_info": {
      "name": "python"
    }
  },
  "cells": [
    {
      "cell_type": "markdown",
      "metadata": {
        "id": "view-in-github",
        "colab_type": "text"
      },
      "source": [
        "<a href=\"https://colab.research.google.com/github/innosoft21/workspace/blob/main/Excel_RPA1.ipynb\" target=\"_parent\"><img src=\"https://colab.research.google.com/assets/colab-badge.svg\" alt=\"Open In Colab\"/></a>"
      ]
    },
    {
      "cell_type": "markdown",
      "metadata": {
        "id": "GXJl6Ly4TdXQ"
      },
      "source": [
        "RPA 엑셀자동화 1. sheet생성과 test글자 입력"
      ]
    },
    {
      "cell_type": "code",
      "metadata": {
        "id": "Xbzt1pkpMnEi"
      },
      "source": [
        "from openpyxl import Workbook\n",
        "wb=Workbook() #새 워크북생성\n",
        "#ws=wb.active #현재활성화된 sheet가져옴\n",
        "ws=wb.create_sheet() #새로열고 기본이름 사용\n",
        "ws.title=\"Mysheet\" #sheet이름 변경\n",
        "ws.sheet_properties.tabColor=\"ff66ff\" #RGB형태 값입력,tab 색상지정"
      ],
      "execution_count": 2,
      "outputs": []
    },
    {
      "cell_type": "code",
      "metadata": {
        "colab": {
          "base_uri": "https://localhost:8080/"
        },
        "id": "MVCFug_fTYOK",
        "outputId": "15b8bdd7-d21e-42ea-f542-24926200b2cc"
      },
      "source": [
        "#sheet,Mysheet,YourSheet\n",
        "ws1 = wb.create_sheet(\"YourSheet\") #주어진 이름으로 sheet생성\n",
        "ws2 = wb.create_sheet(\"NewSheet\",2) #2번재 index에 sheet생성\n",
        "new_ws=wb[\"NewSheet\"] #dictionary형태로 sheet에 접근\n",
        "print(wb.sheetnames) #모든 sheet이름 출력"
      ],
      "execution_count": 4,
      "outputs": [
        {
          "output_type": "stream",
          "text": [
            "['Sheet', 'Mysheet', 'NewSheet1', 'NewSheet', 'YourSheet', 'YourSheet1']\n"
          ],
          "name": "stdout"
        }
      ]
    },
    {
      "cell_type": "code",
      "metadata": {
        "id": "zNv6ZAfvTbcK"
      },
      "source": [
        "#sheet 복사\n",
        "new_ws[\"A1\"]=\"Test\"\n",
        "target=wb.copy_worksheet(new_ws)\n",
        "target.title=\"Copied sheet\"\n",
        "wb.save(\"sample.xlsx\")\n",
        "wb.close()"
      ],
      "execution_count": 5,
      "outputs": []
    }
  ]
}