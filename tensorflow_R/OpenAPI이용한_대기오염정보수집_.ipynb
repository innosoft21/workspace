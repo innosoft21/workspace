{
  "nbformat": 4,
  "nbformat_minor": 0,
  "metadata": {
    "colab": {
      "name": "OpenAPI이용한_대기오염정보수집 .ipynb",
      "provenance": [],
      "authorship_tag": "ABX9TyP10h35aEqeK+at1WqJbGoL",
      "include_colab_link": true
    },
    "kernelspec": {
      "name": "ir",
      "display_name": "R"
    },
    "language_info": {
      "name": "R"
    },
    "accelerator": "GPU"
  },
  "cells": [
    {
      "cell_type": "markdown",
      "metadata": {
        "id": "view-in-github",
        "colab_type": "text"
      },
      "source": [
        "<a href=\"https://colab.research.google.com/github/innosoft21/workspace/blob/main/tensorflow_R/OpenAPI%EC%9D%B4%EC%9A%A9%ED%95%9C_%EB%8C%80%EA%B8%B0%EC%98%A4%EC%97%BC%EC%A0%95%EB%B3%B4%EC%88%98%EC%A7%91_.ipynb\" target=\"_parent\"><img src=\"https://colab.research.google.com/assets/colab-badge.svg\" alt=\"Open In Colab\"/></a>"
      ]
    },
    {
      "cell_type": "markdown",
      "metadata": {
        "id": "YqB53V4mGABh"
      },
      "source": [
        "시도별 실시간 측정정보 조회"
      ]
    },
    {
      "cell_type": "code",
      "metadata": {
        "colab": {
          "base_uri": "https://localhost:8080/"
        },
        "id": "VzIFdi-CHtnr",
        "outputId": "aee12bf9-3cb4-4243-c021-4465d3773c6a"
      },
      "source": [
        "install.packages(\"rvest\")\n",
        "install.packages(\"XML\")\n",
        "install.packages(\"data.table\")"
      ],
      "execution_count": 15,
      "outputs": [
        {
          "output_type": "stream",
          "text": [
            "Installing package into ‘/usr/local/lib/R/site-library’\n",
            "(as ‘lib’ is unspecified)\n",
            "\n",
            "Installing package into ‘/usr/local/lib/R/site-library’\n",
            "(as ‘lib’ is unspecified)\n",
            "\n",
            "Installing package into ‘/usr/local/lib/R/site-library’\n",
            "(as ‘lib’ is unspecified)\n",
            "\n"
          ],
          "name": "stderr"
        }
      ]
    },
    {
      "cell_type": "code",
      "metadata": {
        "id": "HKFUpOSZHx1y"
      },
      "source": [
        "library(rvest)\n",
        "library(XML)\n",
        "library(data.table)"
      ],
      "execution_count": 16,
      "outputs": []
    },
    {
      "cell_type": "code",
      "metadata": {
        "id": "GYMw1pTGJmKT"
      },
      "source": [
        "sido<-c(\"%EC%84%9C%EC%9A%B8\",\"%EB%B6%80%EC%82%B0\",\"%EB%8C%80%EA%B5%AC\",\"%EC%9D%B8%EC%B2%9C\",\n",
        "        \"%EA%B4%91%EC%A3%BC\",\"%EB%8C%80%EC%A0%84\",\"%EC%9A%B8%EC%82%B0\",\"%EA%B2%BD%EA%B8%B0\",\n",
        "        \"%EA%B0%95%EC%9B%90\",\"%EC%B6%A9%EB%B6%81\",\"%EC%B6%A9%EB%82%A8\",\"%EC%A0%84%EB%B6%81\",\n",
        "        \"%EC%A0%84%EB%82%A8\",\"%EA%B2%BD%EB%B6%81\",\"%EA%B2%BD%EB%82%A8\",\"%EC%A0%9C%EC%A3%BC\",\n",
        "        \"%EC%84%B8%EC%A2%85\")\n",
        "sido_name<-c(\"서울\", \"부산\", \"대구\", \"인천\", \"광주\", \"대전\", \"울산\",\n",
        "             \"경기\", \"강원\", \"충북\", \"충남\", \"전북\", \"전남\", \"경북\", \"경남\",\n",
        "             \"제주\", \"세종\")\n",
        "#names(Sido)<-sido_name"
      ],
      "execution_count": 17,
      "outputs": []
    },
    {
      "cell_type": "code",
      "metadata": {
        "id": "Kx4jOljhJpry"
      },
      "source": [
        "url1 <- \"http://openapi.airkorea.or.kr/openapi/services/rest/ArpltnInforInqireSvc/getCtprvnRltmMesureDnsty?serviceKey=\"\n",
        "serviceKey <- \"9x8WeUtQ1a6VrfDnAAN3PDJhSp4VFdoqfopYR4K31SeTR08xHjM3W05qW13HYEdKtOAu3U4RSeOfErde0EP2ng%3D%3D\"\n",
        "url2 <- \"&numOfRows=100&pageSize=1&pageNo=1&startPage=1&sidoName=\"\n",
        "ver <- \"&ver=1.3\"\n",
        "air_poll <- list()\n",
        "air_pollution <- list()"
      ],
      "execution_count": 18,
      "outputs": []
    },
    {
      "cell_type": "code",
      "metadata": {
        "id": "AD8y96dtJsmq"
      },
      "source": [
        "for(j in 1:17){\n",
        "api_url <- paste(url1,serviceKey,url2,sido[j],ver, sep=\"\")\n",
        "air_raw<- xmlTreeParse(api_url,useInternalNodes = T, encoding = \"UTF-8\")\n",
        "rootNode <- xmlRoot(air_raw)\n",
        "items = rootNode[[2]][[\"items\"]]\n",
        "size=xmlSize(items)\n",
        "air_emp <- data.frame()\n",
        "air_poll <- list()\n",
        "\n",
        "for(i in 1:size)\n",
        "{\n",
        "  test <- xmlSApply(items[[i]],xmlValue)  \n",
        "  air_emp <- data.table(Province=sido_name[j], stationName=test[[1]], mangName=test[[2]],\n",
        "                        Time=test[[3]], so2=test[[4]], co=test[[5]], o3=test[[6]],\n",
        "                        no2=test[[7]],  pm10=test[[8]], pm1024=test[[9]],\n",
        "                        pm25=test[[10]], pm2524=test[[11]], khai=test[[12]],\n",
        "                        khaigrade=test[[13]], so2grade=test[[14]], cograde=test[[15]],\n",
        "                        o3grade=test[[16]], no2grade=test[[17]], pm10grade=test[[18]],\n",
        "                        pm25grade=test[[19]], pm101hgrade=test[[20]], pm251hgrade=test[[21]])\n",
        "  air_poll[[i]]=air_emp\n",
        "}\n",
        "  air_pollution[[j]]=air_poll\n",
        "}\n"
      ],
      "execution_count": 21,
      "outputs": []
    },
    {
      "cell_type": "code",
      "metadata": {
        "id": "uwbHDkUaJu5Z"
      },
      "source": [
        "air_poll_final <- list()\n",
        "for(i in 1:17){\n",
        "air_poll_final[[i]] <- rbindlist(air_pollution[[i]])\n",
        "}\n",
        "\n",
        "air_poll_final <- rbindlist(air_poll_final)"
      ],
      "execution_count": 22,
      "outputs": []
    },
    {
      "cell_type": "code",
      "metadata": {
        "id": "yE0vbr7FKTmK"
      },
      "source": [
        "View(air_poll_final)"
      ],
      "execution_count": null,
      "outputs": []
    }
  ]
}