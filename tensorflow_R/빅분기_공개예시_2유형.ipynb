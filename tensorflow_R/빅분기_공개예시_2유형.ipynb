{
  "nbformat": 4,
  "nbformat_minor": 0,
  "metadata": {
    "colab": {
      "name": "빅분기_공개예시_2유형.ipynb",
      "provenance": [],
      "authorship_tag": "ABX9TyM4NlzTDStfBLC05ki2qkFl",
      "include_colab_link": true
    },
    "kernelspec": {
      "name": "ir",
      "display_name": "R"
    },
    "language_info": {
      "name": "R"
    },
    "accelerator": "GPU"
  },
  "cells": [
    {
      "cell_type": "markdown",
      "metadata": {
        "id": "view-in-github",
        "colab_type": "text"
      },
      "source": [
        "<a href=\"https://colab.research.google.com/github/innosoft21/workspace/blob/main/tensorflow_R/%EB%B9%85%EB%B6%84%EA%B8%B0_%EA%B3%B5%EA%B0%9C%EC%98%88%EC%8B%9C_2%EC%9C%A0%ED%98%95.ipynb\" target=\"_parent\"><img src=\"https://colab.research.google.com/assets/colab-badge.svg\" alt=\"Open In Colab\"/></a>"
      ]
    },
    {
      "cell_type": "code",
      "metadata": {
        "colab": {
          "base_uri": "https://localhost:8080/"
        },
        "id": "vstcZ2cGYkQv",
        "outputId": "b6af3df0-4860-4421-d79c-6d1a885b5410"
      },
      "source": [
        "X_train = read.csv(\"/content/X_train.csv\",header = T, fileEncoding = \"UTF-8\")\n",
        "X_test = read.csv(\"/content/X_test.csv\",header = T, fileEncoding = \"UTF-8\")\n",
        "y_train = read.csv(\"/content/y_train.csv\",header = T, fileEncoding = \"UTF-8\")"
      ],
      "execution_count": 2,
      "outputs": [
        {
          "output_type": "stream",
          "text": [
            "Warning message in read.table(file = file, header = header, sep = sep, quote = quote, :\n",
            "“invalid input found on input connection '/content/X_train.csv'”\n",
            "Warning message in read.table(file = file, header = header, sep = sep, quote = quote, :\n",
            "“incomplete final line found by readTableHeader on '/content/X_train.csv'”\n",
            "Warning message in read.table(file = file, header = header, sep = sep, quote = quote, :\n",
            "“invalid input found on input connection '/content/X_test.csv'”\n",
            "Warning message in read.table(file = file, header = header, sep = sep, quote = quote, :\n",
            "“incomplete final line found by readTableHeader on '/content/X_test.csv'”\n"
          ],
          "name": "stderr"
        }
      ]
    },
    {
      "cell_type": "code",
      "metadata": {
        "colab": {
          "base_uri": "https://localhost:8080/",
          "height": 385
        },
        "id": "uiLQsu4lYz-G",
        "outputId": "e87af046-6ad6-44c9-bb20-558f2e77861e"
      },
      "source": [
        "# train dataset merge\n",
        "\n",
        "library(dplyr)\n",
        "\n",
        "data = X_train %>% left_join(y_train)\n",
        "head(data)"
      ],
      "execution_count": 3,
      "outputs": [
        {
          "output_type": "stream",
          "text": [
            "\n",
            "Attaching package: ‘dplyr’\n",
            "\n",
            "\n",
            "The following objects are masked from ‘package:stats’:\n",
            "\n",
            "    filter, lag\n",
            "\n",
            "\n",
            "The following objects are masked from ‘package:base’:\n",
            "\n",
            "    intersect, setdiff, setequal, union\n",
            "\n",
            "\n",
            "Joining, by = \"cust_id\"\n",
            "\n"
          ],
          "name": "stderr"
        },
        {
          "output_type": "display_data",
          "data": {
            "text/plain": [
              "     cust_id X gender"
            ],
            "text/latex": "A data.frame: 0 × 3\n\\begin{tabular}{lll}\n cust\\_id & X & gender\\\\\n <int> & <lgl> & <int>\\\\\n\\hline\n\\end{tabular}\n",
            "text/markdown": "\nA data.frame: 0 × 3\n\n| cust_id &lt;int&gt; | X &lt;lgl&gt; | gender &lt;int&gt; |\n|---|---|---|\n\n",
            "text/html": [
              "<table class=\"dataframe\">\n",
              "<caption>A data.frame: 0 × 3</caption>\n",
              "<thead>\n",
              "\t<tr><th scope=col>cust_id</th><th scope=col>X</th><th scope=col>gender</th></tr>\n",
              "\t<tr><th scope=col>&lt;int&gt;</th><th scope=col>&lt;lgl&gt;</th><th scope=col>&lt;int&gt;</th></tr>\n",
              "</thead>\n",
              "<tbody>\n",
              "</tbody>\n",
              "</table>\n"
            ]
          },
          "metadata": {
            "tags": []
          }
        }
      ]
    },
    {
      "cell_type": "code",
      "metadata": {
        "colab": {
          "base_uri": "https://localhost:8080/",
          "height": 240
        },
        "id": "yBGMegXoY1y9",
        "outputId": "a54f77cb-8a8d-426a-be76-967596077f6e"
      },
      "source": [
        "# 데이터 분포 확인\n",
        "\n",
        "summary(data)\n",
        "\n",
        "# 여자: 0 / 남자: 1\n",
        "# 남자일 확률 예측\n",
        "\n",
        "data %>% count(gender)"
      ],
      "execution_count": 4,
      "outputs": [
        {
          "output_type": "display_data",
          "data": {
            "text/plain": [
              "    cust_id       X               gender   \n",
              " Min.   : NA   Mode:logical   Min.   : NA  \n",
              " 1st Qu.: NA                  1st Qu.: NA  \n",
              " Median : NA                  Median : NA  \n",
              " Mean   :NaN                  Mean   :NaN  \n",
              " 3rd Qu.: NA                  3rd Qu.: NA  \n",
              " Max.   : NA                  Max.   : NA  "
            ]
          },
          "metadata": {
            "tags": []
          }
        },
        {
          "output_type": "display_data",
          "data": {
            "text/plain": [
              "     gender n"
            ],
            "text/latex": "A data.frame: 0 × 2\n\\begin{tabular}{ll}\n gender & n\\\\\n <int> & <int>\\\\\n\\hline\n\\end{tabular}\n",
            "text/markdown": "\nA data.frame: 0 × 2\n\n| gender &lt;int&gt; | n &lt;int&gt; |\n|---|---|\n\n",
            "text/html": [
              "<table class=\"dataframe\">\n",
              "<caption>A data.frame: 0 × 2</caption>\n",
              "<thead>\n",
              "\t<tr><th scope=col>gender</th><th scope=col>n</th></tr>\n",
              "\t<tr><th scope=col>&lt;int&gt;</th><th scope=col>&lt;int&gt;</th></tr>\n",
              "</thead>\n",
              "<tbody>\n",
              "</tbody>\n",
              "</table>\n"
            ]
          },
          "metadata": {
            "tags": []
          }
        }
      ]
    },
    {
      "cell_type": "code",
      "metadata": {
        "colab": {
          "base_uri": "https://localhost:8080/",
          "height": 269
        },
        "id": "dqYCYsOsY3oG",
        "outputId": "1b751cb1-c46c-4a18-c3b7-38aff4ae56fa"
      },
      "source": [
        "# 이상치 NA 치환\n",
        "\n",
        "data$총구매액 = ifelse(data$총구매액 <0, as.numeric(NA), data$총구매액)\n",
        "data$총구매액 = ifelse(data$총구매액 == 0, 1, data$총구매액)\n",
        "data$최대구매액 = ifelse(data$최대구매액 <0, as.numeric(NA), data$최대구매액)\n",
        "data$환불금액 = ifelse(is.na(data$환불금액), 1, data$환불금액)\n",
        "summary(data)"
      ],
      "execution_count": 5,
      "outputs": [
        {
          "output_type": "display_data",
          "data": {
            "text/plain": [
              "    cust_id       X               gender    총구매액       최대구매액    \n",
              " Min.   : NA   Mode:logical   Min.   : NA   Mode:logical   Mode:logical  \n",
              " 1st Qu.: NA                  1st Qu.: NA                                \n",
              " Median : NA                  Median : NA                                \n",
              " Mean   :NaN                  Mean   :NaN                                \n",
              " 3rd Qu.: NA                  3rd Qu.: NA                                \n",
              " Max.   : NA                  Max.   : NA                                \n",
              " 환불금액      \n",
              " Mode:logical  \n",
              "               \n",
              "               \n",
              "               \n",
              "               \n",
              "               "
            ]
          },
          "metadata": {
            "tags": []
          }
        }
      ]
    },
    {
      "cell_type": "code",
      "metadata": {
        "colab": {
          "base_uri": "https://localhost:8080/",
          "height": 280
        },
        "id": "WWk8PMvfY5nN",
        "outputId": "47e3387a-ec91-4135-eb0f-fa4dc34b244c"
      },
      "source": [
        "# 총구매액/ 최대구매액 / 환불금액 => log 변환\n",
        "\n",
        "data %>% count(주구매상품, sort=TRUE) #threshold =0.1\n",
        "data %>% count(주구매지점, sort= TRUE) #threshold = 0.1"
      ],
      "execution_count": 6,
      "outputs": [
        {
          "output_type": "error",
          "ename": "ERROR",
          "evalue": "ignored",
          "traceback": [
            "Error: Must group by variables found in `.data`.\n* Column `주구매상품` is not found.\nTraceback:\n",
            "1. data %>% count(주구매상품, sort = TRUE)",
            "2. count(., 주구매상품, sort = TRUE)",
            "3. count.data.frame(., 주구매상품, sort = TRUE)",
            "4. group_by(x, ..., .add = TRUE, .drop = .drop)",
            "5. group_by.data.frame(x, ..., .add = TRUE, .drop = .drop)",
            "6. group_by_prepare(.data, ..., .add = .add)",
            "7. abort(c(\"Must group by variables found in `.data`.\", glue(\"Column `{unknown}` is not found.\")))",
            "8. signal_abort(cnd)"
          ]
        }
      ]
    },
    {
      "cell_type": "code",
      "metadata": {
        "id": "IbJu6yYfY7ru"
      },
      "source": [
        "# 데이터 전처리\n",
        "\n",
        "data$gender = as.factor(data$gender)\n",
        "data = data %>% select(- cust_id)"
      ],
      "execution_count": null,
      "outputs": []
    },
    {
      "cell_type": "code",
      "metadata": {
        "id": "IQ3a1zs7Y9lN"
      },
      "source": [
        "# train-test 분리\n",
        "\n",
        "library(caret)\n",
        "\n",
        "idx = createDataPartition(data$gender, p=0.7, list = FALSE)\n",
        "\n",
        "train_data = data[idx, ]\n",
        "test_data = data[-idx, ]"
      ],
      "execution_count": null,
      "outputs": []
    },
    {
      "cell_type": "code",
      "metadata": {
        "id": "nBzmB4CbY_f9"
      },
      "source": [
        "# 데이터 전처리\n",
        "\n",
        "library(recipes)\n",
        "\n",
        "recipe = recipe(gender~., data = train_data) %>%\n",
        "   step_log(contains(\"액\"), base=10) %>%\n",
        "   step_other(주구매상품, 주구매지점, threshold=0.01) %>%\n",
        "   step_normalize(내점일수, 내점당구매건수, 구매주기) %>%\n",
        "   step_impute_knn(all_predictors()) %>%\n",
        "   prep(training = train_data)\n",
        "\n",
        "train_preprocessed = bake(recipe, new_data=train_data)\n",
        "test_preprocessed = bake(recipe, new_data = test_data)\n",
        "\n",
        "train_preprocessed %>% head\n",
        "train_preprocessed %>% summary"
      ],
      "execution_count": null,
      "outputs": []
    },
    {
      "cell_type": "code",
      "metadata": {
        "id": "2ilhbaCiZBN-"
      },
      "source": [
        "# randomForest Model\n",
        "\n",
        "library(randomForest)\n",
        "\n",
        "m_rf = randomForest(gender~., data= train_preprocessed)\n",
        "p_rf = predict(m_rf, test_preprocessed, type=\"prob\")"
      ],
      "execution_count": null,
      "outputs": []
    },
    {
      "cell_type": "code",
      "metadata": {
        "id": "ZYx8cFM-ZDW9"
      },
      "source": [
        "# confusionMatrix(test_preprocessed$gender, p_rf)\n",
        "\n",
        "library(pROC)\n",
        "p_rf %>% head()\n",
        "\n",
        "auc(test_preprocessed$gender, p_rf[, 2])"
      ],
      "execution_count": null,
      "outputs": []
    },
    {
      "cell_type": "code",
      "metadata": {
        "id": "WNvcMNuvZF49"
      },
      "source": [
        "# randomForest: auc: 0.6589\n",
        "\n",
        "m_glm = glm(gender~., data= train_preprocessed, family=\"binomial\")\n",
        "p_glm = predict(m_glm, test_preprocessed)\n",
        "\n",
        "auc(test_preprocessed$gender, p_glm) # 0.6669"
      ],
      "execution_count": null,
      "outputs": []
    }
  ]
}