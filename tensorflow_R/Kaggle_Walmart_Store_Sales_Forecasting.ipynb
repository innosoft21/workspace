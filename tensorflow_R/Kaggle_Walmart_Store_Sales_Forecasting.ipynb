{
  "nbformat": 4,
  "nbformat_minor": 0,
  "metadata": {
    "colab": {
      "name": "Kaggle_Walmart_Store_Sales_Forecasting.ipynb",
      "provenance": [],
      "authorship_tag": "ABX9TyMHkfOJ1t1LDF92qGk9x4eX",
      "include_colab_link": true
    },
    "kernelspec": {
      "name": "ir",
      "display_name": "R"
    },
    "language_info": {
      "name": "R"
    }
  },
  "cells": [
    {
      "cell_type": "markdown",
      "metadata": {
        "id": "view-in-github",
        "colab_type": "text"
      },
      "source": [
        "<a href=\"https://colab.research.google.com/github/innosoft21/workspace/blob/main/tensorflow_R/Kaggle_Walmart_Store_Sales_Forecasting.ipynb\" target=\"_parent\"><img src=\"https://colab.research.google.com/assets/colab-badge.svg\" alt=\"Open In Colab\"/></a>"
      ]
    },
    {
      "cell_type": "markdown",
      "metadata": {
        "id": "-56dUT-iTZbW"
      },
      "source": [
        "Kaggle : Walmart Sales forecasting"
      ]
    },
    {
      "cell_type": "code",
      "metadata": {
        "id": "P3U6PbjzS3Gc"
      },
      "source": [
        "library(tidymodels)\n",
        "library(tidyverse)\n",
        "library(magrittr)\n",
        "library(skimr)\n",
        "library(knitr)"
      ],
      "execution_count": null,
      "outputs": []
    },
    {
      "cell_type": "code",
      "metadata": {
        "id": "WC16vHoXTLpS"
      },
      "source": [
        "file_path <- \"../input/walmart-recruiting-store-sales-forecasting/\"\n",
        "files <- list.files(file_path)\n",
        "files\n",
        "train <- read_csv(file.path(file_path, \"train.csv.zip\")) %>% \n",
        "  janitor::clean_names()\n",
        "test <- read_csv(file.path(file_path, \"test.csv.zip\")) %>% \n",
        "  janitor::clean_names()\n",
        "features <- read_csv(file.path(file_path, \"features.csv.zip\")) %>% \n",
        "  janitor::clean_names()\n",
        "stores <- read_csv(file.path(file_path, \"stores.csv\")) %>% \n",
        "  janitor::clean_names()"
      ],
      "execution_count": null,
      "outputs": []
    },
    {
      "cell_type": "code",
      "metadata": {
        "id": "jBddNdpdTN6L"
      },
      "source": [
        "theme_set(theme_bw())\n",
        "# size of data\n",
        "dim(train)\n",
        "dim(test)\n",
        "names(train)\n",
        "train %>% head()\n",
        "# test\n",
        "names(test)\n",
        "test %>% head()\n",
        "# alldata combine\n",
        "all_data <- bind_rows(train, test)\n",
        "names(all_data)\n",
        "all_data %>% head()\n",
        "all_data %>% skim()\n",
        "walmart_recipe <- \n",
        "    recipe(weekly_sales ~ .,\n",
        "           data = all_data) %>% \n",
        "    step_mutate(year = lubridate::year(date),\n",
        "                month = lubridate::month(date)) %>%\n",
        "    step_rm(date) %>% \n",
        "    step_mutate(year = factor(year),\n",
        "                month = factor(month),\n",
        "                store = factor(store),\n",
        "                dept = factor(dept)) %>% \n",
        "    step_dummy(all_nominal()) %>%\n",
        "    step_normalize(all_numeric(), \n",
        "                   -all_outcomes()) %>% \n",
        "    prep(training = all_data)\n",
        "walmart_recipe"
      ],
      "execution_count": null,
      "outputs": []
    },
    {
      "cell_type": "code",
      "metadata": {
        "id": "Da2tpeNcTQcZ"
      },
      "source": [
        "all_data2 <- juice(walmart_recipe)\n",
        "names(all_data2)\n",
        "head(all_data2)\n",
        "train_index <- seq_len(nrow(train))\n",
        "train2 <- all_data2[train_index,]\n",
        "test2 <- all_data2[-train_index,]\n",
        "train2 %>% dim()\n",
        "lm_model <- \n",
        "    linear_reg() %>% \n",
        "    set_engine(\"lm\")"
      ],
      "execution_count": null,
      "outputs": []
    },
    {
      "cell_type": "code",
      "metadata": {
        "id": "R6G6VS16TSHV"
      },
      "source": [
        "lm_form_fit <- \n",
        "    lm_model %>% \n",
        "    fit(weekly_sales ~ ., data = train2)\n"
      ],
      "execution_count": null,
      "outputs": []
    },
    {
      "cell_type": "code",
      "metadata": {
        "id": "ndMZzmckTUvY"
      },
      "source": [
        "lm_form_fit\n",
        "result <- predict(lm_form_fit, \n",
        "                  new_data = test2)\n",
        "submission <- read_csv(file.path(file_path, \"sampleSubmission.csv.zip\"))\n",
        "submission$Weekly_Sales <- result$.pred\n",
        "write.csv(submission, row.names = FALSE,\n",
        "          \"baseline-lm-dummy-04022021.csv\")"
      ],
      "execution_count": null,
      "outputs": []
    }
  ]
}