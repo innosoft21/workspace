{
  "nbformat": 4,
  "nbformat_minor": 0,
  "metadata": {
    "colab": {
      "name": "트위터_크롤링.ipynb",
      "provenance": [],
      "authorship_tag": "ABX9TyNo7EFZbg6LxHncAL5VfUJr",
      "include_colab_link": true
    },
    "kernelspec": {
      "name": "ir",
      "display_name": "R"
    },
    "language_info": {
      "name": "R"
    }
  },
  "cells": [
    {
      "cell_type": "markdown",
      "metadata": {
        "id": "view-in-github",
        "colab_type": "text"
      },
      "source": [
        "<a href=\"https://colab.research.google.com/github/innosoft21/workspace/blob/main/tensorflow_R/%ED%8A%B8%EC%9C%84%ED%84%B0_%ED%81%AC%EB%A1%A4%EB%A7%81.ipynb\" target=\"_parent\"><img src=\"https://colab.research.google.com/assets/colab-badge.svg\" alt=\"Open In Colab\"/></a>"
      ]
    },
    {
      "cell_type": "markdown",
      "metadata": {
        "id": "YqB53V4mGABh"
      },
      "source": [
        "트위터를 크롤링하기위해서 트위터 앱 사이트(http://apps.twitter.com)에서 Key값을 발급받아야 한다.\n",
        "\n",
        "Step1. 트위터에 로그인 후, http://apps.twitter.com에서 \"Create New App\"를 클릭\n",
        "\n",
        "Step2. Name, Description, Website 입력 후 동의(Yes, I have~) 부분을 체크한 후 \"Create your Twitter application\" 선택\n",
        "\n",
        "Name: Application 이름(32글자 이내)\n",
        "\n",
        "Description: Application에 대한 설명 입력(10~200 글자 이내)\n",
        "\n",
        "Website: 자신의  블로그 URL 주소나 다른 웹 사이트의 URL 주소를 입력\n",
        "\n",
        "Step3. Keys and Access Tokens 탭에서 Consumer Key(API Key), Consumer Secret(API Secret)을 확인\n",
        "\n",
        "\"Create my access Token\"을 선택\n",
        "\n",
        "Step4. 발급된 Access Token과 Access Token Secre 확인"
      ]
    },
    {
      "cell_type": "code",
      "metadata": {
        "colab": {
          "base_uri": "https://localhost:8080/"
        },
        "id": "rY8ogJaQGLqg",
        "outputId": "0ac62e5e-f561-4eac-8a58-db351a52ef0c"
      },
      "source": [
        "install.packages(c(\"twitteR\", \"ROAuth\", \"base64enc\"))"
      ],
      "execution_count": 8,
      "outputs": [
        {
          "output_type": "stream",
          "text": [
            "Installing packages into ‘/usr/local/lib/R/site-library’\n",
            "(as ‘lib’ is unspecified)\n",
            "\n",
            "also installing the dependencies ‘bit’, ‘bitops’, ‘bit64’, ‘rjson’, ‘RCurl’\n",
            "\n",
            "\n"
          ],
          "name": "stderr"
        }
      ]
    },
    {
      "cell_type": "code",
      "metadata": {
        "id": "JPV_1sKsGYKp"
      },
      "source": [
        "library(\"twitteR\")\n",
        "\n",
        "library(\"ROAuth\")\n",
        "\n",
        "library(\"base64enc\")"
      ],
      "execution_count": 9,
      "outputs": []
    },
    {
      "cell_type": "code",
      "metadata": {
        "id": "XmEM2rkNGbQJ"
      },
      "source": [
        "consumerKey <- \"Consumer Key (API Key)\"\n",
        "\n",
        "consumerSecret <- \"Consumer Secret (API Key)\"\n",
        "\n",
        "accessToken <- \"Access Token\"\n",
        "\n",
        "accessTokenSecret <- \"Access Token Secret\""
      ],
      "execution_count": 10,
      "outputs": []
    },
    {
      "cell_type": "code",
      "metadata": {
        "id": "XbF1R9a4G6nJ"
      },
      "source": [
        "setup_twitter_oauth(consumerKey, consumerSecret, accessToken, accessTokenSecret)"
      ],
      "execution_count": null,
      "outputs": []
    },
    {
      "cell_type": "code",
      "metadata": {
        "id": "III6b0KTGiRh"
      },
      "source": [
        "keyword <-enc2utf8(\"빅데이터\")"
      ],
      "execution_count": null,
      "outputs": []
    },
    {
      "cell_type": "code",
      "metadata": {
        "id": "ssR7ZCP5GkGB"
      },
      "source": [
        "bigdata <- searchTwitter(keyword, n=500, lang=\"ko\")"
      ],
      "execution_count": null,
      "outputs": []
    },
    {
      "cell_type": "code",
      "metadata": {
        "id": "VBusg4eGGl25"
      },
      "source": [
        "head(bigdata)"
      ],
      "execution_count": null,
      "outputs": []
    },
    {
      "cell_type": "code",
      "metadata": {
        "id": "n46i9kg4Gnm6"
      },
      "source": [
        "length(bigdata)"
      ],
      "execution_count": null,
      "outputs": []
    },
    {
      "cell_type": "code",
      "metadata": {
        "id": "dwDou5wCGphi"
      },
      "source": [
        "bigdata <- searchTwitter(keyword, since = '2017-01-01', until = '2017-12-31', lang=\"ko\")\n",
        "head(bigdata)\n",
        "length(bigdata)"
      ],
      "execution_count": null,
      "outputs": []
    }
  ]
}