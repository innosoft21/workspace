{
  "nbformat": 4,
  "nbformat_minor": 0,
  "metadata": {
    "colab": {
      "name": "고객세분화_책판매.ipynb",
      "provenance": [],
      "authorship_tag": "ABX9TyMMV79+gECWKvqQ+2SdpuBb",
      "include_colab_link": true
    },
    "kernelspec": {
      "name": "ir",
      "display_name": "R"
    },
    "language_info": {
      "name": "R"
    },
    "accelerator": "GPU"
  },
  "cells": [
    {
      "cell_type": "markdown",
      "metadata": {
        "id": "view-in-github",
        "colab_type": "text"
      },
      "source": [
        "<a href=\"https://colab.research.google.com/github/innosoft21/workspace/blob/main/tensorflow_R/%EA%B3%A0%EA%B0%9D%EC%84%B8%EB%B6%84%ED%99%94_%EC%B1%85%ED%8C%90%EB%A7%A4.ipynb\" target=\"_parent\"><img src=\"https://colab.research.google.com/assets/colab-badge.svg\" alt=\"Open In Colab\"/></a>"
      ]
    },
    {
      "cell_type": "code",
      "metadata": {
        "id": "CD51gRvXsluq"
      },
      "source": [
        "# 엑셀파일을 사용하는 대신 다운로드 후 CSV 파일을 사용\n",
        "#install.packages(\"xlsx\")\n",
        "library(xlsx)\n",
        "\n",
        "#cs1 <- read.csv(\"https://t1.daumcdn.net/cfile/blog/99E68E4C5CE4B4051F?download\")\n",
        "\n",
        "cs1 <- read.xlsx(\"https://t1.daumcdn.net/cfile/blog/99A85D3F5A9E002921?download\")\n",
        "\n",
        "#cs1 <- read.csv(\"cust_seg_smpl_280122.csv\", header= T, stringsAsFactors = F, fileEncoding = \"UTF-8\")\n",
        "\n",
        "head(cs1)"
      ],
      "execution_count": null,
      "outputs": []
    },
    {
      "cell_type": "code",
      "metadata": {
        "id": "pKHpKHM8stFZ"
      },
      "source": [
        "names(cs1) <- c(\"cust_name\", \"sex\", \"age\", \"location\", \"days_purchase\",\n",
        "                \"recency\", \"num_books\", \"amt_books\", \"amt_non_book\",\n",
        "                \"amt_total\", \"interest_genre\", \"num_genre\",\n",
        "                \"membership_period\", \"sms_optin\" )"
      ],
      "execution_count": null,
      "outputs": []
    },
    {
      "cell_type": "code",
      "metadata": {
        "id": "md-4T5__s0HG"
      },
      "source": [
        "# 최종구매후기간 recency와 구매한 서적의 수간의 관계 확인\n",
        "\n",
        "plot(cs1$recency, cs1$num_books)\n",
        "\n",
        "# 동일 좌표에 다수의 고객 존재 가능성이 있으므로 jitter 활용\n",
        "\n",
        "plot(jitter(cs1$recency), jitter(cs1$num_books))\n",
        "abline(lm(cs1$num_books~cs1$recency), col=\"blue\")\n",
        "\n",
        "# 보조선인 회귀선을 본다면 최근성이 낮을수록, 즉 구매한지 오래되었을 수록\n",
        "\n",
        "# 구매한 서적의 수가 많음"
      ],
      "execution_count": null,
      "outputs": []
    },
    {
      "cell_type": "code",
      "metadata": {
        "id": "_2mjGowbs5qP"
      },
      "source": [
        "# 엑셀에서 천단위 comma가 포함된 것을 gsub 함수로 제거\n",
        "\n",
        "cs1$amt_books <- as.numeric(gsub(\",\",\"\",as.character(cs1$amt_books)))\n",
        "cs1$amt_non_book <- as.numeric(gsub(\",\",\"\",as.character(cs1$amt_non_book)))\n",
        "\n",
        "plot(jitter(cs1$num_books), jitter(cs1$amt_books))\n",
        "abline(lm(cs1$amt_books~cs1$num_books), col=\"blue\")"
      ],
      "execution_count": null,
      "outputs": []
    },
    {
      "cell_type": "code",
      "metadata": {
        "id": "KjlIFKU5s_HP"
      },
      "source": [
        "# 구매한 책의 수가 많을수록 구매금액이 큼\n",
        "# 주로 비싼 책을 샀는지를 파악하기 위해 평균금액을 계산\n",
        "\n",
        "cs1$unitprice_book <- cs1$amt_books/ cs1$num_books\n",
        "\n",
        "plot(jitter(cs1$num_books), jitter(cs1$unitprice_book),\n",
        "     pch=19, col=\"lightblue\", cex=0.7, \n",
        "     ylim=c(0, max(cs1$unitprice_book)*1.05),)\n",
        "\n",
        "abline(lm(cs1$unitprice_book~cs1$num_books),\n",
        "       col=\"blue\",lwd=2, lty=2)\n",
        "\n",
        "abline(h=median(cs1$unitprice_book), col=\"darkgrey\")"
      ],
      "execution_count": null,
      "outputs": []
    },
    {
      "cell_type": "code",
      "metadata": {
        "id": "t6e7J0m0tCF2"
      },
      "source": [
        "# 성별을 구분해서 특성 차이 비교\n",
        "\n",
        "plot(jitter(cs1$num_books), jitter(cs1$unitprice_book),\n",
        "     pch=19, cex=0.7, \n",
        "     col=ifelse(cs1$sex=='여', \"pink\", \"lightblue\"),\n",
        "     ylim=c(0, max(cs1$unitprice_book)*1.05),\n",
        "     sub=\"pink: female   blue: male\")\n",
        "\n",
        "abline(lm(cs1$unitprice_book~cs1$num_books), \n",
        "       col=\"blue\",lwd=2, lty=2)\n",
        "\n",
        "abline(h=median(cs1$unitprice_book), col=\"darkgrey\")\n",
        "\n",
        "plot(jitter(cs1$num_books), jitter(cs1$unitprice_book),\n",
        "     pch=19, \n",
        "     cex=4*cs1$amt_non_book/max(cs1$amt_non_book),\n",
        "     col=ifelse(cs1$sex=='여', \"pink\", \"lightblue\"),\n",
        "     ylim=c(0, max(cs1$unitprice_book)*1.05),\n",
        "     sub=\"size: 서적이외 상품 구매액\")\n",
        "\n",
        "abline(lm(cs1$unitprice_book~cs1$num_books), \n",
        "       col=\"blue\",lwd=2, lty=2)\n",
        "\n",
        "abline(h=median(cs1$unitprice_book), col=\"darkgrey\")"
      ],
      "execution_count": null,
      "outputs": []
    },
    {
      "cell_type": "code",
      "metadata": {
        "id": "VeLjPGvItFe3"
      },
      "source": [
        "# 서적과 서적이외 구매액 비교\n",
        "\n",
        "plot(jitter(cs1$amt_books), jitter(cs1$amt_non_book),\n",
        "     pch=19, col=\"khaki\", cex=1.5,\n",
        "     ylim=c(0, max(cs1$amt_non_book)*1.05))\n",
        "\n",
        "abline(h=median(cs1$amt_non_book)*1.5, col=\"darkgrey\")\n",
        "\n",
        "abline(v=median(cs1$amt_books)*1.5, col=\"darkgrey\")\n",
        "\n",
        "# 서적 구매는 많으나 기타 상품 구매가 약한 집단을 선정해\n",
        "\n",
        "# 집중적 cross-selling 노력 기울이는 것이 필요해 보임"
      ],
      "execution_count": null,
      "outputs": []
    },
    {
      "cell_type": "code",
      "metadata": {
        "id": "riTx6LsXtI5H"
      },
      "source": [
        "text(median(cs1$amt_books)*1.5 * 2, \n",
        "     median(cs1$amt_non_book)*1.5 *0.7, \"cross-sell target\")"
      ],
      "execution_count": null,
      "outputs": []
    },
    {
      "cell_type": "code",
      "metadata": {
        "id": "Bkn7lI5NtMsG"
      },
      "source": [
        "# 대상 집단 조건 - 시각적으로 설정했던 기준선 영역에 해당하는 고객리스트 추출\n",
        "\n",
        "tgtgridseg <- cs1[cs1$amt_books > median(cs1$amt_books)*1.5 & \n",
        "                    cs1$amt_non_book < median(cs1$amt_non_book)*1.5 ,]\n",
        "\n",
        "nrow(tgtgridseg)\n",
        "\n",
        "paste(\"size of target = \", as.character(100* nrow(tgtgridseg)/ nrow(cs1)), \" % of customer base\")\n"
      ],
      "execution_count": null,
      "outputs": []
    },
    {
      "cell_type": "code",
      "metadata": {
        "id": "J75jLUV7tQsP"
      },
      "source": [
        "# 선정된 집단의 프로파일 시각적으로 확인\n",
        "\n",
        "# 서적 구매수량과 성별 분포 확인 (여성은 pink)\n",
        "\n",
        "barplot(tgtgridseg$num_books, names.arg=tgtgridseg$cust_name,\n",
        "        col=ifelse(tgtgridseg$sex=='여',\"pink\",\"lightblue\"),\n",
        "        ylab=\"서적 구매수량\")\n"
      ],
      "execution_count": null,
      "outputs": []
    },
    {
      "cell_type": "code",
      "metadata": {
        "id": "UFZbfTxCtTR_"
      },
      "source": [
        "# 전체고객의 평균/중위수 서적구매수량과 비교\n",
        "\n",
        "abline(h=mean(cs1$num_books), lty=2)\n",
        "\n",
        "abline(h=median(cs1$num_books), lty=2)\n",
        "\n",
        "# 프로파일 확인 결과 중위수에 비해 서적구매수량이 많고, 평균에 비해서도\n",
        "# 많은 편인 여성 고객들임\n",
        "# 기타 상품 중 여성 선호 상품을 찾아 제안하는 방식으로 cross-sell\n",
        "# 캠페인 진행 필요해 보임"
      ],
      "execution_count": null,
      "outputs": []
    },
    {
      "cell_type": "code",
      "metadata": {
        "id": "LX1icPi5tXA3"
      },
      "source": [
        "# 군집분석을 활용한 고객세분화\n",
        "# 수치형식의 중요 변수 = { \"days_purchase\",\n",
        "#\"recency\", \"num_books\", \"amt_books\", \"amt_non_book\",\n",
        "#\"amt_total\", \"num_genre\",\n",
        "#\"membership_period\" } \n",
        "\n",
        "cs2 <- cs1[,names(cs1) %in% c(\"days_purchase\",\n",
        "                              \"recency\", \"num_books\", \"amt_books\", \"unitprice_book\", \n",
        "                              \"amt_non_book\", \"num_genre\", \"membership_period\")]\n",
        "\n",
        "kmm1 <- kmeans(cs2, 3)\n",
        "\n",
        "table(kmm1$cluster)"
      ],
      "execution_count": null,
      "outputs": []
    },
    {
      "cell_type": "code",
      "metadata": {
        "id": "yfRqLr-mtZ93"
      },
      "source": [
        "# 고객집단을 표시할 색상을 임의로 지정\n",
        "\n",
        "# 번호순의 색상 이름 벡터 생성\n",
        "\n",
        "cols <- c(\"red\",\"green\",\"blue\")\n",
        "\n",
        "barplot(table(kmm1$cluster), names.arg=names(table(kmm1$cluster)),\n",
        "        col=cols,\n",
        "        main=\"군집별 고객수 분포\")"
      ],
      "execution_count": null,
      "outputs": []
    },
    {
      "cell_type": "code",
      "metadata": {
        "id": "vHAPKK3_tdNf"
      },
      "source": [
        "# 각 고객의 소속 집단이 어디인가에 따라 색상 표시\n",
        "\n",
        "plot(jitter(cs2$days_purchase), jitter(cs2$num_genre),\n",
        "     col=cols[kmm1$cluster], pch=19,\n",
        "     main=\"고객세분집단 프로파일: 구매빈도와 서적구매 쟝르 다양성 분포\",\n",
        "     sub=\"Cl#1: red, Cl#2: green, Cl#3: blue\")\n"
      ],
      "execution_count": null,
      "outputs": []
    },
    {
      "cell_type": "code",
      "metadata": {
        "id": "wQ_ap-AXtg9I"
      },
      "source": [
        "# 서적 구매 쟝르의 수가 많다면 서적 구매 수량이 많을 가능성 높으므로\n",
        "\n",
        "# 비율을 새로 계산 (=구매한 서적 수량 대비 쟝르의 수)\n",
        "\n",
        "plot(jitter(cs2$days_purchase), jitter(cs2$num_genre/cs2$num_books),\n",
        "     col=cols[kmm1$cluster], pch=19,\n",
        "     main=\"고객세분집단 프로파일: 구매빈도와 서적구매 쟝르 다양성 분포\",\n",
        "     sub=\"Cl#1: red, Cl#2: green, Cl#3: blue\",\n",
        "     ylab=\"서적구매량대비 구매쟝르수 비율\")"
      ],
      "execution_count": null,
      "outputs": []
    }
  ]
}