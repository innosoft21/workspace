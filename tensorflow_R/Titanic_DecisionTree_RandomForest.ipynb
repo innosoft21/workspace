{
  "nbformat": 4,
  "nbformat_minor": 0,
  "metadata": {
    "colab": {
      "name": "Titanic_DecisionTree_RandomForest.ipynb",
      "provenance": [],
      "authorship_tag": "ABX9TyNcjnqyWre+TqBc/wwRudYP",
      "include_colab_link": true
    },
    "kernelspec": {
      "name": "ir",
      "display_name": "R"
    },
    "language_info": {
      "name": "R"
    },
    "accelerator": "GPU"
  },
  "cells": [
    {
      "cell_type": "markdown",
      "metadata": {
        "id": "view-in-github",
        "colab_type": "text"
      },
      "source": [
        "<a href=\"https://colab.research.google.com/github/innosoft21/workspace/blob/main/tensorflow_R/Titanic_DecisionTree_RandomForest.ipynb\" target=\"_parent\"><img src=\"https://colab.research.google.com/assets/colab-badge.svg\" alt=\"Open In Colab\"/></a>"
      ]
    },
    {
      "cell_type": "markdown",
      "metadata": {
        "id": "-56dUT-iTZbW"
      },
      "source": [
        "titanic3.csv 의사결정나무, 랜덤포레스트\n"
      ]
    },
    {
      "cell_type": "code",
      "metadata": {
        "id": "XBbwkAgkkkUL"
      },
      "source": [
        "#전처리 후 의사결정나무, 랜덤포레스트 진행\n",
        "titanic <- read.csv(\"titanic3.csv\")  #데이터 불러오기\n",
        "titanic <- titanic[ ,!names(titanic) %in% c(\"boat\",\"body\",\"home.dest\") ] #불필요한 변수 제거\n",
        "\n",
        "titanic$pclass <- as.factor(titanic$pclass) #데이터 타입 변환\n",
        "titanic$sex <- as.factor(titanic$sex)\n",
        "titanic$embarked <- as.factor(titanic$embarked)\n",
        "titanic$survived <- factor(titanic$survived, levels=c(0,1), labels=c(\"dead\",\"survived\"))\n",
        "levels(titanic$embarked)[1] <- NA #빈칸 NA로 대치\n",
        "\n",
        "#install.packages(dlookr) #패키지 설치\n",
        "#library(dlookr) #패키지 로딩\n",
        "#diagnose(titanic) #결측치 확인\n",
        "#titanic$age <- imputate_na(titanic, age, method = \"mean\") #결측치 대치\n",
        "\n",
        "titanic <- titanic[complete.cases(titanic[ ,9]), ] #결측치 제거\n",
        "titanic <- titanic[complete.cases(titanic[ ,11]), ] #결측치 제거"
      ],
      "execution_count": 3,
      "outputs": []
    },
    {
      "cell_type": "markdown",
      "metadata": {
        "id": "Lj1fXo2umbcW"
      },
      "source": [
        "연속형 변수를 범주형 변수로 변환하는 방법에는 대표적으로 cut(), ifelse(), within() 함수를 사용하는 것이 있다.\n",
        "\n",
        "개인적으로 이 셋 중에 within() 함수를 가장 자주 사용하는 편"
      ]
    },
    {
      "cell_type": "markdown",
      "metadata": {
        "id": "_y9iv1SDnIZy"
      },
      "source": [
        "1. 파생변수 추가\n",
        " \n",
        "1-1. 연속형 변수를 범주형 변수로 변환"
      ]
    },
    {
      "cell_type": "code",
      "metadata": {
        "id": "sYDpvj-pmVqx"
      },
      "source": [
        "titanic <- within( titanic, {\n",
        "  age_1 = character(0) \n",
        "  age_1[ age <= 16 ] = \"A\" \n",
        "  age_1[ age >16 & age <= 32 ] = \"B\" \n",
        "  age_1[ age >32 & age <= 48 ] = \"C\" \n",
        "  age_1[ age >48 & age <= 64 ] = \"D\" \n",
        "  age_1[ age >64 ] = \"E\"\n",
        "  age_1 = factor(age_1, level = c(\"A\", \"B\", \"C\", \"D\", \"E\"))\n",
        "})"
      ],
      "execution_count": 8,
      "outputs": []
    },
    {
      "cell_type": "code",
      "metadata": {
        "colab": {
          "base_uri": "https://localhost:8080/",
          "height": 33
        },
        "id": "0lfpcdvHmfhi",
        "outputId": "2c2b2ccd-a58e-44f8-ad74-9e3a85f1f0b1"
      },
      "source": [
        "summary(titanic$age_1)"
      ],
      "execution_count": 9,
      "outputs": [
        {
          "output_type": "display_data",
          "data": {
            "text/plain": [
              "   A    B    C    D    E NA's \n",
              " 134  524  268  104   13  263 "
            ],
            "text/latex": "\\begin{description*}\n\\item[A] 134\n\\item[B] 524\n\\item[C] 268\n\\item[D] 104\n\\item[E] 13\n\\item[NA's] 263\n\\end{description*}\n",
            "text/markdown": "A\n:   134B\n:   524C\n:   268D\n:   104E\n:   13NA's\n:   263\n\n",
            "text/html": [
              "<style>\n",
              ".dl-inline {width: auto; margin:0; padding: 0}\n",
              ".dl-inline>dt, .dl-inline>dd {float: none; width: auto; display: inline-block}\n",
              ".dl-inline>dt::after {content: \":\\0020\"; padding-right: .5ex}\n",
              ".dl-inline>dt:not(:first-of-type) {padding-left: .5ex}\n",
              "</style><dl class=dl-inline><dt>A</dt><dd>134</dd><dt>B</dt><dd>524</dd><dt>C</dt><dd>268</dd><dt>D</dt><dd>104</dd><dt>E</dt><dd>13</dd><dt>NA's</dt><dd>263</dd></dl>\n"
            ]
          },
          "metadata": {
            "tags": []
          }
        }
      ]
    },
    {
      "cell_type": "markdown",
      "metadata": {
        "id": "yPkCbLQBnCm9"
      },
      "source": [
        "1-2. 두 변수를 합쳐 파생변수 추가"
      ]
    },
    {
      "cell_type": "code",
      "metadata": {
        "colab": {
          "base_uri": "https://localhost:8080/"
        },
        "id": "8RvTrG92mkSw",
        "outputId": "2cdda45b-4b85-41cc-8dd7-a7de1fcf6ad2"
      },
      "source": [
        "library(dplyr)\n",
        "titanic <- titanic %>%\n",
        "            mutate(Family=sibsp+parch)\n",
        "str(titanic)"
      ],
      "execution_count": 15,
      "outputs": [
        {
          "output_type": "stream",
          "text": [
            "'data.frame':\t1306 obs. of  13 variables:\n",
            " $ pclass  : Factor w/ 3 levels \"1\",\"2\",\"3\": 1 1 1 1 1 1 1 1 1 1 ...\n",
            " $ survived: Factor w/ 2 levels \"dead\",\"survived\": 2 2 1 1 1 2 2 1 2 1 ...\n",
            " $ name    : chr  \"Allen, Miss. Elisabeth Walton\" \"Allison, Master. Hudson Trevor\" \"Allison, Miss. Helen Loraine\" \"Allison, Mr. Hudson Joshua Creighton\" ...\n",
            " $ sex     : Factor w/ 2 levels \"female\",\"male\": 1 2 1 2 1 2 1 2 1 2 ...\n",
            " $ age     : num  29 0.92 2 30 25 48 63 39 53 71 ...\n",
            " $ sibsp   : int  0 1 1 1 1 0 1 0 2 0 ...\n",
            " $ parch   : int  0 2 2 2 2 0 0 0 0 0 ...\n",
            " $ ticket  : chr  \"24160\" \"113781\" \"113781\" \"113781\" ...\n",
            " $ fare    : num  211 152 152 152 152 ...\n",
            " $ cabin   : chr  \"B5\" \"C22 C26\" \"C22 C26\" \"C22 C26\" ...\n",
            " $ embarked: Factor w/ 3 levels \"C\",\"Q\",\"S\": 3 3 3 3 3 3 3 3 3 1 ...\n",
            " $ age_1   : Factor w/ 5 levels \"A\",\"B\",\"C\",\"D\",..: 2 1 1 2 2 3 4 3 4 5 ...\n",
            " $ Family  : int  0 3 3 3 3 0 1 0 2 0 ...\n"
          ],
          "name": "stdout"
        }
      ]
    },
    {
      "cell_type": "markdown",
      "metadata": {
        "id": "arsLBf5wnQxE"
      },
      "source": [
        "2. 데이터 분할 및 변수 선택"
      ]
    },
    {
      "cell_type": "code",
      "metadata": {
        "colab": {
          "base_uri": "https://localhost:8080/",
          "height": 50
        },
        "id": "fLo7oe-1nRra",
        "outputId": "b7e6ade6-7428-47f4-bdb8-b9ca7321dd61"
      },
      "source": [
        "set.seed(1234)\n",
        "idx<- sample(1:nrow(titanic), size=nrow(titanic)*0.7,replace=FALSE)\n",
        "train <- titanic[idx,]\n",
        "test <- titanic[-idx,]\n",
        "nrow(train)\n",
        "nrow(test)"
      ],
      "execution_count": 16,
      "outputs": [
        {
          "output_type": "display_data",
          "data": {
            "text/plain": [
              "[1] 914"
            ],
            "text/latex": "914",
            "text/markdown": "914",
            "text/html": [
              "914"
            ]
          },
          "metadata": {
            "tags": []
          }
        },
        {
          "output_type": "display_data",
          "data": {
            "text/plain": [
              "[1] 392"
            ],
            "text/latex": "392",
            "text/markdown": "392",
            "text/html": [
              "392"
            ]
          },
          "metadata": {
            "tags": []
          }
        }
      ]
    },
    {
      "cell_type": "markdown",
      "metadata": {
        "id": "5KS3_X1OngaX"
      },
      "source": [
        "모델링하기 전에 종속변수 survived와 독립변수 pclass, sex, age_1, Family, fare, embarked만 추출"
      ]
    },
    {
      "cell_type": "code",
      "metadata": {
        "colab": {
          "base_uri": "https://localhost:8080/"
        },
        "id": "F28QRm6ZnacE",
        "outputId": "5faf252a-30ce-4b4e-a293-de2b7c2d64a8"
      },
      "source": [
        "train_1 <- train[,c(\"pclass\",\"survived\",\"sex\",\"age_1\",\"fare\",\"embarked\",\"Family\")]\n",
        "test_1 <- test[,c(\"pclass\",\"survived\",\"sex\",\"age_1\",\"fare\",\"embarked\",\"Family\")]\n",
        "str(test_1)"
      ],
      "execution_count": 17,
      "outputs": [
        {
          "output_type": "stream",
          "text": [
            "'data.frame':\t392 obs. of  7 variables:\n",
            " $ pclass  : Factor w/ 3 levels \"1\",\"2\",\"3\": 1 1 1 1 1 1 1 1 1 1 ...\n",
            " $ survived: Factor w/ 2 levels \"dead\",\"survived\": 1 1 1 2 2 2 2 1 2 1 ...\n",
            " $ sex     : Factor w/ 2 levels \"female\",\"male\": 1 1 2 1 1 1 2 2 1 2 ...\n",
            " $ age_1   : Factor w/ 5 levels \"A\",\"B\",\"C\",\"D\",..: 1 2 3 4 2 2 5 NA 4 3 ...\n",
            " $ fare    : num  151.6 151.6 0 51.5 227.5 ...\n",
            " $ embarked: Factor w/ 3 levels \"C\",\"Q\",\"S\": 3 3 3 3 1 3 3 3 1 1 ...\n",
            " $ Family  : int  3 3 0 2 1 0 0 0 1 0 ...\n"
          ],
          "name": "stdout"
        }
      ]
    },
    {
      "cell_type": "markdown",
      "metadata": {
        "id": "zv4sA2nnnjtc"
      },
      "source": [
        "3. 모델 설계 및 학습 "
      ]
    },
    {
      "cell_type": "code",
      "metadata": {
        "colab": {
          "base_uri": "https://localhost:8080/",
          "height": 770
        },
        "id": "rebjKrNKnc0G",
        "outputId": "61121716-0b1d-4a44-c02c-6a513ac490d2"
      },
      "source": [
        "install.packages(c(\"rpart\",\"rpart.plot\"))\n",
        "library(rpart)\n",
        "library(rpart.plot)\n",
        "dt.model <- rpart(survived~.,       #종속변수는 survived, 독립변수는 모든 변수\n",
        "            method=\"class\",         # method는 분류인 \"class\" 선택\n",
        "            data=train_1,\n",
        "            control=rpart.control(maxdepth=4,       # 의사결정나무의 최대 깊이는 4개까지\n",
        "                                  minsplit=15))    # 노드에서 최소 관측치는 15개 이상\n",
        "dt.model\n",
        "prp(dt.model, type=4, extra=2)"
      ],
      "execution_count": 19,
      "outputs": [
        {
          "output_type": "stream",
          "text": [
            "Installing packages into ‘/usr/local/lib/R/site-library’\n",
            "(as ‘lib’ is unspecified)\n",
            "\n"
          ],
          "name": "stderr"
        },
        {
          "output_type": "display_data",
          "data": {
            "text/plain": [
              "n= 914 \n",
              "\n",
              "node), split, n, loss, yval, (yprob)\n",
              "      * denotes terminal node\n",
              "\n",
              " 1) root 914 347 dead (0.62035011 0.37964989)  \n",
              "   2) sex=male 580 104 dead (0.82068966 0.17931034)  \n",
              "     4) age_1=B,C,D,E 534  83 dead (0.84456929 0.15543071) *\n",
              "     5) age_1=A 46  21 dead (0.54347826 0.45652174)  \n",
              "      10) Family>=3.5 17   0 dead (1.00000000 0.00000000) *\n",
              "      11) Family< 3.5 29   8 survived (0.27586207 0.72413793) *\n",
              "   3) sex=female 334  91 survived (0.27245509 0.72754491)  \n",
              "     6) pclass=3 158  77 dead (0.51265823 0.48734177)  \n",
              "      12) fare>=23.35 25   2 dead (0.92000000 0.08000000) *\n",
              "      13) fare< 23.35 133  58 survived (0.43609023 0.56390977) *\n",
              "     7) pclass=1,2 176  10 survived (0.05681818 0.94318182) *"
            ]
          },
          "metadata": {
            "tags": []
          }
        },
        {
          "output_type": "display_data",
          "data": {
            "image/png": "[encoded data removed]",
            "text/plain": [
              "plot without title"
            ]
          },
          "metadata": {
            "tags": [],
            "image/png": {
              "width": 420,
              "height": 420
            }
          }
        }
      ]
    },
    {
      "cell_type": "markdown",
      "metadata": {
        "id": "CIHEqjshnxw7"
      },
      "source": [
        "총 915명의 승객 중 563명을 사망자(dead)로 분류했으며, 성별이 여자(fml)인 332명 중 238명이 생존자(survived)로 분류되었음을 의미한다. prp 함수는 rpart.plot 패키지에 속한 함수이며, type, extra 등의 인자를 사용하여 그래프 모양을 바꿀 수 있다. "
      ]
    },
    {
      "cell_type": "markdown",
      "metadata": {
        "id": "CqEt-_Hkn3SQ"
      },
      "source": [
        "성과분석 : F1-score"
      ]
    },
    {
      "cell_type": "code",
      "metadata": {
        "id": "D3WkxK9sn4Nh"
      },
      "source": [
        "#install.packages(\"caret\")\n",
        "library(caret)\n",
        "pred.dt <- predict(dt.model, test_1[,-2],type=\"class\")\n",
        "confusionMatrix(data=pred.dt, reference=test_1[,2], positive='survived')"
      ],
      "execution_count": null,
      "outputs": []
    },
    {
      "cell_type": "code",
      "metadata": {
        "id": "GWnMLpPeoArd"
      },
      "source": [
        "precision <- posPredValue(pred.dt,test_1[,2], positive=\"survived\")\n",
        "recall <- sensitivity(pred.dt,test_1[,2], positive=\"survived\")\n",
        "F1_score <- (2 * precision * recall) / (precision + recall)\n",
        "precision\n",
        "recall\n",
        "F1"
      ],
      "execution_count": null,
      "outputs": []
    },
    {
      "cell_type": "markdown",
      "metadata": {
        "id": "YDGSbLeaoHJI"
      },
      "source": [
        "성과분석 : ROC Curve"
      ]
    },
    {
      "cell_type": "code",
      "metadata": {
        "colab": {
          "base_uri": "https://localhost:8080/",
          "height": 587
        },
        "id": "DmewejawoIDx",
        "outputId": "7ba6d4fd-d745-4898-8a5b-959ddea65d30"
      },
      "source": [
        "#install.packages(\"ROCR\")\n",
        "library(ROCR)\n",
        "pred.dt.roc<- prediction(as.numeric(pred.dt),as.numeric(test_1[,2]))\n",
        "plot(performance(pred.dt.roc,\"tpr\",\"fpr\"))\n",
        "abline(a=0,b=1,lty=2,col=\"black\")\n",
        "performance(pred.dt.roc,\"auc\")@y.values"
      ],
      "execution_count": 24,
      "outputs": [
        {
          "output_type": "stream",
          "text": [
            "Installing package into ‘/usr/local/lib/R/site-library’\n",
            "(as ‘lib’ is unspecified)\n",
            "\n",
            "also installing the dependencies ‘bitops’, ‘gtools’, ‘caTools’, ‘gplots’\n",
            "\n",
            "\n"
          ],
          "name": "stderr"
        },
        {
          "output_type": "display_data",
          "data": {
            "text/plain": [
              "[[1]]\n",
              "[1] 0.7543623\n"
            ],
            "text/latex": "\\begin{enumerate}\n\\item 0.754362342337391\n\\end{enumerate}\n",
            "text/markdown": "1. 0.754362342337391\n\n\n",
            "text/html": [
              "<ol>\n",
              "\t<li>0.754362342337391</li>\n",
              "</ol>\n"
            ]
          },
          "metadata": {
            "tags": []
          }
        },
        {
          "output_type": "display_data",
          "data": {
            "image/png": "[encoded data removed]",
            "text/plain": [
              "plot without title"
            ]
          },
          "metadata": {
            "tags": [],
            "image/png": {
              "width": 420,
              "height": 420
            }
          }
        }
      ]
    },
    {
      "cell_type": "markdown",
      "metadata": {
        "id": "bUmJalVHoT13"
      },
      "source": [
        "의사결정 나무 분석 결과의 AUC값은 0.7881(78.81%)로 모델의 성능은 보통 수준으로 나타난다."
      ]
    },
    {
      "cell_type": "markdown",
      "metadata": {
        "id": "W-1z_EjUoPHX"
      },
      "source": [
        "랜덤 포레스트(Random Forest)"
      ]
    },
    {
      "cell_type": "code",
      "metadata": {
        "id": "YrGCNGF3oVGA"
      },
      "source": [
        "#install.packages(\"randomForest\")\n",
        "library(randomForest)\n",
        "rf.model <- randomForest(survived~.,data=train_1)\n",
        "print(rf.model)"
      ],
      "execution_count": null,
      "outputs": []
    },
    {
      "cell_type": "markdown",
      "metadata": {
        "id": "cBI4OT5Goa0t"
      },
      "source": [
        "성과분석 : F1-score"
      ]
    },
    {
      "cell_type": "code",
      "metadata": {
        "id": "YC3d6sQKobvY"
      },
      "source": [
        "pred.rf <- predict(rf.model,test_1[,-2],type=\"class\")\n",
        "confusionMatrix(data=pred.rf, reference=test_1[,2],positive=\"survived\")"
      ],
      "execution_count": null,
      "outputs": []
    },
    {
      "cell_type": "code",
      "metadata": {
        "id": "IpRN8Y09ojZD"
      },
      "source": [
        "precision <- posPredValue(pred.rf,test_1[,2], positive=\"survived\")\n",
        "recall <- sensitivity(pred.rf,test_1[,2], positive=\"survived\")\n",
        "F1 <- (2 * precision * recall) / (precision + recall)\n",
        "precision\n",
        "recall\n",
        "F1"
      ],
      "execution_count": null,
      "outputs": []
    },
    {
      "cell_type": "code",
      "metadata": {
        "id": "HUoQYXbZole_"
      },
      "source": [
        "pred.rf.roc<- prediction(as.numeric(pred.rf),as.numeric(test_1[,2]))\n",
        "plot(performance(pred.rf.roc,\"tpr\",\"fpr\"))\n",
        "abline(a=0,b=1,lty=2,col=\"black\")\n",
        "performance(pred.rf.roc,\"auc\")@y.values"
      ],
      "execution_count": null,
      "outputs": []
    },
    {
      "cell_type": "markdown",
      "metadata": {
        "id": "_P-DHXNtos7L"
      },
      "source": [
        "두 모델의 성과를 비교해보면, 의사결정 나무의 분석결과가 정분류율은 약 81%로 랜덤포레스트보다 2%정도 높게 나타나고, F1-score, AUC 값에서도 의사결정나무 모델의 성능이 좋게 나타났다."
      ]
    }
  ]
}