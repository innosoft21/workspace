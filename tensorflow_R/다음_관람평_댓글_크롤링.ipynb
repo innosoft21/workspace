{
  "nbformat": 4,
  "nbformat_minor": 0,
  "metadata": {
    "colab": {
      "name": "다음_관람평_댓글_크롤링.ipynb",
      "provenance": [],
      "authorship_tag": "ABX9TyNgNw87jNYpXaJiMrhHPC6o",
      "include_colab_link": true
    },
    "kernelspec": {
      "name": "ir",
      "display_name": "R"
    },
    "language_info": {
      "name": "R"
    }
  },
  "cells": [
    {
      "cell_type": "markdown",
      "metadata": {
        "id": "view-in-github",
        "colab_type": "text"
      },
      "source": [
        "<a href=\"https://colab.research.google.com/github/innosoft21/workspace/blob/main/tensorflow_R/%EB%8B%A4%EC%9D%8C_%EA%B4%80%EB%9E%8C%ED%8F%89_%EB%8C%93%EA%B8%80_%ED%81%AC%EB%A1%A4%EB%A7%81.ipynb\" target=\"_parent\"><img src=\"https://colab.research.google.com/assets/colab-badge.svg\" alt=\"Open In Colab\"/></a>"
      ]
    },
    {
      "cell_type": "code",
      "metadata": {
        "colab": {
          "base_uri": "https://localhost:8080/"
        },
        "id": "QwAzUFFkDsAa",
        "outputId": "78e96ef5-ed74-4f6e-de33-76c90a5a74e5"
      },
      "source": [
        "install.packages(\"rvest\")\n",
        "install.packages(\"R6\")"
      ],
      "execution_count": 3,
      "outputs": [
        {
          "output_type": "stream",
          "text": [
            "Installing package into ‘/usr/local/lib/R/site-library’\n",
            "(as ‘lib’ is unspecified)\n",
            "\n",
            "Installing package into ‘/usr/local/lib/R/site-library’\n",
            "(as ‘lib’ is unspecified)\n",
            "\n"
          ],
          "name": "stderr"
        }
      ]
    },
    {
      "cell_type": "code",
      "metadata": {
        "id": "Mn2U1oPNE1N6"
      },
      "source": [
        "library(rvest)\n",
        "\n",
        "library(R6)"
      ],
      "execution_count": 1,
      "outputs": []
    },
    {
      "cell_type": "code",
      "metadata": {
        "id": "GWJoQ1YbFAPw"
      },
      "source": [
        "url <- 'http://movie.daum.net/moviedb/grade?movieId=112942&type=netizen&page=1'"
      ],
      "execution_count": 2,
      "outputs": []
    },
    {
      "cell_type": "code",
      "metadata": {
        "id": "bOa6nQpGFFAg"
      },
      "source": [
        "htxt <- read_html(url)\n",
        "content <- html_nodes(htxt,'.desc_review')\n",
        "review <- html_text(content)"
      ],
      "execution_count": 3,
      "outputs": []
    },
    {
      "cell_type": "code",
      "metadata": {
        "colab": {
          "base_uri": "https://localhost:8080/",
          "height": 17
        },
        "id": "0cyNZY7wFMvZ",
        "outputId": "6754aa96-76cc-469c-d96f-c8b6ca1738c8"
      },
      "source": [
        "review"
      ],
      "execution_count": 4,
      "outputs": [
        {
          "output_type": "display_data",
          "data": {
            "text/plain": [
              "character(0)"
            ],
            "text/latex": "",
            "text/markdown": "",
            "text/html": [
              ""
            ]
          },
          "metadata": {
            "tags": []
          }
        }
      ]
    },
    {
      "cell_type": "code",
      "metadata": {
        "id": "hoTIe440FP1x"
      },
      "source": [
        "url_base <- 'http://movie.daum.net/moviedb/grade?movieId=112942&type=netizen&page='\n",
        "all.reviews <- c()"
      ],
      "execution_count": 5,
      "outputs": []
    },
    {
      "cell_type": "code",
      "metadata": {
        "id": "K8WKxLIGFZdh"
      },
      "source": [
        "for(page in 1:20){\n",
        "  url <- paste(url_base,page,sep='',encoding=\"euc-kr\")\n",
        "  htxt <- read_html(url)\n",
        "  table <- html_nodes(htxt,'.review_info')\n",
        "  content <- html_nodes(table, '.desc_review')\n",
        "  reviews <- html_text(content)\n",
        "  if(length(reviews)==0){break}\n",
        "  all.reviews <- c(all.reviews, reviews)\n",
        "  print(page)\n",
        "}"
      ],
      "execution_count": 6,
      "outputs": []
    },
    {
      "cell_type": "code",
      "metadata": {
        "id": "By_IA3uOFfPp"
      },
      "source": [
        "write.table(all.reviews, 'daum.txt')"
      ],
      "execution_count": 7,
      "outputs": []
    }
  ]
}