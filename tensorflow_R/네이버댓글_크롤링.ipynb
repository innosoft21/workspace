{
  "nbformat": 4,
  "nbformat_minor": 0,
  "metadata": {
    "colab": {
      "name": "네이버댓글_크롤링.ipynb",
      "provenance": [],
      "authorship_tag": "ABX9TyP0TTnRqM4Ta8J8+kDgfVEU",
      "include_colab_link": true
    },
    "kernelspec": {
      "name": "ir",
      "display_name": "R"
    },
    "language_info": {
      "name": "R"
    }
  },
  "cells": [
    {
      "cell_type": "markdown",
      "metadata": {
        "id": "view-in-github",
        "colab_type": "text"
      },
      "source": [
        "<a href=\"https://colab.research.google.com/github/innosoft21/workspace/blob/main/tensorflow_R/%EB%84%A4%EC%9D%B4%EB%B2%84%EB%8C%93%EA%B8%80_%ED%81%AC%EB%A1%A4%EB%A7%81.ipynb\" target=\"_parent\"><img src=\"https://colab.research.google.com/assets/colab-badge.svg\" alt=\"Open In Colab\"/></a>"
      ]
    },
    {
      "cell_type": "code",
      "metadata": {
        "id": "QwAzUFFkDsAa"
      },
      "source": [
        "library(N2H4)\n",
        "library(stringr)\n",
        "library(KoNLP)\n",
        "library(stringr)\n",
        "library(dplyr)\n",
        "library(wordcloud)\n",
        "library(RColorBrewer)\n",
        "library(ggplot2)"
      ],
      "execution_count": null,
      "outputs": []
    },
    {
      "cell_type": "code",
      "metadata": {
        "id": "pSZZ__dlD5HT"
      },
      "source": [
        "naver_reply=N2H4::getAllComment(\"https://news.naver.com/main/ranking/read.nhn?mode=LSD&mid=shm&sid1=001&oid=055&aid=0000882929&rankingType=RANKING\")\n",
        "write.csv(naver_reply,'naver_reply.csv')\n",
        "naver <- read.csv(\"naver_reply.csv\",header=T,\n",
        "                  stringsAsFactors = F)\n",
        "naver_con <-naver$contents\n",
        "head(naver_con)\n",
        "naver_con1 <-str_replace_all(naver_con,\"\\\\W\",\" \")\n",
        "nouns<-extractNoun(naver_con1)\n",
        "nouns<-rapply(nouns, function(x) gsub(\"^ㅋ^ㅋ^ㅋ\",\"\",x), how=\"replace\")\n",
        "wordcount<-table(unlist(nouns))"
      ],
      "execution_count": null,
      "outputs": []
    },
    {
      "cell_type": "code",
      "metadata": {
        "id": "sajn9XMXD78Z"
      },
      "source": [
        "df_word<-as.data.frame(wordcount,stringsAsFactors = F)\n",
        "df_word<-rename(df_word,\n",
        "                fword=Var1,\n",
        "                freq=Freq)\n",
        "df_word<-filter(df_word,nchar(fword) >=3)\n",
        "\n",
        "top_15<- df_word %>% arrange(desc(freq)) %>% head(15)\n",
        "\n",
        "order <- arrange(top_15,freq)$fword\n",
        "ggplot(data=top_15,aes(x=fword,y=freq))+\n",
        "  ylim(0,50)+geom_col()+coord_flip()+scale_x_discrete(limit=order)+\n",
        "  geom_text(aes(label=freq),hjust=-0.3);\n",
        "\n",
        "pal <-brewer.pal(8,\"Dark2\")"
      ],
      "execution_count": null,
      "outputs": []
    },
    {
      "cell_type": "code",
      "metadata": {
        "id": "0YLyuJRkEBpZ"
      },
      "source": [
        "set.seed(1234)\n",
        "wordcloud(words=df_word$fword,\n",
        "          freq=df_word$freq,\n",
        "          min.freq=2,\n",
        "          max.words=200,\n",
        "          random.order=F,\n",
        "          rot.per=.1,\n",
        "          scale=c(6,0.2),\n",
        "          colors=pal);"
      ],
      "execution_count": null,
      "outputs": []
    },
    {
      "cell_type": "code",
      "metadata": {
        "id": "OIcgQ4XMEFQJ"
      },
      "source": [
        "top_15"
      ],
      "execution_count": null,
      "outputs": []
    }
  ]
}