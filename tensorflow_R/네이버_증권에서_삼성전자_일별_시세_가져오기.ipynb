{
  "nbformat": 4,
  "nbformat_minor": 0,
  "metadata": {
    "colab": {
      "name": "네이버 증권에서 삼성전자 일별 시세 가져오기.ipynb",
      "provenance": [],
      "authorship_tag": "ABX9TyPq/1dy9Tl+UwNW93lz41k4",
      "include_colab_link": true
    },
    "kernelspec": {
      "name": "ir",
      "display_name": "R"
    },
    "language_info": {
      "name": "R"
    },
    "accelerator": "GPU"
  },
  "cells": [
    {
      "cell_type": "markdown",
      "metadata": {
        "id": "view-in-github",
        "colab_type": "text"
      },
      "source": [
        "<a href=\"https://colab.research.google.com/github/innosoft21/workspace/blob/main/tensorflow_R/%EB%84%A4%EC%9D%B4%EB%B2%84_%EC%A6%9D%EA%B6%8C%EC%97%90%EC%84%9C_%EC%82%BC%EC%84%B1%EC%A0%84%EC%9E%90_%EC%9D%BC%EB%B3%84_%EC%8B%9C%EC%84%B8_%EA%B0%80%EC%A0%B8%EC%98%A4%EA%B8%B0.ipynb\" target=\"_parent\"><img src=\"https://colab.research.google.com/assets/colab-badge.svg\" alt=\"Open In Colab\"/></a>"
      ]
    },
    {
      "cell_type": "markdown",
      "metadata": {
        "id": "YqB53V4mGABh"
      },
      "source": [
        "네이버 증권에서 삼성전자 확인. 삼성전자의 주식코드는 005930\n",
        "\n",
        "일별시세를 나타내는 사이트 확인\n",
        "\n",
        "테이블 주소 확인"
      ]
    },
    {
      "cell_type": "code",
      "metadata": {
        "id": "VzIFdi-CHtnr"
      },
      "source": [
        "# install.packages(\"rvest\")\n",
        "\n",
        "# install.packages(\"R6\")"
      ],
      "execution_count": null,
      "outputs": []
    },
    {
      "cell_type": "code",
      "metadata": {
        "id": "HKFUpOSZHx1y"
      },
      "source": [
        "library(\"rvest\")\n",
        "library(\"R6\")"
      ],
      "execution_count": 7,
      "outputs": []
    },
    {
      "cell_type": "code",
      "metadata": {
        "id": "rUFlzDVlH2YR"
      },
      "source": [
        "url_base <- 'http://finance.naver.com/item/sise_day.nhn?code=005930&page='\n",
        "\n",
        "all.price <- c()"
      ],
      "execution_count": 8,
      "outputs": []
    },
    {
      "cell_type": "code",
      "metadata": {
        "id": "FPUVCMWMH6BR"
      },
      "source": [
        "# 20쪽까지 자료 가져오기\n",
        "\n",
        "for (page in 1:20){\n",
        "price <- paste(url_base,page,sep='') %>%\n",
        "  read_html() %>%\n",
        "  html_nodes('table') %>%\n",
        "  .[1] %>%\n",
        "  html_table()\n",
        "  all.price <- c(all.price,price)\n",
        "}"
      ],
      "execution_count": 9,
      "outputs": []
    },
    {
      "cell_type": "code",
      "metadata": {
        "colab": {
          "base_uri": "https://localhost:8080/",
          "height": 31
        },
        "id": "E9VqvUTtIAAq",
        "outputId": "4f417066-9b90-4b9a-d462-03c1cdf4238e"
      },
      "source": [
        "all.price"
      ],
      "execution_count": 13,
      "outputs": [
        {
          "output_type": "display_data",
          "data": {
            "text/plain": [
              "list()"
            ],
            "text/latex": "\\begin{enumerate}\n\\end{enumerate}\n",
            "text/markdown": "\n\n",
            "text/html": [
              "<ol>\n",
              "</ol>\n"
            ]
          },
          "metadata": {
            "tags": []
          }
        }
      ]
    },
    {
      "cell_type": "code",
      "metadata": {
        "id": "FVGcakIYICey"
      },
      "source": [
        "write.table(all.price, 'samsung_stock.txt')"
      ],
      "execution_count": null,
      "outputs": []
    }
  ]
}