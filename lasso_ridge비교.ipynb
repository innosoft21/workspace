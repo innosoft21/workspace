{
  "nbformat": 4,
  "nbformat_minor": 0,
  "metadata": {
    "colab": {
      "name": "Untitled5.ipynb",
      "provenance": [],
      "authorship_tag": "ABX9TyMtvLxhRjnp2s2ppvaW6JZs",
      "include_colab_link": true
    },
    "kernelspec": {
      "name": "python3",
      "display_name": "Python 3"
    },
    "language_info": {
      "name": "python"
    }
  },
  "cells": [
    {
      "cell_type": "markdown",
      "metadata": {
        "id": "view-in-github",
        "colab_type": "text"
      },
      "source": [
        "<a href=\"https://colab.research.google.com/github/innosoft21/workspace/blob/main/lasso_ridge%EB%B9%84%EA%B5%90.ipynb\" target=\"_parent\"><img src=\"https://colab.research.google.com/assets/colab-badge.svg\" alt=\"Open In Colab\"/></a>"
      ]
    },
    {
      "cell_type": "code",
      "metadata": {
        "colab": {
          "base_uri": "https://localhost:8080/"
        },
        "id": "pZpWirhMOApG",
        "outputId": "dbeeb338-3d95-4a7f-b113-71dcc57204b4"
      },
      "source": [
        "# 데이터 불러오기 (보스턴 집값 데이터)\n",
        "from sklearn import datasets\n",
        "raw_boston = datasets.load_boston()\n",
        "\n",
        "# 피쳐, 타겟 데이터 지정\n",
        "X = raw_boston.data\n",
        "y = raw_boston.target\n",
        "\n",
        "# 트레이닝/테스트 데이터 분할\n",
        "from sklearn.model_selection import train_test_split\n",
        "X_tn, X_te, y_tn, y_te=train_test_split(X,y,random_state=1)\n",
        "\n",
        "#데이터 표준화\n",
        "from sklearn.preprocessing import StandardScaler\n",
        "std_scale = StandardScaler()\n",
        "std_scale.fit(X_tn)\n",
        "X_tn_std = std_scale.transform(X_tn)\n",
        "X_te_std  = std_scale.transform(X_te)\n",
        "\n",
        "# 선형 회귀분석 학습\n",
        "from sklearn.linear_model import LinearRegression \n",
        "clf_lr =  LinearRegression()\n",
        "clf_lr.fit(X_tn_std, y_tn)\n",
        "\n",
        "# 선형 회귀분석 모형 추정 계수 확인\n",
        "print(clf_lr.coef_)\n",
        "print(clf_lr.intercept_)\n",
        "\n",
        "# 릿지 회귀분석(L2 제약식 적용)\n",
        "from sklearn.linear_model import Ridge\n",
        "clf_ridge = Ridge(alpha=1)\n",
        "clf_ridge.fit(X_tn_std, y_tn)\n",
        "\n",
        "# 릿지 회귀분석 모형 추정 계수 확인\n",
        "print(clf_ridge.coef_)\n",
        "print(clf_ridge.intercept_)\n",
        "\n",
        "# 라쏘 회귀분석(L1 제약식 적용)\n",
        "from sklearn.linear_model import Lasso\n",
        "clf_lasso = Lasso(alpha=0.01)\n",
        "clf_lasso.fit(X_tn_std, y_tn)\n",
        "\n",
        "# 라쏘 회귀분석 모형 추정 계수 확인\n",
        "print(clf_lasso.coef_)\n",
        "print(clf_lasso.intercept_)\n",
        "\n",
        "# 예측\n",
        "pred_lr = clf_lr.predict(X_te_std)\n",
        "pred_ridge = clf_ridge.predict(X_te_std)\n",
        "pred_lasso = clf_lasso.predict(X_te_std)\n",
        "\n",
        "# 모형 평가-R제곱값\n",
        "from sklearn.metrics import r2_score\n",
        "print(r2_score(y_te, pred_lr))\n",
        "print(r2_score(y_te, pred_ridge))\n",
        "print(r2_score(y_te, pred_lasso))\n",
        "\n",
        "# 모형 평가-MSE\n",
        "from sklearn.metrics import mean_squared_error\n",
        "print(mean_squared_error(y_te, pred_lr))\n",
        "print(mean_squared_error(y_te, pred_ridge))\n",
        "print(mean_squared_error(y_te, pred_lasso))"
      ],
      "execution_count": 1,
      "outputs": [
        {
          "output_type": "stream",
          "text": [
            "[-1.07145146  1.34036243  0.26298069  0.66554537 -2.49842551  1.97524314\n",
            "  0.19516605 -3.14274974  2.66736136 -1.80685572 -2.13034748  0.56172933\n",
            " -4.03223518]\n",
            "22.344591029023768\n",
            "[-1.05933451  1.31050717  0.23022789  0.66955241 -2.45607567  1.99086611\n",
            "  0.18119169 -3.09919804  2.56480813 -1.71116799 -2.12002592  0.56264409\n",
            " -4.00942448]\n",
            "22.344591029023768\n",
            "[-1.04326518  1.27752711  0.1674367   0.66758228 -2.41559964  1.99244179\n",
            "  0.14733958 -3.09473711  2.46431135 -1.60552274 -2.11046422  0.55200229\n",
            " -4.00809905]\n",
            "22.344591029023768\n",
            "0.7789410172622859\n",
            "0.7789704562726603\n",
            "0.7787621490259895\n",
            "21.89776539604948\n",
            "21.894849212618773\n",
            "21.915483810504824\n"
          ],
          "name": "stdout"
        }
      ]
    }
  ]
}