{
  "nbformat": 4,
  "nbformat_minor": 0,
  "metadata": {
    "colab": {
      "name": "1_2_2_Huber Loss hyperparameter and class.ipynb",
      "provenance": [],
      "authorship_tag": "ABX9TyO18H29cqmPmalqbSO1QQrR",
      "include_colab_link": true
    },
    "kernelspec": {
      "name": "python3",
      "display_name": "Python 3"
    },
    "language_info": {
      "name": "python"
    },
    "accelerator": "GPU"
  },
  "cells": [
    {
      "cell_type": "markdown",
      "metadata": {
        "id": "view-in-github",
        "colab_type": "text"
      },
      "source": [
        "<a href=\"https://colab.research.google.com/github/innosoft21/workspace/blob/main/tensorflow_python2/1_2_2_Huber_Loss_hyperparameter_and_class.ipynb\" target=\"_parent\"><img src=\"https://colab.research.google.com/assets/colab-badge.svg\" alt=\"Open In Colab\"/></a>"
      ]
    },
    {
      "cell_type": "markdown",
      "metadata": {
        "id": "wtfBQ7c-v8cq"
      },
      "source": [
        "Huber Loss hyperparameter and class\n",
        "\n",
        "이 실습에서는 이전 Huber 손실 함수를 확장하고 손실 함수를 정의하는 데 하이퍼 파라미터를 포함할 수 있는 방법을 보여 줍니다. \n",
        "\n",
        "또한 Loss 클래스를 상속하여 사용자 지정 손실을 개체로 구현하는 방법에 대해서도 알아보겠습니다."
      ]
    },
    {
      "cell_type": "code",
      "metadata": {
        "id": "OryKLkSHv4Fj"
      },
      "source": [
        "try:\n",
        "  # %tensorflow_version only exists in Colab.\n",
        "  %tensorflow_version 2.x\n",
        "except Exception:\n",
        "  pass\n",
        "\n",
        "import tensorflow as tf\n",
        "import numpy as np\n",
        "from tensorflow import keras"
      ],
      "execution_count": 6,
      "outputs": []
    },
    {
      "cell_type": "markdown",
      "metadata": {
        "id": "wn_bzHm4wSib"
      },
      "source": [
        "이전과 같이, 이 모델은 아래 xs와 ys에서 학습될 것입니다. \n",
        "\n",
        "여기서 관계는 =2µ-1이므로, 나중에 x=10을 테스트할 때, \n",
        "\n",
        "어떤 버전의 모델이 19에 가장 가까운 답을 얻었는지가 더 정확한 것으로 간주됩니다."
      ]
    },
    {
      "cell_type": "code",
      "metadata": {
        "id": "PSq5uR7uwMQV"
      },
      "source": [
        "# inputs\n",
        "xs = np.array([-1.0,  0.0, 1.0, 2.0, 3.0, 4.0], dtype=float)\n",
        "\n",
        "# labels\n",
        "ys = np.array([-3.0, -1.0, 1.0, 3.0, 5.0, 7.0], dtype=float)"
      ],
      "execution_count": 7,
      "outputs": []
    },
    {
      "cell_type": "markdown",
      "metadata": {
        "id": "6mhOND5VwdRA"
      },
      "source": [
        "model.compile()의 손실 인수는 두 개의 매개 변수, \n",
        "\n",
        "즉 ground truth(y_true)와 모델 예측(y_pred)을 받아들이는 함수만 허용한다. \n",
        "\n",
        "튜닝할 수 있는 하이퍼 파라미터를 포함하려면 이 하이퍼 파라미터를 받아들이는 래퍼 함수를 정의할 수 있다."
      ]
    },
    {
      "cell_type": "code",
      "metadata": {
        "id": "i2XzLp3TweJu"
      },
      "source": [
        "# wrapper function that accepts the hyperparameter\n",
        "def my_huber_loss_with_threshold(threshold):\n",
        "  \n",
        "    # function that accepts the ground truth and predictions\n",
        "    def my_huber_loss(y_true, y_pred):\n",
        "        error = y_true - y_pred\n",
        "        is_small_error = tf.abs(error) <= threshold\n",
        "        small_error_loss = tf.square(error) / 2\n",
        "        big_error_loss = threshold * (tf.abs(error) - (0.5 * threshold))\n",
        "        \n",
        "        return tf.where(is_small_error, small_error_loss, big_error_loss) \n",
        "\n",
        "    # return the inner function tuned by the hyperparameter\n",
        "    return my_huber_loss"
      ],
      "execution_count": 8,
      "outputs": []
    },
    {
      "cell_type": "code",
      "metadata": {
        "colab": {
          "base_uri": "https://localhost:8080/"
        },
        "id": "Clj_LtvTwr81",
        "outputId": "57af224c-52d1-4089-9146-910b5996c48f"
      },
      "source": [
        "model = tf.keras.Sequential([keras.layers.Dense(units=1, input_shape=[1])])\n",
        "model.compile(optimizer='sgd', loss=my_huber_loss_with_threshold(threshold=1.2))\n",
        "model.fit(xs, ys, epochs=500,verbose=0)\n",
        "print(model.predict([10.0]))"
      ],
      "execution_count": 9,
      "outputs": [
        {
          "output_type": "stream",
          "text": [
            "[[18.556591]]\n"
          ],
          "name": "stdout"
        }
      ]
    },
    {
      "cell_type": "code",
      "metadata": {
        "id": "6Zu0l2guwzGA"
      },
      "source": [
        "from tensorflow.keras.losses import Loss\n",
        "\n",
        "class MyHuberLoss(Loss):\n",
        "  \n",
        "    # initialize instance attributes\n",
        "    def __init__(self, threshold=1):\n",
        "        super().__init__()\n",
        "        self.threshold = threshold\n",
        "\n",
        "    # compute loss\n",
        "    def call(self, y_true, y_pred):\n",
        "        error = y_true - y_pred\n",
        "        is_small_error = tf.abs(error) <= self.threshold\n",
        "        small_error_loss = tf.square(error) / 2\n",
        "        big_error_loss = self.threshold * (tf.abs(error) - (0.5 * self.threshold))\n",
        "        return tf.where(is_small_error, small_error_loss, big_error_loss)"
      ],
      "execution_count": 10,
      "outputs": []
    },
    {
      "cell_type": "code",
      "metadata": {
        "colab": {
          "base_uri": "https://localhost:8080/"
        },
        "id": "naqbftIXzE4b",
        "outputId": "c1971ccc-0f7c-4685-fa9a-2f985d9412de"
      },
      "source": [
        "model = tf.keras.Sequential([keras.layers.Dense(units=1, input_shape=[1])])\n",
        "model.compile(optimizer='sgd', loss=MyHuberLoss(threshold=1.02))\n",
        "model.fit(xs, ys, epochs=500,verbose=0)\n",
        "print(model.predict([10.0]))"
      ],
      "execution_count": 11,
      "outputs": [
        {
          "output_type": "stream",
          "text": [
            "[[18.764887]]\n"
          ],
          "name": "stdout"
        }
      ]
    }
  ]
}