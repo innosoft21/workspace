{
  "nbformat": 4,
  "nbformat_minor": 0,
  "metadata": {
    "colab": {
      "name": "Huber_Loss.ipynb",
      "provenance": [],
      "authorship_tag": "ABX9TyNNw7qQa+I/oZe/JT89Wau2",
      "include_colab_link": true
    },
    "kernelspec": {
      "name": "python3",
      "display_name": "Python 3"
    },
    "language_info": {
      "name": "python"
    },
    "accelerator": "GPU"
  },
  "cells": [
    {
      "cell_type": "markdown",
      "metadata": {
        "id": "view-in-github",
        "colab_type": "text"
      },
      "source": [
        "<a href=\"https://colab.research.google.com/github/innosoft21/workspace/blob/main/tensorflow_python2/Huber_Loss.ipynb\" target=\"_parent\"><img src=\"https://colab.research.google.com/assets/colab-badge.svg\" alt=\"Open In Colab\"/></a>"
      ]
    },
    {
      "cell_type": "markdown",
      "metadata": {
        "id": "wtfBQ7c-v8cq"
      },
      "source": [
        "Huber Loss\n",
        "\n",
        "이 실습에서는 사용자 지정 손실 기능을 생성하는 방법을 살펴보겠습니다. \n",
        "\n",
        "특히, 우리는 Huber Loss를 코드화하여 모델을 훈련시킬 것입니다."
      ]
    },
    {
      "cell_type": "code",
      "metadata": {
        "id": "OryKLkSHv4Fj"
      },
      "source": [
        "try:\n",
        "  # %tensorflow_version only exists in Colab.\n",
        "  %tensorflow_version 2.x\n",
        "except Exception:\n",
        "  pass\n",
        "\n",
        "import tensorflow as tf\n",
        "import numpy as np\n",
        "from tensorflow import keras"
      ],
      "execution_count": 1,
      "outputs": []
    },
    {
      "cell_type": "markdown",
      "metadata": {
        "id": "wn_bzHm4wSib"
      },
      "source": [
        "우리의 더미 데이터 세트는 β=2β-1 관계에 의해 정의된 어레이 xs와 y의 쌍에 불과하다. \n",
        "\n",
        "xs는 입력이고 ys는 레이블이다."
      ]
    },
    {
      "cell_type": "code",
      "metadata": {
        "id": "PSq5uR7uwMQV"
      },
      "source": [
        "# inputs\n",
        "xs = np.array([-1.0,  0.0, 1.0, 2.0, 3.0, 4.0], dtype=float)\n",
        "\n",
        "# labels\n",
        "ys = np.array([-3.0, -1.0, 1.0, 3.0, 5.0, 7.0], dtype=float)"
      ],
      "execution_count": 2,
      "outputs": []
    },
    {
      "cell_type": "markdown",
      "metadata": {
        "id": "6mhOND5VwdRA"
      },
      "source": [
        "mean_squared_error와 같은 기본 제공 손실 함수를 사용하여 간단한 모델을 구축하고 교육해 봅시다."
      ]
    },
    {
      "cell_type": "code",
      "metadata": {
        "colab": {
          "base_uri": "https://localhost:8080/"
        },
        "id": "i2XzLp3TweJu",
        "outputId": "4e251ef1-caa1-4610-9cdd-3cf41cc47d55"
      },
      "source": [
        "model = tf.keras.Sequential([keras.layers.Dense(units=1, input_shape=[1])])\n",
        "model.compile(optimizer='sgd', loss='mean_squared_error')\n",
        "model.fit(xs, ys, epochs=500,verbose=0)\n",
        "\n",
        "print(model.predict([10.0]))"
      ],
      "execution_count": 3,
      "outputs": [
        {
          "output_type": "stream",
          "text": [
            "[[18.984911]]\n"
          ],
          "name": "stdout"
        }
      ]
    },
    {
      "cell_type": "markdown",
      "metadata": {
        "id": "CzzE__MrwgRb"
      },
      "source": [
        "Custom Loss\n",
        "\n",
        "이제 사용자 정의 손실을 사용할 수 있는 방법을 알아보겠습니다. \n",
        "\n",
        "우리는 먼저 실측 진실 레이블(y_true)과 모델 예측(y_pred)을 매개 변수로 받아들이는 함수를 정의한다. \n",
        "\n",
        "그런 다음 함수 정의에서 손실 값을 계산하고 반환합니다."
      ]
    },
    {
      "cell_type": "code",
      "metadata": {
        "id": "Clj_LtvTwr81"
      },
      "source": [
        "def my_huber_loss(y_true, y_pred):\n",
        "    threshold = 1\n",
        "    error = y_true - y_pred\n",
        "    is_small_error = tf.abs(error) <= threshold\n",
        "    small_error_loss = tf.square(error) / 2\n",
        "    big_error_loss = threshold * (tf.abs(error) - (0.5 * threshold))\n",
        "    return tf.where(is_small_error, small_error_loss, big_error_loss)"
      ],
      "execution_count": 4,
      "outputs": []
    },
    {
      "cell_type": "markdown",
      "metadata": {
        "id": "BGivkvxfwyRQ"
      },
      "source": [
        "손실 함수를 사용하는 것은 model.compile()의 손실 인수에서 손실 함수를 지정하는 것만큼 간단하다."
      ]
    },
    {
      "cell_type": "code",
      "metadata": {
        "colab": {
          "base_uri": "https://localhost:8080/"
        },
        "id": "6Zu0l2guwzGA",
        "outputId": "9e06a19a-fde8-405a-f271-ed24647164b5"
      },
      "source": [
        "model = tf.keras.Sequential([keras.layers.Dense(units=1, input_shape=[1])])\n",
        "model.compile(optimizer='sgd', loss=my_huber_loss)\n",
        "model.fit(xs, ys, epochs=500,verbose=0)\n",
        "print(model.predict([10.0]))"
      ],
      "execution_count": 5,
      "outputs": [
        {
          "output_type": "stream",
          "text": [
            "[[18.644196]]\n"
          ],
          "name": "stdout"
        }
      ]
    }
  ]
}