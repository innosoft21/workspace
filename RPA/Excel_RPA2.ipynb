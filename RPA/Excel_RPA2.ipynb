{
  "nbformat": 4,
  "nbformat_minor": 0,
  "metadata": {
    "colab": {
      "name": "Excel_RPA2.ipynb",
      "provenance": [],
      "toc_visible": true,
      "authorship_tag": "ABX9TyM4MdK9KcNleptTwHcHPvXC",
      "include_colab_link": true
    },
    "kernelspec": {
      "name": "python3",
      "display_name": "Python 3"
    },
    "language_info": {
      "name": "python"
    }
  },
  "cells": [
    {
      "cell_type": "markdown",
      "metadata": {
        "id": "view-in-github",
        "colab_type": "text"
      },
      "source": [
        "<a href=\"https://colab.research.google.com/github/innosoft21/workspace/blob/main/RPA/Excel_RPA2.ipynb\" target=\"_parent\"><img src=\"https://colab.research.google.com/assets/colab-badge.svg\" alt=\"Open In Colab\"/></a>"
      ]
    },
    {
      "cell_type": "markdown",
      "metadata": {
        "id": "GXJl6Ly4TdXQ"
      },
      "source": [
        "RPA 엑셀자동화 2. sheet에 연속 숫자(0~100) 자동입력하기"
      ]
    },
    {
      "cell_type": "code",
      "metadata": {
        "id": "Xbzt1pkpMnEi"
      },
      "source": [
        "from openpyxl import Workbook\n",
        "wb=Workbook() #새 워크북생성\n",
        "ws=wb.active #현재활성화된 sheet가져옴\n",
        "ws.title=\"Nadosheet\" #sheet이름 변경"
      ],
      "execution_count": 7,
      "outputs": []
    },
    {
      "cell_type": "code",
      "metadata": {
        "colab": {
          "base_uri": "https://localhost:8080/"
        },
        "id": "MVCFug_fTYOK",
        "outputId": "c4e8aa8e-b7a9-4770-b924-0a33aa984dbc"
      },
      "source": [
        "#A1 cell에 1을 입력\n",
        "ws[\"A1\"]=1\n",
        "ws[\"A2\"]=2\n",
        "ws[\"A3\"]=3\n",
        "ws[\"B1\"]=4\n",
        "ws[\"B2\"]=5\n",
        "ws[\"B3\"]=6\n",
        "print(ws[\"A1\"]) #A1셀 정보출력\n",
        "print(ws[\"A1\"].value) #A1 cell의 값을 출력\n",
        "print(ws[\"A10\"].value) #값이 없을 땐 'None'으로 출력됨"
      ],
      "execution_count": 8,
      "outputs": [
        {
          "output_type": "stream",
          "text": [
            "<Cell 'Nadosheet'.A1>\n",
            "1\n",
            "None\n"
          ],
          "name": "stdout"
        }
      ]
    },
    {
      "cell_type": "code",
      "metadata": {
        "colab": {
          "base_uri": "https://localhost:8080/"
        },
        "id": "zNv6ZAfvTbcK",
        "outputId": "6b9072ce-1275-46f2-9c7f-069b997301bb"
      },
      "source": [
        "#row = 1,2,3,4...\n",
        "# column = A(1), B(2), C(3)....\n",
        "print(ws.cell(column=1,row=1).value)\n",
        "print(ws.cell(column=2,row=1).value)\n",
        "c=ws.cell(column=3,row=1, value=10)\n",
        "print(c.value)"
      ],
      "execution_count": 11,
      "outputs": [
        {
          "output_type": "stream",
          "text": [
            "1\n",
            "4\n",
            "10\n"
          ],
          "name": "stdout"
        }
      ]
    },
    {
      "cell_type": "code",
      "metadata": {
        "id": "Hxt6ezLTYQYE"
      },
      "source": [
        "from random import *\n",
        "index=0\n",
        "for x in range(1,11):\n",
        "  for y in range(1,11):\n",
        "    #ws.cell(row=x,column=y,value=randint(0,100)) #0~100까지 숫자 랜덤 생성\n",
        "    ws.cell(row=x, column=y,value=index)\n",
        "    index+=1"
      ],
      "execution_count": 12,
      "outputs": []
    },
    {
      "cell_type": "code",
      "metadata": {
        "id": "XusM2chBYApR"
      },
      "source": [
        "wb.save(\"sample.xlsx\")"
      ],
      "execution_count": 13,
      "outputs": []
    }
  ]
}