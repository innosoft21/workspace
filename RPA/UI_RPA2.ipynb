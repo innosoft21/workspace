{
  "nbformat": 4,
  "nbformat_minor": 0,
  "metadata": {
    "colab": {
      "name": "UI_RPA2.ipynb",
      "provenance": [],
      "authorship_tag": "ABX9TyN6t3Epx7/n6ex/FGPXNy2B",
      "include_colab_link": true
    },
    "kernelspec": {
      "name": "python3",
      "display_name": "Python 3"
    },
    "language_info": {
      "name": "python"
    }
  },
  "cells": [
    {
      "cell_type": "markdown",
      "metadata": {
        "id": "view-in-github",
        "colab_type": "text"
      },
      "source": [
        "<a href=\"https://colab.research.google.com/github/innosoft21/workspace/blob/main/RPA/UI_RPA2.ipynb\" target=\"_parent\"><img src=\"https://colab.research.google.com/assets/colab-badge.svg\" alt=\"Open In Colab\"/></a>"
      ]
    },
    {
      "cell_type": "markdown",
      "metadata": {
        "id": "gUv_ry63ogGd"
      },
      "source": [
        "데스크탑 UI 자동화 2. 스크린 샷 찍기\n",
        "\n",
        "pyautogui.screenshot()"
      ]
    },
    {
      "cell_type": "code",
      "metadata": {
        "id": "mkyGRKq2ofsb"
      },
      "source": [
        "# pip install pyautogui 설치 후 import진행, Pillow설치 필요\n",
        "\n",
        "import pyautogui"
      ],
      "execution_count": null,
      "outputs": []
    },
    {
      "cell_type": "code",
      "metadata": {
        "id": "S_HgMAW1ox1a"
      },
      "source": [
        "#스크린 샷 찍기\n",
        "img=pyautogui.screenshot()\n",
        "img.save(\"screenshot.png\")"
      ],
      "execution_count": null,
      "outputs": []
    },
    {
      "cell_type": "code",
      "metadata": {
        "id": "rx4pvSMVo1ml"
      },
      "source": [
        "pyautogui.mouseInfo()\n",
        "\n",
        "pixel = pyautogui.pixel(28,18)\n",
        "print(pixel)"
      ],
      "execution_count": null,
      "outputs": []
    },
    {
      "cell_type": "code",
      "metadata": {
        "id": "QlxtF-W2o6YH"
      },
      "source": [
        "# 픽셀 값이 같은지 아닌지 확인 False or True\n",
        "# 홈페이지 화면 색상 확인하여 구분 가능\n",
        "print(pyautogui.pixelMatchesColor(28,18,(34,167,242))) \n",
        "print(pyautogui.pixelMatchesColor(28,18,pixel))\n",
        "print(pyautogui.pixelMatchesColor(28,18,(34,167,243)))"
      ],
      "execution_count": null,
      "outputs": []
    }
  ]
}