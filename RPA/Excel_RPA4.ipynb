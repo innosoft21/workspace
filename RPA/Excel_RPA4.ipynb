{
  "nbformat": 4,
  "nbformat_minor": 0,
  "metadata": {
    "colab": {
      "name": "Excel_RPA4.ipynb",
      "provenance": [],
      "toc_visible": true,
      "authorship_tag": "ABX9TyOVRYtXDYXtJZuaFpQUr6w1",
      "include_colab_link": true
    },
    "kernelspec": {
      "name": "python3",
      "display_name": "Python 3"
    },
    "language_info": {
      "name": "python"
    }
  },
  "cells": [
    {
      "cell_type": "markdown",
      "metadata": {
        "id": "view-in-github",
        "colab_type": "text"
      },
      "source": [
        "<a href=\"https://colab.research.google.com/github/innosoft21/workspace/blob/main/RPA/Excel_RPA4.ipynb\" target=\"_parent\"><img src=\"https://colab.research.google.com/assets/colab-badge.svg\" alt=\"Open In Colab\"/></a>"
      ]
    },
    {
      "cell_type": "markdown",
      "metadata": {
        "id": "GXJl6Ly4TdXQ"
      },
      "source": [
        "RPA 엑셀자동화 4. excel파일 만들고, 영어,수학성적 random 입력하고 저장된 모든 값 출력하기\n",
        "\n",
        "from openpyxl.utils.cell import coordinate_from_string 사용하기"
      ]
    },
    {
      "cell_type": "code",
      "metadata": {
        "id": "Xbzt1pkpMnEi"
      },
      "source": [
        "from openpyxl import Workbook\n",
        "from random import *\n",
        "\n",
        "wb=Workbook()\n",
        "ws=wb.active #현재활성화된 sheet가져옴"
      ],
      "execution_count": 6,
      "outputs": []
    },
    {
      "cell_type": "code",
      "metadata": {
        "id": "Hxt6ezLTYQYE"
      },
      "source": [
        "# 1줄씩 데이터 넣기\n",
        "ws.append([\"번호\",\"영어\",\"수학\"])\n",
        "for i in range(1,11): #데이터 10개 넣기\n",
        "    ws.append([i,randint(0,100),randint(0,100)])\n",
        "wb.save(\"sample.xlsx\")"
      ],
      "execution_count": 8,
      "outputs": []
    },
    {
      "cell_type": "code",
      "metadata": {
        "colab": {
          "base_uri": "https://localhost:8080/"
        },
        "id": "9iEJRrDIaXXp",
        "outputId": "3c367f36-33eb-42ec-dc4f-b1af13073c7b"
      },
      "source": [
        "col_B=ws[\"B\"] #B컬럼(영어) 만 가져오기\n",
        "print(col_B)\n",
        "for cell in col_B:\n",
        "  print(cell.value)"
      ],
      "execution_count": 12,
      "outputs": [
        {
          "output_type": "stream",
          "text": [
            "(<Cell 'Sheet'.B1>, <Cell 'Sheet'.B2>, <Cell 'Sheet'.B3>, <Cell 'Sheet'.B4>, <Cell 'Sheet'.B5>, <Cell 'Sheet'.B6>, <Cell 'Sheet'.B7>, <Cell 'Sheet'.B8>, <Cell 'Sheet'.B9>, <Cell 'Sheet'.B10>, <Cell 'Sheet'.B11>)\n",
            "영어\n",
            "65\n",
            "87\n",
            "49\n",
            "14\n",
            "99\n",
            "42\n",
            "83\n",
            "59\n",
            "15\n",
            "46\n"
          ],
          "name": "stdout"
        }
      ]
    },
    {
      "cell_type": "code",
      "metadata": {
        "colab": {
          "base_uri": "https://localhost:8080/"
        },
        "id": "4d0o30CmgyZq",
        "outputId": "465c321e-7da0-405c-a97f-5e0cafdaa262"
      },
      "source": [
        "col_range=ws[\"B:C\"] #B,C 컬럼(영어,수학) 데이터 가져오기\n",
        "for cols in col_range:\n",
        "  for cell in cols:\n",
        "    print(cell.value)"
      ],
      "execution_count": 13,
      "outputs": [
        {
          "output_type": "stream",
          "text": [
            "영어\n",
            "65\n",
            "87\n",
            "49\n",
            "14\n",
            "99\n",
            "42\n",
            "83\n",
            "59\n",
            "15\n",
            "46\n",
            "수학\n",
            "83\n",
            "6\n",
            "91\n",
            "86\n",
            "55\n",
            "27\n",
            "32\n",
            "25\n",
            "19\n",
            "37\n"
          ],
          "name": "stdout"
        }
      ]
    },
    {
      "cell_type": "code",
      "metadata": {
        "colab": {
          "base_uri": "https://localhost:8080/"
        },
        "id": "lwk7sSq3hm-c",
        "outputId": "c80661e5-21e3-4ff5-b8a0-2b4b2e9f644d"
      },
      "source": [
        "row_title=ws[1] # 첫째 행(column명)만 가져오기\n",
        "for cell in row_title:\n",
        "  print(cell.value)"
      ],
      "execution_count": 14,
      "outputs": [
        {
          "output_type": "stream",
          "text": [
            "번호\n",
            "영어\n",
            "수학\n"
          ],
          "name": "stdout"
        }
      ]
    },
    {
      "cell_type": "code",
      "metadata": {
        "colab": {
          "base_uri": "https://localhost:8080/"
        },
        "id": "EaxUssd3h_CX",
        "outputId": "9714f8ef-a280-4027-c136-a427ac98a35e"
      },
      "source": [
        "row_range=ws[2:6] #2번째 행부터 6번쨰 행까지 가져오기\n",
        "for rows in row_range:\n",
        "  for cell in rows:\n",
        "    print(cell.value, end=\" \") # 출력값 끼리 띄워쓰기로 구분\n",
        "  print() #줄바꿈"
      ],
      "execution_count": 19,
      "outputs": [
        {
          "output_type": "stream",
          "text": [
            "1 65 83 \n",
            "2 87 6 \n",
            "3 49 91 \n",
            "4 14 86 \n",
            "5 99 55 \n"
          ],
          "name": "stdout"
        }
      ]
    },
    {
      "cell_type": "code",
      "metadata": {
        "colab": {
          "base_uri": "https://localhost:8080/"
        },
        "id": "r2JYDJtZjOUr",
        "outputId": "9710c07a-ba1c-48f4-ee64-8a53e6b7dc58"
      },
      "source": [
        "row_range=ws[2:ws.max_row] #2번째 행부터 끝 행까지 가져오기\n",
        "for rows in row_range:\n",
        "  for cell in rows:\n",
        "    print(cell.value, end=\" \") # 출력값 끼리 띄워쓰기로 구분\n",
        "  print() #줄바꿈"
      ],
      "execution_count": 21,
      "outputs": [
        {
          "output_type": "stream",
          "text": [
            "1 65 83 \n",
            "2 87 6 \n",
            "3 49 91 \n",
            "4 14 86 \n",
            "5 99 55 \n",
            "6 42 27 \n",
            "7 83 32 \n",
            "8 59 25 \n",
            "9 15 19 \n",
            "10 46 37 \n"
          ],
          "name": "stdout"
        }
      ]
    },
    {
      "cell_type": "code",
      "metadata": {
        "colab": {
          "base_uri": "https://localhost:8080/"
        },
        "id": "bTzvAyMmjfeF",
        "outputId": "78b84232-f0f7-4913-a71f-0f82b9093d36"
      },
      "source": [
        "from openpyxl.utils.cell import coordinate_from_string\n",
        "\n",
        "row_range=ws[2:ws.max_row] #2번째 행부터 끝 행까지 가져오기\n",
        "for rows in row_range:\n",
        "  for cell in rows:\n",
        "    print(cell.coordinate, end=\" \") # cell의 정보를 출력\n",
        "  print() #줄바꿈"
      ],
      "execution_count": 24,
      "outputs": [
        {
          "output_type": "stream",
          "text": [
            "A2 B2 C2 \n",
            "A3 B3 C3 \n",
            "A4 B4 C4 \n",
            "A5 B5 C5 \n",
            "A6 B6 C6 \n",
            "A7 B7 C7 \n",
            "A8 B8 C8 \n",
            "A9 B9 C9 \n",
            "A10 B10 C10 \n",
            "A11 B11 C11 \n"
          ],
          "name": "stdout"
        }
      ]
    },
    {
      "cell_type": "code",
      "metadata": {
        "colab": {
          "base_uri": "https://localhost:8080/"
        },
        "id": "v_u4zBThlMts",
        "outputId": "1d232fc7-6ed0-4bf3-b0df-630799607cbf"
      },
      "source": [
        "from openpyxl.utils.cell import coordinate_from_string\n",
        "\n",
        "row_range=ws[2:ws.max_row] #2번째 행부터 끝 행까지 가져오기\n",
        "for rows in row_range:\n",
        "  for cell in rows:\n",
        "    xy=coordinate_from_string(cell.coordinate)\n",
        "    print(xy,end=\" \") #튜플형태로 출력\n",
        "  print() #줄바꿈"
      ],
      "execution_count": 27,
      "outputs": [
        {
          "output_type": "stream",
          "text": [
            "('A', 2) ('B', 2) ('C', 2) \n",
            "('A', 3) ('B', 3) ('C', 3) \n",
            "('A', 4) ('B', 4) ('C', 4) \n",
            "('A', 5) ('B', 5) ('C', 5) \n",
            "('A', 6) ('B', 6) ('C', 6) \n",
            "('A', 7) ('B', 7) ('C', 7) \n",
            "('A', 8) ('B', 8) ('C', 8) \n",
            "('A', 9) ('B', 9) ('C', 9) \n",
            "('A', 10) ('B', 10) ('C', 10) \n",
            "('A', 11) ('B', 11) ('C', 11) \n"
          ],
          "name": "stdout"
        }
      ]
    },
    {
      "cell_type": "code",
      "metadata": {
        "colab": {
          "base_uri": "https://localhost:8080/"
        },
        "id": "q6LfGojakOA_",
        "outputId": "7a62eaf2-a38d-4897-9e88-bf29dd6bf63c"
      },
      "source": [
        "from openpyxl.utils.cell import coordinate_from_string\n",
        "\n",
        "row_range=ws[2:ws.max_row] #2번째 행부터 끝 행까지 가져오기\n",
        "for rows in row_range:\n",
        "  for cell in rows:\n",
        "    xy=coordinate_from_string(cell.coordinate)\n",
        "    print(xy[0],end=\"\") #A,B...\n",
        "    print(xy[1], end=\" \") #1,2,3...\n",
        "  print() #줄바꿈"
      ],
      "execution_count": 26,
      "outputs": [
        {
          "output_type": "stream",
          "text": [
            "A2 B2 C2 \n",
            "A3 B3 C3 \n",
            "A4 B4 C4 \n",
            "A5 B5 C5 \n",
            "A6 B6 C6 \n",
            "A7 B7 C7 \n",
            "A8 B8 C8 \n",
            "A9 B9 C9 \n",
            "A10 B10 C10 \n",
            "A11 B11 C11 \n"
          ],
          "name": "stdout"
        }
      ]
    }
  ]
}