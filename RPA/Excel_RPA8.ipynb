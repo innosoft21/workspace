{
  "nbformat": 4,
  "nbformat_minor": 0,
  "metadata": {
    "colab": {
      "name": "Excel_RPA8.ipynb",
      "provenance": [],
      "authorship_tag": "ABX9TyN0R1c4NYy3nu+A8+uM23Rv",
      "include_colab_link": true
    },
    "kernelspec": {
      "name": "python3",
      "display_name": "Python 3"
    },
    "language_info": {
      "name": "python"
    }
  },
  "cells": [
    {
      "cell_type": "markdown",
      "metadata": {
        "id": "view-in-github",
        "colab_type": "text"
      },
      "source": [
        "<a href=\"https://colab.research.google.com/github/innosoft21/workspace/blob/main/RPA/Excel_RPA8.ipynb\" target=\"_parent\"><img src=\"https://colab.research.google.com/assets/colab-badge.svg\" alt=\"Open In Colab\"/></a>"
      ]
    },
    {
      "cell_type": "markdown",
      "metadata": {
        "id": "zAzJgTSYvwMQ"
      },
      "source": [
        "RPA 엑셀자동화 8. row,column 이동하기\n",
        "\n",
        "ws.move_range"
      ]
    },
    {
      "cell_type": "code",
      "metadata": {
        "id": "OEbVscHFtOWW"
      },
      "source": [
        "from openpyxl import load_workbook\n",
        "\n",
        "wb=load_workbook(\"sample.xlsx\")\n",
        "ws=wb.active #현재활성화된 sheet가져옴"
      ],
      "execution_count": 11,
      "outputs": []
    },
    {
      "cell_type": "code",
      "metadata": {
        "id": "3l_b3Z9L0Ec5"
      },
      "source": [
        "#번호,영어, 수학\n",
        "#국어 항목 추가하기\n",
        "ws.move_range(\"b1:c11\",rows=0, cols =1) \n",
        "ws[\"B1\"].value=\"국어\"\n",
        "\n",
        "wb.save(\"sample_korean.xlsx\")"
      ],
      "execution_count": null,
      "outputs": []
    },
    {
      "cell_type": "code",
      "metadata": {
        "id": "bE56duxT4XN7"
      },
      "source": [
        "ws.move_range(\"b1:c11\",rows=0, cols =-1)\n",
        "wb.save(\"sample_move.xlsx\")"
      ],
      "execution_count": null,
      "outputs": []
    },
    {
      "cell_type": "code",
      "metadata": {
        "id": "pGgdU3A148MU"
      },
      "source": [
        "ws.move_range(\"C1:C11\",rows=5, cols=-1)\n",
        "wb.save(\"sample_move.xlsx\")"
      ],
      "execution_count": null,
      "outputs": []
    }
  ]
}