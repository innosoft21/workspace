{
  "nbformat": 4,
  "nbformat_minor": 0,
  "metadata": {
    "colab": {
      "name": "UI_RPA_Quiz.ipynb",
      "provenance": [],
      "authorship_tag": "ABX9TyP0GM5omEjbW0MSnYvnykI2",
      "include_colab_link": true
    },
    "kernelspec": {
      "name": "python3",
      "display_name": "Python 3"
    },
    "language_info": {
      "name": "python"
    }
  },
  "cells": [
    {
      "cell_type": "markdown",
      "metadata": {
        "id": "view-in-github",
        "colab_type": "text"
      },
      "source": [
        "<a href=\"https://colab.research.google.com/github/innosoft21/workspace/blob/main/RPA/UI_RPA_Quiz.ipynb\" target=\"_parent\"><img src=\"https://colab.research.google.com/assets/colab-badge.svg\" alt=\"Open In Colab\"/></a>"
      ]
    },
    {
      "cell_type": "markdown",
      "metadata": {
        "id": "gUv_ry63ogGd"
      },
      "source": [
        "데스크탑 UI 자동화 Quiz. 그림판 자동실행\n",
        "\n",
        "1. 그림판 실행(단축키 : win+r, 입력값 : mspaint) 및 최대화\n",
        "\n",
        "2. 상단 텍스트 입력, 흰영역 아무데나 글자 넣을 수 있도록, 글자는 \" 참잘했어요\"\n",
        "\n",
        "3. 5초 대기 후 그림판 종료, 이 때 저장하지 않음으로 선택하고 종료할 것"
      ]
    },
    {
      "cell_type": "code",
      "metadata": {
        "id": "mkyGRKq2ofsb"
      },
      "source": [
        "import pyautogui"
      ],
      "execution_count": null,
      "outputs": []
    },
    {
      "cell_type": "code",
      "metadata": {
        "id": "WKWJXc2hJnvI"
      },
      "source": [
        "pyautogui.hotkey(\"win\",\"r\")\n",
        "pyautogui.write(\"mspaint\")\n",
        "pyautogui.press(\"enter\")"
      ],
      "execution_count": null,
      "outputs": []
    },
    {
      "cell_type": "code",
      "metadata": {
        "id": "MxmmEsDvrVZZ"
      },
      "source": [
        "pyautogui.sleep(2)"
      ],
      "execution_count": null,
      "outputs": []
    },
    {
      "cell_type": "code",
      "metadata": {
        "id": "0rwjSpPwrY91"
      },
      "source": [
        "window = pyautogui.getWindowsWithTitle(\"제목없음 - 그림판\")[0] #그림판 1개만 \n",
        "if window.isMaximized == False:\n",
        "    window.maximize() #최대화"
      ],
      "execution_count": null,
      "outputs": []
    },
    {
      "cell_type": "code",
      "metadata": {
        "id": "VX9URC36rgkK"
      },
      "source": [
        "#글자 버튼 클릭\n",
        "btn_text = pyautogui.locateOnScreen(\"btn_txt.png\")\n",
        "if btn_text:\n",
        "    pyautogui.click(btn_text)\n",
        "else:\n",
        "    print(\"찾기 실패\")\n",
        "    sys.exit()"
      ],
      "execution_count": null,
      "outputs": []
    },
    {
      "cell_type": "code",
      "metadata": {
        "id": "H9oJyX1Erja5"
      },
      "source": [
        "pyautogui.click(200,200)\n",
        "def my_write(text):\n",
        "    pyperclip.copy(text)\n",
        "    pyautogui.hotkey(\"ctrl\",\"v\")\n",
        "\n",
        "my_write(\"참 잘했어요\")"
      ],
      "execution_count": null,
      "outputs": []
    },
    {
      "cell_type": "code",
      "metadata": {
        "id": "J4pdlpumrmCd"
      },
      "source": [
        "pyautogui.sleep(5) # 5초 대기"
      ],
      "execution_count": null,
      "outputs": []
    },
    {
      "cell_type": "code",
      "metadata": {
        "id": "pgnt5zB8roMZ"
      },
      "source": [
        "#프로그램 종료\n",
        "window.close()\n",
        "pyautogui.sleep(0.5) \n",
        "pyautogui.press(\"n\") #저장하지 않음"
      ],
      "execution_count": null,
      "outputs": []
    }
  ]
}