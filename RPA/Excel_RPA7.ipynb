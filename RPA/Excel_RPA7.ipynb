{
  "nbformat": 4,
  "nbformat_minor": 0,
  "metadata": {
    "colab": {
      "name": "Excel_RPA7.ipynb",
      "provenance": [],
      "authorship_tag": "ABX9TyMh9a/fcu4TpCqCVAfoZPhg",
      "include_colab_link": true
    },
    "kernelspec": {
      "name": "python3",
      "display_name": "Python 3"
    },
    "language_info": {
      "name": "python"
    }
  },
  "cells": [
    {
      "cell_type": "markdown",
      "metadata": {
        "id": "view-in-github",
        "colab_type": "text"
      },
      "source": [
        "<a href=\"https://colab.research.google.com/github/innosoft21/workspace/blob/main/RPA/Excel_RPA7.ipynb\" target=\"_parent\"><img src=\"https://colab.research.google.com/assets/colab-badge.svg\" alt=\"Open In Colab\"/></a>"
      ]
    },
    {
      "cell_type": "markdown",
      "metadata": {
        "id": "zAzJgTSYvwMQ"
      },
      "source": [
        "RPA 엑셀자동화 7. row,column 삽입하기, 삭제하기\n",
        "\n",
        "ws.insert_rows, ws.insert_cols"
      ]
    },
    {
      "cell_type": "code",
      "metadata": {
        "id": "OEbVscHFtOWW"
      },
      "source": [
        "from openpyxl import load_workbook\n",
        "\n",
        "wb=load_workbook(\"sample.xlsx\")\n",
        "ws=wb.active #현재활성화된 sheet가져옴"
      ],
      "execution_count": 13,
      "outputs": []
    },
    {
      "cell_type": "code",
      "metadata": {
        "id": "Hm-hriHptfHS"
      },
      "source": [
        "ws.insert_rows(8) #8번째 행에 1줄 삽입\n",
        "wb.save(\"sample_insert_rows.xlsx\")"
      ],
      "execution_count": 10,
      "outputs": []
    },
    {
      "cell_type": "code",
      "metadata": {
        "id": "FhjxssPVxL9T"
      },
      "source": [
        "ws.insert_rows(8,5) #8번쨰 행에 5줄 삽입\n",
        "wb.save(\"sample_insert_rows.xlsx\")"
      ],
      "execution_count": 11,
      "outputs": []
    },
    {
      "cell_type": "code",
      "metadata": {
        "id": "fW0MZv-AxnKe"
      },
      "source": [
        "ws.insert_cols(2,3) #2번째 컬럼에 3열을 삽입\n",
        "wb.save(\"sample_insert_cols.xlsx\")"
      ],
      "execution_count": 12,
      "outputs": []
    },
    {
      "cell_type": "code",
      "metadata": {
        "id": "KA4e_4XCyU-c"
      },
      "source": [
        "ws.delete_rows(8) #8번쨰 row 삭제\n",
        "wb.save(\"sample_delete_rows.xlsx\")"
      ],
      "execution_count": 14,
      "outputs": []
    },
    {
      "cell_type": "code",
      "metadata": {
        "id": "VV-XydSIyh4B"
      },
      "source": [
        "ws.delete_rows(8,3) #8번쨰 row에서 3줄 삭제\n",
        "wb.save(\"sample_delete_rows.xlsx\")"
      ],
      "execution_count": 18,
      "outputs": []
    },
    {
      "cell_type": "code",
      "metadata": {
        "id": "L9u4bPqjyr-D"
      },
      "source": [
        "ws.delete_cols(2,3) #2번쨰 colummn에서 2개 열을 삭제\n",
        "wb.save(\"sample_delet_cols.xlsx\")"
      ],
      "execution_count": 19,
      "outputs": []
    }
  ]
}