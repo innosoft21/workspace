{
  "nbformat": 4,
  "nbformat_minor": 0,
  "metadata": {
    "colab": {
      "name": "Excel_RPA10.ipynb",
      "provenance": [],
      "authorship_tag": "ABX9TyMJB0YB750BzB80DHuS4/dB",
      "include_colab_link": true
    },
    "kernelspec": {
      "name": "python3",
      "display_name": "Python 3"
    },
    "language_info": {
      "name": "python"
    }
  },
  "cells": [
    {
      "cell_type": "markdown",
      "metadata": {
        "id": "view-in-github",
        "colab_type": "text"
      },
      "source": [
        "<a href=\"https://colab.research.google.com/github/innosoft21/workspace/blob/main/RPA/Excel_RPA10.ipynb\" target=\"_parent\"><img src=\"https://colab.research.google.com/assets/colab-badge.svg\" alt=\"Open In Colab\"/></a>"
      ]
    },
    {
      "cell_type": "markdown",
      "metadata": {
        "id": "6szpU9MEBcmx"
      },
      "source": [
        "RPA 엑셀자동화 10. 셀 스타일 바꾸기\n",
        "\n",
        "폰트,글자색,밑줄 추가\n",
        "\n",
        "테두리 추가, 배경색 지정, 센터정렬, 틀 고정"
      ]
    },
    {
      "cell_type": "code",
      "metadata": {
        "id": "FcY-o9LD4wGK"
      },
      "source": [
        "from openpyxl import load_workbook\n",
        "from openpyxl.styles import Font,Border,Side,PatternFill,Alignment\n",
        "\n",
        "wb=load_workbook(\"sample.xlsx\")\n",
        "ws=wb.active #현재활성화된 sheet가져옴"
      ],
      "execution_count": 20,
      "outputs": []
    },
    {
      "cell_type": "code",
      "metadata": {
        "id": "ncInMXp7-o5v"
      },
      "source": [
        "a1=ws[\"A1\"] #번호\n",
        "b1=ws[\"B1\"] #영어\n",
        "c1=ws[\"C1\"] #수학"
      ],
      "execution_count": 11,
      "outputs": []
    },
    {
      "cell_type": "code",
      "metadata": {
        "id": "umsbodY7-1aI"
      },
      "source": [
        "ws.column_dimensions[\"A\"].width=5\n",
        "ws.row_dimensions[1].height=50"
      ],
      "execution_count": 12,
      "outputs": []
    },
    {
      "cell_type": "code",
      "metadata": {
        "id": "4wkuUdi2_FEk"
      },
      "source": [
        "a1.font=Font(color=\"FF0000\",italic=True, bold=True) #글자색은 빨강,글자체는 볼드"
      ],
      "execution_count": 13,
      "outputs": []
    },
    {
      "cell_type": "code",
      "metadata": {
        "id": "CNbb9pyw_j2x"
      },
      "source": [
        "b1.font=Font(color=\"CC33FF\",name=\"Arial\",strike=True) #폰트는 arial, 취소선추가"
      ],
      "execution_count": 14,
      "outputs": []
    },
    {
      "cell_type": "code",
      "metadata": {
        "id": "Kd_UqhcOAD8v"
      },
      "source": [
        "c1.font=Font(color=\"0000FF\",size=20,underline=\"single\") #글자크기20, 글자색은 파랑, 밑줄추가"
      ],
      "execution_count": 15,
      "outputs": []
    },
    {
      "cell_type": "code",
      "metadata": {
        "id": "oa4jWpo7AVOO"
      },
      "source": [
        "thin_border=Border(left=Side(style=\"thin\"),right=Side(style=\"thin\"),top=Side(style=\"thin\"),bottom=Side(style=\"thin\"))\n",
        "a1.border=thin_border\n",
        "b1.border=thin_border\n",
        "c1.border=thin_border"
      ],
      "execution_count": 17,
      "outputs": []
    },
    {
      "cell_type": "code",
      "metadata": {
        "id": "t3p47aeeB7L9"
      },
      "source": [
        "#90점 넘는 셀에 대해 초록색 바탕적용\n",
        "for row in ws.rows:\n",
        "  for cell in row:\n",
        "    cell.alignment = Alignment(horizontal=\"center\",vertical=\"center\") #센터 정렬\n",
        "    if cell.column == 1: #A 컬럼은 제외\n",
        "        continue\n",
        "    #cell이 정수형이고 90점 보다 크면\n",
        "    if isinstance(cell.value,int) and cell.value >90:\n",
        "      cell.fill=PatternFill(fgColor=\"00FF00\",fill_type=\"solid\") #배경색은 초록\n",
        "      cell.font = Font(color=\"FF0000\") #폰트색상 변경"
      ],
      "execution_count": 21,
      "outputs": []
    },
    {
      "cell_type": "code",
      "metadata": {
        "id": "GzYsRQGJDsAo"
      },
      "source": [
        "ws.freeze_panes = \"B2\" # 틀 고정 기준 셀 설정"
      ],
      "execution_count": 22,
      "outputs": []
    },
    {
      "cell_type": "code",
      "metadata": {
        "id": "88WIGFVp_Wxm"
      },
      "source": [
        "wb.save(\"sample_style.xlsx\")"
      ],
      "execution_count": 23,
      "outputs": []
    }
  ]
}