{
  "nbformat": 4,
  "nbformat_minor": 0,
  "metadata": {
    "colab": {
      "name": "Excel_RPA_QUIZ.ipynb",
      "provenance": [],
      "authorship_tag": "ABX9TyOq3wEI3F9EuQqx/rRrC3IA",
      "include_colab_link": true
    },
    "kernelspec": {
      "name": "python3",
      "display_name": "Python 3"
    },
    "language_info": {
      "name": "python"
    }
  },
  "cells": [
    {
      "cell_type": "markdown",
      "metadata": {
        "id": "view-in-github",
        "colab_type": "text"
      },
      "source": [
        "<a href=\"https://colab.research.google.com/github/innosoft21/workspace/blob/main/RPA/Excel_RPA_QUIZ.ipynb\" target=\"_parent\"><img src=\"https://colab.research.google.com/assets/colab-badge.svg\" alt=\"Open In Colab\"/></a>"
      ]
    },
    {
      "cell_type": "markdown",
      "metadata": {
        "id": "6szpU9MEBcmx"
      },
      "source": [
        "RPA 엑셀자동화 QUIZ\n",
        "\n",
        "학점 산정 엑셀 만들기\n",
        "\n",
        "출석 10\n",
        "퀴즈1 10\n",
        "퀴즈2 10\n",
        "중간고사 20\n",
        "기말고사 30\n",
        "프로젝트 20\n",
        "총합 100\n",
        "\n",
        "작업할 내용\n",
        "1) 퀴즈2는 모두 만점 처리할 것\n",
        "2) H열에 학생별 총점, I열에 성적정보 추가\n",
        "  --> 90점 이상 A, 80점 이상 B, 70점이상 C, 나머지 D\n",
        "3) 출석이 5미만인 학생은 총점상관없이 F\n",
        "\n",
        "최종파일명은 scores.xlsx\n"
      ]
    },
    {
      "cell_type": "code",
      "metadata": {
        "id": "FcY-o9LD4wGK"
      },
      "source": [
        "from openpyxl import Workbook\n",
        "\n",
        "wb=Workbook() \n",
        "ws=wb.active #현재활성화된 sheet가져옴"
      ],
      "execution_count": 11,
      "outputs": []
    },
    {
      "cell_type": "code",
      "metadata": {
        "id": "eVLKPHo1J1mY"
      },
      "source": [
        "ws.append((\"학번\",\"출석\",\"퀴즈1\",\"퀴즈2\",\"중간고사\",\"기말고사\",\"프로젝트\"))\n",
        "\n",
        "scores = [\n",
        "          (1,10,8,5,14,26,12),\n",
        "          (2,7,3,7,15,24,18),\n",
        "          (3,9,5,8,8,12,4),\n",
        "          (4,7,8,7,17,21,18),\n",
        "          (5,7,8,7,16,25,15),\n",
        "          (6,3,5,8,8,17,0),\n",
        "          (7,4,9,10,16,27,18),\n",
        "          (8,6,6,6,15,19,17),\n",
        "          (9,10,10,9,19,30,19),\n",
        "          (10,9,8,8,20,25,20)\n",
        "]"
      ],
      "execution_count": 12,
      "outputs": []
    },
    {
      "cell_type": "code",
      "metadata": {
        "id": "N1eC7v0kNSB4"
      },
      "source": [
        "for s in scores: # 데이터 값 입력하기\n",
        "  ws.append(s)"
      ],
      "execution_count": 13,
      "outputs": []
    },
    {
      "cell_type": "code",
      "metadata": {
        "id": "ktRRcgx7NtcQ"
      },
      "source": [
        "for idx,cell in enumerate(ws[\"D\"]):\n",
        "  if idx == 0:\n",
        "    continue\n",
        "  cell.value = 10"
      ],
      "execution_count": 19,
      "outputs": []
    },
    {
      "cell_type": "code",
      "metadata": {
        "id": "wYMSLunVOHag"
      },
      "source": [
        "ws[\"H1\"] = \"총점\"\n",
        "ws[\"I1\"] = \"성적\"\n",
        "\n",
        "for idx, score in enumerate(scores, start=2):\n",
        "  sum_val = sum(score[1:])-score[3]+10 # 학생별 총점\n",
        "  ws.cell(row=idx,column=8).value = \"=SUM(B{}:G{})\".format(idx,idx)\n",
        "\n",
        "  grade = None\n",
        "  if sum_val >=90:\n",
        "    grade = \"A\"\n",
        "  elif sum_val >=80:\n",
        "    grade = \"B\"\n",
        "  elif sum_val >=70:\n",
        "    grade = \"C\"\n",
        "  else:\n",
        "    grade = \"D\"\n",
        "  if score[1] < 5:\n",
        "    grade = \"F\"\n",
        "  ws.cell(row=idx,column=9).value=grade #9번컬럼(I)에 grade입력\n",
        " "
      ],
      "execution_count": 25,
      "outputs": []
    },
    {
      "cell_type": "code",
      "metadata": {
        "id": "OKSImL1IJSWW"
      },
      "source": [
        "wb.save(\"scores.xlsx\")"
      ],
      "execution_count": 26,
      "outputs": []
    }
  ]
}