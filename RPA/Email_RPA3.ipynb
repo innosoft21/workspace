{
  "nbformat": 4,
  "nbformat_minor": 0,
  "metadata": {
    "colab": {
      "name": "Email_RPA3.ipynb",
      "provenance": [],
      "authorship_tag": "ABX9TyOdxMSJIr8i3gxxMEORuMhY",
      "include_colab_link": true
    },
    "kernelspec": {
      "name": "python3",
      "display_name": "Python 3"
    },
    "language_info": {
      "name": "python"
    }
  },
  "cells": [
    {
      "cell_type": "markdown",
      "metadata": {
        "id": "view-in-github",
        "colab_type": "text"
      },
      "source": [
        "<a href=\"https://colab.research.google.com/github/innosoft21/workspace/blob/main/RPA/Email_RPA3.ipynb\" target=\"_parent\"><img src=\"https://colab.research.google.com/assets/colab-badge.svg\" alt=\"Open In Colab\"/></a>"
      ]
    },
    {
      "cell_type": "markdown",
      "metadata": {
        "id": "ijBaqYPaLsmQ"
      },
      "source": [
        "email 자동화 3. Search"
      ]
    },
    {
      "cell_type": "code",
      "metadata": {
        "id": "h_ra4UKlIyug"
      },
      "source": [
        "from imap_tools import MailBox\n",
        "from account import *"
      ],
      "execution_count": 3,
      "outputs": []
    },
    {
      "cell_type": "code",
      "metadata": {
        "id": "zw0IBazLk_Ba"
      },
      "source": [
        "# mailbox = MailBox(\"imap.gmail.com\", 993)\n",
        "# mailbox.login(EMAIL_ADDRESS, EMAIL_PASSWORD, initial_folder=\"INBOX\")\n",
        "# mailbox.logout()\n",
        "\n",
        "with MailBox(\"imap.gmail.com\", 993).login(EMAIL_ADDRESS, EMAIL_PASSWORD, initial_folder=\"INBOX\") as mailbox:\n",
        "    # 전체 메일 다 가져오기\n",
        "    # for msg in mailbox.fetch():\n",
        "    #     print(\"[{}] {}\".format(msg.from_, msg.subject))\n",
        "\n",
        "    # 읽지 않은 메일 가져오기\n",
        "    # for msg in mailbox.fetch('(UNSEEN)'):\n",
        "    #     print(\"[{}] {}\".format(msg.from_, msg.subject))\n",
        "\n",
        "    # 특정인이 보낸 메일 가져오기\n",
        "    # for msg in mailbox.fetch('(FROM nadocoding@gmail.com)', limit=3, reverse=True):\n",
        "    #     print(\"[{}] {}\".format(msg.from_, msg.subject))\n",
        "\n",
        "    # 작은 따옴표로 먼저 감싸고, 실제 TEXT 부분은 큰 따옴표로 감싸주세요\n",
        "    # 어떤 글자를 포함하는 메일 (제목, 본문)\n",
        "    # for msg in mailbox.fetch('(TEXT \"test mail\")'):\n",
        "    #     print(\"[{}] {}\".format(msg.from_, msg.subject))\n",
        "\n",
        "    # 어떤 글자를 포함하는 메일 (제목만)\n",
        "    #for msg in mailbox.fetch('(SUBJECT \"test mail\")'):\n",
        "    #    print(\"[{}] {}\".format(msg.from_, msg.subject))\n",
        "    \n",
        "    # 어떤 글자(한글)을 포함하는 메일 필터링 (제목만)\n",
        "    # for msg in mailbox.fetch(limit=5, reverse=True):\n",
        "    #     if \"테스트\" in msg.subject:\n",
        "    #         print(\"[{}] {}\".format(msg.from_, msg.subject))\n",
        "\n",
        "    # 특정 날짜 이후의 메일\n",
        "    # for msg in mailbox.fetch('(SENTSINCE 07-Nov-2020)', reverse=True, limit=5):\n",
        "    #     print(\"[{}] {}\".format(msg.from_, msg.subject))\n",
        "    \n",
        "    # 특정 날짜에 온 메일\n",
        "    # for msg in mailbox.fetch('(ON 07-Nov-2020)', reverse=True, limit=5): \n",
        "    #     print(\"[{}] {}\".format(msg.from_, msg.subject))\n",
        "\n",
        "    # 2가지 이상의 조건을 모두 만족하는 메일 (그리고 조건)\n",
        "    # for msg in mailbox.fetch('(ON 07-Nov-2020 SUBJECT \"test mail\")', reverse=True, limit=5): \n",
        "    #     print(\"[{}] {}\".format(msg.from_, msg.subject))\n",
        "\n",
        "    # 2가지 이상의 조건 중 하나라도 만족하는 메일 (또는 조건)\n",
        "    for msg in mailbox.fetch('(OR ON 07-Nov-2020 SUBJECT \"test mail\")', reverse=True, limit=5): \n",
        "        print(\"[{}] {}\".format(msg.from_, msg.subject))"
      ],
      "execution_count": null,
      "outputs": []
    }
  ]
}