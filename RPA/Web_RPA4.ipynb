{
  "nbformat": 4,
  "nbformat_minor": 0,
  "metadata": {
    "colab": {
      "name": "Web_RPA4.ipynb",
      "provenance": [],
      "authorship_tag": "ABX9TyNqSkAZ6tWqPzGfANfohw6S",
      "include_colab_link": true
    },
    "kernelspec": {
      "name": "python3",
      "display_name": "Python 3"
    },
    "language_info": {
      "name": "python"
    }
  },
  "cells": [
    {
      "cell_type": "markdown",
      "metadata": {
        "id": "view-in-github",
        "colab_type": "text"
      },
      "source": [
        "<a href=\"https://colab.research.google.com/github/innosoft21/workspace/blob/main/RPA/Web_RPA4.ipynb\" target=\"_parent\"><img src=\"https://colab.research.google.com/assets/colab-badge.svg\" alt=\"Open In Colab\"/></a>"
      ]
    },
    {
      "cell_type": "markdown",
      "metadata": {
        "id": "ijBaqYPaLsmQ"
      },
      "source": [
        "웹 자동화 4. Radio Button, Checkbox"
      ]
    },
    {
      "cell_type": "code",
      "metadata": {
        "id": "h_ra4UKlIyug"
      },
      "source": [
        "# Press Shift+F10 to execute it or replace it with your code.\n",
        "# Press Double Shift to search everywhere for classes, files, tool windows, actions, and settings."
      ],
      "execution_count": null,
      "outputs": []
    },
    {
      "cell_type": "code",
      "metadata": {
        "id": "slCkYEU7fy8-"
      },
      "source": [
        "from selenium import webdriver"
      ],
      "execution_count": null,
      "outputs": []
    },
    {
      "cell_type": "code",
      "metadata": {
        "id": "pzTU0zKvfZoX"
      },
      "source": [
        "def print_hi(name):\n",
        "    # Use a breakpoint in the code line below to debug your script.\n",
        "    print(f'Hi, {name}')  # Press Ctrl+F8 to toggle the breakpoint."
      ],
      "execution_count": null,
      "outputs": []
    },
    {
      "cell_type": "code",
      "metadata": {
        "id": "d2kbHRqLgspD"
      },
      "source": [
        "# Press the green button in the gutter to run the script.\n",
        "if __name__ == '__main__':\n",
        "    print_hi('PyCharm')\n",
        "\n",
        "# See PyCharm help at https://www.jetbrains.com/help/pycharm/"
      ],
      "execution_count": null,
      "outputs": []
    },
    {
      "cell_type": "markdown",
      "metadata": {
        "id": "8EkHPWlRg6l2"
      },
      "source": [
        "Checkbox"
      ]
    },
    {
      "cell_type": "code",
      "metadata": {
        "id": "s5PUxWMTg3yZ"
      },
      "source": [
        "import time\n",
        "from selenium import webdriver\n",
        "from selenium.webdriver.common.by import By"
      ],
      "execution_count": null,
      "outputs": []
    },
    {
      "cell_type": "code",
      "metadata": {
        "id": "K59eY-Aqg_tW"
      },
      "source": [
        "browser = webdriver.Chrome()\n",
        "browser.maximize_window()\n",
        "\n",
        "browser.get('https://www.w3schools.com/tags/tryit.asp?filename=tryhtml5_input_type_checkbox')\n",
        "\n",
        "browser.switch_to.frame('iframeResult')\n",
        "\n",
        "#elem = browser.find_element_by_xpath('//*[@id=\"vehicle1\"]')\n",
        "#elem = browser.find_element(By.XPATH, '//*[@id=\"vehicle1\"]')\n",
        "elem = browser.find_element(By.ID, 'vehicle1')\n",
        "\n",
        "time.sleep(5)\n",
        "\n",
        "if elem.is_selected() == False:\n",
        "    print(\"선택 안되어 있으므로 선택\")\n",
        "    elem.click()\n",
        "else:\n",
        "    print(\"선택 되어 있으므로 아무것도 안함\")\n",
        "\n",
        "time.sleep(5)\n",
        "browser.quit()"
      ],
      "execution_count": null,
      "outputs": []
    }
  ]
}