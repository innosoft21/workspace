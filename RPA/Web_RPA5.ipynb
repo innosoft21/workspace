{
  "nbformat": 4,
  "nbformat_minor": 0,
  "metadata": {
    "colab": {
      "name": "Web_RPA5.ipynb",
      "provenance": [],
      "authorship_tag": "ABX9TyPyEiblLIE83JOVOhclF6QX",
      "include_colab_link": true
    },
    "kernelspec": {
      "name": "python3",
      "display_name": "Python 3"
    },
    "language_info": {
      "name": "python"
    }
  },
  "cells": [
    {
      "cell_type": "markdown",
      "metadata": {
        "id": "view-in-github",
        "colab_type": "text"
      },
      "source": [
        "<a href=\"https://colab.research.google.com/github/innosoft21/workspace/blob/main/RPA/Web_RPA5.ipynb\" target=\"_parent\"><img src=\"https://colab.research.google.com/assets/colab-badge.svg\" alt=\"Open In Colab\"/></a>"
      ]
    },
    {
      "cell_type": "markdown",
      "metadata": {
        "id": "ijBaqYPaLsmQ"
      },
      "source": [
        "웹 자동화 5. select option, page scroll"
      ]
    },
    {
      "cell_type": "code",
      "metadata": {
        "id": "h_ra4UKlIyug"
      },
      "source": [
        "import time\n",
        "from selenium import webdriver"
      ],
      "execution_count": null,
      "outputs": []
    },
    {
      "cell_type": "code",
      "metadata": {
        "id": "pzTU0zKvfZoX"
      },
      "source": [
        "browser = webdriver.Chrome()\n",
        "browser.get('https://www.w3schools.com/tags/tryit.asp?filename=tryhtml_option')\n",
        "\n",
        "browser.switch_to.frame('iframeResult')\n",
        "\n",
        "# cars 에 해당하는 element 를 찾고, 드롭다운 내부에 있는 4번째 옵션을 선택\n",
        "# elem = browser.find_element_by_xpath('//*[@id=\"cars\"]/option[4]')\n",
        "# option[1] : 첫번째 항목 \n",
        "# option[2] : 두번째 항목 \n",
        "# ...\n",
        "# elem.click()\n",
        "\n",
        "time.sleep(5)\n",
        "\n",
        "# 완전히 일치하는 텍스트 값을 통해서 선택하는 방법\n",
        "# 옵션 중에서 텍스트가 Audi 인 항목을 선택\n",
        "# elem = browser.find_element_by_xpath('//*[@id=\"cars\"]/option[text()=\"Audi\"]')\n",
        "# elem.click()\n",
        "\n",
        "# 텍스트 값이 부분 일치하는 항목 선택하는 방법\n",
        "elem = browser.find_element_by_xpath('//*[@id=\"cars\"]/option[contains(text(), \"Au\")]')\n",
        "elem.click()\n",
        "\n",
        "time.sleep(5)\n",
        "\n",
        "browser.quit()"
      ],
      "execution_count": null,
      "outputs": []
    },
    {
      "cell_type": "markdown",
      "metadata": {
        "id": "8EkHPWlRg6l2"
      },
      "source": [
        "page scroll"
      ]
    },
    {
      "cell_type": "code",
      "metadata": {
        "id": "s5PUxWMTg3yZ"
      },
      "source": [
        "import time\n",
        "from selenium import webdriver\n",
        "from selenium.webdriver.common.keys import Keys"
      ],
      "execution_count": null,
      "outputs": []
    },
    {
      "cell_type": "code",
      "metadata": {
        "id": "K59eY-Aqg_tW"
      },
      "source": [
        "browser = webdriver.Chrome()\n",
        "browser.maximize_window()\n",
        "\n",
        "browser.get('https://shopping.naver.com/home/p/index.nhn')\n",
        "\n",
        "# '무선마우스' 입력\n",
        "elem = browser.find_element_by_xpath('//*[@id=\"autocompleteWrapper\"]/input[1]')\n",
        "elem.send_keys('무선마우스')\n",
        "\n",
        "time.sleep(1)\n",
        "\n",
        "elem.send_keys(Keys.ENTER) # 검색 버튼 클릭을 위해 Enter 처리\n",
        "\n",
        "# 스크롤\n",
        "# 지정한 위치로 스크롤 내리기\n",
        "# 모니터 (해상도) 높이인 1080 위치로 스크롤 내리기\n",
        "# browser.execute_script('window.scrollTo(0, 1080)') # 1920 * 1080 (모니터 해상도)\n",
        "# browser.execute_script('window.scrollTo(0, 2080)')\n",
        "\n",
        "# 화면 가장 아래로 스크롤 내리기\n",
        "# browser.execute_script('window.scrollTo(0, document.body.scrollHeight)')\n",
        "\n",
        "\n",
        "# 동적 페이지에 대해서 마지막까지 스크롤 반복 수행\n",
        "interval = 2 # 2초에 한번씩 스크롤 내리기\n",
        "\n",
        "# 현재 문서 높이를 가져와서 저장\n",
        "prev_height = browser.execute_script('return document.body.scrollHeight')\n",
        "\n",
        "# 반복 수행\n",
        "while True:\n",
        "    # 스크롤을 화면 가장 아래로 내림\n",
        "    browser.execute_script('window.scrollTo(0, document.body.scrollHeight)')\n",
        "\n",
        "    # 페이지 로딩 대기 (2초)\n",
        "    time.sleep(interval)\n",
        "\n",
        "    # 현재 문서 높이 가져와서 저장\n",
        "    curr_height = browser.execute_script('return document.body.scrollHeight')\n",
        "    if curr_height == prev_height: # 직전 높이와 같으면, 높이 변화가 없으면\n",
        "        break # 반복문 탈출 (모든 스크롤 동작 완료)\n",
        "\n",
        "    prev_height = curr_height\n",
        "\n",
        "# 맨 위로 올리기\n",
        "browser.execute_script('window.scrollTo(0, 0)')\n",
        "\n",
        "time.sleep(5)\n",
        "browser.quit()"
      ],
      "execution_count": null,
      "outputs": []
    }
  ]
}