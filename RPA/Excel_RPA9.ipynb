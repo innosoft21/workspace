{
  "nbformat": 4,
  "nbformat_minor": 0,
  "metadata": {
    "colab": {
      "name": "Excel_RPA9.ipynb",
      "provenance": [],
      "authorship_tag": "ABX9TyOq3URrXSXtLJSIXZV+H71A",
      "include_colab_link": true
    },
    "kernelspec": {
      "name": "python3",
      "display_name": "Python 3"
    },
    "language_info": {
      "name": "python"
    }
  },
  "cells": [
    {
      "cell_type": "markdown",
      "metadata": {
        "id": "view-in-github",
        "colab_type": "text"
      },
      "source": [
        "<a href=\"https://colab.research.google.com/github/innosoft21/workspace/blob/main/RPA/Excel_RPA9.ipynb\" target=\"_parent\"><img src=\"https://colab.research.google.com/assets/colab-badge.svg\" alt=\"Open In Colab\"/></a>"
      ]
    },
    {
      "cell_type": "markdown",
      "metadata": {
        "id": "zAzJgTSYvwMQ"
      },
      "source": [
        "RPA 엑셀자동화 9. 차트만들기\n",
        "\n",
        "BarChart(), LineChart()\n",
        "\n",
        "다양한 차트 보기\n",
        "\n",
        "https://openpyxl.readthedocs.io/en/stable/charts/introduction.html"
      ]
    },
    {
      "cell_type": "code",
      "metadata": {
        "id": "OEbVscHFtOWW"
      },
      "source": [
        "from openpyxl import load_workbook\n",
        "\n",
        "wb=load_workbook(\"sample.xlsx\")\n",
        "ws=wb.active #현재활성화된 sheet가져옴"
      ],
      "execution_count": 23,
      "outputs": []
    },
    {
      "cell_type": "code",
      "metadata": {
        "id": "ntJh9G4M51cl"
      },
      "source": [
        "from openpyxl.chart import BarChart, Reference, LineChart\n",
        "#B2~C11데이터 가져오기\n",
        "bar_value=Reference(ws,min_row=2,max_row=11,min_col=2,max_col=3)\n",
        "bar_chart=BarChart() #차트종류는 barchart\n",
        "bar_chart.add_data(bar_value) #데이터 추가\n",
        "\n",
        "ws.add_chart(bar_chart, \"E1\") #chart넣을 위치 지정\n",
        "\n",
        "wb.save(\"sample_chart.xlsx\")"
      ],
      "execution_count": 24,
      "outputs": []
    },
    {
      "cell_type": "code",
      "metadata": {
        "id": "WeAa-R0R8X1C"
      },
      "source": [
        "from openpyxl.chart import BarChart, Reference\n",
        "#B2~C11데이터 가져오기\n",
        "line_value=Reference(ws,min_row=2,max_row=11,min_col=2,max_col=3)\n",
        "line_chart=LineChart() #차트종류는 line chart\n",
        "line_chart.add_data(line_value, titles_from_data=True) #데이터 추가\n",
        "line_chart.title=\"성적표\"\n",
        "line_chart.style=10 #스타일번호\n",
        "line_chart.y_axis.title = \"점수\"\n",
        "line_chart.x_axis.title = \"번호\"\n",
        "ws.add_chart(line_chart, \"E1\") #chart넣을 위치 지정\n",
        "\n",
        "wb.save(\"sample_chart.xlsx\")"
      ],
      "execution_count": 25,
      "outputs": []
    }
  ]
}