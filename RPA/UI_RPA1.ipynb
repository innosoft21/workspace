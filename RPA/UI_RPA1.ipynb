{
  "nbformat": 4,
  "nbformat_minor": 0,
  "metadata": {
    "colab": {
      "name": "UI_RPA1.ipynb",
      "provenance": [],
      "authorship_tag": "ABX9TyNQNYq7fOhdluKhSQj+4GKn",
      "include_colab_link": true
    },
    "kernelspec": {
      "name": "python3",
      "display_name": "Python 3"
    },
    "language_info": {
      "name": "python"
    }
  },
  "cells": [
    {
      "cell_type": "markdown",
      "metadata": {
        "id": "view-in-github",
        "colab_type": "text"
      },
      "source": [
        "<a href=\"https://colab.research.google.com/github/innosoft21/workspace/blob/main/RPA/UI_RPA1.ipynb\" target=\"_parent\"><img src=\"https://colab.research.google.com/assets/colab-badge.svg\" alt=\"Open In Colab\"/></a>"
      ]
    },
    {
      "cell_type": "markdown",
      "metadata": {
        "id": "gUv_ry63ogGd"
      },
      "source": [
        "데스크탑 UI 자동화 1. 마우스 자동입력\n",
        "\n",
        "마우스 커서 이동, 더블클릭, 좌측우측미들 버튼 클릭\n",
        "\n",
        "마우스 드래그"
      ]
    },
    {
      "cell_type": "code",
      "metadata": {
        "id": "mkyGRKq2ofsb"
      },
      "source": [
        "# pip install pyautogui 설치 후 import진행\n",
        "\n",
        "import pyautogui"
      ],
      "execution_count": null,
      "outputs": []
    },
    {
      "cell_type": "code",
      "metadata": {
        "id": "S_HgMAW1ox1a"
      },
      "source": [
        "#절대좌표\n",
        "pyautogui.moveTo(200,100)\n",
        "pyautogui.moveTo(100,200, duration=5)"
      ],
      "execution_count": null,
      "outputs": []
    },
    {
      "cell_type": "code",
      "metadata": {
        "id": "rx4pvSMVo1ml"
      },
      "source": [
        "#상대좌표, 현재 커서가 있는 위치에서 부터\n",
        "pyautogui.moveTo(100,100, duration=0.25)\n",
        "print(pyautogui.position())\n",
        "pyautogui.move(100,100,duration=0.25)\n",
        "print(pyautogui.position())\n",
        "pyautogui.move(100,100,duration=0.25)\n",
        "print(pyautogui.position())\n",
        "\n",
        "p=pyautogui.position()\n",
        "print(p[0],p[1])\n",
        "print(p.x,p.y)"
      ],
      "execution_count": null,
      "outputs": []
    },
    {
      "cell_type": "code",
      "metadata": {
        "id": "QlxtF-W2o6YH"
      },
      "source": [
        "#위치 확인하기\n",
        "pyautogui.sleep(3)\n",
        "print(pyautogui.position())"
      ],
      "execution_count": null,
      "outputs": []
    },
    {
      "cell_type": "code",
      "metadata": {
        "id": "34z4YQoRpBii"
      },
      "source": [
        "pyautogui.click(64.17,duration=1) #1초동안 좌표로 이동하여 클릭\n",
        "# pyautogui.click() = pyautogui.mouseDown() +pyautogui.mouseUp()\n",
        "# pyautogui.doubleClick() = pyautogui.click(clicks=2), clicks=500회도 가능함"
      ],
      "execution_count": null,
      "outputs": []
    },
    {
      "cell_type": "code",
      "metadata": {
        "id": "qBW9-Bo0pFY0"
      },
      "source": [
        "#마우스 드래그\n",
        "pyautogui.moveTo(100,100)\n",
        "pyautogui.mouseDown()\n",
        "pyautogui.moveTo(200,300)\n",
        "pyautogui.mouseUp()\n",
        "\n",
        "pyautogui.moveTo(114,349)\n",
        "pyautogui.drag(100,0,duration=0.25) #상대좌표 이동\n",
        "pyautogui.dragTo(1514,349,duration=0.25) #절대좌표로 이동"
      ],
      "execution_count": null,
      "outputs": []
    },
    {
      "cell_type": "code",
      "metadata": {
        "id": "FQyHrrNapIZo"
      },
      "source": [
        "#pyautogui.rightClick(), pyautogui.middleClick()"
      ],
      "execution_count": null,
      "outputs": []
    },
    {
      "cell_type": "code",
      "metadata": {
        "id": "YkzUtzVUpOm4"
      },
      "source": [
        "pyautogui.scroll(300) # 윗방향으로 300만큼 스크롤"
      ],
      "execution_count": null,
      "outputs": []
    }
  ]
}