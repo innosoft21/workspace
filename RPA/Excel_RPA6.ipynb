{
  "nbformat": 4,
  "nbformat_minor": 0,
  "metadata": {
    "colab": {
      "name": "Excel_RPA6.ipynb",
      "provenance": [],
      "authorship_tag": "ABX9TyMlmQvaGnRqxz933r2yjYwO",
      "include_colab_link": true
    },
    "kernelspec": {
      "name": "python3",
      "display_name": "Python 3"
    },
    "language_info": {
      "name": "python"
    }
  },
  "cells": [
    {
      "cell_type": "markdown",
      "metadata": {
        "id": "view-in-github",
        "colab_type": "text"
      },
      "source": [
        "<a href=\"https://colab.research.google.com/github/innosoft21/workspace/blob/main/RPA/Excel_RPA6.ipynb\" target=\"_parent\"><img src=\"https://colab.research.google.com/assets/colab-badge.svg\" alt=\"Open In Colab\"/></a>"
      ]
    },
    {
      "cell_type": "markdown",
      "metadata": {
        "id": "zAzJgTSYvwMQ"
      },
      "source": [
        "RPA 엑셀자동화 6. ws.iter_rows활용하기\n",
        "\n",
        "원하는 값찾기\n",
        "\n",
        "컬럼 이름 바꾸기"
      ]
    },
    {
      "cell_type": "code",
      "metadata": {
        "id": "OEbVscHFtOWW"
      },
      "source": [
        "from openpyxl import load_workbook\n",
        "\n",
        "wb=load_workbook(\"sample.xlsx\")\n",
        "ws=wb.active #현재활성화된 sheet가져옴"
      ],
      "execution_count": 3,
      "outputs": []
    },
    {
      "cell_type": "code",
      "metadata": {
        "colab": {
          "base_uri": "https://localhost:8080/"
        },
        "id": "Hm-hriHptfHS",
        "outputId": "3bfee5f3-f998-4f42-e962-35caf01f5983"
      },
      "source": [
        "for row in ws.iter_rows(min_row=2):\n",
        "  if int(row[1].value)>90:\n",
        "      print(row[0].value, \"번 학생은 영어 천재입니다.\")"
      ],
      "execution_count": 5,
      "outputs": [
        {
          "output_type": "stream",
          "text": [
            "7 번 학생은 영어 천재입니다.\n"
          ],
          "name": "stdout"
        }
      ]
    },
    {
      "cell_type": "code",
      "metadata": {
        "id": "WDEX3T7Fuv8x"
      },
      "source": [
        "for row in ws.iter_rows(max_row=1):\n",
        "  for cell in row:\n",
        "    if cell.value ==\"영어\":\n",
        "       cell.value=\"컴퓨터\"\n",
        "wb.save(\"sample_modified.xlsx\")"
      ],
      "execution_count": 9,
      "outputs": []
    }
  ]
}