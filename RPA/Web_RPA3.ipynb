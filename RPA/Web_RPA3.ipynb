{
  "nbformat": 4,
  "nbformat_minor": 0,
  "metadata": {
    "colab": {
      "name": "Web_RPA3.ipynb",
      "provenance": [],
      "authorship_tag": "ABX9TyMKvNaAKfS0CMelG0yrWyeI",
      "include_colab_link": true
    },
    "kernelspec": {
      "name": "python3",
      "display_name": "Python 3"
    },
    "language_info": {
      "name": "python"
    }
  },
  "cells": [
    {
      "cell_type": "markdown",
      "metadata": {
        "id": "view-in-github",
        "colab_type": "text"
      },
      "source": [
        "<a href=\"https://colab.research.google.com/github/innosoft21/workspace/blob/main/RPA/Web_RPA3.ipynb\" target=\"_parent\"><img src=\"https://colab.research.google.com/assets/colab-badge.svg\" alt=\"Open In Colab\"/></a>"
      ]
    },
    {
      "cell_type": "markdown",
      "metadata": {
        "id": "ijBaqYPaLsmQ"
      },
      "source": [
        "웹 자동화 3. iframe"
      ]
    },
    {
      "cell_type": "code",
      "metadata": {
        "id": "h_ra4UKlIyug"
      },
      "source": [
        "##pip install selenium 설치\n",
        "##ChromeDriver 다운로드"
      ],
      "execution_count": null,
      "outputs": []
    },
    {
      "cell_type": "code",
      "metadata": {
        "id": "slCkYEU7fy8-"
      },
      "source": [
        "import time\n",
        "from selenium import webdriver"
      ],
      "execution_count": null,
      "outputs": []
    },
    {
      "cell_type": "code",
      "metadata": {
        "id": "pzTU0zKvfZoX"
      },
      "source": [
        "browser = webdriver.Chrome()\n",
        "\n",
        "browser.get('https://www.w3schools.com/tags/tryit.asp?filename=tryhtml5_input_type_radio')\n",
        "\n",
        "browser.switch_to.frame('iframeResult') # frame 전환\n",
        "\n",
        "elem = browser.find_element_by_xpath('//*[@id=\"male\"]') # 성공\n",
        "\n",
        "elem.click()\n",
        "\n",
        "browser.switch_to.default_content() # 상위로 빠져 나옴\n",
        "\n",
        "elem = browser.find_element_by_xpath('//*[@id=\"male\"]') # 실패\n",
        "\n",
        "elem.click()\n",
        "\n",
        "time.sleep(5) # 5초 대기\n",
        "\n",
        "browser.quit()\n",
        "\n",
        "#//*[@id=\"male\"]"
      ],
      "execution_count": null,
      "outputs": []
    },
    {
      "cell_type": "markdown",
      "metadata": {
        "id": "iIimcTkdPyHc"
      },
      "source": [
        ""
      ]
    }
  ]
}