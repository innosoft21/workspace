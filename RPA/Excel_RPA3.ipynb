{
  "nbformat": 4,
  "nbformat_minor": 0,
  "metadata": {
    "colab": {
      "name": "Excel_RPA3.ipynb",
      "provenance": [],
      "toc_visible": true,
      "authorship_tag": "ABX9TyO7qT7B/QwCqskoSFynislI",
      "include_colab_link": true
    },
    "kernelspec": {
      "name": "python3",
      "display_name": "Python 3"
    },
    "language_info": {
      "name": "python"
    }
  },
  "cells": [
    {
      "cell_type": "markdown",
      "metadata": {
        "id": "view-in-github",
        "colab_type": "text"
      },
      "source": [
        "<a href=\"https://colab.research.google.com/github/innosoft21/workspace/blob/main/RPA/Excel_RPA3.ipynb\" target=\"_parent\"><img src=\"https://colab.research.google.com/assets/colab-badge.svg\" alt=\"Open In Colab\"/></a>"
      ]
    },
    {
      "cell_type": "markdown",
      "metadata": {
        "id": "GXJl6Ly4TdXQ"
      },
      "source": [
        "RPA 엑셀자동화 3. excel파일 불러와서 저장된 모든 값 출력하기"
      ]
    },
    {
      "cell_type": "code",
      "metadata": {
        "id": "Xbzt1pkpMnEi"
      },
      "source": [
        "from openpyxl import load_workbook\n",
        "wb=load_workbook(\"sample.xlsx\") #excel파일 불러오기\n",
        "ws=wb.active #현재활성화된 sheet가져옴"
      ],
      "execution_count": 2,
      "outputs": []
    },
    {
      "cell_type": "code",
      "metadata": {
        "colab": {
          "base_uri": "https://localhost:8080/"
        },
        "id": "Hxt6ezLTYQYE",
        "outputId": "0cc330fb-40fa-416a-edfa-1cac0e980cdb"
      },
      "source": [
        "for x in range(1,11):\n",
        "  for y in range(1,11):\n",
        "    print(ws.cell(row=x, column=y).value, end=\" \")\n",
        "  print()"
      ],
      "execution_count": 3,
      "outputs": [
        {
          "output_type": "stream",
          "text": [
            "0 1 2 3 4 5 6 7 8 9 \n",
            "10 11 12 13 14 15 16 17 18 19 \n",
            "20 21 22 23 24 25 26 27 28 29 \n",
            "30 31 32 33 34 35 36 37 38 39 \n",
            "40 41 42 43 44 45 46 47 48 49 \n",
            "50 51 52 53 54 55 56 57 58 59 \n",
            "60 61 62 63 64 65 66 67 68 69 \n",
            "70 71 72 73 74 75 76 77 78 79 \n",
            "80 81 82 83 84 85 86 87 88 89 \n",
            "90 91 92 93 94 95 96 97 98 99 \n"
          ],
          "name": "stdout"
        }
      ]
    },
    {
      "cell_type": "code",
      "metadata": {
        "colab": {
          "base_uri": "https://localhost:8080/"
        },
        "id": "9iEJRrDIaXXp",
        "outputId": "30c28cd3-a3d9-4d20-dd68-cdbde2551d52"
      },
      "source": [
        "# cell갯수를 모를때\n",
        "for x in range(1,ws.max_row+1):\n",
        "  for y in range(1,ws.max_column+1):\n",
        "    print(ws.cell(row=x, column=y).value, end=\" \")\n",
        "  print()"
      ],
      "execution_count": 5,
      "outputs": [
        {
          "output_type": "stream",
          "text": [
            "0 1 2 3 4 5 6 7 8 9 \n",
            "10 11 12 13 14 15 16 17 18 19 \n",
            "20 21 22 23 24 25 26 27 28 29 \n",
            "30 31 32 33 34 35 36 37 38 39 \n",
            "40 41 42 43 44 45 46 47 48 49 \n",
            "50 51 52 53 54 55 56 57 58 59 \n",
            "60 61 62 63 64 65 66 67 68 69 \n",
            "70 71 72 73 74 75 76 77 78 79 \n",
            "80 81 82 83 84 85 86 87 88 89 \n",
            "90 91 92 93 94 95 96 97 98 99 \n"
          ],
          "name": "stdout"
        }
      ]
    }
  ]
}