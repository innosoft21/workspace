{
  "nbformat": 4,
  "nbformat_minor": 0,
  "metadata": {
    "colab": {
      "name": "Web_RPA7.ipynb",
      "provenance": [],
      "authorship_tag": "ABX9TyPeuS2DT6ddejNuWra8g0Ni",
      "include_colab_link": true
    },
    "kernelspec": {
      "name": "python3",
      "display_name": "Python 3"
    },
    "language_info": {
      "name": "python"
    }
  },
  "cells": [
    {
      "cell_type": "markdown",
      "metadata": {
        "id": "view-in-github",
        "colab_type": "text"
      },
      "source": [
        "<a href=\"https://colab.research.google.com/github/innosoft21/workspace/blob/main/RPA/Web_RPA7.ipynb\" target=\"_parent\"><img src=\"https://colab.research.google.com/assets/colab-badge.svg\" alt=\"Open In Colab\"/></a>"
      ]
    },
    {
      "cell_type": "markdown",
      "metadata": {
        "id": "ijBaqYPaLsmQ"
      },
      "source": [
        "웹 자동화 7. handle"
      ]
    },
    {
      "cell_type": "code",
      "metadata": {
        "id": "h_ra4UKlIyug"
      },
      "source": [
        "import time\n",
        "from selenium import webdriver"
      ],
      "execution_count": 3,
      "outputs": []
    },
    {
      "cell_type": "code",
      "metadata": {
        "id": "pzTU0zKvfZoX"
      },
      "source": [
        "browser = webdriver.Chrome()\n",
        "browser.maximize_window()\n",
        "\n",
        "browser.get('https://www.w3schools.com/tags/att_input_type_radio.asp')\n",
        "curr_handle = browser.current_window_handle\n",
        "print(curr_handle) # 현재 윈도우 핸들 정보\n",
        "\n",
        "# Try it yourself\n",
        "browser.find_element_by_xpath('//*[@id=\"main\"]/div[2]/a').click()\n",
        "\n",
        "handles = browser.window_handles # 모든 핸들 정보\n",
        "for handle in handles:\n",
        "    print(handle) # 각 핸들 정보\n",
        "    browser.switch_to.window(handle) # 각 핸들로 이동해서\n",
        "    print(browser.title) # 출력해보면 현재 핸들 (브라우저) 의 제목 표시\n",
        "    print()\n",
        "\n",
        "# 새로 이동된 브라우저에서 뭔가 자동화 작업을 수행..\n",
        "\n",
        "# 그 브라우저를 종료\n",
        "print(\"현재 핸들 닫기\")\n",
        "browser.close() \n",
        "\n",
        "# 이전 핸들로 돌아오기\n",
        "print(\"처음 핸들로 돌아오기\")\n",
        "browser.switch_to.window(curr_handle)\n",
        "\n",
        "print(browser.title) # HTML input type=\"radio\"\n",
        "\n",
        "# 브라우저 컨트롤이 가능한지 확인\n",
        "time.sleep(5)\n",
        "browser.get('http://daum.net')\n",
        "\n",
        "time.sleep(5)\n",
        "browser.quit()"
      ],
      "execution_count": null,
      "outputs": []
    }
  ]
}