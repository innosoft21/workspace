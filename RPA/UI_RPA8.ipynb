{
  "nbformat": 4,
  "nbformat_minor": 0,
  "metadata": {
    "colab": {
      "name": "UI_RPA8.ipynb",
      "provenance": [],
      "authorship_tag": "ABX9TyP/9kz46EvZi7gapg8sWkRx",
      "include_colab_link": true
    },
    "kernelspec": {
      "name": "python3",
      "display_name": "Python 3"
    },
    "language_info": {
      "name": "python"
    }
  },
  "cells": [
    {
      "cell_type": "markdown",
      "metadata": {
        "id": "view-in-github",
        "colab_type": "text"
      },
      "source": [
        "<a href=\"https://colab.research.google.com/github/innosoft21/workspace/blob/main/RPA/UI_RPA8.ipynb\" target=\"_parent\"><img src=\"https://colab.research.google.com/assets/colab-badge.svg\" alt=\"Open In Colab\"/></a>"
      ]
    },
    {
      "cell_type": "markdown",
      "metadata": {
        "id": "gUv_ry63ogGd"
      },
      "source": [
        "데스크탑 UI 자동화 8. 파일시스템스크탑 UI 자동화 8. 파일시스템\n",
        "\n",
        "파일경로,정보가져오기\n",
        "\n",
        "파일생성,복사,rename,이동\n",
        "\n",
        "폴더 생성, 복사, rename, 이동\n",
        "\n",
        "\n"
      ]
    },
    {
      "cell_type": "code",
      "metadata": {
        "id": "mkyGRKq2ofsb"
      },
      "source": [
        "import os"
      ],
      "execution_count": null,
      "outputs": []
    },
    {
      "cell_type": "code",
      "metadata": {
        "id": "WKWJXc2hJnvI"
      },
      "source": [
        "print(os.getcwd()) # current working directory 표시\n",
        "os.chdir(\"rpa_basic\") #working directory 변경\n",
        "print(os.getcwd())\n",
        "os.chdir(\"..\") #부모폴더로 변경\n",
        "os.chdir(\"../..\") #조부모폴더로 변경\n",
        "os.chdir(\"d:/python\") #주어진 경로로 변경\n",
        "print(os.getcwd())"
      ],
      "execution_count": null,
      "outputs": []
    },
    {
      "cell_type": "code",
      "metadata": {
        "id": "MxmmEsDvrVZZ"
      },
      "source": [
        "#파일경로 만들기\n",
        "file_path = os.path.join(os.getcwd(),'my_file.txt') #경로 생성\n",
        "print(file_path)\n",
        "\n",
        "#파일경로에서 폴더 정보 가져오기\n",
        "print(os.path.dirname(r\"D:\\python\\my_file.txt\"))"
      ],
      "execution_count": null,
      "outputs": []
    },
    {
      "cell_type": "code",
      "metadata": {
        "id": "0rwjSpPwrY91"
      },
      "source": [
        "#파일 정보 가져오기\n",
        "import time\n",
        "import datetime\n",
        "\n",
        "#파일 생성 날짜\n",
        "file_path = \"d:/python/pyautogui0.py\"\n",
        "ctime = os.path.getctime(file_path)\n",
        "print(ctime)\n",
        "\n",
        "#날짜정보를 strftime을 통해서 년월일 시분초 형태로 출력\n",
        "print(datetime.datetime.fromtimestamp(ctime).strftime(\"%Y%m%d %H:%M:%S\"))"
      ],
      "execution_count": null,
      "outputs": []
    },
    {
      "cell_type": "code",
      "metadata": {
        "id": "VX9URC36rgkK"
      },
      "source": [
        "#파일의 수정 날짜\n",
        "mtime = os.path.getmtime(file_path)\n",
        "print(datetime.datetime.fromtimestamp(mtime).strftime(\"%Y%m%d %H:%M:%S\"))\n",
        "\n",
        "#파일의 마지막 접근 날짜\n",
        "atime = os.path.getatime(file_path)\n",
        "print(datetime.datetime.fromtimestamp(atime).strftime(\"%Y%m%d %H:%M:%S\"))\n",
        "\n",
        "#파일 크기\n",
        "size = os.path.getsize(file_path)\n",
        "print(size) #바이트 단위로 표시"
      ],
      "execution_count": null,
      "outputs": []
    },
    {
      "cell_type": "code",
      "metadata": {
        "id": "H9oJyX1Erja5"
      },
      "source": [
        "#파일목록 가져오기 , 하위폴더 포함\n",
        "result = os.walk(\"rpa_basic\")\n",
        "print(result)\n",
        "\n",
        "for root, dirs, files in result:\n",
        "    print(root, dirs, files)"
      ],
      "execution_count": null,
      "outputs": []
    },
    {
      "cell_type": "code",
      "metadata": {
        "id": "J4pdlpumrmCd"
      },
      "source": [
        "#폴더 내 특정 파일들만 찾을때\n",
        "name = \"pyautogui0.py\"\n",
        "result = []\n",
        "for root, dirs, files in os.walk(\".\"):\n",
        "    if name in files:\n",
        "        result.append(os.path.join(root,name))\n",
        "print(result)"
      ],
      "execution_count": null,
      "outputs": []
    },
    {
      "cell_type": "code",
      "metadata": {
        "id": "pgnt5zB8roMZ"
      },
      "source": [
        "#폴더내 특정 패턴있는 파일 가져올때 예) *.xlsx, *.txt...\n",
        "import fnmatch\n",
        "pattern = \"*.py\"\n",
        "result = []\n",
        "for root, dirs, files in os.walk(\".\"):\n",
        "    for name in files:\n",
        "        if fnmatch.fnmatch(name, pattern):\n",
        "            result.append(os.path.join(root, name))\n",
        "print(result)"
      ],
      "execution_count": null,
      "outputs": []
    },
    {
      "cell_type": "code",
      "metadata": {
        "id": "uCaOtKNyrqrA"
      },
      "source": [
        "#주어진 경로가 파일인지 폴더인지\n",
        "print(os.path.isdir(\"rpa_basic\"))\n",
        "print(os.path.isfile(\"rpa_basic\"))\n",
        "\n",
        "#주어진 경로가 존재하는가\n",
        "if os.path.exists(\"rpa_basic\"):\n",
        "    print(\"파일또는 폴더가 존재합니다.\")\n",
        "else:\n",
        "    print(\"존재하지 않습니다.\")"
      ],
      "execution_count": null,
      "outputs": []
    },
    {
      "cell_type": "code",
      "metadata": {
        "id": "b-Dohk9rruny"
      },
      "source": [
        "#파일만들기\n",
        "open(\"my_file.txt\",\"a\").close() #빈 새로운 파일 생성\n",
        "\n",
        "#파일명 변경하기\n",
        "os.name(\"my_file.txt\",\"new_file.txt\") #파일명 변경\n",
        "\n",
        "#파일 삭제\n",
        "os.remove(\"new_file.txt\")"
      ],
      "execution_count": null,
      "outputs": []
    },
    {
      "cell_type": "code",
      "metadata": {
        "id": "l4n9UzZ9rvYu"
      },
      "source": [
        "#폴더 만들기\n",
        "os.mkdir(\"new_folder\")\n",
        "os.mkdir(\"d:/python/work\")\n",
        "os.makedirs(\"new_folders/a/b/c\")\n",
        "\n",
        "#폴더 명 변경\n",
        "os.rename(\"new_folder\",\"new_dir\")\n",
        "\n",
        "#폴더 지우기\n",
        "os.rmdir(\"new_dir\") #폴더 안에 파일/폴더가 없을때 사용\n",
        "\n",
        "import shutil\n",
        "shutil.rmtree(\"new_folders\") #몽땅 삭제"
      ],
      "execution_count": null,
      "outputs": []
    },
    {
      "cell_type": "code",
      "metadata": {
        "id": "FyEt9U1vryvJ"
      },
      "source": [
        "#파일 복사하기\n",
        "shutil.copy(\"run_btn.png\",\"test_folder\") #파일선택, 폴더 선택하여 복사\n",
        "shutil.copy(\"run_btn.png\",\"test_folder/copied_run_btn.png\") #새로운이름으로 복사\n",
        "shutil.copyfile(\"run_btn.png\",\"test_folder/copied_run_btn2.png\") # 경로 지정해줘야함\n",
        "#copy, copyfile : 메타정보 복사 X, 생성날짜가 복사한 시간임.\n",
        "#copy2 : 메타정보 복사함, 생성날짜가 그대로 따라감.\n",
        "\n",
        "#폴더 복사\n",
        "shutil.copytree(\"test_folder\",\"test_folder2\")\n",
        "\n",
        "#폴더 이동\n",
        "shutil.move(\"test_folder\",\"test_folder3\") #test_folder가 test_folder3 하위로 이동됨\n",
        "shutil.move(\"test_folder\",\"test_folder_rename\") #test_folder_rename이 없는 경우 폴더이름이 변경되는 효과"
      ],
      "execution_count": null,
      "outputs": []
    }
  ]
}