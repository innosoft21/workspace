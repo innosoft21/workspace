{
  "nbformat": 4,
  "nbformat_minor": 0,
  "metadata": {
    "colab": {
      "name": "UI_RPA4.ipynb",
      "provenance": [],
      "authorship_tag": "ABX9TyNow+1f1JUcJT0jm9hlUzdd",
      "include_colab_link": true
    },
    "kernelspec": {
      "name": "python3",
      "display_name": "Python 3"
    },
    "language_info": {
      "name": "python"
    }
  },
  "cells": [
    {
      "cell_type": "markdown",
      "metadata": {
        "id": "view-in-github",
        "colab_type": "text"
      },
      "source": [
        "<a href=\"https://colab.research.google.com/github/innosoft21/workspace/blob/main/RPA/UI_RPA4.ipynb\" target=\"_parent\"><img src=\"https://colab.research.google.com/assets/colab-badge.svg\" alt=\"Open In Colab\"/></a>"
      ]
    },
    {
      "cell_type": "markdown",
      "metadata": {
        "id": "gUv_ry63ogGd"
      },
      "source": [
        "데스크탑 UI 자동화 4. Window 다루기\n",
        "\n",
        "프로그램 창 크기, 위치 정보 가져오기\n",
        "\n",
        "창 활성화, 최대화, 최소화하기"
      ]
    },
    {
      "cell_type": "code",
      "metadata": {
        "id": "mkyGRKq2ofsb"
      },
      "source": [
        "import pyautogui"
      ],
      "execution_count": null,
      "outputs": []
    },
    {
      "cell_type": "code",
      "metadata": {
        "id": "w9ITJEOJQvTM"
      },
      "source": [
        "fw=pyautogui.getActiveWindow() #현재 활성화된 창\n",
        "print(fw.title) #창 제목 정보\n",
        "print(fw.size)  #창의 크기 정보 width, height\n",
        "print(fw.left,fw.top,fw.right,fw.bottom) # 창의 좌표정보\n",
        "pyautogui.click(fw.left + 25, fw.top + 20) # 커서 클릭 위치"
      ],
      "execution_count": null,
      "outputs": []
    },
    {
      "cell_type": "code",
      "metadata": {
        "id": "WfSIs2IoQ2B1"
      },
      "source": [
        "for w in pyautogui.getAllWindows():\n",
        "    print(w) #모든 윈도우 가져오기\n",
        "\n",
        "for w in pyautogui.getWindowsWithTitle(\"제목 없음\"):\n",
        "    print(w) # 제목없음 title인 창 출력"
      ],
      "execution_count": null,
      "outputs": []
    },
    {
      "cell_type": "code",
      "metadata": {
        "id": "TW4rYL0KRCjI"
      },
      "source": [
        "w = pyautogui.getWindowsWithTitle(\"제목 없음\")[0]\n",
        "print(w)\n",
        "if w.isActive == False: #현재 활성화가 되지 않았다면\n",
        "    w.activate() #활성화 --> 맨 앞으로 가져오기\n",
        "if w.isMaximized == False: #현재 최대화가 되지 않았다면\n",
        "    w.maximize()  #최대화\n",
        "if w.isMinimized == False: # 현재 최소화가 되지 않았다면\n",
        "    w.minimize() # 최소화\n",
        "\n",
        "pyautogui.sleep(1)"
      ],
      "execution_count": null,
      "outputs": []
    },
    {
      "cell_type": "code",
      "metadata": {
        "id": "dCTqZn56RGqI"
      },
      "source": [
        "w.restore() # 화면 원복\n",
        "w.close() # 윈도우 닫기, 저장할 지 물어봄"
      ],
      "execution_count": null,
      "outputs": []
    }
  ]
}