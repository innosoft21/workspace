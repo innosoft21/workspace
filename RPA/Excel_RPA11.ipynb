{
  "nbformat": 4,
  "nbformat_minor": 0,
  "metadata": {
    "colab": {
      "name": "Excel_RPA11.ipynb",
      "provenance": [],
      "authorship_tag": "ABX9TyPwFYaL1xBxe48J7EUNoEf/",
      "include_colab_link": true
    },
    "kernelspec": {
      "name": "python3",
      "display_name": "Python 3"
    },
    "language_info": {
      "name": "python"
    }
  },
  "cells": [
    {
      "cell_type": "markdown",
      "metadata": {
        "id": "view-in-github",
        "colab_type": "text"
      },
      "source": [
        "<a href=\"https://colab.research.google.com/github/innosoft21/workspace/blob/main/RPA/Excel_RPA11.ipynb\" target=\"_parent\"><img src=\"https://colab.research.google.com/assets/colab-badge.svg\" alt=\"Open In Colab\"/></a>"
      ]
    },
    {
      "cell_type": "markdown",
      "metadata": {
        "id": "6szpU9MEBcmx"
      },
      "source": [
        "RPA 엑셀자동화 11. 수식\n",
        "\n",
        "각 cell에 수식을 입력, SUM,AVERAGE 등"
      ]
    },
    {
      "cell_type": "code",
      "metadata": {
        "id": "FcY-o9LD4wGK"
      },
      "source": [
        "import datetime\n",
        "from openpyxl import Workbook\n",
        "\n",
        "wb=Workbook()\n",
        "ws=wb.active #현재활성화된 sheet가져옴"
      ],
      "execution_count": 25,
      "outputs": []
    },
    {
      "cell_type": "code",
      "metadata": {
        "id": "36RE0wGYE-F1"
      },
      "source": [
        "ws[\"A1\"] = datetime.datetime.today()\n",
        "ws[\"A2\"] = \"=SUM(1,2,3)\" #수식 입력, 합계는 6이 들어감\n",
        "ws[\"A3\"] = \"=AVERAGE(1,2,3)\" #1,2,3의 평균값이 들어감\n",
        "ws[\"A4\"] = 20\n",
        "ws[\"A5\"] = \"=SUM(A3:A4)\" #수식을 입력"
      ],
      "execution_count": 26,
      "outputs": []
    },
    {
      "cell_type": "code",
      "metadata": {
        "id": "88WIGFVp_Wxm"
      },
      "source": [
        "wb.save(\"sample_formula.xlsx\")"
      ],
      "execution_count": 27,
      "outputs": []
    }
  ]
}