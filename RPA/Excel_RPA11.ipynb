{
  "nbformat": 4,
  "nbformat_minor": 0,
  "metadata": {
    "colab": {
      "name": "Excel_RPA11.ipynb",
      "provenance": [],
      "authorship_tag": "ABX9TyOjW0O7mq655GOHdzE1ceys",
      "include_colab_link": true
    },
    "kernelspec": {
      "name": "python3",
      "display_name": "Python 3"
    },
    "language_info": {
      "name": "python"
    }
  },
  "cells": [
    {
      "cell_type": "markdown",
      "metadata": {
        "id": "view-in-github",
        "colab_type": "text"
      },
      "source": [
        "<a href=\"https://colab.research.google.com/github/innosoft21/workspace/blob/main/RPA/Excel_RPA11.ipynb\" target=\"_parent\"><img src=\"https://colab.research.google.com/assets/colab-badge.svg\" alt=\"Open In Colab\"/></a>"
      ]
    },
    {
      "cell_type": "markdown",
      "metadata": {
        "id": "6szpU9MEBcmx"
      },
      "source": [
        "RPA 엑셀자동화 11. 수식으로 계산된 값만 불러오기\n",
        "\n",
        "data_only로 파일불러오기"
      ]
    },
    {
      "cell_type": "code",
      "metadata": {
        "id": "FcY-o9LD4wGK"
      },
      "source": [
        "from openpyxl import load_workbook\n",
        "\n",
        "wb=load_workbook(\"sample_formula.xlsx\", data_only=True) # 수식말고 값만 가져옴\n",
        "ws=wb.active #현재활성화된 sheet가져옴"
      ],
      "execution_count": 28,
      "outputs": []
    },
    {
      "cell_type": "code",
      "metadata": {
        "colab": {
          "base_uri": "https://localhost:8080/"
        },
        "id": "kzk6osQWGqhq",
        "outputId": "137c14c5-b547-4b39-9a39-5b43d10f614b"
      },
      "source": [
        "#evaluate되지않은 상태의 데이터는 none으로 표시\n",
        "for row in ws.values:\n",
        "  for cell in row:\n",
        "    print(cell)"
      ],
      "execution_count": 29,
      "outputs": [
        {
          "output_type": "stream",
          "text": [
            "2021-04-22 01:02:13.402047\n",
            "None\n",
            "None\n",
            "20\n",
            "None\n"
          ],
          "name": "stdout"
        }
      ]
    },
    {
      "cell_type": "code",
      "metadata": {
        "id": "88WIGFVp_Wxm"
      },
      "source": [
        "wb.save(\"sample_formula.xlsx\")"
      ],
      "execution_count": 27,
      "outputs": []
    }
  ]
}