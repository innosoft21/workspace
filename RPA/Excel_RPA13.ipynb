{
  "nbformat": 4,
  "nbformat_minor": 0,
  "metadata": {
    "colab": {
      "name": "Excel_RPA13.ipynb",
      "provenance": [],
      "authorship_tag": "ABX9TyPRA2nA3h12X5Pl0rQwtXuZ",
      "include_colab_link": true
    },
    "kernelspec": {
      "name": "python3",
      "display_name": "Python 3"
    },
    "language_info": {
      "name": "python"
    }
  },
  "cells": [
    {
      "cell_type": "markdown",
      "metadata": {
        "id": "view-in-github",
        "colab_type": "text"
      },
      "source": [
        "<a href=\"https://colab.research.google.com/github/innosoft21/workspace/blob/main/RPA/Excel_RPA13.ipynb\" target=\"_parent\"><img src=\"https://colab.research.google.com/assets/colab-badge.svg\" alt=\"Open In Colab\"/></a>"
      ]
    },
    {
      "cell_type": "markdown",
      "metadata": {
        "id": "6szpU9MEBcmx"
      },
      "source": [
        "RPA 엑셀자동화 13. 이미지 삽입\n",
        "\n",
        "add_image()"
      ]
    },
    {
      "cell_type": "code",
      "metadata": {
        "id": "FcY-o9LD4wGK"
      },
      "source": [
        "from openpyxl import Workbook\n",
        "from openpyxl.drawing.image import Image\n",
        "\n",
        "wb=Workbook() \n",
        "ws=wb.active #현재활성화된 sheet가져옴"
      ],
      "execution_count": 9,
      "outputs": []
    },
    {
      "cell_type": "code",
      "metadata": {
        "id": "eVLKPHo1J1mY"
      },
      "source": [
        "img = Image(\"pictue00.png\")\n",
        "\n",
        "ws.add_image(img,\"C3\")"
      ],
      "execution_count": null,
      "outputs": []
    },
    {
      "cell_type": "code",
      "metadata": {
        "id": "OKSImL1IJSWW"
      },
      "source": [
        "wb.save(\"sample_image.xlsx\")"
      ],
      "execution_count": 8,
      "outputs": []
    }
  ]
}