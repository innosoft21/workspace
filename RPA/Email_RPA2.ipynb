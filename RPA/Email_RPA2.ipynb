{
  "nbformat": 4,
  "nbformat_minor": 0,
  "metadata": {
    "colab": {
      "name": "Email_RPA2.ipynb",
      "provenance": [],
      "authorship_tag": "ABX9TyO04OO94eWHXCQC7kVIs6Us",
      "include_colab_link": true
    },
    "kernelspec": {
      "name": "python3",
      "display_name": "Python 3"
    },
    "language_info": {
      "name": "python"
    }
  },
  "cells": [
    {
      "cell_type": "markdown",
      "metadata": {
        "id": "view-in-github",
        "colab_type": "text"
      },
      "source": [
        "<a href=\"https://colab.research.google.com/github/innosoft21/workspace/blob/main/RPA/Email_RPA2.ipynb\" target=\"_parent\"><img src=\"https://colab.research.google.com/assets/colab-badge.svg\" alt=\"Open In Colab\"/></a>"
      ]
    },
    {
      "cell_type": "markdown",
      "metadata": {
        "id": "ijBaqYPaLsmQ"
      },
      "source": [
        "email 자동화 2. Receive\n"
      ]
    },
    {
      "cell_type": "code",
      "metadata": {
        "id": "h_ra4UKlIyug"
      },
      "source": [
        "from imap_tools import MailBox\n",
        "from account import *"
      ],
      "execution_count": 3,
      "outputs": []
    },
    {
      "cell_type": "code",
      "metadata": {
        "id": "zw0IBazLk_Ba"
      },
      "source": [
        "mailbox = MailBox(\"imap.gmail.com\", 993)\n",
        "mailbox.login(EMAIL_ADDRESS, EMAIL_PASSWORD, initial_folder=\"INBOX\")\n",
        "\n",
        "# limit : 최대 메일 갯수\n",
        "# reverse : True 일 경우 최근 메일부터, False 일 경우 과거 메일부터\n",
        "for msg in mailbox.fetch(limit=1, reverse=True):\n",
        "    print(\"제목\", msg.subject)\n",
        "    print(\"발신자\", msg.from_)\n",
        "    print(\"수신자\", msg.to)\n",
        "    #print(\"참조자\", msg.cc)\n",
        "    #print(\"비밀참조자\", msg.bcc)\n",
        "    print(\"날짜\", msg.date)\n",
        "    print(\"본문\", msg.text)\n",
        "    print(\"HTML 메시지\", msg.html)\n",
        "    print(\"=\" * 100)\n",
        "\n",
        "    # 첨부 파일\n",
        "    for att in msg.attachments:\n",
        "        print(\"첨부파일 이름\", att.filename)\n",
        "        print(\"타입\", att.content_type)\n",
        "        print(\"크기\", att.size)\n",
        "\n",
        "        # 파일 다운로드\n",
        "        with open(\"download_\" + att.filename, \"wb\") as f:\n",
        "            f.write(att.payload)\n",
        "            print(\"첨부 파일 {} 다운로드 완료\".format(att.filename))\n",
        "\n",
        "mailbox.logout()\n",
        "    "
      ],
      "execution_count": null,
      "outputs": []
    }
  ]
}