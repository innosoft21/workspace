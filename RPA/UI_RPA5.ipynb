{
  "nbformat": 4,
  "nbformat_minor": 0,
  "metadata": {
    "colab": {
      "name": "UI_RPA5.ipynb",
      "provenance": [],
      "authorship_tag": "ABX9TyNZ4ylZQy9FwG6LqiP6W5VP",
      "include_colab_link": true
    },
    "kernelspec": {
      "name": "python3",
      "display_name": "Python 3"
    },
    "language_info": {
      "name": "python"
    }
  },
  "cells": [
    {
      "cell_type": "markdown",
      "metadata": {
        "id": "view-in-github",
        "colab_type": "text"
      },
      "source": [
        "<a href=\"https://colab.research.google.com/github/innosoft21/workspace/blob/main/RPA/UI_RPA5.ipynb\" target=\"_parent\"><img src=\"https://colab.research.google.com/assets/colab-badge.svg\" alt=\"Open In Colab\"/></a>"
      ]
    },
    {
      "cell_type": "markdown",
      "metadata": {
        "id": "gUv_ry63ogGd"
      },
      "source": [
        "데스크탑 UI 자동화 5. 키보드 입력\n",
        "\n",
        "메모장에 글자 자동입력하기\n",
        "\n",
        "Hot key사용하기"
      ]
    },
    {
      "cell_type": "code",
      "metadata": {
        "id": "mkyGRKq2ofsb"
      },
      "source": [
        "import pyautogui"
      ],
      "execution_count": null,
      "outputs": []
    },
    {
      "cell_type": "code",
      "metadata": {
        "id": "w9ITJEOJQvTM"
      },
      "source": [
        "#메모장 하나 띄우고 \n",
        "w = pyautogui.getWindowsWithTitle(\"제목 없음\")[0] \n",
        "w.activate()"
      ],
      "execution_count": null,
      "outputs": []
    },
    {
      "cell_type": "code",
      "metadata": {
        "id": "WfSIs2IoQ2B1"
      },
      "source": [
        "pyautogui.write(\"12345\") # 글자 입력\n",
        "pyautogui.write(\"\\nI am writing Code.\\n\",interval=0.25) #한글은 잘 안됨"
      ],
      "execution_count": null,
      "outputs": []
    },
    {
      "cell_type": "code",
      "metadata": {
        "id": "TW4rYL0KRCjI"
      },
      "source": [
        "# key할당된 입력값, 아래 주소에서 확인\n",
        "# PyKeyboard Attributes : https://automatetheboringstuff.com/2e/chapter20/\n",
        "pyautogui.write([\"t\",\"e\",\"s\",\"t\",\"left\",\"left\",\"right\",\"l\",\"a\",\"enter\"],interval=0.25)"
      ],
      "execution_count": null,
      "outputs": []
    },
    {
      "cell_type": "code",
      "metadata": {
        "id": "dCTqZn56RGqI"
      },
      "source": [
        "#특수문자 입력, 예제 shift+4 = $\n",
        "pyautogui.keyDown(\"shift\") #shift key를 누른 상태에서\n",
        "pyautogui.press(\"4\")  # 4 key를 친다.\n",
        "pyautogui.keyUp(\"shift\") #shift key를 뗀다."
      ],
      "execution_count": null,
      "outputs": []
    },
    {
      "cell_type": "code",
      "metadata": {
        "id": "FFliELKKk-Ur"
      },
      "source": [
        "# Hot key 입력\n",
        "pyautogui.keyDown(\"ctrl\")\n",
        "pyautogui.keyDown(\"a\")\n",
        "pyautogui.keyUp(\"a\")\n",
        "pyautogui.keyUp(\"ctrl\")\n",
        "\n",
        "pyautogui.hotkey(\"ctrl\",\"a\")\n",
        "\n",
        "import pyperclip # 클립보드 사용\n",
        "pyperclip.copy(\"나도 코딩한다.\") #한글입력 가능\n",
        "pyautogui.hotkey(\"ctrl\",\"v\")"
      ],
      "execution_count": null,
      "outputs": []
    },
    {
      "cell_type": "code",
      "metadata": {
        "id": "Ps7hIEaXlDEQ"
      },
      "source": [
        "#함수로 만들기\n",
        "def my_write(text):\n",
        "    pyperclip.copy(text)\n",
        "    pyautogui.hotkey(\"ctrl\",\"v\")\n",
        "\n",
        "my_write(\"나는 코딩도 한다.\")"
      ],
      "execution_count": null,
      "outputs": []
    }
  ]
}