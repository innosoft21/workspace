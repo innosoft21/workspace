{
  "nbformat": 4,
  "nbformat_minor": 0,
  "metadata": {
    "colab": {
      "name": "UI_RPA3.ipynb",
      "provenance": [],
      "authorship_tag": "ABX9TyOVIfYCbuMWG4bEjY5czx+a",
      "include_colab_link": true
    },
    "kernelspec": {
      "name": "python3",
      "display_name": "Python 3"
    },
    "language_info": {
      "name": "python"
    }
  },
  "cells": [
    {
      "cell_type": "markdown",
      "metadata": {
        "id": "view-in-github",
        "colab_type": "text"
      },
      "source": [
        "<a href=\"https://colab.research.google.com/github/innosoft21/workspace/blob/main/RPA/UI_RPA3.ipynb\" target=\"_parent\"><img src=\"https://colab.research.google.com/assets/colab-badge.svg\" alt=\"Open In Colab\"/></a>"
      ]
    },
    {
      "cell_type": "markdown",
      "metadata": {
        "id": "gUv_ry63ogGd"
      },
      "source": [
        "데스크탑 UI 자동화 3. 이미지 처리\n",
        "\n",
        "pyautogui.locateOnScreen(\"A.png)\n",
        "\n",
        "이미지찾아서 클릭, 속도 개선, 대기"
      ]
    },
    {
      "cell_type": "code",
      "metadata": {
        "id": "mkyGRKq2ofsb"
      },
      "source": [
        "import pyautogui"
      ],
      "execution_count": null,
      "outputs": []
    },
    {
      "cell_type": "code",
      "metadata": {
        "id": "w9ITJEOJQvTM"
      },
      "source": [
        "# win + shift + s : 캡쳐하여 file_menu.png로 저장\n",
        "\n",
        "#그림파일 정보를 가져옴, file메뉴 있는그림\n",
        "file_menu = pyautogui.locateOnScreen(\"file_menu.png\") \n",
        "\n",
        "print(file_menu)\n",
        "\n",
        "#그림에 저장된 위치로 이동하여 클릭을 한다.\n",
        "pyautogui.click(file_menu)"
      ],
      "execution_count": null,
      "outputs": []
    },
    {
      "cell_type": "code",
      "metadata": {
        "id": "WfSIs2IoQ2B1"
      },
      "source": [
        "trash_icon = pyautogui.locateOnScreen(\"trash_icon.png\") \n",
        "pyautogui.moveTo(trash_icon)"
      ],
      "execution_count": null,
      "outputs": []
    },
    {
      "cell_type": "code",
      "metadata": {
        "id": "TW4rYL0KRCjI"
      },
      "source": [
        "#해상도가 달라지거나 하면 못찾는 경우가 많음\n",
        "screen = pyautogui.locateOnScreen(\"screenshot.png\")\n",
        "print(screen)  #못 찾는 다고 함."
      ],
      "execution_count": null,
      "outputs": []
    },
    {
      "cell_type": "code",
      "metadata": {
        "id": "dCTqZn56RGqI"
      },
      "source": [
        "#동일 그림이 여러개 있을때, checkbox여러개 클릭하기\n",
        "#https://www.w3schools.com/tags/tryit.asp?filename=tryhtml5_input_type_checkbox\n",
        "for i in pyautogui.locateAllOnScreen(\"checkbox.png\"):\n",
        "    print(i)\n",
        "    pyautogui.click(i,duration=0.25)"
      ],
      "execution_count": null,
      "outputs": []
    },
    {
      "cell_type": "code",
      "metadata": {
        "id": "sDCWr6xARJ04"
      },
      "source": [
        "#동일 그림이 있어도 처음 발견된 checkbox 한번 클릭하기\n",
        "checkbox = pyautogui.locateOnScreen(\"checkbox.png\")\n",
        "pyautogui.click(checkbox)"
      ],
      "execution_count": null,
      "outputs": []
    },
    {
      "cell_type": "code",
      "metadata": {
        "id": "gYhQHrsvRMDo"
      },
      "source": [
        "#이미지 찾기 속도 개선\n",
        "# 1)grey색상으로 변경해서 찾기, 잘 못찾는 경우가 있음\n",
        "trash_icon = pyautogui.locateOnScreen(\"trash_icon.png\",grayscale=True) \n",
        "pyautogui.moveTo(trash_icon)\n",
        "\n",
        "# 2)범위지정, 잘 못찾는 경우가 있음, region=x,y,width,height\n",
        "trash_icon = pyautogui.locateOnScreen(\"trash_icon.png\",region=(1488,623,400,137)) \n",
        "pyautogui.moveTo(trash_icon)\n",
        "\n",
        "# 3)정확도 조정, pip install opencv-python 설치후 confidence(정확도 값 조정)\n",
        "trash_icon = pyautogui.locateOnScreen(\"trash_icon.png\", confidence=0.7) \n",
        "pyautogui.moveTo(trash_icon)"
      ],
      "execution_count": null,
      "outputs": []
    },
    {
      "cell_type": "code",
      "metadata": {
        "id": "EFhxD7iyRQAT"
      },
      "source": [
        "# 자동화 대상이 바로 보여지지 않는 경우, note pad 파일 그림 예제\n",
        "# 1)계속 기다리기\n",
        "# for문 사용시 그림 발견안되면 바로 종료됨\n",
        "file_menu_notepad = pyautogui.locateOnScreen(\"file_menu_notepad.png\")\n",
        "if file_menu_notepad:\n",
        "    pyautogui.click(file_menu_notepad)\n",
        "else:\n",
        "    print(\"발견 실패\") \n",
        "#while문 사용 시 계속 기다림\n",
        "while file_menu_notepad is None:\n",
        "    file_menu_notepad = pyautogui.locateOnScreen(\"file_menu_notepad.png\")\n",
        "    print(\"발견 실패\")\n",
        "pyautogui.click(file_menu_notepad)\n",
        "\n",
        "# 2) 일정시간동안 기다리기 (Timeout)\n",
        "import time\n",
        "import sys\n",
        "timeout = 10 # 10초 동안대기\n",
        "start = time.time() # 시작시간 설정\n",
        "file_menu_notepad = None\n",
        "while file_menu_notepad is None:\n",
        "    file_menu_notepad = pyautogui.locateOnScreen(\"file_menu_notepad.png\")\n",
        "    end = time.time() # w종료시간 설정\n",
        "    if end - start > timeout:\n",
        "        print(\"시간 종료\")\n",
        "        sys.exit()\n",
        "pyautogui.click(file_menu_notepad)"
      ],
      "execution_count": null,
      "outputs": []
    },
    {
      "cell_type": "code",
      "metadata": {
        "id": "kDv4yQgMRWT2"
      },
      "source": [
        "# 함수로 만들기\n",
        "def find_target(img_file, timeout=30):\n",
        "    start = time.time()\n",
        "    target = None\n",
        "    while target is None:\n",
        "        target = pyautogui.locateOnScreen(img_file)\n",
        "        end = time.time()\n",
        "        if end - start > timeout:\n",
        "            break\n",
        "    return target\n",
        "\n",
        "def my_click(img_file, timeout=30):\n",
        "    target = find_target(img_file, timeout)\n",
        "    if target:\n",
        "        pyautogui.click(target)\n",
        "    else:\n",
        "        print(f\"[Timeout {timeout}s] Target out found ({img_file}). Terminate program\")\n",
        "        sys.exit()\n",
        "\n",
        "my_click(\"file_menu_notepad\",10)"
      ],
      "execution_count": null,
      "outputs": []
    }
  ]
}