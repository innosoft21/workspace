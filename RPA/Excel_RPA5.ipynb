{
  "nbformat": 4,
  "nbformat_minor": 0,
  "metadata": {
    "colab": {
      "name": "Excel_RPA5.ipynb",
      "provenance": [],
      "toc_visible": true,
      "authorship_tag": "ABX9TyMbY632vRc+6BZmRMEDCldY",
      "include_colab_link": true
    },
    "kernelspec": {
      "name": "python3",
      "display_name": "Python 3"
    },
    "language_info": {
      "name": "python"
    }
  },
  "cells": [
    {
      "cell_type": "markdown",
      "metadata": {
        "id": "view-in-github",
        "colab_type": "text"
      },
      "source": [
        "<a href=\"https://colab.research.google.com/github/innosoft21/workspace/blob/main/RPA/Excel_RPA5.ipynb\" target=\"_parent\"><img src=\"https://colab.research.google.com/assets/colab-badge.svg\" alt=\"Open In Colab\"/></a>"
      ]
    },
    {
      "cell_type": "markdown",
      "metadata": {
        "id": "GXJl6Ly4TdXQ"
      },
      "source": [
        "RPA 엑셀자동화 5. 영어,수학 성적 원하는 값만 불러오기\n",
        "\n",
        "tuple 만들기, ws.iter_rows(), ws.iter_cols() 사용하기"
      ]
    },
    {
      "cell_type": "code",
      "metadata": {
        "id": "Xbzt1pkpMnEi"
      },
      "source": [
        "from openpyxl import Workbook\n",
        "from random import *\n",
        "\n",
        "wb=Workbook()\n",
        "ws=wb.active #현재활성화된 sheet가져옴"
      ],
      "execution_count": 3,
      "outputs": []
    },
    {
      "cell_type": "code",
      "metadata": {
        "id": "Hxt6ezLTYQYE"
      },
      "source": [
        "# 1줄씩 데이터 넣기\n",
        "ws.append([\"번호\",\"영어\",\"수학\"])\n",
        "for i in range(1,11): #데이터 10개 넣기\n",
        "    ws.append([i,randint(0,100),randint(0,100)])\n",
        "wb.save(\"sample.xlsx\")"
      ],
      "execution_count": 4,
      "outputs": []
    },
    {
      "cell_type": "code",
      "metadata": {
        "colab": {
          "base_uri": "https://localhost:8080/"
        },
        "id": "f8nfuq-Um_ZF",
        "outputId": "2b922170-bc6e-4490-d64f-a30a3254b166"
      },
      "source": [
        "#전체 rows\n",
        "print(tuple(ws.rows))"
      ],
      "execution_count": 5,
      "outputs": [
        {
          "output_type": "stream",
          "text": [
            "((<Cell 'Sheet'.A1>, <Cell 'Sheet'.B1>, <Cell 'Sheet'.C1>), (<Cell 'Sheet'.A2>, <Cell 'Sheet'.B2>, <Cell 'Sheet'.C2>), (<Cell 'Sheet'.A3>, <Cell 'Sheet'.B3>, <Cell 'Sheet'.C3>), (<Cell 'Sheet'.A4>, <Cell 'Sheet'.B4>, <Cell 'Sheet'.C4>), (<Cell 'Sheet'.A5>, <Cell 'Sheet'.B5>, <Cell 'Sheet'.C5>), (<Cell 'Sheet'.A6>, <Cell 'Sheet'.B6>, <Cell 'Sheet'.C6>), (<Cell 'Sheet'.A7>, <Cell 'Sheet'.B7>, <Cell 'Sheet'.C7>), (<Cell 'Sheet'.A8>, <Cell 'Sheet'.B8>, <Cell 'Sheet'.C8>), (<Cell 'Sheet'.A9>, <Cell 'Sheet'.B9>, <Cell 'Sheet'.C9>), (<Cell 'Sheet'.A10>, <Cell 'Sheet'.B10>, <Cell 'Sheet'.C10>), (<Cell 'Sheet'.A11>, <Cell 'Sheet'.B11>, <Cell 'Sheet'.C11>))\n"
          ],
          "name": "stdout"
        }
      ]
    },
    {
      "cell_type": "code",
      "metadata": {
        "colab": {
          "base_uri": "https://localhost:8080/"
        },
        "id": "e65mMgSSo3MF",
        "outputId": "07e5a66d-29e5-490a-c25f-e05983f1b88e"
      },
      "source": [
        "#전체 columns\n",
        "print(tuple(ws.columns))"
      ],
      "execution_count": 6,
      "outputs": [
        {
          "output_type": "stream",
          "text": [
            "((<Cell 'Sheet'.A1>, <Cell 'Sheet'.A2>, <Cell 'Sheet'.A3>, <Cell 'Sheet'.A4>, <Cell 'Sheet'.A5>, <Cell 'Sheet'.A6>, <Cell 'Sheet'.A7>, <Cell 'Sheet'.A8>, <Cell 'Sheet'.A9>, <Cell 'Sheet'.A10>, <Cell 'Sheet'.A11>), (<Cell 'Sheet'.B1>, <Cell 'Sheet'.B2>, <Cell 'Sheet'.B3>, <Cell 'Sheet'.B4>, <Cell 'Sheet'.B5>, <Cell 'Sheet'.B6>, <Cell 'Sheet'.B7>, <Cell 'Sheet'.B8>, <Cell 'Sheet'.B9>, <Cell 'Sheet'.B10>, <Cell 'Sheet'.B11>), (<Cell 'Sheet'.C1>, <Cell 'Sheet'.C2>, <Cell 'Sheet'.C3>, <Cell 'Sheet'.C4>, <Cell 'Sheet'.C5>, <Cell 'Sheet'.C6>, <Cell 'Sheet'.C7>, <Cell 'Sheet'.C8>, <Cell 'Sheet'.C9>, <Cell 'Sheet'.C10>, <Cell 'Sheet'.C11>))\n"
          ],
          "name": "stdout"
        }
      ]
    },
    {
      "cell_type": "code",
      "metadata": {
        "colab": {
          "base_uri": "https://localhost:8080/"
        },
        "id": "P-yb5P3UpIVe",
        "outputId": "cb54006c-8d6b-46ab-905f-00b75e360e3f"
      },
      "source": [
        "for row in tuple(ws.rows):\n",
        "  print(row[1].value)"
      ],
      "execution_count": 8,
      "outputs": [
        {
          "output_type": "stream",
          "text": [
            "영어\n",
            "29\n",
            "31\n",
            "73\n",
            "62\n",
            "11\n",
            "61\n",
            "80\n",
            "0\n",
            "77\n",
            "50\n"
          ],
          "name": "stdout"
        }
      ]
    },
    {
      "cell_type": "code",
      "metadata": {
        "colab": {
          "base_uri": "https://localhost:8080/"
        },
        "id": "CVOrLSTYpiqO",
        "outputId": "1310f74c-2117-4299-ecb9-a771ac2f74b7"
      },
      "source": [
        "for row in tuple(ws.rows):\n",
        "  print(row[2].value)"
      ],
      "execution_count": 9,
      "outputs": [
        {
          "output_type": "stream",
          "text": [
            "수학\n",
            "7\n",
            "48\n",
            "98\n",
            "67\n",
            "80\n",
            "45\n",
            "99\n",
            "46\n",
            "90\n",
            "15\n"
          ],
          "name": "stdout"
        }
      ]
    },
    {
      "cell_type": "code",
      "metadata": {
        "colab": {
          "base_uri": "https://localhost:8080/"
        },
        "id": "VRgcCUfPpq2a",
        "outputId": "1ec4305c-f281-444a-fb97-4696248deb8d"
      },
      "source": [
        "for col in tuple(ws.columns):\n",
        "  print(col[0].value)"
      ],
      "execution_count": 11,
      "outputs": [
        {
          "output_type": "stream",
          "text": [
            "번호\n",
            "영어\n",
            "수학\n"
          ],
          "name": "stdout"
        }
      ]
    },
    {
      "cell_type": "code",
      "metadata": {
        "colab": {
          "base_uri": "https://localhost:8080/"
        },
        "id": "iWEd_mnZp7wk",
        "outputId": "95d970fe-4e2f-4da9-ae32-92773cdd50c1"
      },
      "source": [
        "#전체 row\n",
        "for row in ws.iter_rows():\n",
        "  print(row)"
      ],
      "execution_count": 15,
      "outputs": [
        {
          "output_type": "stream",
          "text": [
            "(<Cell 'Sheet'.A1>, <Cell 'Sheet'.B1>, <Cell 'Sheet'.C1>)\n",
            "(<Cell 'Sheet'.A2>, <Cell 'Sheet'.B2>, <Cell 'Sheet'.C2>)\n",
            "(<Cell 'Sheet'.A3>, <Cell 'Sheet'.B3>, <Cell 'Sheet'.C3>)\n",
            "(<Cell 'Sheet'.A4>, <Cell 'Sheet'.B4>, <Cell 'Sheet'.C4>)\n",
            "(<Cell 'Sheet'.A5>, <Cell 'Sheet'.B5>, <Cell 'Sheet'.C5>)\n",
            "(<Cell 'Sheet'.A6>, <Cell 'Sheet'.B6>, <Cell 'Sheet'.C6>)\n",
            "(<Cell 'Sheet'.A7>, <Cell 'Sheet'.B7>, <Cell 'Sheet'.C7>)\n",
            "(<Cell 'Sheet'.A8>, <Cell 'Sheet'.B8>, <Cell 'Sheet'.C8>)\n",
            "(<Cell 'Sheet'.A9>, <Cell 'Sheet'.B9>, <Cell 'Sheet'.C9>)\n",
            "(<Cell 'Sheet'.A10>, <Cell 'Sheet'.B10>, <Cell 'Sheet'.C10>)\n",
            "(<Cell 'Sheet'.A11>, <Cell 'Sheet'.B11>, <Cell 'Sheet'.C11>)\n"
          ],
          "name": "stdout"
        }
      ]
    },
    {
      "cell_type": "code",
      "metadata": {
        "colab": {
          "base_uri": "https://localhost:8080/"
        },
        "id": "xG9sSZ0QqWAx",
        "outputId": "130ae97f-8feb-43f1-eb1f-fd23e63ad840"
      },
      "source": [
        "for row in ws.iter_rows():\n",
        "  print(row[2].value)"
      ],
      "execution_count": 16,
      "outputs": [
        {
          "output_type": "stream",
          "text": [
            "수학\n",
            "7\n",
            "48\n",
            "98\n",
            "67\n",
            "80\n",
            "45\n",
            "99\n",
            "46\n",
            "90\n",
            "15\n"
          ],
          "name": "stdout"
        }
      ]
    },
    {
      "cell_type": "code",
      "metadata": {
        "colab": {
          "base_uri": "https://localhost:8080/"
        },
        "id": "xLeMijCuqa8n",
        "outputId": "4b2be2af-cbf4-476c-f4a8-4d0d738e1033"
      },
      "source": [
        "for col in ws.iter_cols():\n",
        "  print(col[0].value)"
      ],
      "execution_count": 18,
      "outputs": [
        {
          "output_type": "stream",
          "text": [
            "번호\n",
            "영어\n",
            "수학\n"
          ],
          "name": "stdout"
        }
      ]
    },
    {
      "cell_type": "code",
      "metadata": {
        "colab": {
          "base_uri": "https://localhost:8080/"
        },
        "id": "ZY8uFVSMsQg8",
        "outputId": "8fe6a29a-1f54-41a9-ec73-91380f9d0f7f"
      },
      "source": [
        "#2번쨰 행부터 11번 행까지, 2번째 컬럼에서 3번쨰 컬럼까지 영역 출력\n",
        "for row in ws.iter_rows(min_row=2,max_row=11,min_col=2,max_col=3):\n",
        "  print(row) "
      ],
      "execution_count": 22,
      "outputs": [
        {
          "output_type": "stream",
          "text": [
            "(<Cell 'Sheet'.B2>, <Cell 'Sheet'.C2>)\n",
            "(<Cell 'Sheet'.B3>, <Cell 'Sheet'.C3>)\n",
            "(<Cell 'Sheet'.B4>, <Cell 'Sheet'.C4>)\n",
            "(<Cell 'Sheet'.B5>, <Cell 'Sheet'.C5>)\n",
            "(<Cell 'Sheet'.B6>, <Cell 'Sheet'.C6>)\n",
            "(<Cell 'Sheet'.B7>, <Cell 'Sheet'.C7>)\n",
            "(<Cell 'Sheet'.B8>, <Cell 'Sheet'.C8>)\n",
            "(<Cell 'Sheet'.B9>, <Cell 'Sheet'.C9>)\n",
            "(<Cell 'Sheet'.B10>, <Cell 'Sheet'.C10>)\n",
            "(<Cell 'Sheet'.B11>, <Cell 'Sheet'.C11>)\n"
          ],
          "name": "stdout"
        }
      ]
    },
    {
      "cell_type": "code",
      "metadata": {
        "colab": {
          "base_uri": "https://localhost:8080/"
        },
        "id": "2jdBG_7Sqtwo",
        "outputId": "5732a5b1-35e1-47fb-be09-7594648fe3f4"
      },
      "source": [
        "#2번쨰 행부터 11번 행까지, 2번째 컬럼에서 3번쨰 컬럼까지 영역 출력\n",
        "for row in ws.iter_rows(min_row=2,max_row=11,min_col=2,max_col=3):\n",
        "  print(row[0].value, row[1].value) #수학 영어 출력"
      ],
      "execution_count": 19,
      "outputs": [
        {
          "output_type": "stream",
          "text": [
            "29 7\n",
            "31 48\n",
            "73 98\n",
            "62 67\n",
            "11 80\n",
            "61 45\n",
            "80 99\n",
            "0 46\n",
            "77 90\n",
            "50 15\n"
          ],
          "name": "stdout"
        }
      ]
    },
    {
      "cell_type": "code",
      "metadata": {
        "colab": {
          "base_uri": "https://localhost:8080/"
        },
        "id": "1_RsHYilr4rO",
        "outputId": "c5d63138-5a31-47a7-f7e2-89c1f0439b76"
      },
      "source": [
        "for col in ws.iter_cols(min_row=1,max_row=5,min_col=1,max_col=3):\n",
        "  print(col)"
      ],
      "execution_count": 21,
      "outputs": [
        {
          "output_type": "stream",
          "text": [
            "(<Cell 'Sheet'.A1>, <Cell 'Sheet'.A2>, <Cell 'Sheet'.A3>, <Cell 'Sheet'.A4>, <Cell 'Sheet'.A5>)\n",
            "(<Cell 'Sheet'.B1>, <Cell 'Sheet'.B2>, <Cell 'Sheet'.B3>, <Cell 'Sheet'.B4>, <Cell 'Sheet'.B5>)\n",
            "(<Cell 'Sheet'.C1>, <Cell 'Sheet'.C2>, <Cell 'Sheet'.C3>, <Cell 'Sheet'.C4>, <Cell 'Sheet'.C5>)\n"
          ],
          "name": "stdout"
        }
      ]
    }
  ]
}