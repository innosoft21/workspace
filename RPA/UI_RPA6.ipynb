{
  "nbformat": 4,
  "nbformat_minor": 0,
  "metadata": {
    "colab": {
      "name": "UI_RPA6.ipynb",
      "provenance": [],
      "authorship_tag": "ABX9TyNsba0PdWXgCZF1AdjpVgvL",
      "include_colab_link": true
    },
    "kernelspec": {
      "name": "python3",
      "display_name": "Python 3"
    },
    "language_info": {
      "name": "python"
    }
  },
  "cells": [
    {
      "cell_type": "markdown",
      "metadata": {
        "id": "view-in-github",
        "colab_type": "text"
      },
      "source": [
        "<a href=\"https://colab.research.google.com/github/innosoft21/workspace/blob/main/RPA/UI_RPA6.ipynb\" target=\"_parent\"><img src=\"https://colab.research.google.com/assets/colab-badge.svg\" alt=\"Open In Colab\"/></a>"
      ]
    },
    {
      "cell_type": "markdown",
      "metadata": {
        "id": "gUv_ry63ogGd"
      },
      "source": [
        "데스크탑 UI 자동화 6. 메시지 박스\n",
        "\n",
        "pyautogui.alert\n",
        "\n",
        "pyautogui.confirm\n",
        "\n",
        "pyautogui.prompt\n",
        "\n",
        "pyautogui.password"
      ]
    },
    {
      "cell_type": "code",
      "metadata": {
        "id": "mkyGRKq2ofsb"
      },
      "source": [
        "import pyautogui"
      ],
      "execution_count": null,
      "outputs": []
    },
    {
      "cell_type": "code",
      "metadata": {
        "id": "IF1ggqdclbU0"
      },
      "source": [
        "print(\"곧 시작합니다.\")\n",
        "pyautogui.countdown(3)\n",
        "print(\"자동화 시작\")"
      ],
      "execution_count": null,
      "outputs": []
    },
    {
      "cell_type": "code",
      "metadata": {
        "id": "7QxovmvpqeYx"
      },
      "source": [
        "#자세한 내용은 여기에 https://pyautogui.readthedocs.io/en/latest/\n",
        "pyautogui.alert(\"자동화 수행에 실패했습니다.\",\"경고\")\n",
        "result = pyautogui.confirm(\"계속 진행하기겠습니까?\",\"확인\")\n",
        "print(result)\n",
        "result1 = pyautogui.prompt(\"파일명을 무엇으로 하시겠습니까?\",\"입력\")\n",
        "print(result1)\n",
        "result2 = pyautogui.password(\"암호를 입력하세요\",\"압력\")\n",
        "print(result2)"
      ],
      "execution_count": null,
      "outputs": []
    }
  ]
}