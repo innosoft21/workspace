{
  "nbformat": 4,
  "nbformat_minor": 0,
  "metadata": {
    "colab": {
      "name": "Web_RPA1.ipynb",
      "provenance": [],
      "authorship_tag": "ABX9TyOMiBhyDRfXRjU1yNxXxnw2",
      "include_colab_link": true
    },
    "kernelspec": {
      "name": "python3",
      "display_name": "Python 3"
    },
    "language_info": {
      "name": "python"
    }
  },
  "cells": [
    {
      "cell_type": "markdown",
      "metadata": {
        "id": "view-in-github",
        "colab_type": "text"
      },
      "source": [
        "<a href=\"https://colab.research.google.com/github/innosoft21/workspace/blob/main/RPA/Web_RPA1.ipynb\" target=\"_parent\"><img src=\"https://colab.research.google.com/assets/colab-badge.svg\" alt=\"Open In Colab\"/></a>"
      ]
    },
    {
      "cell_type": "markdown",
      "metadata": {
        "id": "ijBaqYPaLsmQ"
      },
      "source": [
        "웹 자동화 1. HTML 기본 구조,XPath"
      ]
    },
    {
      "cell_type": "code",
      "metadata": {
        "id": "h_ra4UKlIyug"
      },
      "source": [
        "##HTML\n",
        "##open in browser 설치필요 또는 open browser preview /n"
      ],
      "execution_count": null,
      "outputs": []
    },
    {
      "cell_type": "code",
      "metadata": {
        "id": "jPdktin1LqJe"
      },
      "source": [
        "<html>\n",
        "   <head>\n",
        "      <meta charset=\"utf-8\">\n",
        "      <title> 나도 코딩한다. </title>\n",
        "   </head>\n",
        "\n",
        "   <body>\n",
        "      <input type=\"text\" value=\"아이디 입력\">\n",
        "      <input type=\"password\">\n",
        "      <input type=\"button\" value=\"로그인\">\n",
        "      <a href=\"http://google.com\">구글로 이동하기</a>\n",
        "   </body>\n",
        "</html>"
      ],
      "execution_count": null,
      "outputs": []
    },
    {
      "cell_type": "code",
      "metadata": {
        "id": "NdGe24bvNPMe"
      },
      "source": [
        "#XPath\n",
        "#/html/body/div/div/../span/a....\n",
        "#//*[@id=\"login\"]  id같은 속성으로 찾기"
      ],
      "execution_count": null,
      "outputs": []
    }
  ]
}