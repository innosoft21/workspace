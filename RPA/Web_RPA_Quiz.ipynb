{
  "nbformat": 4,
  "nbformat_minor": 0,
  "metadata": {
    "colab": {
      "name": "Web_RPA_Quiz.ipynb",
      "provenance": [],
      "authorship_tag": "ABX9TyPcBAn8O7Zqa0mmfrA3g3oX",
      "include_colab_link": true
    },
    "kernelspec": {
      "name": "python3",
      "display_name": "Python 3"
    },
    "language_info": {
      "name": "python"
    }
  },
  "cells": [
    {
      "cell_type": "markdown",
      "metadata": {
        "id": "view-in-github",
        "colab_type": "text"
      },
      "source": [
        "<a href=\"https://colab.research.google.com/github/innosoft21/workspace/blob/main/RPA/Web_RPA_Quiz.ipynb\" target=\"_parent\"><img src=\"https://colab.research.google.com/assets/colab-badge.svg\" alt=\"Open In Colab\"/></a>"
      ]
    },
    {
      "cell_type": "markdown",
      "metadata": {
        "id": "ijBaqYPaLsmQ"
      },
      "source": [
        "웹 자동화 8. Quiz\n",
        "\n",
        "Quiz) Selenium 을 이용하여 아래 업무를 자동으로 수행하는 프로그램을 작성하시오\n",
        "\n",
        "1. https://www.w3schools.com 접속 (URL 은 구글에서 w3schools 검색)\n",
        "2. 화면 중간 LEARN HTML 클릭\n",
        "3. 상단 메뉴 중 HOW TO 클릭\n",
        "4. 좌측 메뉴 중 Contact Form 메뉴 클릭\n",
        "5. 입력란에 아래 값 입력\n",
        "   First Name : 나도\n",
        "   Last Name : 코딩\n",
        "   Country : Canada\n",
        "   Subject : 퀴즈 완료하였습니다.\n",
        "   ※ 위 값들은 변수로 미리 저장해두세요\n",
        "6. 5초 대기 후 Submit 버튼 클릭\n",
        "7. 5초 대기 후 브라우저 종료"
      ]
    },
    {
      "cell_type": "code",
      "metadata": {
        "id": "h_ra4UKlIyug"
      },
      "source": [
        "import time\n",
        "from selenium import webdriver"
      ],
      "execution_count": 3,
      "outputs": []
    },
    {
      "cell_type": "code",
      "metadata": {
        "id": "pzTU0zKvfZoX"
      },
      "source": [
        "browser = webdriver.Chrome()\n",
        "browser.maximize_window()\n",
        "\n",
        "# 1. https://www.w3schools.com 접속 (URL 은 구글에서 w3schools 검색)\n",
        "browser.get('https://www.w3schools.com')\n",
        "\n",
        "# 2. 화면 중간 LEARN HTML 클릭\n",
        "browser.find_element_by_xpath('//*[@id=\"main\"]/div[1]/div[1]/a[1]').click()\n",
        "\n",
        "# 3. 상단 메뉴 중 HOW TO 클릭\n",
        "browser.find_element_by_xpath('//*[@id=\"topnav\"]/div/div[1]/a[10]').click()\n",
        "\n",
        "# 4. 좌측 메뉴 중 Contact Form 메뉴 클릭\n",
        "#browser.find_element_by_xpath('//*[@id=\"leftmenuinnerinner\"]/a[116]').click()\n",
        "\n",
        "# 링크 텍스트로 비교 > Contact Form 이라는 2개 이상의 링크 텍스트가 있는 경우 실패\n",
        "#browser.find_element_by_link_text('Contact Form').click() \n",
        "\n",
        "# 가장 좋은 방법 (텍스트 전체 일치 여부 비교)\n",
        "browser.find_element_by_xpath('//*[@id=\"leftmenuinnerinner\"]/a[text()=\"Contact Form\"]').click() \n",
        "\n",
        "# 일부 텍스트 비교하는 방법\n",
        "#browser.find_element_by_xpath('//*[@id=\"leftmenuinnerinner\"]/a[contains(text(), \"Contact\")]').click()\n",
        "\n",
        "# 5. 입력란에 아래 값 입력\n",
        "#   First Name : 나도\n",
        "#   Last Name : 코딩\n",
        "#   Country : Canada\n",
        "#   Subject : 퀴즈 완료하였습니다.\n",
        "#   ※ 위 값들은 변수로 미리 저장해두세요\n",
        "\n",
        "first_name = \"나도\"\n",
        "last_name = \"코딩\"\n",
        "country = \"Canada\"\n",
        "subject = \"퀴즈 완료하였습니다.\"\n",
        "\n",
        "browser.find_element_by_xpath('//*[@id=\"fname\"]').send_keys(first_name)\n",
        "browser.find_element_by_xpath('//*[@id=\"lname\"]').send_keys(last_name)\n",
        "browser.find_element_by_xpath('//*[@id=\"country\"]/option[text()=\"{}\"]'.format(country)).click()\n",
        "browser.find_element_by_xpath('//*[@id=\"main\"]/div[3]/textarea').send_keys(subject)\n",
        "\n",
        "# 6. 5초 대기 후 Submit 버튼 클릭\n",
        "time.sleep(5)\n",
        "browser.find_element_by_xpath('//*[@id=\"main\"]/div[3]/a').click()\n",
        "\n",
        "# 7. 5초 대기 후 브라우저 종료\n",
        "time.sleep(5)\n",
        "browser.quit()"
      ],
      "execution_count": null,
      "outputs": []
    }
  ]
}