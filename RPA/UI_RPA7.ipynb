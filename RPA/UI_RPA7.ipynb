{
  "nbformat": 4,
  "nbformat_minor": 0,
  "metadata": {
    "colab": {
      "name": "UI_RPA7.ipynb",
      "provenance": [],
      "authorship_tag": "ABX9TyPKDyEExuR2tUBkzKZlM5SU",
      "include_colab_link": true
    },
    "kernelspec": {
      "name": "python3",
      "display_name": "Python 3"
    },
    "language_info": {
      "name": "python"
    }
  },
  "cells": [
    {
      "cell_type": "markdown",
      "metadata": {
        "id": "view-in-github",
        "colab_type": "text"
      },
      "source": [
        "<a href=\"https://colab.research.google.com/github/innosoft21/workspace/blob/main/RPA/UI_RPA7.ipynb\" target=\"_parent\"><img src=\"https://colab.research.google.com/assets/colab-badge.svg\" alt=\"Open In Colab\"/></a>"
      ]
    },
    {
      "cell_type": "markdown",
      "metadata": {
        "id": "gUv_ry63ogGd"
      },
      "source": [
        "데스크탑 UI 자동화 7. 로그 남기기\n",
        "\n"
      ]
    },
    {
      "cell_type": "code",
      "metadata": {
        "id": "mkyGRKq2ofsb"
      },
      "source": [
        "import logging"
      ],
      "execution_count": null,
      "outputs": []
    },
    {
      "cell_type": "code",
      "metadata": {
        "id": "IF1ggqdclbU0"
      },
      "source": [
        "logging.basicConfig(level=logging.DEBUG, format=\"%(asctime)s [%(levelname)s] %(message)s\")"
      ],
      "execution_count": null,
      "outputs": []
    },
    {
      "cell_type": "code",
      "metadata": {
        "id": "7QxovmvpqeYx"
      },
      "source": [
        "#debug<info<warning<error<critical\n",
        "logging.debug(\"누구?\")\n",
        "logging.info(\"준비\")\n",
        "logging.warning(\"문제 발생\")\n",
        "logging.error(\"에러 발생\")\n",
        "logging.critical(\"복구 불가\")"
      ],
      "execution_count": null,
      "outputs": []
    },
    {
      "cell_type": "code",
      "metadata": {
        "id": "aB64U56KuX-J"
      },
      "source": [
        "from datetime import datetime\n",
        "logFormatter = logging.Formatter(\"%(asctime)s [%(levelname)s] %(message)s\")\n",
        "logger = logging.getLogger()\n",
        "\n",
        "logger.setLevel(logging.DEBUG)"
      ],
      "execution_count": null,
      "outputs": []
    },
    {
      "cell_type": "code",
      "metadata": {
        "id": "jWPOZNGLubAg"
      },
      "source": [
        "#스트림(터미널)\n",
        "streamHandler = logging.StreamHandler()\n",
        "streamHandler.setFormatter(logFormatter)\n",
        "logger.addHandler(streamHandler)"
      ],
      "execution_count": null,
      "outputs": []
    },
    {
      "cell_type": "code",
      "metadata": {
        "id": "Xy1WE3txueWU"
      },
      "source": [
        "#파일 생성\n",
        "filename = datetime.now().strftime(\"mylogfile_%Y%m%d%H%M%S.log\")\n",
        "fileHandler = logging.FileHandler(filename, encoding=\"utf-8\")\n",
        "fileHandler.setFormatter(logFormatter)\n",
        "logger.addHandler(fileHandler)"
      ],
      "execution_count": null,
      "outputs": []
    },
    {
      "cell_type": "code",
      "metadata": {
        "id": "kKdKw6Yxuht6"
      },
      "source": [
        "logger.debug(\"로그 테스트\")"
      ],
      "execution_count": null,
      "outputs": []
    }
  ]
}