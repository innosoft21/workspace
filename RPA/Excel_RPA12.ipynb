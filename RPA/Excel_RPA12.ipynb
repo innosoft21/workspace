{
  "nbformat": 4,
  "nbformat_minor": 0,
  "metadata": {
    "colab": {
      "name": "Excel_RPA12.ipynb",
      "provenance": [],
      "authorship_tag": "ABX9TyOy3ywl67lsxrpkxhLu4g1c",
      "include_colab_link": true
    },
    "kernelspec": {
      "name": "python3",
      "display_name": "Python 3"
    },
    "language_info": {
      "name": "python"
    }
  },
  "cells": [
    {
      "cell_type": "markdown",
      "metadata": {
        "id": "view-in-github",
        "colab_type": "text"
      },
      "source": [
        "<a href=\"https://colab.research.google.com/github/innosoft21/workspace/blob/main/RPA/Excel_RPA12.ipynb\" target=\"_parent\"><img src=\"https://colab.research.google.com/assets/colab-badge.svg\" alt=\"Open In Colab\"/></a>"
      ]
    },
    {
      "cell_type": "markdown",
      "metadata": {
        "id": "6szpU9MEBcmx"
      },
      "source": [
        "RPA 엑셀자동화 12. 셀 병합하기, 해제하기\n",
        "\n",
        "merge_cells, unmerge_cells"
      ]
    },
    {
      "cell_type": "code",
      "metadata": {
        "id": "FcY-o9LD4wGK"
      },
      "source": [
        "from openpyxl import Workbook\n",
        "\n",
        "wb=Workbook() \n",
        "ws=wb.active #현재활성화된 sheet가져옴"
      ],
      "execution_count": 2,
      "outputs": []
    },
    {
      "cell_type": "code",
      "metadata": {
        "id": "kzk6osQWGqhq"
      },
      "source": [
        "ws.merge_cells(\"B2:D2\") #셀병합\n",
        "ws[\"B2\"].value = \"Merged Cell\""
      ],
      "execution_count": 3,
      "outputs": []
    },
    {
      "cell_type": "code",
      "metadata": {
        "id": "88WIGFVp_Wxm"
      },
      "source": [
        "wb.save(\"sample_merge.xlsx\")"
      ],
      "execution_count": 4,
      "outputs": []
    },
    {
      "cell_type": "code",
      "metadata": {
        "id": "du4hPp3jI8pz"
      },
      "source": [
        "from openpyxl import load_workbook\n",
        "wb=load_workbook(\"sample_merge.xlsx\")"
      ],
      "execution_count": 6,
      "outputs": []
    },
    {
      "cell_type": "code",
      "metadata": {
        "id": "voVtamNLJJZR"
      },
      "source": [
        "ws.unmerge_cells(\"B2:D2\")"
      ],
      "execution_count": 7,
      "outputs": []
    },
    {
      "cell_type": "code",
      "metadata": {
        "id": "OKSImL1IJSWW"
      },
      "source": [
        "wb.save(\"sample_merge.xlsx\")"
      ],
      "execution_count": 8,
      "outputs": []
    }
  ]
}