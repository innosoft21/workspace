{
  "nbformat": 4,
  "nbformat_minor": 0,
  "metadata": {
    "colab": {
      "name": "Email_RPA1.ipynb",
      "provenance": [],
      "authorship_tag": "ABX9TyMoQ/0JuNuOQ8fPJrutzR3o",
      "include_colab_link": true
    },
    "kernelspec": {
      "name": "python3",
      "display_name": "Python 3"
    },
    "language_info": {
      "name": "python"
    }
  },
  "cells": [
    {
      "cell_type": "markdown",
      "metadata": {
        "id": "view-in-github",
        "colab_type": "text"
      },
      "source": [
        "<a href=\"https://colab.research.google.com/github/innosoft21/workspace/blob/main/RPA/Email_RPA1.ipynb\" target=\"_parent\"><img src=\"https://colab.research.google.com/assets/colab-badge.svg\" alt=\"Open In Colab\"/></a>"
      ]
    },
    {
      "cell_type": "markdown",
      "metadata": {
        "id": "ijBaqYPaLsmQ"
      },
      "source": [
        "email 자동화 1. send\n"
      ]
    },
    {
      "cell_type": "code",
      "metadata": {
        "id": "h_ra4UKlIyug"
      },
      "source": [
        "import smtplib\n",
        "from account import *"
      ],
      "execution_count": 3,
      "outputs": []
    },
    {
      "cell_type": "code",
      "metadata": {
        "id": "zw0IBazLk_Ba"
      },
      "source": [
        "with smtplib.SMTP(\"smtp.gmail.com\", 587) as smtp:\n",
        "    smtp.ehlo() # 연결이 잘 수립되는지 확인\n",
        "    smtp.starttls() # 모든 내용이 암호화되어 전송\n",
        "    smtp.login(EMAIL_ADDRESS, EMAIL_PASSWORD) # 로그인\n",
        "\n",
        "    subject = \"test mail\" # 메일 제목\n",
        "    body = \"mail body\" # 메일 본문\n",
        "\n",
        "    msg = f\"Subject: {subject}\\n{body}\"\n",
        "\n",
        "    # 발신자, 수신자, 정해진 형식의 메시지\n",
        "    smtp.sendmail(EMAIL_ADDRESS, \"nadocoding@gmail.com\", msg) \n",
        "    "
      ],
      "execution_count": null,
      "outputs": []
    },
    {
      "cell_type": "markdown",
      "metadata": {
        "id": "JmqWhQGDlG61"
      },
      "source": [
        "Send with msg"
      ]
    },
    {
      "cell_type": "code",
      "metadata": {
        "id": "AOF5Kge_lDhn"
      },
      "source": [
        "import smtplib\n",
        "from account import *\n",
        "from email.message import EmailMessage"
      ],
      "execution_count": null,
      "outputs": []
    },
    {
      "cell_type": "code",
      "metadata": {
        "id": "rqSjvQb_lMLv"
      },
      "source": [
        "msg = EmailMessage()\n",
        "msg[\"Subject\"] = \"테스트 메일입니다\" # 제목\n",
        "msg[\"From\"] = EMAIL_ADDRESS # 보내는 사람\n",
        "msg[\"To\"] = \"nadocoding@gmail.com\" # 받는 사람\n",
        "\n",
        "# 여러 명에게 메일을 보낼 때\n",
        "#msg[\"To\"] = \"nadocoding@gmail.com, nadocoding@gmail.com\"\n",
        "#to_list = [\"nadocoding@gmail.com\", \"nadocoding@gmail.com\"]\n",
        "#msg[\"To\"] = \", \".join(to_list)\n",
        "\n",
        "# # 참조\n",
        "# msg[\"Cc\"] = \"nadocoding@gmail.com\"\n",
        "\n",
        "# # 비밀참조\n",
        "# msg[\"Bcc\"] = \"nadocoding@gmail.com\"\n",
        "\n",
        "msg.set_content(\"테스트 본문입니다\") # 본문\n",
        "\n",
        "with smtplib.SMTP(\"smtp.gmail.com\", 587) as smtp:\n",
        "    smtp.ehlo()\n",
        "    smtp.starttls()\n",
        "    smtp.login(EMAIL_ADDRESS, EMAIL_PASSWORD)\n",
        "    smtp.send_message(msg)"
      ],
      "execution_count": null,
      "outputs": []
    },
    {
      "cell_type": "markdown",
      "metadata": {
        "id": "yG6yNNOLlPgZ"
      },
      "source": [
        "Send with attach"
      ]
    },
    {
      "cell_type": "code",
      "metadata": {
        "id": "Bx7MHDN1lVuL"
      },
      "source": [
        "import smtplib\n",
        "from account import *\n",
        "from email.message import EmailMessage"
      ],
      "execution_count": null,
      "outputs": []
    },
    {
      "cell_type": "code",
      "metadata": {
        "id": "hgephanplZMQ"
      },
      "source": [
        "msg = EmailMessage()\n",
        "msg[\"Subject\"] = \"테스트 메일입니다\" # 제목\n",
        "msg[\"From\"] = EMAIL_ADDRESS # 보내는 사람\n",
        "msg[\"To\"] = \"nadocoding@gmail.com\" # 받는 사람\n",
        "msg.set_content(\"다운로드 하세요\")\n",
        "\n",
        "#MIME Type\n",
        "#msg.add_attachment()\n",
        "with open(\"btn_brush.png\", \"rb\") as f:\n",
        "    msg.add_attachment(f.read(), maintype=\"image\", subtype=\"png\", filename=f.name)\n",
        "\n",
        "with open(\"테스트.pdf\", \"rb\") as f:\n",
        "    msg.add_attachment(f.read(), maintype=\"application\", subtype=\"pdf\", filename=f.name)\n",
        "\n",
        "with open(\"엑셀.xlsx\", \"rb\") as f:\n",
        "    msg.add_attachment(f.read(), maintype=\"application\", subtype=\"octet-stream\", filename=f.name)\n",
        "\n",
        "with smtplib.SMTP(\"smtp.gmail.com\", 587) as smtp:\n",
        "    smtp.ehlo()\n",
        "    smtp.starttls()\n",
        "    smtp.login(EMAIL_ADDRESS, EMAIL_PASSWORD)\n",
        "    smtp.send_message(msg)"
      ],
      "execution_count": null,
      "outputs": []
    }
  ]
}