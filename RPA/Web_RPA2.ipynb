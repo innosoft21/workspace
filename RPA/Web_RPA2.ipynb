{
  "nbformat": 4,
  "nbformat_minor": 0,
  "metadata": {
    "colab": {
      "name": "Web_RPA2.ipynb",
      "provenance": [],
      "authorship_tag": "ABX9TyOfe4Qq/jdEPlhwE1C2rFYr",
      "include_colab_link": true
    },
    "kernelspec": {
      "name": "python3",
      "display_name": "Python 3"
    },
    "language_info": {
      "name": "python"
    }
  },
  "cells": [
    {
      "cell_type": "markdown",
      "metadata": {
        "id": "view-in-github",
        "colab_type": "text"
      },
      "source": [
        "<a href=\"https://colab.research.google.com/github/innosoft21/workspace/blob/main/RPA/Web_RPA2.ipynb\" target=\"_parent\"><img src=\"https://colab.research.google.com/assets/colab-badge.svg\" alt=\"Open In Colab\"/></a>"
      ]
    },
    {
      "cell_type": "markdown",
      "metadata": {
        "id": "ijBaqYPaLsmQ"
      },
      "source": [
        "웹 자동화 2. selenuim"
      ]
    },
    {
      "cell_type": "code",
      "metadata": {
        "id": "h_ra4UKlIyug"
      },
      "source": [
        "##pip install selenium 설치\n",
        "##ChromeDriver 다운로드"
      ],
      "execution_count": null,
      "outputs": []
    },
    {
      "cell_type": "code",
      "metadata": {
        "id": "slCkYEU7fy8-"
      },
      "source": [
        "from selenium import webdriver"
      ],
      "execution_count": null,
      "outputs": []
    },
    {
      "cell_type": "code",
      "metadata": {
        "id": "pzTU0zKvfZoX"
      },
      "source": [
        "#browser = webdriver.Chrome('./chromedriver.exe')\n",
        "browser = webdriver.Chrome()\n",
        "\n",
        "# 네이버 이동\n",
        "browser.get('http://naver.com')\n",
        "\n",
        "# 카페 메뉴 찾기\n",
        "elem = browser.find_element_by_link_text('카페')\n",
        "\n",
        "# 속성 가져오기\n",
        "elem.get_attribute('href')\n",
        "elem.get_attribute('class')\n",
        "\n",
        "# 클릭\n",
        "elem.click()\n",
        "\n",
        "# 뒤로 가기\n",
        "browser.back()\n",
        "\n",
        "# 앞으로 가기\n",
        "browser.forward()\n",
        "\n",
        "# 새로고침\n",
        "browser.refresh()\n",
        "\n",
        "# 뒤로 가기\n",
        "browser.back()\n",
        "\n",
        "# 검색창 찾기 (개발자 도구 이용)\n",
        "elem = browser.find_element_by_id('query')\n",
        "\n",
        "# 글자 입력하기\n",
        "elem.send_keys('나도코딩')\n",
        "\n",
        "# enter 치기\n",
        "from selenium.webdriver.common.keys import Keys\n",
        "elem.send_keys(Keys.ENTER)\n",
        "\n",
        "# a 태그 찾기\n",
        "elem = browser.find_element_by_tag_name('a')\n",
        "elem.get_attribute('href')\n",
        "\n",
        "# a 태그 모두 찾기\n",
        "elems = browser.find_elements_by_tag_name('a')\n",
        "for e in elems:\n",
        "    e.get_attribute('href')\n",
        "\n",
        "# 다음으로 이동\n",
        "browser.get('http://daum.net')\n",
        "\n",
        "# 검색창 찾기\n",
        "elem = browser.find_element_by_name('q')\n",
        "\n",
        "# 글자 입력하기\n",
        "elem.send_keys(\"나도코딩\")\n",
        "\n",
        "# 글자 지우기\n",
        "elem.clear()\n",
        "\n",
        "# 글자 입력하기\n",
        "elem.send_keys(\"나도코딩\")\n",
        "\n",
        "# 검색 버튼 찾기\n",
        "elem = browser.find_element_by_xpath('//*[@id=\"daumSearch\"]/fieldset/div/div/button[2]')\n",
        "\n",
        "# 클릭하기\n",
        "elem.click()\n",
        "\n",
        "# 스크린샷 찍기\n",
        "browser.save_screenshot('daum.png')\n",
        "\n",
        "# 페이지 소스 보기\n",
        "browser.page_source\n",
        "\n",
        "# 브라우저 종료\n",
        "browser.close() # 현재 탭 닫기\n",
        "browser.quit() # 브라우저 종료하기\n",
        "\n",
        "# 참고 URL : https://selenium-python.readthedocs.io/"
      ],
      "execution_count": null,
      "outputs": []
    },
    {
      "cell_type": "markdown",
      "metadata": {
        "id": "iIimcTkdPyHc"
      },
      "source": [
        ""
      ]
    }
  ]
}