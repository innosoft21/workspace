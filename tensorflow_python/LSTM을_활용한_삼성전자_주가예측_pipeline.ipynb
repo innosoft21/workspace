{
  "nbformat": 4,
  "nbformat_minor": 0,
  "metadata": {
    "colab": {
      "name": "LSTM을 활용한 삼성전자 주가예측_pipeline.ipynb",
      "provenance": [],
      "authorship_tag": "ABX9TyPd4cVpb2/FO1DxGfv2Rs26",
      "include_colab_link": true
    },
    "kernelspec": {
      "name": "python3",
      "display_name": "Python 3"
    },
    "language_info": {
      "name": "python"
    }
  },
  "cells": [
    {
      "cell_type": "markdown",
      "metadata": {
        "id": "view-in-github",
        "colab_type": "text"
      },
      "source": [
        "<a href=\"https://colab.research.google.com/github/innosoft21/workspace/blob/main/tensorflow_python/LSTM%EC%9D%84_%ED%99%9C%EC%9A%A9%ED%95%9C_%EC%82%BC%EC%84%B1%EC%A0%84%EC%9E%90_%EC%A3%BC%EA%B0%80%EC%98%88%EC%B8%A1_pipeline.ipynb\" target=\"_parent\"><img src=\"https://colab.research.google.com/assets/colab-badge.svg\" alt=\"Open In Colab\"/></a>"
      ]
    },
    {
      "cell_type": "markdown",
      "metadata": {
        "id": "JHWk3co4T87S"
      },
      "source": [
        "tensorflow Dataset을 이용한 파이프라인 구축"
      ]
    },
    {
      "cell_type": "code",
      "metadata": {
        "id": "SEVknGvdSUhM"
      },
      "source": [
        "import pandas as pd\n",
        "import numpy as np\n",
        "import matplotlib.pyplot as plt\n",
        "import seaborn as sns\n",
        "import warnings\n",
        "import os\n",
        "\n",
        "%matplotlib inline\n",
        "warnings.filterwarnings('ignore')\n",
        "\n",
        "plt.rcParams['font.family'] = 'NanumGothic'"
      ],
      "execution_count": 5,
      "outputs": []
    },
    {
      "cell_type": "code",
      "metadata": {
        "id": "SSRVcjVqSaNH"
      },
      "source": [
        "#!pip install finance-datareader\n",
        "\n",
        "import FinanceDataReader as fdr"
      ],
      "execution_count": 6,
      "outputs": []
    },
    {
      "cell_type": "code",
      "metadata": {
        "id": "W4e6kNDPShu4"
      },
      "source": [
        "# 삼성전자(005930) 전체 (1996-11-05 ~ 현재)\n",
        "samsung = fdr.DataReader('005930')"
      ],
      "execution_count": 7,
      "outputs": []
    },
    {
      "cell_type": "code",
      "metadata": {
        "colab": {
          "base_uri": "https://localhost:8080/",
          "height": 235
        },
        "id": "EU1E3Ho-SmQP",
        "outputId": "96e0c8c0-0561-4f1b-d04e-d3a844324bd9"
      },
      "source": [
        "samsung.tail()"
      ],
      "execution_count": 8,
      "outputs": [
        {
          "output_type": "execute_result",
          "data": {
            "text/html": [
              "<div>\n",
              "<style scoped>\n",
              "    .dataframe tbody tr th:only-of-type {\n",
              "        vertical-align: middle;\n",
              "    }\n",
              "\n",
              "    .dataframe tbody tr th {\n",
              "        vertical-align: top;\n",
              "    }\n",
              "\n",
              "    .dataframe thead th {\n",
              "        text-align: right;\n",
              "    }\n",
              "</style>\n",
              "<table border=\"1\" class=\"dataframe\">\n",
              "  <thead>\n",
              "    <tr style=\"text-align: right;\">\n",
              "      <th></th>\n",
              "      <th>Open</th>\n",
              "      <th>High</th>\n",
              "      <th>Low</th>\n",
              "      <th>Close</th>\n",
              "      <th>Volume</th>\n",
              "      <th>Change</th>\n",
              "    </tr>\n",
              "    <tr>\n",
              "      <th>Date</th>\n",
              "      <th></th>\n",
              "      <th></th>\n",
              "      <th></th>\n",
              "      <th></th>\n",
              "      <th></th>\n",
              "      <th></th>\n",
              "    </tr>\n",
              "  </thead>\n",
              "  <tbody>\n",
              "    <tr>\n",
              "      <th>2021-04-29</th>\n",
              "      <td>82400</td>\n",
              "      <td>82500</td>\n",
              "      <td>81500</td>\n",
              "      <td>81700</td>\n",
              "      <td>20000973</td>\n",
              "      <td>-0.004872</td>\n",
              "    </tr>\n",
              "    <tr>\n",
              "      <th>2021-04-30</th>\n",
              "      <td>81900</td>\n",
              "      <td>82100</td>\n",
              "      <td>81500</td>\n",
              "      <td>81500</td>\n",
              "      <td>18673197</td>\n",
              "      <td>-0.002448</td>\n",
              "    </tr>\n",
              "    <tr>\n",
              "      <th>2021-05-03</th>\n",
              "      <td>81000</td>\n",
              "      <td>82400</td>\n",
              "      <td>81000</td>\n",
              "      <td>81700</td>\n",
              "      <td>15710336</td>\n",
              "      <td>0.002454</td>\n",
              "    </tr>\n",
              "    <tr>\n",
              "      <th>2021-05-04</th>\n",
              "      <td>81900</td>\n",
              "      <td>82600</td>\n",
              "      <td>81800</td>\n",
              "      <td>82600</td>\n",
              "      <td>12532550</td>\n",
              "      <td>0.011016</td>\n",
              "    </tr>\n",
              "    <tr>\n",
              "      <th>2021-05-06</th>\n",
              "      <td>81700</td>\n",
              "      <td>82300</td>\n",
              "      <td>81700</td>\n",
              "      <td>82100</td>\n",
              "      <td>6156800</td>\n",
              "      <td>-0.006053</td>\n",
              "    </tr>\n",
              "  </tbody>\n",
              "</table>\n",
              "</div>"
            ],
            "text/plain": [
              "             Open   High    Low  Close    Volume    Change\n",
              "Date                                                      \n",
              "2021-04-29  82400  82500  81500  81700  20000973 -0.004872\n",
              "2021-04-30  81900  82100  81500  81500  18673197 -0.002448\n",
              "2021-05-03  81000  82400  81000  81700  15710336  0.002454\n",
              "2021-05-04  81900  82600  81800  82600  12532550  0.011016\n",
              "2021-05-06  81700  82300  81700  82100   6156800 -0.006053"
            ]
          },
          "metadata": {
            "tags": []
          },
          "execution_count": 8
        }
      ]
    },
    {
      "cell_type": "code",
      "metadata": {
        "id": "UtYyZ1DmSoP0"
      },
      "source": [
        "# Apple(AAPL), 애플\n",
        "apple = fdr.DataReader('AAPL')"
      ],
      "execution_count": 9,
      "outputs": []
    },
    {
      "cell_type": "code",
      "metadata": {
        "colab": {
          "base_uri": "https://localhost:8080/",
          "height": 235
        },
        "id": "Yp9ce5mYSqTk",
        "outputId": "a50850bb-a629-450d-db24-3e22395a6b23"
      },
      "source": [
        "apple.tail()"
      ],
      "execution_count": 10,
      "outputs": [
        {
          "output_type": "execute_result",
          "data": {
            "text/html": [
              "<div>\n",
              "<style scoped>\n",
              "    .dataframe tbody tr th:only-of-type {\n",
              "        vertical-align: middle;\n",
              "    }\n",
              "\n",
              "    .dataframe tbody tr th {\n",
              "        vertical-align: top;\n",
              "    }\n",
              "\n",
              "    .dataframe thead th {\n",
              "        text-align: right;\n",
              "    }\n",
              "</style>\n",
              "<table border=\"1\" class=\"dataframe\">\n",
              "  <thead>\n",
              "    <tr style=\"text-align: right;\">\n",
              "      <th></th>\n",
              "      <th>Close</th>\n",
              "      <th>Open</th>\n",
              "      <th>High</th>\n",
              "      <th>Low</th>\n",
              "      <th>Volume</th>\n",
              "      <th>Change</th>\n",
              "    </tr>\n",
              "    <tr>\n",
              "      <th>Date</th>\n",
              "      <th></th>\n",
              "      <th></th>\n",
              "      <th></th>\n",
              "      <th></th>\n",
              "      <th></th>\n",
              "      <th></th>\n",
              "    </tr>\n",
              "  </thead>\n",
              "  <tbody>\n",
              "    <tr>\n",
              "      <th>2021-04-29</th>\n",
              "      <td>133.48</td>\n",
              "      <td>136.72</td>\n",
              "      <td>136.99</td>\n",
              "      <td>132.49</td>\n",
              "      <td>151100000.0</td>\n",
              "      <td>-0.0007</td>\n",
              "    </tr>\n",
              "    <tr>\n",
              "      <th>2021-04-30</th>\n",
              "      <td>131.46</td>\n",
              "      <td>131.77</td>\n",
              "      <td>133.55</td>\n",
              "      <td>131.12</td>\n",
              "      <td>109840000.0</td>\n",
              "      <td>-0.0151</td>\n",
              "    </tr>\n",
              "    <tr>\n",
              "      <th>2021-05-03</th>\n",
              "      <td>132.54</td>\n",
              "      <td>132.07</td>\n",
              "      <td>134.06</td>\n",
              "      <td>131.84</td>\n",
              "      <td>75140000.0</td>\n",
              "      <td>0.0082</td>\n",
              "    </tr>\n",
              "    <tr>\n",
              "      <th>2021-05-04</th>\n",
              "      <td>127.85</td>\n",
              "      <td>128.60</td>\n",
              "      <td>128.60</td>\n",
              "      <td>126.74</td>\n",
              "      <td>136570000.0</td>\n",
              "      <td>-0.0354</td>\n",
              "    </tr>\n",
              "    <tr>\n",
              "      <th>2021-05-05</th>\n",
              "      <td>128.10</td>\n",
              "      <td>129.22</td>\n",
              "      <td>130.43</td>\n",
              "      <td>127.98</td>\n",
              "      <td>84000000.0</td>\n",
              "      <td>0.0020</td>\n",
              "    </tr>\n",
              "  </tbody>\n",
              "</table>\n",
              "</div>"
            ],
            "text/plain": [
              "             Close    Open    High     Low       Volume  Change\n",
              "Date                                                           \n",
              "2021-04-29  133.48  136.72  136.99  132.49  151100000.0 -0.0007\n",
              "2021-04-30  131.46  131.77  133.55  131.12  109840000.0 -0.0151\n",
              "2021-05-03  132.54  132.07  134.06  131.84   75140000.0  0.0082\n",
              "2021-05-04  127.85  128.60  128.60  126.74  136570000.0 -0.0354\n",
              "2021-05-05  128.10  129.22  130.43  127.98   84000000.0  0.0020"
            ]
          },
          "metadata": {
            "tags": []
          },
          "execution_count": 10
        }
      ]
    },
    {
      "cell_type": "code",
      "metadata": {
        "id": "DBdEHXq3SsSY"
      },
      "source": [
        "# Apple(AAPL), 애플\n",
        "apple = fdr.DataReader('AAPL', '2017')"
      ],
      "execution_count": 11,
      "outputs": []
    },
    {
      "cell_type": "code",
      "metadata": {
        "colab": {
          "base_uri": "https://localhost:8080/",
          "height": 235
        },
        "id": "h7uJ4IaTSuIs",
        "outputId": "52b09b95-0d67-4152-9c0c-a62531725b65"
      },
      "source": [
        "apple.head()"
      ],
      "execution_count": 12,
      "outputs": [
        {
          "output_type": "execute_result",
          "data": {
            "text/html": [
              "<div>\n",
              "<style scoped>\n",
              "    .dataframe tbody tr th:only-of-type {\n",
              "        vertical-align: middle;\n",
              "    }\n",
              "\n",
              "    .dataframe tbody tr th {\n",
              "        vertical-align: top;\n",
              "    }\n",
              "\n",
              "    .dataframe thead th {\n",
              "        text-align: right;\n",
              "    }\n",
              "</style>\n",
              "<table border=\"1\" class=\"dataframe\">\n",
              "  <thead>\n",
              "    <tr style=\"text-align: right;\">\n",
              "      <th></th>\n",
              "      <th>Close</th>\n",
              "      <th>Open</th>\n",
              "      <th>High</th>\n",
              "      <th>Low</th>\n",
              "      <th>Volume</th>\n",
              "      <th>Change</th>\n",
              "    </tr>\n",
              "    <tr>\n",
              "      <th>Date</th>\n",
              "      <th></th>\n",
              "      <th></th>\n",
              "      <th></th>\n",
              "      <th></th>\n",
              "      <th></th>\n",
              "      <th></th>\n",
              "    </tr>\n",
              "  </thead>\n",
              "  <tbody>\n",
              "    <tr>\n",
              "      <th>2017-01-03</th>\n",
              "      <td>29.04</td>\n",
              "      <td>28.95</td>\n",
              "      <td>29.08</td>\n",
              "      <td>28.69</td>\n",
              "      <td>115130000.0</td>\n",
              "      <td>0.0031</td>\n",
              "    </tr>\n",
              "    <tr>\n",
              "      <th>2017-01-04</th>\n",
              "      <td>29.00</td>\n",
              "      <td>28.96</td>\n",
              "      <td>29.13</td>\n",
              "      <td>28.94</td>\n",
              "      <td>84470000.0</td>\n",
              "      <td>-0.0014</td>\n",
              "    </tr>\n",
              "    <tr>\n",
              "      <th>2017-01-05</th>\n",
              "      <td>29.15</td>\n",
              "      <td>28.98</td>\n",
              "      <td>29.22</td>\n",
              "      <td>28.95</td>\n",
              "      <td>88770000.0</td>\n",
              "      <td>0.0052</td>\n",
              "    </tr>\n",
              "    <tr>\n",
              "      <th>2017-01-06</th>\n",
              "      <td>29.48</td>\n",
              "      <td>29.20</td>\n",
              "      <td>29.54</td>\n",
              "      <td>29.12</td>\n",
              "      <td>127010000.0</td>\n",
              "      <td>0.0113</td>\n",
              "    </tr>\n",
              "    <tr>\n",
              "      <th>2017-01-09</th>\n",
              "      <td>29.75</td>\n",
              "      <td>29.49</td>\n",
              "      <td>29.86</td>\n",
              "      <td>29.48</td>\n",
              "      <td>134250000.0</td>\n",
              "      <td>0.0092</td>\n",
              "    </tr>\n",
              "  </tbody>\n",
              "</table>\n",
              "</div>"
            ],
            "text/plain": [
              "            Close   Open   High    Low       Volume  Change\n",
              "Date                                                       \n",
              "2017-01-03  29.04  28.95  29.08  28.69  115130000.0  0.0031\n",
              "2017-01-04  29.00  28.96  29.13  28.94   84470000.0 -0.0014\n",
              "2017-01-05  29.15  28.98  29.22  28.95   88770000.0  0.0052\n",
              "2017-01-06  29.48  29.20  29.54  29.12  127010000.0  0.0113\n",
              "2017-01-09  29.75  29.49  29.86  29.48  134250000.0  0.0092"
            ]
          },
          "metadata": {
            "tags": []
          },
          "execution_count": 12
        }
      ]
    },
    {
      "cell_type": "code",
      "metadata": {
        "id": "666D9dZhSv16"
      },
      "source": [
        "# Ford(F), 1980-01-01 ~ 2019-12-30 (40년 데이터)\n",
        "ford = fdr.DataReader('F', '1980-01-01', '2019-12-30')"
      ],
      "execution_count": 13,
      "outputs": []
    },
    {
      "cell_type": "code",
      "metadata": {
        "colab": {
          "base_uri": "https://localhost:8080/",
          "height": 235
        },
        "id": "IxZ9rCT7SzEG",
        "outputId": "f9bc2b09-2b7d-490d-c16d-0ae916bae4e7"
      },
      "source": [
        "ford.head()"
      ],
      "execution_count": 14,
      "outputs": [
        {
          "output_type": "execute_result",
          "data": {
            "text/html": [
              "<div>\n",
              "<style scoped>\n",
              "    .dataframe tbody tr th:only-of-type {\n",
              "        vertical-align: middle;\n",
              "    }\n",
              "\n",
              "    .dataframe tbody tr th {\n",
              "        vertical-align: top;\n",
              "    }\n",
              "\n",
              "    .dataframe thead th {\n",
              "        text-align: right;\n",
              "    }\n",
              "</style>\n",
              "<table border=\"1\" class=\"dataframe\">\n",
              "  <thead>\n",
              "    <tr style=\"text-align: right;\">\n",
              "      <th></th>\n",
              "      <th>Close</th>\n",
              "      <th>Open</th>\n",
              "      <th>High</th>\n",
              "      <th>Low</th>\n",
              "      <th>Volume</th>\n",
              "      <th>Change</th>\n",
              "    </tr>\n",
              "    <tr>\n",
              "      <th>Date</th>\n",
              "      <th></th>\n",
              "      <th></th>\n",
              "      <th></th>\n",
              "      <th></th>\n",
              "      <th></th>\n",
              "      <th></th>\n",
              "    </tr>\n",
              "  </thead>\n",
              "  <tbody>\n",
              "    <tr>\n",
              "      <th>1980-03-18</th>\n",
              "      <td>1.85</td>\n",
              "      <td>1.85</td>\n",
              "      <td>1.88</td>\n",
              "      <td>1.84</td>\n",
              "      <td>3770000.0</td>\n",
              "      <td>-0.0160</td>\n",
              "    </tr>\n",
              "    <tr>\n",
              "      <th>1980-03-19</th>\n",
              "      <td>1.87</td>\n",
              "      <td>1.87</td>\n",
              "      <td>1.88</td>\n",
              "      <td>1.85</td>\n",
              "      <td>1560000.0</td>\n",
              "      <td>0.0108</td>\n",
              "    </tr>\n",
              "    <tr>\n",
              "      <th>1980-03-20</th>\n",
              "      <td>1.88</td>\n",
              "      <td>1.88</td>\n",
              "      <td>1.90</td>\n",
              "      <td>1.87</td>\n",
              "      <td>1450000.0</td>\n",
              "      <td>0.0053</td>\n",
              "    </tr>\n",
              "    <tr>\n",
              "      <th>1980-03-21</th>\n",
              "      <td>1.80</td>\n",
              "      <td>1.80</td>\n",
              "      <td>1.87</td>\n",
              "      <td>1.78</td>\n",
              "      <td>5020000.0</td>\n",
              "      <td>-0.0426</td>\n",
              "    </tr>\n",
              "    <tr>\n",
              "      <th>1980-03-24</th>\n",
              "      <td>1.73</td>\n",
              "      <td>1.73</td>\n",
              "      <td>1.77</td>\n",
              "      <td>1.68</td>\n",
              "      <td>3330000.0</td>\n",
              "      <td>-0.0389</td>\n",
              "    </tr>\n",
              "  </tbody>\n",
              "</table>\n",
              "</div>"
            ],
            "text/plain": [
              "            Close  Open  High   Low     Volume  Change\n",
              "Date                                                  \n",
              "1980-03-18   1.85  1.85  1.88  1.84  3770000.0 -0.0160\n",
              "1980-03-19   1.87  1.87  1.88  1.85  1560000.0  0.0108\n",
              "1980-03-20   1.88  1.88  1.90  1.87  1450000.0  0.0053\n",
              "1980-03-21   1.80  1.80  1.87  1.78  5020000.0 -0.0426\n",
              "1980-03-24   1.73  1.73  1.77  1.68  3330000.0 -0.0389"
            ]
          },
          "metadata": {
            "tags": []
          },
          "execution_count": 14
        }
      ]
    },
    {
      "cell_type": "code",
      "metadata": {
        "colab": {
          "base_uri": "https://localhost:8080/",
          "height": 235
        },
        "id": "h_RVUSDySzdx",
        "outputId": "a366d8c6-5e1c-430b-c0fb-87295efff3e6"
      },
      "source": [
        "ford.tail()"
      ],
      "execution_count": 15,
      "outputs": [
        {
          "output_type": "execute_result",
          "data": {
            "text/html": [
              "<div>\n",
              "<style scoped>\n",
              "    .dataframe tbody tr th:only-of-type {\n",
              "        vertical-align: middle;\n",
              "    }\n",
              "\n",
              "    .dataframe tbody tr th {\n",
              "        vertical-align: top;\n",
              "    }\n",
              "\n",
              "    .dataframe thead th {\n",
              "        text-align: right;\n",
              "    }\n",
              "</style>\n",
              "<table border=\"1\" class=\"dataframe\">\n",
              "  <thead>\n",
              "    <tr style=\"text-align: right;\">\n",
              "      <th></th>\n",
              "      <th>Close</th>\n",
              "      <th>Open</th>\n",
              "      <th>High</th>\n",
              "      <th>Low</th>\n",
              "      <th>Volume</th>\n",
              "      <th>Change</th>\n",
              "    </tr>\n",
              "    <tr>\n",
              "      <th>Date</th>\n",
              "      <th></th>\n",
              "      <th></th>\n",
              "      <th></th>\n",
              "      <th></th>\n",
              "      <th></th>\n",
              "      <th></th>\n",
              "    </tr>\n",
              "  </thead>\n",
              "  <tbody>\n",
              "    <tr>\n",
              "      <th>2019-12-23</th>\n",
              "      <td>9.44</td>\n",
              "      <td>9.50</td>\n",
              "      <td>9.57</td>\n",
              "      <td>9.40</td>\n",
              "      <td>54800000.0</td>\n",
              "      <td>-0.0042</td>\n",
              "    </tr>\n",
              "    <tr>\n",
              "      <th>2019-12-24</th>\n",
              "      <td>9.47</td>\n",
              "      <td>9.44</td>\n",
              "      <td>9.49</td>\n",
              "      <td>9.43</td>\n",
              "      <td>11880000.0</td>\n",
              "      <td>0.0032</td>\n",
              "    </tr>\n",
              "    <tr>\n",
              "      <th>2019-12-26</th>\n",
              "      <td>9.45</td>\n",
              "      <td>9.47</td>\n",
              "      <td>9.49</td>\n",
              "      <td>9.43</td>\n",
              "      <td>28980000.0</td>\n",
              "      <td>-0.0021</td>\n",
              "    </tr>\n",
              "    <tr>\n",
              "      <th>2019-12-27</th>\n",
              "      <td>9.36</td>\n",
              "      <td>9.45</td>\n",
              "      <td>9.46</td>\n",
              "      <td>9.35</td>\n",
              "      <td>28270000.0</td>\n",
              "      <td>-0.0095</td>\n",
              "    </tr>\n",
              "    <tr>\n",
              "      <th>2019-12-30</th>\n",
              "      <td>9.25</td>\n",
              "      <td>9.34</td>\n",
              "      <td>9.35</td>\n",
              "      <td>9.23</td>\n",
              "      <td>36090000.0</td>\n",
              "      <td>-0.0118</td>\n",
              "    </tr>\n",
              "  </tbody>\n",
              "</table>\n",
              "</div>"
            ],
            "text/plain": [
              "            Close  Open  High   Low      Volume  Change\n",
              "Date                                                   \n",
              "2019-12-23   9.44  9.50  9.57  9.40  54800000.0 -0.0042\n",
              "2019-12-24   9.47  9.44  9.49  9.43  11880000.0  0.0032\n",
              "2019-12-26   9.45  9.47  9.49  9.43  28980000.0 -0.0021\n",
              "2019-12-27   9.36  9.45  9.46  9.35  28270000.0 -0.0095\n",
              "2019-12-30   9.25  9.34  9.35  9.23  36090000.0 -0.0118"
            ]
          },
          "metadata": {
            "tags": []
          },
          "execution_count": 15
        }
      ]
    },
    {
      "cell_type": "code",
      "metadata": {
        "id": "3ffz3rHgS1is"
      },
      "source": [
        "# 삼성전자 주식코드: 005930\n",
        "STOCK_CODE = '005930'"
      ],
      "execution_count": 16,
      "outputs": []
    },
    {
      "cell_type": "code",
      "metadata": {
        "id": "LuOn9vCvS4xD"
      },
      "source": [
        "stock = fdr.DataReader(STOCK_CODE)"
      ],
      "execution_count": 17,
      "outputs": []
    },
    {
      "cell_type": "code",
      "metadata": {
        "colab": {
          "base_uri": "https://localhost:8080/",
          "height": 235
        },
        "id": "WOGlzOqqS6XW",
        "outputId": "38f36185-8da9-42c0-bee6-81509a7094b3"
      },
      "source": [
        "stock.head()"
      ],
      "execution_count": 18,
      "outputs": [
        {
          "output_type": "execute_result",
          "data": {
            "text/html": [
              "<div>\n",
              "<style scoped>\n",
              "    .dataframe tbody tr th:only-of-type {\n",
              "        vertical-align: middle;\n",
              "    }\n",
              "\n",
              "    .dataframe tbody tr th {\n",
              "        vertical-align: top;\n",
              "    }\n",
              "\n",
              "    .dataframe thead th {\n",
              "        text-align: right;\n",
              "    }\n",
              "</style>\n",
              "<table border=\"1\" class=\"dataframe\">\n",
              "  <thead>\n",
              "    <tr style=\"text-align: right;\">\n",
              "      <th></th>\n",
              "      <th>Open</th>\n",
              "      <th>High</th>\n",
              "      <th>Low</th>\n",
              "      <th>Close</th>\n",
              "      <th>Volume</th>\n",
              "      <th>Change</th>\n",
              "    </tr>\n",
              "    <tr>\n",
              "      <th>Date</th>\n",
              "      <th></th>\n",
              "      <th></th>\n",
              "      <th></th>\n",
              "      <th></th>\n",
              "      <th></th>\n",
              "      <th></th>\n",
              "    </tr>\n",
              "  </thead>\n",
              "  <tbody>\n",
              "    <tr>\n",
              "      <th>1997-05-09</th>\n",
              "      <td>1058</td>\n",
              "      <td>1067</td>\n",
              "      <td>1049</td>\n",
              "      <td>1065</td>\n",
              "      <td>80550</td>\n",
              "      <td>NaN</td>\n",
              "    </tr>\n",
              "    <tr>\n",
              "      <th>1997-05-10</th>\n",
              "      <td>1067</td>\n",
              "      <td>1083</td>\n",
              "      <td>1063</td>\n",
              "      <td>1065</td>\n",
              "      <td>45330</td>\n",
              "      <td>0.000000</td>\n",
              "    </tr>\n",
              "    <tr>\n",
              "      <th>1997-05-12</th>\n",
              "      <td>1077</td>\n",
              "      <td>1095</td>\n",
              "      <td>1068</td>\n",
              "      <td>1085</td>\n",
              "      <td>106040</td>\n",
              "      <td>0.018779</td>\n",
              "    </tr>\n",
              "    <tr>\n",
              "      <th>1997-05-13</th>\n",
              "      <td>1086</td>\n",
              "      <td>1099</td>\n",
              "      <td>1070</td>\n",
              "      <td>1099</td>\n",
              "      <td>75720</td>\n",
              "      <td>0.012903</td>\n",
              "    </tr>\n",
              "    <tr>\n",
              "      <th>1997-05-15</th>\n",
              "      <td>1102</td>\n",
              "      <td>1141</td>\n",
              "      <td>1100</td>\n",
              "      <td>1131</td>\n",
              "      <td>188280</td>\n",
              "      <td>0.029117</td>\n",
              "    </tr>\n",
              "  </tbody>\n",
              "</table>\n",
              "</div>"
            ],
            "text/plain": [
              "            Open  High   Low  Close  Volume    Change\n",
              "Date                                                 \n",
              "1997-05-09  1058  1067  1049   1065   80550       NaN\n",
              "1997-05-10  1067  1083  1063   1065   45330  0.000000\n",
              "1997-05-12  1077  1095  1068   1085  106040  0.018779\n",
              "1997-05-13  1086  1099  1070   1099   75720  0.012903\n",
              "1997-05-15  1102  1141  1100   1131  188280  0.029117"
            ]
          },
          "metadata": {
            "tags": []
          },
          "execution_count": 18
        }
      ]
    },
    {
      "cell_type": "code",
      "metadata": {
        "colab": {
          "base_uri": "https://localhost:8080/",
          "height": 235
        },
        "id": "UnMuGFXLS8W_",
        "outputId": "e642f04e-2583-4856-86ef-431064fa3e41"
      },
      "source": [
        "stock.tail()"
      ],
      "execution_count": 19,
      "outputs": [
        {
          "output_type": "execute_result",
          "data": {
            "text/html": [
              "<div>\n",
              "<style scoped>\n",
              "    .dataframe tbody tr th:only-of-type {\n",
              "        vertical-align: middle;\n",
              "    }\n",
              "\n",
              "    .dataframe tbody tr th {\n",
              "        vertical-align: top;\n",
              "    }\n",
              "\n",
              "    .dataframe thead th {\n",
              "        text-align: right;\n",
              "    }\n",
              "</style>\n",
              "<table border=\"1\" class=\"dataframe\">\n",
              "  <thead>\n",
              "    <tr style=\"text-align: right;\">\n",
              "      <th></th>\n",
              "      <th>Open</th>\n",
              "      <th>High</th>\n",
              "      <th>Low</th>\n",
              "      <th>Close</th>\n",
              "      <th>Volume</th>\n",
              "      <th>Change</th>\n",
              "    </tr>\n",
              "    <tr>\n",
              "      <th>Date</th>\n",
              "      <th></th>\n",
              "      <th></th>\n",
              "      <th></th>\n",
              "      <th></th>\n",
              "      <th></th>\n",
              "      <th></th>\n",
              "    </tr>\n",
              "  </thead>\n",
              "  <tbody>\n",
              "    <tr>\n",
              "      <th>2021-04-29</th>\n",
              "      <td>82400</td>\n",
              "      <td>82500</td>\n",
              "      <td>81500</td>\n",
              "      <td>81700</td>\n",
              "      <td>20000973</td>\n",
              "      <td>-0.004872</td>\n",
              "    </tr>\n",
              "    <tr>\n",
              "      <th>2021-04-30</th>\n",
              "      <td>81900</td>\n",
              "      <td>82100</td>\n",
              "      <td>81500</td>\n",
              "      <td>81500</td>\n",
              "      <td>18673197</td>\n",
              "      <td>-0.002448</td>\n",
              "    </tr>\n",
              "    <tr>\n",
              "      <th>2021-05-03</th>\n",
              "      <td>81000</td>\n",
              "      <td>82400</td>\n",
              "      <td>81000</td>\n",
              "      <td>81700</td>\n",
              "      <td>15710336</td>\n",
              "      <td>0.002454</td>\n",
              "    </tr>\n",
              "    <tr>\n",
              "      <th>2021-05-04</th>\n",
              "      <td>81900</td>\n",
              "      <td>82600</td>\n",
              "      <td>81800</td>\n",
              "      <td>82600</td>\n",
              "      <td>12532550</td>\n",
              "      <td>0.011016</td>\n",
              "    </tr>\n",
              "    <tr>\n",
              "      <th>2021-05-06</th>\n",
              "      <td>81700</td>\n",
              "      <td>82300</td>\n",
              "      <td>81700</td>\n",
              "      <td>82100</td>\n",
              "      <td>6156800</td>\n",
              "      <td>-0.006053</td>\n",
              "    </tr>\n",
              "  </tbody>\n",
              "</table>\n",
              "</div>"
            ],
            "text/plain": [
              "             Open   High    Low  Close    Volume    Change\n",
              "Date                                                      \n",
              "2021-04-29  82400  82500  81500  81700  20000973 -0.004872\n",
              "2021-04-30  81900  82100  81500  81500  18673197 -0.002448\n",
              "2021-05-03  81000  82400  81000  81700  15710336  0.002454\n",
              "2021-05-04  81900  82600  81800  82600  12532550  0.011016\n",
              "2021-05-06  81700  82300  81700  82100   6156800 -0.006053"
            ]
          },
          "metadata": {
            "tags": []
          },
          "execution_count": 19
        }
      ]
    },
    {
      "cell_type": "code",
      "metadata": {
        "colab": {
          "base_uri": "https://localhost:8080/"
        },
        "id": "4OtN0Z7DS94Z",
        "outputId": "f8e9d578-67d7-4f19-8e4b-cfe39285d180"
      },
      "source": [
        "stock.index"
      ],
      "execution_count": 20,
      "outputs": [
        {
          "output_type": "execute_result",
          "data": {
            "text/plain": [
              "DatetimeIndex(['1997-05-09', '1997-05-10', '1997-05-12', '1997-05-13',\n",
              "               '1997-05-15', '1997-05-16', '1997-05-17', '1997-05-19',\n",
              "               '1997-05-20', '1997-05-21',\n",
              "               ...\n",
              "               '2021-04-22', '2021-04-23', '2021-04-26', '2021-04-27',\n",
              "               '2021-04-28', '2021-04-29', '2021-04-30', '2021-05-03',\n",
              "               '2021-05-04', '2021-05-06'],\n",
              "              dtype='datetime64[ns]', name='Date', length=6000, freq=None)"
            ]
          },
          "metadata": {
            "tags": []
          },
          "execution_count": 20
        }
      ]
    },
    {
      "cell_type": "code",
      "metadata": {
        "id": "LErWV1MmS_rf"
      },
      "source": [
        "stock['Year'] = stock.index.year\n",
        "stock['Month'] = stock.index.month\n",
        "stock['Day'] = stock.index.day"
      ],
      "execution_count": 21,
      "outputs": []
    },
    {
      "cell_type": "code",
      "metadata": {
        "colab": {
          "base_uri": "https://localhost:8080/",
          "height": 235
        },
        "id": "7o-xcpKVTBdJ",
        "outputId": "8125f944-2414-452a-cde4-e573fc52c1a7"
      },
      "source": [
        "stock.head()"
      ],
      "execution_count": 22,
      "outputs": [
        {
          "output_type": "execute_result",
          "data": {
            "text/html": [
              "<div>\n",
              "<style scoped>\n",
              "    .dataframe tbody tr th:only-of-type {\n",
              "        vertical-align: middle;\n",
              "    }\n",
              "\n",
              "    .dataframe tbody tr th {\n",
              "        vertical-align: top;\n",
              "    }\n",
              "\n",
              "    .dataframe thead th {\n",
              "        text-align: right;\n",
              "    }\n",
              "</style>\n",
              "<table border=\"1\" class=\"dataframe\">\n",
              "  <thead>\n",
              "    <tr style=\"text-align: right;\">\n",
              "      <th></th>\n",
              "      <th>Open</th>\n",
              "      <th>High</th>\n",
              "      <th>Low</th>\n",
              "      <th>Close</th>\n",
              "      <th>Volume</th>\n",
              "      <th>Change</th>\n",
              "      <th>Year</th>\n",
              "      <th>Month</th>\n",
              "      <th>Day</th>\n",
              "    </tr>\n",
              "    <tr>\n",
              "      <th>Date</th>\n",
              "      <th></th>\n",
              "      <th></th>\n",
              "      <th></th>\n",
              "      <th></th>\n",
              "      <th></th>\n",
              "      <th></th>\n",
              "      <th></th>\n",
              "      <th></th>\n",
              "      <th></th>\n",
              "    </tr>\n",
              "  </thead>\n",
              "  <tbody>\n",
              "    <tr>\n",
              "      <th>1997-05-09</th>\n",
              "      <td>1058</td>\n",
              "      <td>1067</td>\n",
              "      <td>1049</td>\n",
              "      <td>1065</td>\n",
              "      <td>80550</td>\n",
              "      <td>NaN</td>\n",
              "      <td>1997</td>\n",
              "      <td>5</td>\n",
              "      <td>9</td>\n",
              "    </tr>\n",
              "    <tr>\n",
              "      <th>1997-05-10</th>\n",
              "      <td>1067</td>\n",
              "      <td>1083</td>\n",
              "      <td>1063</td>\n",
              "      <td>1065</td>\n",
              "      <td>45330</td>\n",
              "      <td>0.000000</td>\n",
              "      <td>1997</td>\n",
              "      <td>5</td>\n",
              "      <td>10</td>\n",
              "    </tr>\n",
              "    <tr>\n",
              "      <th>1997-05-12</th>\n",
              "      <td>1077</td>\n",
              "      <td>1095</td>\n",
              "      <td>1068</td>\n",
              "      <td>1085</td>\n",
              "      <td>106040</td>\n",
              "      <td>0.018779</td>\n",
              "      <td>1997</td>\n",
              "      <td>5</td>\n",
              "      <td>12</td>\n",
              "    </tr>\n",
              "    <tr>\n",
              "      <th>1997-05-13</th>\n",
              "      <td>1086</td>\n",
              "      <td>1099</td>\n",
              "      <td>1070</td>\n",
              "      <td>1099</td>\n",
              "      <td>75720</td>\n",
              "      <td>0.012903</td>\n",
              "      <td>1997</td>\n",
              "      <td>5</td>\n",
              "      <td>13</td>\n",
              "    </tr>\n",
              "    <tr>\n",
              "      <th>1997-05-15</th>\n",
              "      <td>1102</td>\n",
              "      <td>1141</td>\n",
              "      <td>1100</td>\n",
              "      <td>1131</td>\n",
              "      <td>188280</td>\n",
              "      <td>0.029117</td>\n",
              "      <td>1997</td>\n",
              "      <td>5</td>\n",
              "      <td>15</td>\n",
              "    </tr>\n",
              "  </tbody>\n",
              "</table>\n",
              "</div>"
            ],
            "text/plain": [
              "            Open  High   Low  Close  Volume    Change  Year  Month  Day\n",
              "Date                                                                   \n",
              "1997-05-09  1058  1067  1049   1065   80550       NaN  1997      5    9\n",
              "1997-05-10  1067  1083  1063   1065   45330  0.000000  1997      5   10\n",
              "1997-05-12  1077  1095  1068   1085  106040  0.018779  1997      5   12\n",
              "1997-05-13  1086  1099  1070   1099   75720  0.012903  1997      5   13\n",
              "1997-05-15  1102  1141  1100   1131  188280  0.029117  1997      5   15"
            ]
          },
          "metadata": {
            "tags": []
          },
          "execution_count": 22
        }
      ]
    },
    {
      "cell_type": "code",
      "metadata": {
        "colab": {
          "base_uri": "https://localhost:8080/",
          "height": 569
        },
        "id": "et778VfvTDK8",
        "outputId": "d89ff9f9-3acc-4c31-a9fc-c75e55555d44"
      },
      "source": [
        "plt.figure(figsize=(16, 9))\n",
        "sns.lineplot(y=stock['Close'], x=stock.index)\n",
        "plt.xlabel('time')\n",
        "plt.ylabel('price')"
      ],
      "execution_count": 23,
      "outputs": [
        {
          "output_type": "execute_result",
          "data": {
            "text/plain": [
              "Text(0, 0.5, 'price')"
            ]
          },
          "metadata": {
            "tags": []
          },
          "execution_count": 23
        },
        {
          "output_type": "stream",
          "text": [
            "findfont: Font family ['NanumGothic'] not found. Falling back to DejaVu Sans.\n"
          ],
          "name": "stderr"
        },
        {
          "output_type": "display_data",
          "data": {
            "image/png": "[encoded data removed]",
            "text/plain": [
              "<Figure size 1152x648 with 1 Axes>"
            ]
          },
          "metadata": {
            "tags": [],
            "needs_background": "light"
          }
        }
      ]
    },
    {
      "cell_type": "code",
      "metadata": {
        "colab": {
          "base_uri": "https://localhost:8080/",
          "height": 675
        },
        "id": "RDpM2EeYTFAG",
        "outputId": "4fb84da1-2ad4-45c1-8ab7-37ee966eab59"
      },
      "source": [
        "time_steps = [['1990', '2000'], \n",
        "              ['2000', '2010'], \n",
        "              ['2010', '2015'], \n",
        "              ['2015', '2020']]\n",
        "\n",
        "fig, axes = plt.subplots(2, 2)\n",
        "fig.set_size_inches(16, 9)\n",
        "for i in range(4):\n",
        "    ax = axes[i//2, i%2]\n",
        "    df = stock.loc[(stock.index > time_steps[i][0]) & (stock.index < time_steps[i][1])]\n",
        "    sns.lineplot(y=df['Close'], x=df.index, ax=ax)\n",
        "    ax.set_title(f'{time_steps[i][0]}~{time_steps[i][1]}')\n",
        "    ax.set_xlabel('time')\n",
        "    ax.set_ylabel('price')\n",
        "plt.tight_layout()\n",
        "plt.show()"
      ],
      "execution_count": 24,
      "outputs": [
        {
          "output_type": "stream",
          "text": [
            "findfont: Font family ['NanumGothic'] not found. Falling back to DejaVu Sans.\n"
          ],
          "name": "stderr"
        },
        {
          "output_type": "display_data",
          "data": {
            "image/png": "[encoded data removed]",
            "text/plain": [
              "<Figure size 1152x648 with 4 Axes>"
            ]
          },
          "metadata": {
            "tags": [],
            "needs_background": "light"
          }
        }
      ]
    },
    {
      "cell_type": "markdown",
      "metadata": {
        "id": "36DT80FaTJgS"
      },
      "source": [
        "데이터 전처리"
      ]
    },
    {
      "cell_type": "code",
      "metadata": {
        "colab": {
          "base_uri": "https://localhost:8080/"
        },
        "id": "YIXFe4ylTHOe",
        "outputId": "ece2e8ec-a18c-4538-e2f9-79f55fc5a1b4"
      },
      "source": [
        "from sklearn.preprocessing import MinMaxScaler\n",
        "\n",
        "scaler = MinMaxScaler()\n",
        "# 스케일을 적용할 column을 정의합니다.\n",
        "scale_cols = ['Open', 'High', 'Low', 'Close', 'Volume']\n",
        "# 스케일 후 columns\n",
        "scaled = scaler.fit_transform(stock[scale_cols])\n",
        "scaled"
      ],
      "execution_count": 25,
      "outputs": [
        {
          "output_type": "execute_result",
          "data": {
            "text/plain": [
              "array([[1.17165006e-02, 1.10227273e-02, 1.17206704e-02, 4.84658028e-03,\n",
              "        8.91965563e-04],\n",
              "       [1.18161683e-02, 1.11880165e-02, 1.18770950e-02, 4.84658028e-03,\n",
              "        5.01959019e-04],\n",
              "       [1.19269103e-02, 1.13119835e-02, 1.19329609e-02, 5.06788532e-03,\n",
              "        1.17422754e-03],\n",
              "       ...,\n",
              "       [8.97009967e-01, 8.51239669e-01, 9.05027933e-01, 8.97093158e-01,\n",
              "        1.73967457e-01],\n",
              "       [9.06976744e-01, 8.53305785e-01, 9.13966480e-01, 9.07051885e-01,\n",
              "        1.38778436e-01],\n",
              "       [9.04761905e-01, 8.50206612e-01, 9.12849162e-01, 9.01519259e-01,\n",
              "        6.81769532e-02]])"
            ]
          },
          "metadata": {
            "tags": []
          },
          "execution_count": 25
        }
      ]
    },
    {
      "cell_type": "code",
      "metadata": {
        "id": "0iUZcYj-TMgY"
      },
      "source": [
        "df = pd.DataFrame(scaled, columns=scale_cols)"
      ],
      "execution_count": 26,
      "outputs": []
    },
    {
      "cell_type": "code",
      "metadata": {
        "colab": {
          "base_uri": "https://localhost:8080/"
        },
        "id": "3uw08mQOTOUA",
        "outputId": "e59057d3-a1ed-441e-e0d5-8bc33a808faa"
      },
      "source": [
        "from sklearn.model_selection import train_test_split\n",
        "\n",
        "x_train, x_test, y_train, y_test = train_test_split(df.drop('Close', 1), df['Close'], test_size=0.2, random_state=0, shuffle=False)\n",
        "\n",
        "x_train.shape, y_train.shape\n",
        "\n",
        "x_test.shape, y_test.shape"
      ],
      "execution_count": 27,
      "outputs": [
        {
          "output_type": "execute_result",
          "data": {
            "text/plain": [
              "((1200, 4), (1200,))"
            ]
          },
          "metadata": {
            "tags": []
          },
          "execution_count": 27
        }
      ]
    },
    {
      "cell_type": "code",
      "metadata": {
        "colab": {
          "base_uri": "https://localhost:8080/",
          "height": 419
        },
        "id": "KMV4tH4gTWHl",
        "outputId": "bbef41c0-8903-47b1-94be-ac7a4355e46a"
      },
      "source": [
        "x_train"
      ],
      "execution_count": 28,
      "outputs": [
        {
          "output_type": "execute_result",
          "data": {
            "text/html": [
              "<div>\n",
              "<style scoped>\n",
              "    .dataframe tbody tr th:only-of-type {\n",
              "        vertical-align: middle;\n",
              "    }\n",
              "\n",
              "    .dataframe tbody tr th {\n",
              "        vertical-align: top;\n",
              "    }\n",
              "\n",
              "    .dataframe thead th {\n",
              "        text-align: right;\n",
              "    }\n",
              "</style>\n",
              "<table border=\"1\" class=\"dataframe\">\n",
              "  <thead>\n",
              "    <tr style=\"text-align: right;\">\n",
              "      <th></th>\n",
              "      <th>Open</th>\n",
              "      <th>High</th>\n",
              "      <th>Low</th>\n",
              "      <th>Volume</th>\n",
              "    </tr>\n",
              "  </thead>\n",
              "  <tbody>\n",
              "    <tr>\n",
              "      <th>0</th>\n",
              "      <td>0.011717</td>\n",
              "      <td>0.011023</td>\n",
              "      <td>0.011721</td>\n",
              "      <td>0.000892</td>\n",
              "    </tr>\n",
              "    <tr>\n",
              "      <th>1</th>\n",
              "      <td>0.011816</td>\n",
              "      <td>0.011188</td>\n",
              "      <td>0.011877</td>\n",
              "      <td>0.000502</td>\n",
              "    </tr>\n",
              "    <tr>\n",
              "      <th>2</th>\n",
              "      <td>0.011927</td>\n",
              "      <td>0.011312</td>\n",
              "      <td>0.011933</td>\n",
              "      <td>0.001174</td>\n",
              "    </tr>\n",
              "    <tr>\n",
              "      <th>3</th>\n",
              "      <td>0.012027</td>\n",
              "      <td>0.011353</td>\n",
              "      <td>0.011955</td>\n",
              "      <td>0.000838</td>\n",
              "    </tr>\n",
              "    <tr>\n",
              "      <th>4</th>\n",
              "      <td>0.012204</td>\n",
              "      <td>0.011787</td>\n",
              "      <td>0.012291</td>\n",
              "      <td>0.002085</td>\n",
              "    </tr>\n",
              "    <tr>\n",
              "      <th>...</th>\n",
              "      <td>...</td>\n",
              "      <td>...</td>\n",
              "      <td>...</td>\n",
              "      <td>...</td>\n",
              "    </tr>\n",
              "    <tr>\n",
              "      <th>4795</th>\n",
              "      <td>0.309192</td>\n",
              "      <td>0.288430</td>\n",
              "      <td>0.304358</td>\n",
              "      <td>0.003377</td>\n",
              "    </tr>\n",
              "    <tr>\n",
              "      <th>4796</th>\n",
              "      <td>0.303654</td>\n",
              "      <td>0.286364</td>\n",
              "      <td>0.305922</td>\n",
              "      <td>0.002718</td>\n",
              "    </tr>\n",
              "    <tr>\n",
              "      <th>4797</th>\n",
              "      <td>0.306744</td>\n",
              "      <td>0.292562</td>\n",
              "      <td>0.309050</td>\n",
              "      <td>0.003396</td>\n",
              "    </tr>\n",
              "    <tr>\n",
              "      <th>4798</th>\n",
              "      <td>0.312946</td>\n",
              "      <td>0.292769</td>\n",
              "      <td>0.311732</td>\n",
              "      <td>0.003238</td>\n",
              "    </tr>\n",
              "    <tr>\n",
              "      <th>4799</th>\n",
              "      <td>0.312292</td>\n",
              "      <td>0.296488</td>\n",
              "      <td>0.315084</td>\n",
              "      <td>0.003636</td>\n",
              "    </tr>\n",
              "  </tbody>\n",
              "</table>\n",
              "<p>4800 rows × 4 columns</p>\n",
              "</div>"
            ],
            "text/plain": [
              "          Open      High       Low    Volume\n",
              "0     0.011717  0.011023  0.011721  0.000892\n",
              "1     0.011816  0.011188  0.011877  0.000502\n",
              "2     0.011927  0.011312  0.011933  0.001174\n",
              "3     0.012027  0.011353  0.011955  0.000838\n",
              "4     0.012204  0.011787  0.012291  0.002085\n",
              "...        ...       ...       ...       ...\n",
              "4795  0.309192  0.288430  0.304358  0.003377\n",
              "4796  0.303654  0.286364  0.305922  0.002718\n",
              "4797  0.306744  0.292562  0.309050  0.003396\n",
              "4798  0.312946  0.292769  0.311732  0.003238\n",
              "4799  0.312292  0.296488  0.315084  0.003636\n",
              "\n",
              "[4800 rows x 4 columns]"
            ]
          },
          "metadata": {
            "tags": []
          },
          "execution_count": 28
        }
      ]
    },
    {
      "cell_type": "code",
      "metadata": {
        "id": "EcLfSK4OTXoQ"
      },
      "source": [
        "import tensorflow as tf\n",
        "\n",
        "def windowed_dataset(series, window_size, batch_size, shuffle):\n",
        "    series = tf.expand_dims(series, axis=-1)\n",
        "    ds = tf.data.Dataset.from_tensor_slices(series)\n",
        "    ds = ds.window(window_size + 1, shift=1, drop_remainder=True)\n",
        "    ds = ds.flat_map(lambda w: w.batch(window_size + 1))\n",
        "    if shuffle:\n",
        "        ds = ds.shuffle(1000)\n",
        "    ds = ds.map(lambda w: (w[:-1], w[-1]))\n",
        "    return ds.batch(batch_size).prefetch(1)"
      ],
      "execution_count": 29,
      "outputs": []
    },
    {
      "cell_type": "code",
      "metadata": {
        "id": "Pf_RhJBUTcss"
      },
      "source": [
        "#Hyperparameter를 정의합니다.\n",
        "WINDOW_SIZE=20\n",
        "BATCH_SIZE=32"
      ],
      "execution_count": 30,
      "outputs": []
    },
    {
      "cell_type": "code",
      "metadata": {
        "id": "ZtjirtSjTg5e"
      },
      "source": [
        "# trian_data는 학습용 데이터셋, test_data는 검증용 데이터셋 입니다.\n",
        "train_data = windowed_dataset(y_train, WINDOW_SIZE, BATCH_SIZE, True)\n",
        "test_data = windowed_dataset(y_test, WINDOW_SIZE, BATCH_SIZE, False)"
      ],
      "execution_count": 31,
      "outputs": []
    },
    {
      "cell_type": "code",
      "metadata": {
        "colab": {
          "base_uri": "https://localhost:8080/"
        },
        "id": "mLAZLclLTivF",
        "outputId": "060a6a51-a0eb-4734-c770-3c26d8f9fac2"
      },
      "source": [
        "# 아래의 코드로 데이터셋의 구성을 확인해 볼 수 있습니다.\n",
        "# X: (batch_size, window_size, feature)\n",
        "# Y: (batch_size, feature)\n",
        "for data in train_data.take(1):\n",
        "    print(f'데이터셋(X) 구성(batch_size, window_size, feature갯수): {data[0].shape}')\n",
        "    print(f'데이터셋(Y) 구성(batch_size, window_size, feature갯수): {data[1].shape}')"
      ],
      "execution_count": 32,
      "outputs": [
        {
          "output_type": "stream",
          "text": [
            "데이터셋(X) 구성(batch_size, window_size, feature갯수): (32, 20, 1)\n",
            "데이터셋(Y) 구성(batch_size, window_size, feature갯수): (32, 1)\n"
          ],
          "name": "stdout"
        }
      ]
    },
    {
      "cell_type": "code",
      "metadata": {
        "id": "GFv3_okATkb5"
      },
      "source": [
        "from tensorflow.keras.models import Sequential\n",
        "from tensorflow.keras.layers import Dense, LSTM, Conv1D, Lambda\n",
        "from tensorflow.keras.losses import Huber\n",
        "from tensorflow.keras.optimizers import Adam\n",
        "from tensorflow.keras.callbacks import EarlyStopping, ModelCheckpoint\n",
        "\n",
        "\n",
        "model = Sequential([\n",
        "    # 1차원 feature map 생성\n",
        "    Conv1D(filters=32, kernel_size=5,\n",
        "           padding=\"causal\",\n",
        "           activation=\"relu\",\n",
        "           input_shape=[WINDOW_SIZE, 1]),\n",
        "    # LSTM\n",
        "    LSTM(16, activation='tanh'),\n",
        "    Dense(16, activation=\"relu\"),\n",
        "    Dense(1),\n",
        "])"
      ],
      "execution_count": 33,
      "outputs": []
    },
    {
      "cell_type": "code",
      "metadata": {
        "id": "RNmQedE1Tmof"
      },
      "source": [
        "# Sequence 학습에 비교적 좋은 퍼포먼스를 내는 Huber()를 사용합니다.\n",
        "loss = Huber()\n",
        "optimizer = Adam(0.0005)\n",
        "model.compile(loss=Huber(), optimizer=optimizer, metrics=['mse'])"
      ],
      "execution_count": 34,
      "outputs": []
    },
    {
      "cell_type": "code",
      "metadata": {
        "id": "wbLuiSHGTobF"
      },
      "source": [
        "# earlystopping은 10번 epoch통안 val_loss 개선이 없다면 학습을 멈춥니다.\n",
        "earlystopping = EarlyStopping(monitor='val_loss', patience=10)\n",
        "# val_loss 기준 체크포인터도 생성합니다.\n",
        "filename = os.path.join('tmp', 'ckeckpointer.ckpt')\n",
        "checkpoint = ModelCheckpoint(filename, \n",
        "                             save_weights_only=True, \n",
        "                             save_best_only=True, \n",
        "                             monitor='val_loss', \n",
        "                             verbose=1)"
      ],
      "execution_count": 35,
      "outputs": []
    },
    {
      "cell_type": "code",
      "metadata": {
        "colab": {
          "base_uri": "https://localhost:8080/"
        },
        "id": "zHZ2jn7VTqCE",
        "outputId": "34747128-9919-458d-f706-5a817a7e545d"
      },
      "source": [
        "history = model.fit(train_data, \n",
        "                    validation_data=(test_data), \n",
        "                    epochs=50, \n",
        "                    callbacks=[checkpoint, earlystopping])"
      ],
      "execution_count": 36,
      "outputs": [
        {
          "output_type": "stream",
          "text": [
            "Epoch 1/50\n",
            "150/150 [==============================] - 5s 19ms/step - loss: 9.4000e-05 - mse: 1.8800e-04 - val_loss: 9.8410e-04 - val_mse: 0.0020\n",
            "\n",
            "Epoch 00001: val_loss improved from inf to 0.00098, saving model to tmp/ckeckpointer.ckpt\n",
            "Epoch 2/50\n",
            "150/150 [==============================] - 2s 12ms/step - loss: 1.1721e-05 - mse: 2.3441e-05 - val_loss: 0.0013 - val_mse: 0.0027\n",
            "\n",
            "Epoch 00002: val_loss did not improve from 0.00098\n",
            "Epoch 3/50\n",
            "150/150 [==============================] - 2s 13ms/step - loss: 1.0950e-05 - mse: 2.1899e-05 - val_loss: 0.0012 - val_mse: 0.0025\n",
            "\n",
            "Epoch 00003: val_loss did not improve from 0.00098\n",
            "Epoch 4/50\n",
            "150/150 [==============================] - 2s 13ms/step - loss: 1.5000e-05 - mse: 3.0000e-05 - val_loss: 7.4570e-04 - val_mse: 0.0015\n",
            "\n",
            "Epoch 00004: val_loss improved from 0.00098 to 0.00075, saving model to tmp/ckeckpointer.ckpt\n",
            "Epoch 5/50\n",
            "150/150 [==============================] - 2s 13ms/step - loss: 1.1116e-05 - mse: 2.2232e-05 - val_loss: 9.9412e-04 - val_mse: 0.0020\n",
            "\n",
            "Epoch 00005: val_loss did not improve from 0.00075\n",
            "Epoch 6/50\n",
            "150/150 [==============================] - 2s 13ms/step - loss: 1.0944e-05 - mse: 2.1888e-05 - val_loss: 9.7649e-04 - val_mse: 0.0020\n",
            "\n",
            "Epoch 00006: val_loss did not improve from 0.00075\n",
            "Epoch 7/50\n",
            "150/150 [==============================] - 2s 12ms/step - loss: 9.8583e-06 - mse: 1.9717e-05 - val_loss: 8.6906e-04 - val_mse: 0.0017\n",
            "\n",
            "Epoch 00007: val_loss did not improve from 0.00075\n",
            "Epoch 8/50\n",
            "150/150 [==============================] - 2s 12ms/step - loss: 1.0024e-05 - mse: 2.0048e-05 - val_loss: 6.7021e-04 - val_mse: 0.0013\n",
            "\n",
            "Epoch 00008: val_loss improved from 0.00075 to 0.00067, saving model to tmp/ckeckpointer.ckpt\n",
            "Epoch 9/50\n",
            "150/150 [==============================] - 2s 12ms/step - loss: 9.8358e-06 - mse: 1.9672e-05 - val_loss: 7.1347e-04 - val_mse: 0.0014\n",
            "\n",
            "Epoch 00009: val_loss did not improve from 0.00067\n",
            "Epoch 10/50\n",
            "150/150 [==============================] - 2s 13ms/step - loss: 9.2190e-06 - mse: 1.8438e-05 - val_loss: 5.7814e-04 - val_mse: 0.0012\n",
            "\n",
            "Epoch 00010: val_loss improved from 0.00067 to 0.00058, saving model to tmp/ckeckpointer.ckpt\n",
            "Epoch 11/50\n",
            "150/150 [==============================] - 2s 12ms/step - loss: 1.3498e-05 - mse: 2.6996e-05 - val_loss: 8.2602e-04 - val_mse: 0.0017\n",
            "\n",
            "Epoch 00011: val_loss did not improve from 0.00058\n",
            "Epoch 12/50\n",
            "150/150 [==============================] - 2s 12ms/step - loss: 8.4964e-06 - mse: 1.6993e-05 - val_loss: 0.0011 - val_mse: 0.0021\n",
            "\n",
            "Epoch 00012: val_loss did not improve from 0.00058\n",
            "Epoch 13/50\n",
            "150/150 [==============================] - 2s 12ms/step - loss: 8.2823e-06 - mse: 1.6565e-05 - val_loss: 8.3800e-04 - val_mse: 0.0017\n",
            "\n",
            "Epoch 00013: val_loss did not improve from 0.00058\n",
            "Epoch 14/50\n",
            "150/150 [==============================] - 2s 12ms/step - loss: 8.3483e-06 - mse: 1.6697e-05 - val_loss: 5.1942e-04 - val_mse: 0.0010\n",
            "\n",
            "Epoch 00014: val_loss improved from 0.00058 to 0.00052, saving model to tmp/ckeckpointer.ckpt\n",
            "Epoch 15/50\n",
            "150/150 [==============================] - 2s 12ms/step - loss: 9.4920e-06 - mse: 1.8984e-05 - val_loss: 7.9214e-04 - val_mse: 0.0016\n",
            "\n",
            "Epoch 00015: val_loss did not improve from 0.00052\n",
            "Epoch 16/50\n",
            "150/150 [==============================] - 2s 12ms/step - loss: 8.2892e-06 - mse: 1.6578e-05 - val_loss: 0.0011 - val_mse: 0.0022\n",
            "\n",
            "Epoch 00016: val_loss did not improve from 0.00052\n",
            "Epoch 17/50\n",
            "150/150 [==============================] - 2s 12ms/step - loss: 7.4408e-06 - mse: 1.4882e-05 - val_loss: 8.8990e-04 - val_mse: 0.0018\n",
            "\n",
            "Epoch 00017: val_loss did not improve from 0.00052\n",
            "Epoch 18/50\n",
            "150/150 [==============================] - 2s 12ms/step - loss: 7.4638e-06 - mse: 1.4928e-05 - val_loss: 8.4114e-04 - val_mse: 0.0017\n",
            "\n",
            "Epoch 00018: val_loss did not improve from 0.00052\n",
            "Epoch 19/50\n",
            "150/150 [==============================] - 2s 12ms/step - loss: 7.1253e-06 - mse: 1.4251e-05 - val_loss: 0.0010 - val_mse: 0.0020\n",
            "\n",
            "Epoch 00019: val_loss did not improve from 0.00052\n",
            "Epoch 20/50\n",
            "150/150 [==============================] - 2s 13ms/step - loss: 7.2827e-06 - mse: 1.4565e-05 - val_loss: 8.2786e-04 - val_mse: 0.0017\n",
            "\n",
            "Epoch 00020: val_loss did not improve from 0.00052\n",
            "Epoch 21/50\n",
            "150/150 [==============================] - 2s 13ms/step - loss: 7.2158e-06 - mse: 1.4432e-05 - val_loss: 8.3182e-04 - val_mse: 0.0017\n",
            "\n",
            "Epoch 00021: val_loss did not improve from 0.00052\n",
            "Epoch 22/50\n",
            "150/150 [==============================] - 2s 13ms/step - loss: 8.1625e-06 - mse: 1.6325e-05 - val_loss: 0.0013 - val_mse: 0.0026\n",
            "\n",
            "Epoch 00022: val_loss did not improve from 0.00052\n",
            "Epoch 23/50\n",
            "150/150 [==============================] - 2s 13ms/step - loss: 8.5886e-06 - mse: 1.7177e-05 - val_loss: 0.0011 - val_mse: 0.0021\n",
            "\n",
            "Epoch 00023: val_loss did not improve from 0.00052\n",
            "Epoch 24/50\n",
            "150/150 [==============================] - 2s 13ms/step - loss: 7.0142e-06 - mse: 1.4028e-05 - val_loss: 8.0770e-04 - val_mse: 0.0016\n",
            "\n",
            "Epoch 00024: val_loss did not improve from 0.00052\n"
          ],
          "name": "stdout"
        }
      ]
    },
    {
      "cell_type": "code",
      "metadata": {
        "colab": {
          "base_uri": "https://localhost:8080/"
        },
        "id": "42eUlv6bTsDI",
        "outputId": "f629269c-26d5-4456-95b7-7d1c599aac53"
      },
      "source": [
        "#저장한 ModelCheckpoint 를 로드합니다.\n",
        "model.load_weights(filename)"
      ],
      "execution_count": 37,
      "outputs": [
        {
          "output_type": "execute_result",
          "data": {
            "text/plain": [
              "<tensorflow.python.training.tracking.util.CheckpointLoadStatus at 0x7f34c4f7acd0>"
            ]
          },
          "metadata": {
            "tags": []
          },
          "execution_count": 37
        }
      ]
    },
    {
      "cell_type": "code",
      "metadata": {
        "colab": {
          "base_uri": "https://localhost:8080/"
        },
        "id": "-8k70_Y2Tzax",
        "outputId": "c4b78462-c993-4f51-9b42-98c2564cd7bc"
      },
      "source": [
        "pred = model.predict(test_data)\n",
        "\n",
        "pred.shape"
      ],
      "execution_count": 38,
      "outputs": [
        {
          "output_type": "execute_result",
          "data": {
            "text/plain": [
              "(1180, 1)"
            ]
          },
          "metadata": {
            "tags": []
          },
          "execution_count": 38
        }
      ]
    },
    {
      "cell_type": "code",
      "metadata": {
        "colab": {
          "base_uri": "https://localhost:8080/",
          "height": 537
        },
        "id": "_a8AjEU9T1kK",
        "outputId": "2e71e1eb-244d-43f0-f826-b25c73636197"
      },
      "source": [
        "plt.figure(figsize=(12, 9))\n",
        "plt.plot(np.asarray(y_test)[20:], label='actual')\n",
        "plt.plot(pred, label='prediction')\n",
        "plt.legend()\n",
        "plt.show()"
      ],
      "execution_count": 39,
      "outputs": [
        {
          "output_type": "display_data",
          "data": {
            "image/png": "[encoded data removed]",
            "text/plain": [
              "<Figure size 864x648 with 1 Axes>"
            ]
          },
          "metadata": {
            "tags": [],
            "needs_background": "light"
          }
        }
      ]
    }
  ]
}