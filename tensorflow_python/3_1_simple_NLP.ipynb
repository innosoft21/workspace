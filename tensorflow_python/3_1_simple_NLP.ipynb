{
  "nbformat": 4,
  "nbformat_minor": 0,
  "metadata": {
    "colab": {
      "name": "3_1_simple_NLP.ipynb",
      "provenance": [],
      "authorship_tag": "ABX9TyNGC/6wzhfEmOoJULv34IPM",
      "include_colab_link": true
    },
    "kernelspec": {
      "name": "python3",
      "display_name": "Python 3"
    },
    "language_info": {
      "name": "python"
    },
    "accelerator": "GPU"
  },
  "cells": [
    {
      "cell_type": "markdown",
      "metadata": {
        "id": "view-in-github",
        "colab_type": "text"
      },
      "source": [
        "<a href=\"https://colab.research.google.com/github/innosoft21/workspace/blob/main/tensorflow_python/3_1_simple_NLP.ipynb\" target=\"_parent\"><img src=\"https://colab.research.google.com/assets/colab-badge.svg\" alt=\"Open In Colab\"/></a>"
      ]
    },
    {
      "cell_type": "markdown",
      "metadata": {
        "id": "h0ukS18pLJf3"
      },
      "source": [
        "3-1. 간단한 NLP 예제 : 단어를 숫자로 바꾸고, Padding하기\n",
        "\n",
        "Embedding layer는 자연어를 수치화된 정보로 바꾸기 위한 layer이다.\n",
        "\n",
        "자연어는 시간의 흐름에 따라 정보가 연속적으로 이어지는 시퀀스 데이터이다.\n",
        "\n",
        "n-gram기법은 문장을 n개의 문자로 묶는 것이다. 예) 3-ngram : This -> Thi, his\n",
        "\n",
        "One-hot Encoding은 정답에 해당하는 인덱스값에는 1, 나머지 인덱스는 모두 0을 넣는 방식"
      ]
    },
    {
      "cell_type": "code",
      "metadata": {
        "id": "kUAwsJM6K86E"
      },
      "source": [
        "import tensorflow as tf\n",
        "from tensorflow import keras\n",
        "\n",
        "from tensorflow.keras.preprocessing.text import Tokenizer\n",
        "from tensorflow.keras.preprocessing.sequence import pad_sequences"
      ],
      "execution_count": 1,
      "outputs": []
    },
    {
      "cell_type": "code",
      "metadata": {
        "id": "LciALHz-LQ7u"
      },
      "source": [
        "sentences = [\n",
        "    'I love my dog',\n",
        "    'I love my cat',\n",
        "    'You love my dog!',\n",
        "    'Do you think my dog is amazing?'\n",
        "]"
      ],
      "execution_count": 2,
      "outputs": []
    },
    {
      "cell_type": "code",
      "metadata": {
        "id": "RjEhcqg7LTou"
      },
      "source": [
        "# 토큰화는 자연어를 처리 가능한 작은 단위로 나누는 것\n",
        "# Tokenizer는 데이터에 출현하는 모든 단어의 개수를 세고 빈도수로 정렬해서 \n",
        "# num_words 만큼만 숫자로 변환, 나머지는 0 반환\n",
        "tokenizer = Tokenizer(num_words = 100, oov_token=\"<OOV>\") # 100개의 단어를 숫자로 변환\n",
        "# 기본적으로 OOV 는 제거되므로 OOV 를 보존하려면 Tokenizer 에 oov_token 인자를 사용한다\n",
        "# vocabulary에 없는 단어들은 OOV(out of vocabulary)문제 발생\n",
        "\n",
        "tokenizer.fit_on_texts(sentences) # Tokenizer에 데이터를 실제로 입력\n",
        "word_index = tokenizer.word_index # 정수 인덱스로 저장함\n",
        "\n",
        "sequences = tokenizer.texts_to_sequences(sentences) # 문장을 입력받아 숫자로 변환"
      ],
      "execution_count": 3,
      "outputs": []
    },
    {
      "cell_type": "code",
      "metadata": {
        "colab": {
          "base_uri": "https://localhost:8080/"
        },
        "id": "RQ6yoMpuLdJ3",
        "outputId": "e1290985-56cf-40c8-eea0-4bf5917d9b27"
      },
      "source": [
        "padded = pad_sequences(sequences, maxlen=5) # 입력된 데이터에 패딩을 더합니다.\n",
        "print(\"\\nWord Index = \" , word_index)\n",
        "print(\"\\nSequences = \" , sequences)\n",
        "print(\"\\nPadded Sequences:\")\n",
        "print(padded)\n",
        "\n",
        "# OOV 의 default 인덱스 값은 1이며, 나머지 상위 5개 단어의 인덱스는 2부터 시작된다."
      ],
      "execution_count": 4,
      "outputs": [
        {
          "output_type": "stream",
          "text": [
            "\n",
            "Word Index =  {'<OOV>': 1, 'my': 2, 'love': 3, 'dog': 4, 'i': 5, 'you': 6, 'cat': 7, 'do': 8, 'think': 9, 'is': 10, 'amazing': 11}\n",
            "\n",
            "Sequences =  [[5, 3, 2, 4], [5, 3, 2, 7], [6, 3, 2, 4], [8, 6, 9, 2, 4, 10, 11]]\n",
            "\n",
            "Padded Sequences:\n",
            "[[ 0  5  3  2  4]\n",
            " [ 0  5  3  2  7]\n",
            " [ 0  6  3  2  4]\n",
            " [ 9  2  4 10 11]]\n"
          ],
          "name": "stdout"
        }
      ]
    },
    {
      "cell_type": "code",
      "metadata": {
        "id": "WBUZ63G_LdpH"
      },
      "source": [
        "# Try with words that the tokenizer wasn't fit to\n",
        "test_data = [\n",
        "    'i really love my dog',\n",
        "    'my dog loves my manatee'\n",
        "]"
      ],
      "execution_count": 5,
      "outputs": []
    },
    {
      "cell_type": "code",
      "metadata": {
        "colab": {
          "base_uri": "https://localhost:8080/"
        },
        "id": "ouFTFCLzLf__",
        "outputId": "f6ff7fe5-79e6-4b7c-aafe-cb73ba0376de"
      },
      "source": [
        "test_seq = tokenizer.texts_to_sequences(test_data)\n",
        "print(\"\\nTest Sequence = \", test_seq)"
      ],
      "execution_count": 6,
      "outputs": [
        {
          "output_type": "stream",
          "text": [
            "\n",
            "Test Sequence =  [[5, 1, 3, 2, 4], [2, 4, 1, 2, 1]]\n"
          ],
          "name": "stdout"
        }
      ]
    },
    {
      "cell_type": "code",
      "metadata": {
        "colab": {
          "base_uri": "https://localhost:8080/"
        },
        "id": "0i2WrDcVLh5n",
        "outputId": "adde8688-b838-409a-be88-077fa7c29aee"
      },
      "source": [
        "padded = pad_sequences(test_seq, maxlen=10)\n",
        "print(\"\\nPadded Test Sequence: \")\n",
        "print(padded)"
      ],
      "execution_count": 7,
      "outputs": [
        {
          "output_type": "stream",
          "text": [
            "\n",
            "Padded Test Sequence: \n",
            "[[0 0 0 0 0 5 1 3 2 4]\n",
            " [0 0 0 0 0 2 4 1 2 1]]\n"
          ],
          "name": "stdout"
        }
      ]
    }
  ]
}