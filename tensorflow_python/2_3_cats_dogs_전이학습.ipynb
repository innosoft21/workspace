{
  "nbformat": 4,
  "nbformat_minor": 0,
  "metadata": {
    "colab": {
      "name": "2_3_cats_dogs_전이학습.ipynb",
      "provenance": [],
      "authorship_tag": "ABX9TyN5oHNYtcKF6gNu6c7DhSOl",
      "include_colab_link": true
    },
    "kernelspec": {
      "name": "python3",
      "display_name": "Python 3"
    },
    "language_info": {
      "name": "python"
    },
    "accelerator": "GPU"
  },
  "cells": [
    {
      "cell_type": "markdown",
      "metadata": {
        "id": "view-in-github",
        "colab_type": "text"
      },
      "source": [
        "<a href=\"https://colab.research.google.com/github/innosoft21/workspace/blob/main/tensorflow_python/2_3_cats_dogs_%EC%A0%84%EC%9D%B4%ED%95%99%EC%8A%B5.ipynb\" target=\"_parent\"><img src=\"https://colab.research.google.com/assets/colab-badge.svg\" alt=\"Open In Colab\"/></a>"
      ]
    },
    {
      "cell_type": "markdown",
      "metadata": {
        "id": "6eDjtAeKQKey"
      },
      "source": [
        "2-3. Cats vs Dogs 전이학습을 이용하여 이미지 분류하기 \n",
        "\n",
        "전이학습을 한 경우가 정확도가 가장좋다."
      ]
    },
    {
      "cell_type": "code",
      "metadata": {
        "id": "ZtvlHFk_Pk11"
      },
      "source": [
        "import os\n",
        "\n",
        "from tensorflow.keras import layers\n",
        "from tensorflow.keras import Model"
      ],
      "execution_count": 1,
      "outputs": []
    },
    {
      "cell_type": "code",
      "metadata": {
        "colab": {
          "base_uri": "https://localhost:8080/"
        },
        "id": "dzau9ZdbPrJy",
        "outputId": "19174974-f408-4622-cda1-9996a3f4c3cb"
      },
      "source": [
        "!wget --no-check-certificate \\\n",
        "    https://storage.googleapis.com/mledu-datasets/inception_v3_weights_tf_dim_ordering_tf_kernels_notop.h5 \\\n",
        "    -O /tmp/inception_v3_weights_tf_dim_ordering_tf_kernels_notop.h5"
      ],
      "execution_count": 2,
      "outputs": [
        {
          "output_type": "stream",
          "text": [
            "--2021-05-03 08:05:49--  https://storage.googleapis.com/mledu-datasets/inception_v3_weights_tf_dim_ordering_tf_kernels_notop.h5\n",
            "Resolving storage.googleapis.com (storage.googleapis.com)... 74.125.197.128, 74.125.142.128, 74.125.195.128, ...\n",
            "Connecting to storage.googleapis.com (storage.googleapis.com)|74.125.197.128|:443... connected.\n",
            "HTTP request sent, awaiting response... 200 OK\n",
            "Length: 87910968 (84M) [application/x-hdf]\n",
            "Saving to: ‘/tmp/inception_v3_weights_tf_dim_ordering_tf_kernels_notop.h5’\n",
            "\n",
            "/tmp/inception_v3_w 100%[===================>]  83.84M   116MB/s    in 0.7s    \n",
            "\n",
            "2021-05-03 08:05:50 (116 MB/s) - ‘/tmp/inception_v3_weights_tf_dim_ordering_tf_kernels_notop.h5’ saved [87910968/87910968]\n",
            "\n"
          ],
          "name": "stdout"
        }
      ]
    },
    {
      "cell_type": "code",
      "metadata": {
        "colab": {
          "base_uri": "https://localhost:8080/"
        },
        "id": "23DhwzucPs65",
        "outputId": "351d3ece-27e1-4dc3-8df6-2bf13a9d60bb"
      },
      "source": [
        "from tensorflow.keras.applications.inception_v3 import InceptionV3\n",
        "\n",
        "local_weights_file = '/tmp/inception_v3_weights_tf_dim_ordering_tf_kernels_notop.h5'\n",
        "\n",
        "pre_trained_model = InceptionV3(input_shape = (150, 150, 3), \n",
        "                                include_top = False, \n",
        "                                weights = None)\n",
        "\n",
        "pre_trained_model.load_weights(local_weights_file)\n",
        "\n",
        "for layer in pre_trained_model.layers:\n",
        "  layer.trainable = False\n",
        "  \n",
        "# pre_trained_model.summary()\n",
        "\n",
        "last_layer = pre_trained_model.get_layer('mixed7')\n",
        "print('last layer output shape: ', last_layer.output_shape)\n",
        "last_output = last_layer.output"
      ],
      "execution_count": 3,
      "outputs": [
        {
          "output_type": "stream",
          "text": [
            "last layer output shape:  (None, 7, 7, 768)\n"
          ],
          "name": "stdout"
        }
      ]
    },
    {
      "cell_type": "code",
      "metadata": {
        "id": "zT5iLGH0PvxC"
      },
      "source": [
        "from tensorflow.keras.optimizers import RMSprop\n",
        "\n",
        "# Flatten the output layer to 1 dimension\n",
        "x = layers.Flatten()(last_output)\n",
        "# Add a fully connected layer with 1,024 hidden units and ReLU activation\n",
        "x = layers.Dense(1024, activation='relu')(x)\n",
        "# Add a dropout rate of 0.2\n",
        "x = layers.Dropout(0.2)(x)                  \n",
        "# Add a final sigmoid layer for classification\n",
        "x = layers.Dense  (1, activation='sigmoid')(x)           \n",
        "\n",
        "model = Model( pre_trained_model.input, x) \n",
        "\n",
        "model.compile(optimizer = RMSprop(lr=0.0001), \n",
        "              loss = 'binary_crossentropy', \n",
        "              metrics = ['accuracy'])"
      ],
      "execution_count": 4,
      "outputs": []
    },
    {
      "cell_type": "code",
      "metadata": {
        "colab": {
          "base_uri": "https://localhost:8080/"
        },
        "id": "09Ri9kU6Pxky",
        "outputId": "ffcdbe9f-c297-48cc-b7b6-adb0f079c930"
      },
      "source": [
        "!wget --no-check-certificate \\\n",
        "        https://storage.googleapis.com/mledu-datasets/cats_and_dogs_filtered.zip \\\n",
        "       -O /tmp/cats_and_dogs_filtered.zip"
      ],
      "execution_count": 5,
      "outputs": [
        {
          "output_type": "stream",
          "text": [
            "--2021-05-03 08:06:04--  https://storage.googleapis.com/mledu-datasets/cats_and_dogs_filtered.zip\n",
            "Resolving storage.googleapis.com (storage.googleapis.com)... 74.125.20.128, 74.125.197.128, 74.125.142.128, ...\n",
            "Connecting to storage.googleapis.com (storage.googleapis.com)|74.125.20.128|:443... connected.\n",
            "HTTP request sent, awaiting response... 200 OK\n",
            "Length: 68606236 (65M) [application/zip]\n",
            "Saving to: ‘/tmp/cats_and_dogs_filtered.zip’\n",
            "\n",
            "/tmp/cats_and_dogs_ 100%[===================>]  65.43M   166MB/s    in 0.4s    \n",
            "\n",
            "2021-05-03 08:06:05 (166 MB/s) - ‘/tmp/cats_and_dogs_filtered.zip’ saved [68606236/68606236]\n",
            "\n"
          ],
          "name": "stdout"
        }
      ]
    },
    {
      "cell_type": "code",
      "metadata": {
        "colab": {
          "base_uri": "https://localhost:8080/"
        },
        "id": "KFwHRkbiQr5r",
        "outputId": "7d869795-f605-4cc1-fffc-51054018bed7"
      },
      "source": [
        "from tensorflow.keras.preprocessing.image import ImageDataGenerator\n",
        "\n",
        "import os\n",
        "import zipfile\n",
        "\n",
        "local_zip = '//tmp/cats_and_dogs_filtered.zip'\n",
        "\n",
        "zip_ref = zipfile.ZipFile(local_zip, 'r')\n",
        "\n",
        "zip_ref.extractall('/tmp')\n",
        "zip_ref.close()\n",
        "\n",
        "# Define our example directories and files\n",
        "base_dir = '/tmp/cats_and_dogs_filtered'\n",
        "\n",
        "train_dir = os.path.join( base_dir, 'train')\n",
        "validation_dir = os.path.join( base_dir, 'validation')\n",
        "\n",
        "\n",
        "train_cats_dir = os.path.join(train_dir, 'cats') # Directory with our training cat pictures\n",
        "train_dogs_dir = os.path.join(train_dir, 'dogs') # Directory with our training dog pictures\n",
        "validation_cats_dir = os.path.join(validation_dir, 'cats') # Directory with our validation cat pictures\n",
        "validation_dogs_dir = os.path.join(validation_dir, 'dogs')# Directory with our validation dog pictures\n",
        "\n",
        "train_cat_fnames = os.listdir(train_cats_dir)\n",
        "train_dog_fnames = os.listdir(train_dogs_dir)\n",
        "\n",
        "# Add our data-augmentation parameters to ImageDataGenerator\n",
        "train_datagen = ImageDataGenerator(rescale = 1./255.,\n",
        "                                   rotation_range = 40,\n",
        "                                   width_shift_range = 0.2,\n",
        "                                   height_shift_range = 0.2,\n",
        "                                   shear_range = 0.2,\n",
        "                                   zoom_range = 0.2,\n",
        "                                   horizontal_flip = True)\n",
        "\n",
        "# Note that the validation data should not be augmented!\n",
        "test_datagen = ImageDataGenerator( rescale = 1.0/255. )\n",
        "\n",
        "# Flow training images in batches of 20 using train_datagen generator\n",
        "train_generator = train_datagen.flow_from_directory(train_dir,\n",
        "                                                    batch_size = 20,\n",
        "                                                    class_mode = 'binary', \n",
        "                                                    target_size = (150, 150))     \n",
        "\n",
        "# Flow validation images in batches of 20 using test_datagen generator\n",
        "validation_generator =  test_datagen.flow_from_directory( validation_dir,\n",
        "                                                          batch_size  = 20,\n",
        "                                                          class_mode  = 'binary', \n",
        "                                                          target_size = (150, 150))"
      ],
      "execution_count": 6,
      "outputs": [
        {
          "output_type": "stream",
          "text": [
            "Found 2000 images belonging to 2 classes.\n",
            "Found 1000 images belonging to 2 classes.\n"
          ],
          "name": "stdout"
        }
      ]
    },
    {
      "cell_type": "code",
      "metadata": {
        "colab": {
          "base_uri": "https://localhost:8080/"
        },
        "id": "OuehnLYPQFva",
        "outputId": "180fc37e-be13-4d2d-eb2e-6254df8ef6e3"
      },
      "source": [
        "history = model.fit(\n",
        "            train_generator,\n",
        "            validation_data = validation_generator,\n",
        "            steps_per_epoch = 100,\n",
        "            epochs = 20,\n",
        "            validation_steps = 50,\n",
        "            verbose = 2)"
      ],
      "execution_count": 7,
      "outputs": [
        {
          "output_type": "stream",
          "text": [
            "Epoch 1/20\n",
            "100/100 - 53s - loss: 0.3616 - accuracy: 0.8575 - val_loss: 0.3269 - val_accuracy: 0.8760\n",
            "Epoch 2/20\n",
            "100/100 - 17s - loss: 0.2254 - accuracy: 0.9110 - val_loss: 0.1636 - val_accuracy: 0.9420\n",
            "Epoch 3/20\n",
            "100/100 - 17s - loss: 0.2122 - accuracy: 0.9215 - val_loss: 0.0988 - val_accuracy: 0.9680\n",
            "Epoch 4/20\n",
            "100/100 - 17s - loss: 0.1738 - accuracy: 0.9320 - val_loss: 0.2163 - val_accuracy: 0.9350\n",
            "Epoch 5/20\n",
            "100/100 - 17s - loss: 0.2262 - accuracy: 0.9235 - val_loss: 0.0943 - val_accuracy: 0.9630\n",
            "Epoch 6/20\n",
            "100/100 - 17s - loss: 0.1775 - accuracy: 0.9345 - val_loss: 0.1774 - val_accuracy: 0.9440\n",
            "Epoch 7/20\n",
            "100/100 - 17s - loss: 0.1714 - accuracy: 0.9390 - val_loss: 0.1275 - val_accuracy: 0.9590\n",
            "Epoch 8/20\n",
            "100/100 - 18s - loss: 0.1762 - accuracy: 0.9340 - val_loss: 0.1140 - val_accuracy: 0.9690\n",
            "Epoch 9/20\n",
            "100/100 - 18s - loss: 0.1668 - accuracy: 0.9410 - val_loss: 0.1241 - val_accuracy: 0.9600\n",
            "Epoch 10/20\n",
            "100/100 - 18s - loss: 0.1548 - accuracy: 0.9475 - val_loss: 0.1156 - val_accuracy: 0.9680\n",
            "Epoch 11/20\n",
            "100/100 - 17s - loss: 0.1677 - accuracy: 0.9315 - val_loss: 0.1101 - val_accuracy: 0.9680\n",
            "Epoch 12/20\n",
            "100/100 - 17s - loss: 0.1433 - accuracy: 0.9485 - val_loss: 0.1339 - val_accuracy: 0.9600\n",
            "Epoch 13/20\n",
            "100/100 - 17s - loss: 0.1423 - accuracy: 0.9560 - val_loss: 0.1486 - val_accuracy: 0.9580\n",
            "Epoch 14/20\n",
            "100/100 - 17s - loss: 0.1508 - accuracy: 0.9475 - val_loss: 0.1068 - val_accuracy: 0.9730\n",
            "Epoch 15/20\n",
            "100/100 - 17s - loss: 0.1444 - accuracy: 0.9535 - val_loss: 0.1326 - val_accuracy: 0.9690\n",
            "Epoch 16/20\n",
            "100/100 - 17s - loss: 0.1574 - accuracy: 0.9525 - val_loss: 0.1049 - val_accuracy: 0.9710\n",
            "Epoch 17/20\n",
            "100/100 - 17s - loss: 0.1127 - accuracy: 0.9655 - val_loss: 0.1380 - val_accuracy: 0.9650\n",
            "Epoch 18/20\n",
            "100/100 - 17s - loss: 0.1451 - accuracy: 0.9550 - val_loss: 0.1165 - val_accuracy: 0.9710\n",
            "Epoch 19/20\n",
            "100/100 - 17s - loss: 0.1328 - accuracy: 0.9540 - val_loss: 0.1336 - val_accuracy: 0.9670\n",
            "Epoch 20/20\n",
            "100/100 - 17s - loss: 0.1269 - accuracy: 0.9565 - val_loss: 0.2556 - val_accuracy: 0.9390\n"
          ],
          "name": "stdout"
        }
      ]
    },
    {
      "cell_type": "code",
      "metadata": {
        "colab": {
          "base_uri": "https://localhost:8080/",
          "height": 299
        },
        "id": "k1rX1mrjQHaa",
        "outputId": "89a1b49a-7148-4232-a596-47f940602b03"
      },
      "source": [
        "import matplotlib.pyplot as plt\n",
        "acc = history.history['accuracy']\n",
        "val_acc = history.history['val_accuracy']\n",
        "loss = history.history['loss']\n",
        "val_loss = history.history['val_loss']\n",
        "\n",
        "epochs = range(len(acc))\n",
        "\n",
        "plt.plot(epochs, acc, 'r', label='Training accuracy')\n",
        "plt.plot(epochs, val_acc, 'b', label='Validation accuracy')\n",
        "plt.title('Training and validation accuracy')\n",
        "plt.legend(loc=0)\n",
        "plt.figure()\n",
        "\n",
        "\n",
        "plt.show()"
      ],
      "execution_count": 8,
      "outputs": [
        {
          "output_type": "display_data",
          "data": {
            "image/png": "[encoded data removed]",
            "text/plain": [
              "<Figure size 432x288 with 1 Axes>"
            ]
          },
          "metadata": {
            "tags": [],
            "needs_background": "light"
          }
        },
        {
          "output_type": "display_data",
          "data": {
            "text/plain": [
              "<Figure size 432x288 with 0 Axes>"
            ]
          },
          "metadata": {
            "tags": []
          }
        }
      ]
    }
  ]
}