{
  "nbformat": 4,
  "nbformat_minor": 0,
  "metadata": {
    "colab": {
      "name": "2_2_Cats_Dogs_Augmentation_비교.ipynb",
      "provenance": [],
      "authorship_tag": "ABX9TyNed3mSN4vRLkgvCvWj5bBn",
      "include_colab_link": true
    },
    "kernelspec": {
      "name": "python3",
      "display_name": "Python 3"
    },
    "language_info": {
      "name": "python"
    },
    "accelerator": "GPU"
  },
  "cells": [
    {
      "cell_type": "markdown",
      "metadata": {
        "id": "view-in-github",
        "colab_type": "text"
      },
      "source": [
        "<a href=\"https://colab.research.google.com/github/innosoft21/workspace/blob/main/tensorflow_python/2_2_Cats_Dogs_Augmentation_%EB%B9%84%EA%B5%90.ipynb\" target=\"_parent\"><img src=\"https://colab.research.google.com/assets/colab-badge.svg\" alt=\"Open In Colab\"/></a>"
      ]
    },
    {
      "cell_type": "markdown",
      "metadata": {
        "id": "4YwCGuisuWu3"
      },
      "source": [
        "2-2주차 Cats v Dogs Augmentation\n",
        "\n",
        "이제 각각 32, 64, 128 및 128 컨볼 루션이있는 4 개의 컨볼 루션 레이어가 존재\n",
        "\n",
        "손실과 정확도의 그래프를 그리고 100 epoch 동안 훈련 될 것\n",
        "\n",
        "결과는 Augmentation+ Dropout 추가할 때가 가장 좋다.\n",
        "\n",
        "예제 1. Augmentation 없을 때\n"
      ]
    },
    {
      "cell_type": "code",
      "metadata": {
        "id": "4LTfV4xqs8p9"
      },
      "source": [
        "import os\n",
        "import zipfile\n",
        "import tensorflow as tf\n",
        "from tensorflow.keras.optimizers import RMSprop\n",
        "from tensorflow.keras.preprocessing.image import ImageDataGenerator"
      ],
      "execution_count": 1,
      "outputs": []
    },
    {
      "cell_type": "code",
      "metadata": {
        "colab": {
          "base_uri": "https://localhost:8080/"
        },
        "id": "H5KVybIwtL73",
        "outputId": "97dfa39a-1213-4579-9f3a-20f79dc6890b"
      },
      "source": [
        "!wget --no-check-certificate \\\n",
        "    https://storage.googleapis.com/mledu-datasets/cats_and_dogs_filtered.zip \\\n",
        "    -O /tmp/cats_and_dogs_filtered.zip"
      ],
      "execution_count": 2,
      "outputs": [
        {
          "output_type": "stream",
          "text": [
            "--2021-05-03 05:42:45--  https://storage.googleapis.com/mledu-datasets/cats_and_dogs_filtered.zip\n",
            "Resolving storage.googleapis.com (storage.googleapis.com)... 74.125.204.128, 64.233.187.128, 64.233.189.128, ...\n",
            "Connecting to storage.googleapis.com (storage.googleapis.com)|74.125.204.128|:443... connected.\n",
            "HTTP request sent, awaiting response... 200 OK\n",
            "Length: 68606236 (65M) [application/zip]\n",
            "Saving to: ‘/tmp/cats_and_dogs_filtered.zip’\n",
            "\n",
            "/tmp/cats_and_dogs_ 100%[===================>]  65.43M  52.1MB/s    in 1.3s    \n",
            "\n",
            "2021-05-03 05:42:47 (52.1 MB/s) - ‘/tmp/cats_and_dogs_filtered.zip’ saved [68606236/68606236]\n",
            "\n"
          ],
          "name": "stdout"
        }
      ]
    },
    {
      "cell_type": "code",
      "metadata": {
        "id": "GX_bNf7UtN3N"
      },
      "source": [
        "local_zip = '/tmp/cats_and_dogs_filtered.zip'\n",
        "zip_ref = zipfile.ZipFile(local_zip, 'r')\n",
        "zip_ref.extractall('/tmp')\n",
        "zip_ref.close()\n",
        "\n",
        "base_dir = '/tmp/cats_and_dogs_filtered'\n",
        "train_dir = os.path.join(base_dir, 'train')\n",
        "validation_dir = os.path.join(base_dir, 'validation')\n",
        "\n",
        "# Directory with our training cat pictures\n",
        "train_cats_dir = os.path.join(train_dir, 'cats')\n",
        "\n",
        "# Directory with our training dog pictures\n",
        "train_dogs_dir = os.path.join(train_dir, 'dogs')\n",
        "\n",
        "# Directory with our validation cat pictures\n",
        "validation_cats_dir = os.path.join(validation_dir, 'cats')\n",
        "\n",
        "# Directory with our validation dog pictures\n",
        "validation_dogs_dir = os.path.join(validation_dir, 'dogs')"
      ],
      "execution_count": 4,
      "outputs": []
    },
    {
      "cell_type": "code",
      "metadata": {
        "id": "xECK4J1UtQt-"
      },
      "source": [
        "model = tf.keras.models.Sequential([\n",
        "    tf.keras.layers.Conv2D(32, (3,3), activation='relu', input_shape=(150, 150, 3)),\n",
        "    tf.keras.layers.MaxPooling2D(2, 2),\n",
        "    tf.keras.layers.Conv2D(64, (3,3), activation='relu'),\n",
        "    tf.keras.layers.MaxPooling2D(2,2),\n",
        "    tf.keras.layers.Conv2D(128, (3,3), activation='relu'),\n",
        "    tf.keras.layers.MaxPooling2D(2,2),\n",
        "    tf.keras.layers.Conv2D(128, (3,3), activation='relu'),\n",
        "    tf.keras.layers.MaxPooling2D(2,2),\n",
        "    tf.keras.layers.Flatten(),\n",
        "    tf.keras.layers.Dense(512, activation='relu'),\n",
        "    tf.keras.layers.Dense(1, activation='sigmoid')\n",
        "])"
      ],
      "execution_count": 5,
      "outputs": []
    },
    {
      "cell_type": "code",
      "metadata": {
        "id": "2yyU9kpVtTLd"
      },
      "source": [
        "model.compile(loss='binary_crossentropy',\n",
        "              optimizer=RMSprop(lr=1e-4),\n",
        "              metrics=['accuracy'])"
      ],
      "execution_count": 6,
      "outputs": []
    },
    {
      "cell_type": "code",
      "metadata": {
        "id": "xgbDgExctUyl"
      },
      "source": [
        "# All images will be rescaled by 1./255\n",
        "train_datagen = ImageDataGenerator(rescale=1./255)\n",
        "test_datagen = ImageDataGenerator(rescale=1./255)"
      ],
      "execution_count": 7,
      "outputs": []
    },
    {
      "cell_type": "code",
      "metadata": {
        "colab": {
          "base_uri": "https://localhost:8080/"
        },
        "id": "QGt6JVkHtWv9",
        "outputId": "1c2d8d83-1e91-44af-d3ef-685dec1bfa55"
      },
      "source": [
        "# Flow training images in batches of 20 using train_datagen generator\n",
        "train_generator = train_datagen.flow_from_directory(\n",
        "        train_dir,  # This is the source directory for training images\n",
        "        target_size=(150, 150),  # All images will be resized to 150x150\n",
        "        batch_size=20,\n",
        "        # Since we use binary_crossentropy loss, we need binary labels\n",
        "        class_mode='binary')\n",
        "\n",
        "# Flow validation images in batches of 20 using test_datagen generator\n",
        "validation_generator = test_datagen.flow_from_directory(\n",
        "        validation_dir,\n",
        "        target_size=(150, 150),\n",
        "        batch_size=20,\n",
        "        class_mode='binary')"
      ],
      "execution_count": 8,
      "outputs": [
        {
          "output_type": "stream",
          "text": [
            "Found 2000 images belonging to 2 classes.\n",
            "Found 1000 images belonging to 2 classes.\n"
          ],
          "name": "stdout"
        }
      ]
    },
    {
      "cell_type": "code",
      "metadata": {
        "colab": {
          "base_uri": "https://localhost:8080/"
        },
        "id": "VrtmZaJctZA1",
        "outputId": "0aedc6a6-cb88-48bf-9c23-d2e57d764ecc"
      },
      "source": [
        "history = model.fit(\n",
        "      train_generator,\n",
        "      steps_per_epoch=100,  # 2000 images = batch_size * steps\n",
        "      epochs=100,\n",
        "      validation_data=validation_generator,\n",
        "      validation_steps=50,  # 1000 images = batch_size * steps\n",
        "      verbose=2)"
      ],
      "execution_count": 9,
      "outputs": [
        {
          "output_type": "stream",
          "text": [
            "Epoch 1/100\n",
            "100/100 - 41s - loss: 0.6886 - accuracy: 0.5320 - val_loss: 0.6805 - val_accuracy: 0.5600\n",
            "Epoch 2/100\n",
            "100/100 - 11s - loss: 0.6501 - accuracy: 0.6100 - val_loss: 0.7018 - val_accuracy: 0.5310\n",
            "Epoch 3/100\n",
            "100/100 - 10s - loss: 0.6088 - accuracy: 0.6600 - val_loss: 0.6042 - val_accuracy: 0.6840\n",
            "Epoch 4/100\n",
            "100/100 - 10s - loss: 0.5792 - accuracy: 0.6935 - val_loss: 0.5828 - val_accuracy: 0.7090\n",
            "Epoch 5/100\n",
            "100/100 - 10s - loss: 0.5461 - accuracy: 0.7295 - val_loss: 0.5860 - val_accuracy: 0.6830\n",
            "Epoch 6/100\n",
            "100/100 - 10s - loss: 0.5158 - accuracy: 0.7570 - val_loss: 0.5704 - val_accuracy: 0.6980\n",
            "Epoch 7/100\n",
            "100/100 - 10s - loss: 0.4958 - accuracy: 0.7640 - val_loss: 0.5433 - val_accuracy: 0.7260\n",
            "Epoch 8/100\n",
            "100/100 - 10s - loss: 0.4698 - accuracy: 0.7760 - val_loss: 0.5466 - val_accuracy: 0.7240\n",
            "Epoch 9/100\n",
            "100/100 - 10s - loss: 0.4418 - accuracy: 0.7985 - val_loss: 0.5277 - val_accuracy: 0.7500\n",
            "Epoch 10/100\n",
            "100/100 - 10s - loss: 0.4134 - accuracy: 0.8125 - val_loss: 0.5706 - val_accuracy: 0.7310\n",
            "Epoch 11/100\n",
            "100/100 - 10s - loss: 0.3915 - accuracy: 0.8190 - val_loss: 0.5307 - val_accuracy: 0.7460\n",
            "Epoch 12/100\n",
            "100/100 - 10s - loss: 0.3665 - accuracy: 0.8370 - val_loss: 0.5178 - val_accuracy: 0.7490\n",
            "Epoch 13/100\n",
            "100/100 - 10s - loss: 0.3475 - accuracy: 0.8540 - val_loss: 0.5932 - val_accuracy: 0.7290\n",
            "Epoch 14/100\n",
            "100/100 - 10s - loss: 0.3179 - accuracy: 0.8630 - val_loss: 0.5985 - val_accuracy: 0.7320\n",
            "Epoch 15/100\n",
            "100/100 - 10s - loss: 0.2984 - accuracy: 0.8790 - val_loss: 0.5409 - val_accuracy: 0.7580\n",
            "Epoch 16/100\n",
            "100/100 - 10s - loss: 0.2781 - accuracy: 0.8925 - val_loss: 0.5879 - val_accuracy: 0.7360\n",
            "Epoch 17/100\n",
            "100/100 - 10s - loss: 0.2552 - accuracy: 0.8985 - val_loss: 0.6041 - val_accuracy: 0.7390\n",
            "Epoch 18/100\n",
            "100/100 - 10s - loss: 0.2312 - accuracy: 0.9180 - val_loss: 0.6555 - val_accuracy: 0.7200\n",
            "Epoch 19/100\n",
            "100/100 - 10s - loss: 0.2100 - accuracy: 0.9270 - val_loss: 0.6216 - val_accuracy: 0.7510\n",
            "Epoch 20/100\n",
            "100/100 - 10s - loss: 0.1910 - accuracy: 0.9270 - val_loss: 0.8054 - val_accuracy: 0.7060\n",
            "Epoch 21/100\n",
            "100/100 - 10s - loss: 0.1729 - accuracy: 0.9430 - val_loss: 0.6519 - val_accuracy: 0.7460\n",
            "Epoch 22/100\n",
            "100/100 - 10s - loss: 0.1530 - accuracy: 0.9435 - val_loss: 0.6288 - val_accuracy: 0.7640\n",
            "Epoch 23/100\n",
            "100/100 - 10s - loss: 0.1388 - accuracy: 0.9595 - val_loss: 0.6238 - val_accuracy: 0.7700\n",
            "Epoch 24/100\n",
            "100/100 - 10s - loss: 0.1255 - accuracy: 0.9590 - val_loss: 0.6601 - val_accuracy: 0.7650\n",
            "Epoch 25/100\n",
            "100/100 - 10s - loss: 0.1060 - accuracy: 0.9705 - val_loss: 0.7357 - val_accuracy: 0.7550\n",
            "Epoch 26/100\n",
            "100/100 - 10s - loss: 0.0943 - accuracy: 0.9710 - val_loss: 0.6464 - val_accuracy: 0.7630\n",
            "Epoch 27/100\n",
            "100/100 - 10s - loss: 0.0750 - accuracy: 0.9815 - val_loss: 0.7156 - val_accuracy: 0.7570\n",
            "Epoch 28/100\n",
            "100/100 - 10s - loss: 0.0684 - accuracy: 0.9815 - val_loss: 0.7544 - val_accuracy: 0.7670\n",
            "Epoch 29/100\n",
            "100/100 - 10s - loss: 0.0656 - accuracy: 0.9820 - val_loss: 0.8936 - val_accuracy: 0.7370\n",
            "Epoch 30/100\n",
            "100/100 - 10s - loss: 0.0489 - accuracy: 0.9895 - val_loss: 0.8441 - val_accuracy: 0.7540\n",
            "Epoch 31/100\n",
            "100/100 - 10s - loss: 0.0489 - accuracy: 0.9885 - val_loss: 0.8315 - val_accuracy: 0.7530\n",
            "Epoch 32/100\n",
            "100/100 - 10s - loss: 0.0341 - accuracy: 0.9920 - val_loss: 0.8861 - val_accuracy: 0.7610\n",
            "Epoch 33/100\n",
            "100/100 - 10s - loss: 0.0341 - accuracy: 0.9930 - val_loss: 1.7424 - val_accuracy: 0.6730\n",
            "Epoch 34/100\n",
            "100/100 - 10s - loss: 0.0326 - accuracy: 0.9910 - val_loss: 0.9109 - val_accuracy: 0.7550\n",
            "Epoch 35/100\n",
            "100/100 - 10s - loss: 0.0244 - accuracy: 0.9925 - val_loss: 1.0801 - val_accuracy: 0.7620\n",
            "Epoch 36/100\n",
            "100/100 - 10s - loss: 0.0248 - accuracy: 0.9935 - val_loss: 0.9594 - val_accuracy: 0.7600\n",
            "Epoch 37/100\n",
            "100/100 - 10s - loss: 0.0158 - accuracy: 0.9960 - val_loss: 0.9990 - val_accuracy: 0.7580\n",
            "Epoch 38/100\n",
            "100/100 - 10s - loss: 0.0177 - accuracy: 0.9940 - val_loss: 1.0185 - val_accuracy: 0.7540\n",
            "Epoch 39/100\n",
            "100/100 - 10s - loss: 0.0143 - accuracy: 0.9970 - val_loss: 1.1289 - val_accuracy: 0.7590\n",
            "Epoch 40/100\n",
            "100/100 - 10s - loss: 0.0169 - accuracy: 0.9960 - val_loss: 1.0958 - val_accuracy: 0.7640\n",
            "Epoch 41/100\n",
            "100/100 - 10s - loss: 0.0072 - accuracy: 0.9985 - val_loss: 1.1836 - val_accuracy: 0.7660\n",
            "Epoch 42/100\n",
            "100/100 - 10s - loss: 0.0182 - accuracy: 0.9940 - val_loss: 1.1504 - val_accuracy: 0.7590\n",
            "Epoch 43/100\n",
            "100/100 - 10s - loss: 0.0130 - accuracy: 0.9950 - val_loss: 1.1854 - val_accuracy: 0.7560\n",
            "Epoch 44/100\n",
            "100/100 - 10s - loss: 0.0079 - accuracy: 0.9970 - val_loss: 1.3452 - val_accuracy: 0.7430\n",
            "Epoch 45/100\n",
            "100/100 - 10s - loss: 0.0133 - accuracy: 0.9970 - val_loss: 1.1833 - val_accuracy: 0.7530\n",
            "Epoch 46/100\n",
            "100/100 - 10s - loss: 0.0145 - accuracy: 0.9965 - val_loss: 1.2449 - val_accuracy: 0.7460\n",
            "Epoch 47/100\n",
            "100/100 - 10s - loss: 0.0053 - accuracy: 0.9985 - val_loss: 1.2686 - val_accuracy: 0.7640\n",
            "Epoch 48/100\n",
            "100/100 - 10s - loss: 0.0053 - accuracy: 0.9990 - val_loss: 1.4969 - val_accuracy: 0.7420\n",
            "Epoch 49/100\n",
            "100/100 - 10s - loss: 0.0116 - accuracy: 0.9975 - val_loss: 1.3296 - val_accuracy: 0.7560\n",
            "Epoch 50/100\n",
            "100/100 - 10s - loss: 0.0111 - accuracy: 0.9965 - val_loss: 2.0512 - val_accuracy: 0.7120\n",
            "Epoch 51/100\n",
            "100/100 - 10s - loss: 0.0041 - accuracy: 0.9990 - val_loss: 1.3655 - val_accuracy: 0.7610\n",
            "Epoch 52/100\n",
            "100/100 - 10s - loss: 0.0101 - accuracy: 0.9955 - val_loss: 1.4310 - val_accuracy: 0.7600\n",
            "Epoch 53/100\n",
            "100/100 - 10s - loss: 0.0096 - accuracy: 0.9985 - val_loss: 1.4358 - val_accuracy: 0.7580\n",
            "Epoch 54/100\n",
            "100/100 - 10s - loss: 0.0102 - accuracy: 0.9950 - val_loss: 1.4102 - val_accuracy: 0.7650\n",
            "Epoch 55/100\n",
            "100/100 - 10s - loss: 0.0034 - accuracy: 0.9995 - val_loss: 1.4672 - val_accuracy: 0.7520\n",
            "Epoch 56/100\n",
            "100/100 - 10s - loss: 0.0042 - accuracy: 0.9990 - val_loss: 1.5317 - val_accuracy: 0.7530\n",
            "Epoch 57/100\n",
            "100/100 - 10s - loss: 0.0040 - accuracy: 0.9980 - val_loss: 1.5274 - val_accuracy: 0.7520\n",
            "Epoch 58/100\n",
            "100/100 - 10s - loss: 0.0073 - accuracy: 0.9965 - val_loss: 1.6260 - val_accuracy: 0.7560\n",
            "Epoch 59/100\n",
            "100/100 - 10s - loss: 0.0082 - accuracy: 0.9980 - val_loss: 1.5552 - val_accuracy: 0.7500\n",
            "Epoch 60/100\n",
            "100/100 - 10s - loss: 0.0153 - accuracy: 0.9960 - val_loss: 1.5426 - val_accuracy: 0.7570\n",
            "Epoch 61/100\n",
            "100/100 - 10s - loss: 2.7294e-04 - accuracy: 1.0000 - val_loss: 1.5748 - val_accuracy: 0.7580\n",
            "Epoch 62/100\n",
            "100/100 - 10s - loss: 0.0143 - accuracy: 0.9960 - val_loss: 1.5749 - val_accuracy: 0.7530\n",
            "Epoch 63/100\n",
            "100/100 - 10s - loss: 0.0052 - accuracy: 0.9980 - val_loss: 1.7366 - val_accuracy: 0.7490\n",
            "Epoch 64/100\n",
            "100/100 - 10s - loss: 0.0034 - accuracy: 0.9985 - val_loss: 1.5905 - val_accuracy: 0.7670\n",
            "Epoch 65/100\n",
            "100/100 - 10s - loss: 0.0053 - accuracy: 0.9985 - val_loss: 1.6045 - val_accuracy: 0.7610\n",
            "Epoch 66/100\n",
            "100/100 - 10s - loss: 0.0113 - accuracy: 0.9980 - val_loss: 1.5624 - val_accuracy: 0.7620\n",
            "Epoch 67/100\n",
            "100/100 - 10s - loss: 0.0041 - accuracy: 0.9990 - val_loss: 1.6902 - val_accuracy: 0.7580\n",
            "Epoch 68/100\n",
            "100/100 - 10s - loss: 0.0060 - accuracy: 0.9975 - val_loss: 1.7094 - val_accuracy: 0.7590\n",
            "Epoch 69/100\n",
            "100/100 - 10s - loss: 0.0064 - accuracy: 0.9980 - val_loss: 1.7276 - val_accuracy: 0.7610\n",
            "Epoch 70/100\n",
            "100/100 - 10s - loss: 0.0059 - accuracy: 0.9980 - val_loss: 1.9540 - val_accuracy: 0.7470\n",
            "Epoch 71/100\n",
            "100/100 - 10s - loss: 0.0010 - accuracy: 1.0000 - val_loss: 1.8801 - val_accuracy: 0.7490\n",
            "Epoch 72/100\n",
            "100/100 - 10s - loss: 0.0035 - accuracy: 0.9990 - val_loss: 1.6691 - val_accuracy: 0.7540\n",
            "Epoch 73/100\n",
            "100/100 - 10s - loss: 0.0014 - accuracy: 0.9995 - val_loss: 2.0902 - val_accuracy: 0.7350\n",
            "Epoch 74/100\n",
            "100/100 - 10s - loss: 0.0044 - accuracy: 0.9975 - val_loss: 1.7226 - val_accuracy: 0.7630\n",
            "Epoch 75/100\n",
            "100/100 - 10s - loss: 1.3876e-04 - accuracy: 1.0000 - val_loss: 1.7427 - val_accuracy: 0.7670\n",
            "Epoch 76/100\n",
            "100/100 - 10s - loss: 0.0138 - accuracy: 0.9970 - val_loss: 1.7304 - val_accuracy: 0.7600\n",
            "Epoch 77/100\n",
            "100/100 - 10s - loss: 0.0043 - accuracy: 0.9990 - val_loss: 1.7880 - val_accuracy: 0.7570\n",
            "Epoch 78/100\n",
            "100/100 - 10s - loss: 0.0061 - accuracy: 0.9985 - val_loss: 1.7333 - val_accuracy: 0.7700\n",
            "Epoch 79/100\n",
            "100/100 - 10s - loss: 0.0054 - accuracy: 0.9975 - val_loss: 1.8641 - val_accuracy: 0.7690\n",
            "Epoch 80/100\n",
            "100/100 - 10s - loss: 4.7045e-04 - accuracy: 1.0000 - val_loss: 1.8616 - val_accuracy: 0.7700\n",
            "Epoch 81/100\n",
            "100/100 - 10s - loss: 0.0029 - accuracy: 0.9985 - val_loss: 1.8005 - val_accuracy: 0.7710\n",
            "Epoch 82/100\n",
            "100/100 - 10s - loss: 0.0052 - accuracy: 0.9985 - val_loss: 1.9096 - val_accuracy: 0.7600\n",
            "Epoch 83/100\n",
            "100/100 - 10s - loss: 5.9526e-04 - accuracy: 1.0000 - val_loss: 1.8355 - val_accuracy: 0.7700\n",
            "Epoch 84/100\n",
            "100/100 - 10s - loss: 0.0062 - accuracy: 0.9980 - val_loss: 1.8311 - val_accuracy: 0.7600\n",
            "Epoch 85/100\n",
            "100/100 - 10s - loss: 0.0014 - accuracy: 0.9990 - val_loss: 1.9796 - val_accuracy: 0.7700\n",
            "Epoch 86/100\n",
            "100/100 - 10s - loss: 0.0099 - accuracy: 0.9980 - val_loss: 2.0166 - val_accuracy: 0.7600\n",
            "Epoch 87/100\n",
            "100/100 - 10s - loss: 6.8513e-05 - accuracy: 1.0000 - val_loss: 1.9669 - val_accuracy: 0.7660\n",
            "Epoch 88/100\n",
            "100/100 - 10s - loss: 0.0086 - accuracy: 0.9975 - val_loss: 1.8559 - val_accuracy: 0.7620\n",
            "Epoch 89/100\n",
            "100/100 - 10s - loss: 0.0052 - accuracy: 0.9980 - val_loss: 2.0619 - val_accuracy: 0.7500\n",
            "Epoch 90/100\n",
            "100/100 - 10s - loss: 0.0015 - accuracy: 0.9990 - val_loss: 1.9648 - val_accuracy: 0.7610\n",
            "Epoch 91/100\n",
            "100/100 - 10s - loss: 0.0012 - accuracy: 0.9995 - val_loss: 2.0386 - val_accuracy: 0.7450\n",
            "Epoch 92/100\n",
            "100/100 - 10s - loss: 2.7918e-04 - accuracy: 1.0000 - val_loss: 2.3009 - val_accuracy: 0.7490\n",
            "Epoch 93/100\n",
            "100/100 - 10s - loss: 0.0035 - accuracy: 0.9985 - val_loss: 2.1056 - val_accuracy: 0.7560\n",
            "Epoch 94/100\n",
            "100/100 - 10s - loss: 0.0120 - accuracy: 0.9970 - val_loss: 2.0330 - val_accuracy: 0.7450\n",
            "Epoch 95/100\n",
            "100/100 - 10s - loss: 0.0093 - accuracy: 0.9975 - val_loss: 1.8877 - val_accuracy: 0.7580\n",
            "Epoch 96/100\n",
            "100/100 - 10s - loss: 0.0048 - accuracy: 0.9980 - val_loss: 2.0110 - val_accuracy: 0.7560\n",
            "Epoch 97/100\n",
            "100/100 - 10s - loss: 0.0043 - accuracy: 0.9985 - val_loss: 2.1199 - val_accuracy: 0.7500\n",
            "Epoch 98/100\n",
            "100/100 - 10s - loss: 0.0062 - accuracy: 0.9990 - val_loss: 2.1427 - val_accuracy: 0.7460\n",
            "Epoch 99/100\n",
            "100/100 - 10s - loss: 5.5039e-04 - accuracy: 1.0000 - val_loss: 2.1343 - val_accuracy: 0.7550\n",
            "Epoch 100/100\n",
            "100/100 - 10s - loss: 0.0043 - accuracy: 0.9985 - val_loss: 2.1504 - val_accuracy: 0.7490\n"
          ],
          "name": "stdout"
        }
      ]
    },
    {
      "cell_type": "code",
      "metadata": {
        "colab": {
          "base_uri": "https://localhost:8080/",
          "height": 545
        },
        "id": "pyHa0rwwta7l",
        "outputId": "6745b422-8568-4045-97f9-260a3eac7ae9"
      },
      "source": [
        "import matplotlib.pyplot as plt\n",
        "acc = history.history['accuracy']\n",
        "val_acc = history.history['val_accuracy']\n",
        "loss = history.history['loss']\n",
        "val_loss = history.history['val_loss']\n",
        "\n",
        "epochs = range(len(acc))\n",
        "\n",
        "plt.plot(epochs, acc, 'bo', label='Training accuracy')\n",
        "plt.plot(epochs, val_acc, 'b', label='Validation accuracy')\n",
        "plt.title('Training and validation accuracy')\n",
        "\n",
        "plt.figure()\n",
        "\n",
        "plt.plot(epochs, loss, 'bo', label='Training Loss')\n",
        "plt.plot(epochs, val_loss, 'b', label='Validation Loss')\n",
        "plt.title('Training and validation loss')\n",
        "plt.legend()\n",
        "\n",
        "plt.show()"
      ],
      "execution_count": 10,
      "outputs": [
        {
          "output_type": "display_data",
          "data": {
            "image/png": "[encoded data removed]",
            "text/plain": [
              "<Figure size 432x288 with 1 Axes>"
            ]
          },
          "metadata": {
            "tags": [],
            "needs_background": "light"
          }
        },
        {
          "output_type": "display_data",
          "data": {
            "image/png": "[encoded data removed]",
            "text/plain": [
              "<Figure size 432x288 with 1 Axes>"
            ]
          },
          "metadata": {
            "tags": [],
            "needs_background": "light"
          }
        }
      ]
    },
    {
      "cell_type": "markdown",
      "metadata": {
        "id": "IuTLl9_MthwF"
      },
      "source": [
        "예제 1 은 훈련 정확도는 100 %에 가깝고 검증 정확도는 70 % -80 % 범위, 과적 합의 훌륭한 예\n",
        "\n",
        "이미지를 약간 조정하여 이미지를 약간 변경하면 어떨까요? 이미지를 회전하고 스쿼시하는 등의 작업을 수행 할 수 있습니다. \n",
        "\n",
        "이것이 바로 이미지 확대에 관한 것입니다. 그리고 쉽게 만드는 API가 있습니다."
      ]
    },
    {
      "cell_type": "markdown",
      "metadata": {
        "id": "HhFYirxXvik3"
      },
      "source": [
        "rotation_range는 그림을 임의로 회전 할 범위 인 각도 (0-180) 값입니다.\n",
        "\n",
        "width_shift 및 height_shift는 그림을 세로 또는 가로로 무작위로 번역 할 범위 (총 너비 또는 높이의 일부)입니다.\n",
        "\n",
        "shear_range는 전단 변환을 무작위로 적용하기위한 것입니다.\n",
        "\n",
        "zoom_range는 사진 내부를 무작위로 확대하기위한 것입니다.\n",
        "\n",
        "horizontal_flip은 이미지의 절반을 가로로 무작위로 뒤집기위한 것입니다. 이것은 수평 비대칭에 대한 가정이 없을 때 관련됩니다 (예 : 실제 그림).\n",
        "\n",
        "fill_mode는 새로 생성 된 픽셀을 채우는 데 사용되는 전략으로, 회전 또는 너비 / 높이 이동 후에 나타날 수 있습니다."
      ]
    },
    {
      "cell_type": "markdown",
      "metadata": {
        "id": "XLTKo_WPvmGn"
      },
      "source": [
        "예제 2. Image Augmentation을 추가 한 코드입니다. 영향을 확인하려면 실행하십시오."
      ]
    },
    {
      "cell_type": "code",
      "metadata": {
        "id": "sV-lOwwhtdK-"
      },
      "source": [
        "import os\n",
        "import zipfile\n",
        "import tensorflow as tf\n",
        "from tensorflow.keras.optimizers import RMSprop\n",
        "from tensorflow.keras.preprocessing.image import ImageDataGenerator"
      ],
      "execution_count": 11,
      "outputs": []
    },
    {
      "cell_type": "code",
      "metadata": {
        "colab": {
          "base_uri": "https://localhost:8080/"
        },
        "id": "2mDUOiPRtiid",
        "outputId": "97d39e3f-3bc0-4245-f942-d7010d7c52db"
      },
      "source": [
        "!wget --no-check-certificate \\\n",
        "    https://storage.googleapis.com/mledu-datasets/cats_and_dogs_filtered.zip \\\n",
        "    -O /tmp/cats_and_dogs_filtered.zip"
      ],
      "execution_count": 12,
      "outputs": [
        {
          "output_type": "stream",
          "text": [
            "--2021-05-03 06:07:04--  https://storage.googleapis.com/mledu-datasets/cats_and_dogs_filtered.zip\n",
            "Resolving storage.googleapis.com (storage.googleapis.com)... 64.233.189.128, 108.177.97.128, 108.177.125.128, ...\n",
            "Connecting to storage.googleapis.com (storage.googleapis.com)|64.233.189.128|:443... connected.\n",
            "HTTP request sent, awaiting response... 200 OK\n",
            "Length: 68606236 (65M) [application/zip]\n",
            "Saving to: ‘/tmp/cats_and_dogs_filtered.zip’\n",
            "\n",
            "/tmp/cats_and_dogs_ 100%[===================>]  65.43M  64.1MB/s    in 1.0s    \n",
            "\n",
            "2021-05-03 06:07:05 (64.1 MB/s) - ‘/tmp/cats_and_dogs_filtered.zip’ saved [68606236/68606236]\n",
            "\n"
          ],
          "name": "stdout"
        }
      ]
    },
    {
      "cell_type": "code",
      "metadata": {
        "id": "jTieYpYXtkiV"
      },
      "source": [
        "local_zip = '/tmp/cats_and_dogs_filtered.zip'\n",
        "zip_ref = zipfile.ZipFile(local_zip, 'r')\n",
        "zip_ref.extractall('/tmp')\n",
        "zip_ref.close()\n",
        "\n",
        "base_dir = '/tmp/cats_and_dogs_filtered'\n",
        "train_dir = os.path.join(base_dir, 'train')\n",
        "validation_dir = os.path.join(base_dir, 'validation')\n",
        "\n",
        "# Directory with our training cat pictures\n",
        "train_cats_dir = os.path.join(train_dir, 'cats')\n",
        "\n",
        "# Directory with our training dog pictures\n",
        "train_dogs_dir = os.path.join(train_dir, 'dogs')\n",
        "\n",
        "# Directory with our validation cat pictures\n",
        "validation_cats_dir = os.path.join(validation_dir, 'cats')\n",
        "\n",
        "# Directory with our validation dog pictures\n",
        "validation_dogs_dir = os.path.join(validation_dir, 'dogs')"
      ],
      "execution_count": 13,
      "outputs": []
    },
    {
      "cell_type": "code",
      "metadata": {
        "id": "a-2BNnGktm2l"
      },
      "source": [
        "model = tf.keras.models.Sequential([\n",
        "    tf.keras.layers.Conv2D(32, (3,3), activation='relu', input_shape=(150, 150, 3)),\n",
        "    tf.keras.layers.MaxPooling2D(2, 2),\n",
        "    tf.keras.layers.Conv2D(64, (3,3), activation='relu'),\n",
        "    tf.keras.layers.MaxPooling2D(2,2),\n",
        "    tf.keras.layers.Conv2D(128, (3,3), activation='relu'),\n",
        "    tf.keras.layers.MaxPooling2D(2,2),\n",
        "    tf.keras.layers.Conv2D(128, (3,3), activation='relu'),\n",
        "    tf.keras.layers.MaxPooling2D(2,2),\n",
        "    tf.keras.layers.Flatten(),\n",
        "    tf.keras.layers.Dense(512, activation='relu'),\n",
        "    tf.keras.layers.Dense(1, activation='sigmoid')\n",
        "])"
      ],
      "execution_count": 14,
      "outputs": []
    },
    {
      "cell_type": "code",
      "metadata": {
        "id": "LplYOpA5tpJV"
      },
      "source": [
        "model.compile(loss='binary_crossentropy',\n",
        "              optimizer=RMSprop(lr=1e-4),\n",
        "              metrics=['accuracy'])"
      ],
      "execution_count": 15,
      "outputs": []
    },
    {
      "cell_type": "code",
      "metadata": {
        "colab": {
          "base_uri": "https://localhost:8080/"
        },
        "id": "NwD4wF1Gtq7W",
        "outputId": "c6bf5097-7b7d-4414-ec3b-f0fe64f3c126"
      },
      "source": [
        "# This code has changed. Now instead of the ImageGenerator just rescaling\n",
        "# the image, we also rotate and do other operations\n",
        "# Updated to do image augmentation\n",
        "train_datagen = ImageDataGenerator(\n",
        "      rescale=1./255,\n",
        "      rotation_range=40,\n",
        "      width_shift_range=0.2,\n",
        "      height_shift_range=0.2,\n",
        "      shear_range=0.2,\n",
        "      zoom_range=0.2,\n",
        "      horizontal_flip=True,\n",
        "      fill_mode='nearest')\n",
        "\n",
        "test_datagen = ImageDataGenerator(rescale=1./255)\n",
        "\n",
        "# Flow training images in batches of 20 using train_datagen generator\n",
        "train_generator = train_datagen.flow_from_directory(\n",
        "        train_dir,  # This is the source directory for training images\n",
        "        target_size=(150, 150),  # All images will be resized to 150x150\n",
        "        batch_size=20,\n",
        "        # Since we use binary_crossentropy loss, we need binary labels\n",
        "        class_mode='binary')\n",
        "\n",
        "# Flow validation images in batches of 20 using test_datagen generator\n",
        "validation_generator = test_datagen.flow_from_directory(\n",
        "        validation_dir,\n",
        "        target_size=(150, 150),\n",
        "        batch_size=20,\n",
        "        class_mode='binary')"
      ],
      "execution_count": 16,
      "outputs": [
        {
          "output_type": "stream",
          "text": [
            "Found 2000 images belonging to 2 classes.\n",
            "Found 1000 images belonging to 2 classes.\n"
          ],
          "name": "stdout"
        }
      ]
    },
    {
      "cell_type": "code",
      "metadata": {
        "colab": {
          "base_uri": "https://localhost:8080/"
        },
        "id": "tPrZuJGNtuuu",
        "outputId": "9d74251c-4052-4ce7-ccc6-d6a567e6427e"
      },
      "source": [
        "history = model.fit(\n",
        "      train_generator,\n",
        "      steps_per_epoch=100,  # 2000 images = batch_size * steps\n",
        "      epochs=100,\n",
        "      validation_data=validation_generator,\n",
        "      validation_steps=50,  # 1000 images = batch_size * steps\n",
        "      verbose=2)"
      ],
      "execution_count": 17,
      "outputs": [
        {
          "output_type": "stream",
          "text": [
            "Epoch 1/100\n",
            "100/100 - 22s - loss: 0.6895 - accuracy: 0.5345 - val_loss: 0.6811 - val_accuracy: 0.5800\n",
            "Epoch 2/100\n",
            "100/100 - 20s - loss: 0.6791 - accuracy: 0.5715 - val_loss: 0.6533 - val_accuracy: 0.6110\n",
            "Epoch 3/100\n",
            "100/100 - 20s - loss: 0.6667 - accuracy: 0.6020 - val_loss: 0.6450 - val_accuracy: 0.6290\n",
            "Epoch 4/100\n",
            "100/100 - 20s - loss: 0.6627 - accuracy: 0.5935 - val_loss: 0.6185 - val_accuracy: 0.6540\n",
            "Epoch 5/100\n",
            "100/100 - 20s - loss: 0.6359 - accuracy: 0.6255 - val_loss: 0.6185 - val_accuracy: 0.6660\n",
            "Epoch 6/100\n",
            "100/100 - 20s - loss: 0.6305 - accuracy: 0.6425 - val_loss: 0.5899 - val_accuracy: 0.6790\n",
            "Epoch 7/100\n",
            "100/100 - 20s - loss: 0.6129 - accuracy: 0.6695 - val_loss: 0.5796 - val_accuracy: 0.6790\n",
            "Epoch 8/100\n",
            "100/100 - 20s - loss: 0.6104 - accuracy: 0.6670 - val_loss: 0.5813 - val_accuracy: 0.6860\n",
            "Epoch 9/100\n",
            "100/100 - 20s - loss: 0.5934 - accuracy: 0.6855 - val_loss: 0.5671 - val_accuracy: 0.6880\n",
            "Epoch 10/100\n",
            "100/100 - 20s - loss: 0.5868 - accuracy: 0.6850 - val_loss: 0.5364 - val_accuracy: 0.7130\n",
            "Epoch 11/100\n",
            "100/100 - 20s - loss: 0.5800 - accuracy: 0.6960 - val_loss: 0.5365 - val_accuracy: 0.7210\n",
            "Epoch 12/100\n",
            "100/100 - 20s - loss: 0.5731 - accuracy: 0.7020 - val_loss: 0.5309 - val_accuracy: 0.7200\n",
            "Epoch 13/100\n",
            "100/100 - 20s - loss: 0.5635 - accuracy: 0.7130 - val_loss: 0.5527 - val_accuracy: 0.7090\n",
            "Epoch 14/100\n",
            "100/100 - 20s - loss: 0.5750 - accuracy: 0.6940 - val_loss: 0.5233 - val_accuracy: 0.7200\n",
            "Epoch 15/100\n",
            "100/100 - 20s - loss: 0.5571 - accuracy: 0.7175 - val_loss: 0.5201 - val_accuracy: 0.7410\n",
            "Epoch 16/100\n",
            "100/100 - 20s - loss: 0.5575 - accuracy: 0.7055 - val_loss: 0.5188 - val_accuracy: 0.7360\n",
            "Epoch 17/100\n",
            "100/100 - 20s - loss: 0.5556 - accuracy: 0.7135 - val_loss: 0.5125 - val_accuracy: 0.7370\n",
            "Epoch 18/100\n",
            "100/100 - 19s - loss: 0.5516 - accuracy: 0.7190 - val_loss: 0.5065 - val_accuracy: 0.7380\n",
            "Epoch 19/100\n",
            "100/100 - 19s - loss: 0.5435 - accuracy: 0.7260 - val_loss: 0.5028 - val_accuracy: 0.7480\n",
            "Epoch 20/100\n",
            "100/100 - 19s - loss: 0.5357 - accuracy: 0.7295 - val_loss: 0.5151 - val_accuracy: 0.7330\n",
            "Epoch 21/100\n",
            "100/100 - 20s - loss: 0.5333 - accuracy: 0.7270 - val_loss: 0.5039 - val_accuracy: 0.7430\n",
            "Epoch 22/100\n",
            "100/100 - 20s - loss: 0.5225 - accuracy: 0.7385 - val_loss: 0.5117 - val_accuracy: 0.7330\n",
            "Epoch 23/100\n",
            "100/100 - 20s - loss: 0.5272 - accuracy: 0.7505 - val_loss: 0.5044 - val_accuracy: 0.7420\n",
            "Epoch 24/100\n",
            "100/100 - 20s - loss: 0.5197 - accuracy: 0.7385 - val_loss: 0.4864 - val_accuracy: 0.7570\n",
            "Epoch 25/100\n",
            "100/100 - 20s - loss: 0.5231 - accuracy: 0.7380 - val_loss: 0.5116 - val_accuracy: 0.7300\n",
            "Epoch 26/100\n",
            "100/100 - 20s - loss: 0.5055 - accuracy: 0.7505 - val_loss: 0.4845 - val_accuracy: 0.7450\n",
            "Epoch 27/100\n",
            "100/100 - 20s - loss: 0.5107 - accuracy: 0.7445 - val_loss: 0.5115 - val_accuracy: 0.7560\n",
            "Epoch 28/100\n",
            "100/100 - 20s - loss: 0.5078 - accuracy: 0.7555 - val_loss: 0.4842 - val_accuracy: 0.7420\n",
            "Epoch 29/100\n",
            "100/100 - 20s - loss: 0.5101 - accuracy: 0.7405 - val_loss: 0.4828 - val_accuracy: 0.7450\n",
            "Epoch 30/100\n",
            "100/100 - 19s - loss: 0.5072 - accuracy: 0.7470 - val_loss: 0.4797 - val_accuracy: 0.7660\n",
            "Epoch 31/100\n",
            "100/100 - 19s - loss: 0.4866 - accuracy: 0.7600 - val_loss: 0.4967 - val_accuracy: 0.7700\n",
            "Epoch 32/100\n",
            "100/100 - 20s - loss: 0.5012 - accuracy: 0.7565 - val_loss: 0.4559 - val_accuracy: 0.7800\n",
            "Epoch 33/100\n",
            "100/100 - 20s - loss: 0.4892 - accuracy: 0.7660 - val_loss: 0.4702 - val_accuracy: 0.7690\n",
            "Epoch 34/100\n",
            "100/100 - 20s - loss: 0.4786 - accuracy: 0.7635 - val_loss: 0.4411 - val_accuracy: 0.7910\n",
            "Epoch 35/100\n",
            "100/100 - 19s - loss: 0.4885 - accuracy: 0.7605 - val_loss: 0.4708 - val_accuracy: 0.7740\n",
            "Epoch 36/100\n",
            "100/100 - 20s - loss: 0.4703 - accuracy: 0.7780 - val_loss: 0.4676 - val_accuracy: 0.7770\n",
            "Epoch 37/100\n",
            "100/100 - 19s - loss: 0.4981 - accuracy: 0.7550 - val_loss: 0.4544 - val_accuracy: 0.7740\n",
            "Epoch 38/100\n",
            "100/100 - 19s - loss: 0.4805 - accuracy: 0.7670 - val_loss: 0.4609 - val_accuracy: 0.7820\n",
            "Epoch 39/100\n",
            "100/100 - 19s - loss: 0.4709 - accuracy: 0.7750 - val_loss: 0.4596 - val_accuracy: 0.7810\n",
            "Epoch 40/100\n",
            "100/100 - 19s - loss: 0.4808 - accuracy: 0.7580 - val_loss: 0.4587 - val_accuracy: 0.7830\n",
            "Epoch 41/100\n",
            "100/100 - 19s - loss: 0.4544 - accuracy: 0.7865 - val_loss: 0.4697 - val_accuracy: 0.7840\n",
            "Epoch 42/100\n",
            "100/100 - 19s - loss: 0.4696 - accuracy: 0.7625 - val_loss: 0.4792 - val_accuracy: 0.7590\n",
            "Epoch 43/100\n",
            "100/100 - 19s - loss: 0.4676 - accuracy: 0.7720 - val_loss: 0.5022 - val_accuracy: 0.7500\n",
            "Epoch 44/100\n",
            "100/100 - 19s - loss: 0.4562 - accuracy: 0.7830 - val_loss: 0.4508 - val_accuracy: 0.7840\n",
            "Epoch 45/100\n",
            "100/100 - 19s - loss: 0.4645 - accuracy: 0.7740 - val_loss: 0.4459 - val_accuracy: 0.8030\n",
            "Epoch 46/100\n",
            "100/100 - 20s - loss: 0.4559 - accuracy: 0.7810 - val_loss: 0.4379 - val_accuracy: 0.7970\n",
            "Epoch 47/100\n",
            "100/100 - 21s - loss: 0.4560 - accuracy: 0.7910 - val_loss: 0.4452 - val_accuracy: 0.7830\n",
            "Epoch 48/100\n",
            "100/100 - 20s - loss: 0.4489 - accuracy: 0.7910 - val_loss: 0.4416 - val_accuracy: 0.7870\n",
            "Epoch 49/100\n",
            "100/100 - 20s - loss: 0.4571 - accuracy: 0.7895 - val_loss: 0.4442 - val_accuracy: 0.7780\n",
            "Epoch 50/100\n",
            "100/100 - 20s - loss: 0.4515 - accuracy: 0.7870 - val_loss: 0.4368 - val_accuracy: 0.7990\n",
            "Epoch 51/100\n",
            "100/100 - 20s - loss: 0.4374 - accuracy: 0.7995 - val_loss: 0.4529 - val_accuracy: 0.7840\n",
            "Epoch 52/100\n",
            "100/100 - 20s - loss: 0.4504 - accuracy: 0.7795 - val_loss: 0.4337 - val_accuracy: 0.7950\n",
            "Epoch 53/100\n",
            "100/100 - 20s - loss: 0.4290 - accuracy: 0.8025 - val_loss: 0.4536 - val_accuracy: 0.7890\n",
            "Epoch 54/100\n",
            "100/100 - 20s - loss: 0.4350 - accuracy: 0.7970 - val_loss: 0.4915 - val_accuracy: 0.7870\n",
            "Epoch 55/100\n",
            "100/100 - 20s - loss: 0.4359 - accuracy: 0.7960 - val_loss: 0.5240 - val_accuracy: 0.7400\n",
            "Epoch 56/100\n",
            "100/100 - 20s - loss: 0.4210 - accuracy: 0.8040 - val_loss: 0.4319 - val_accuracy: 0.8020\n",
            "Epoch 57/100\n",
            "100/100 - 20s - loss: 0.4332 - accuracy: 0.8025 - val_loss: 0.5144 - val_accuracy: 0.7540\n",
            "Epoch 58/100\n",
            "100/100 - 20s - loss: 0.4226 - accuracy: 0.8020 - val_loss: 0.4253 - val_accuracy: 0.8100\n",
            "Epoch 59/100\n",
            "100/100 - 20s - loss: 0.4295 - accuracy: 0.8060 - val_loss: 0.4334 - val_accuracy: 0.8010\n",
            "Epoch 60/100\n",
            "100/100 - 20s - loss: 0.4212 - accuracy: 0.8105 - val_loss: 0.4683 - val_accuracy: 0.7740\n",
            "Epoch 61/100\n",
            "100/100 - 20s - loss: 0.4272 - accuracy: 0.8105 - val_loss: 0.4776 - val_accuracy: 0.7710\n",
            "Epoch 62/100\n",
            "100/100 - 20s - loss: 0.4266 - accuracy: 0.8070 - val_loss: 0.4106 - val_accuracy: 0.8180\n",
            "Epoch 63/100\n",
            "100/100 - 20s - loss: 0.4285 - accuracy: 0.7960 - val_loss: 0.4214 - val_accuracy: 0.7980\n",
            "Epoch 64/100\n",
            "100/100 - 20s - loss: 0.4119 - accuracy: 0.8065 - val_loss: 0.4537 - val_accuracy: 0.7910\n",
            "Epoch 65/100\n",
            "100/100 - 19s - loss: 0.4110 - accuracy: 0.8190 - val_loss: 0.4256 - val_accuracy: 0.8030\n",
            "Epoch 66/100\n",
            "100/100 - 20s - loss: 0.4005 - accuracy: 0.8160 - val_loss: 0.4333 - val_accuracy: 0.8100\n",
            "Epoch 67/100\n",
            "100/100 - 20s - loss: 0.4363 - accuracy: 0.7995 - val_loss: 0.4002 - val_accuracy: 0.8150\n",
            "Epoch 68/100\n",
            "100/100 - 20s - loss: 0.4097 - accuracy: 0.8075 - val_loss: 0.4259 - val_accuracy: 0.7990\n",
            "Epoch 69/100\n",
            "100/100 - 20s - loss: 0.4013 - accuracy: 0.8160 - val_loss: 0.4419 - val_accuracy: 0.7890\n",
            "Epoch 70/100\n",
            "100/100 - 20s - loss: 0.4167 - accuracy: 0.8120 - val_loss: 0.4365 - val_accuracy: 0.7870\n",
            "Epoch 71/100\n",
            "100/100 - 20s - loss: 0.4054 - accuracy: 0.8115 - val_loss: 0.4884 - val_accuracy: 0.7770\n",
            "Epoch 72/100\n",
            "100/100 - 20s - loss: 0.3910 - accuracy: 0.8175 - val_loss: 0.4460 - val_accuracy: 0.7950\n",
            "Epoch 73/100\n",
            "100/100 - 20s - loss: 0.4117 - accuracy: 0.8075 - val_loss: 0.4126 - val_accuracy: 0.7990\n",
            "Epoch 74/100\n",
            "100/100 - 20s - loss: 0.4002 - accuracy: 0.8160 - val_loss: 0.4211 - val_accuracy: 0.7980\n",
            "Epoch 75/100\n",
            "100/100 - 20s - loss: 0.3868 - accuracy: 0.8215 - val_loss: 0.5008 - val_accuracy: 0.7730\n",
            "Epoch 76/100\n",
            "100/100 - 20s - loss: 0.3956 - accuracy: 0.8250 - val_loss: 0.4412 - val_accuracy: 0.7960\n",
            "Epoch 77/100\n",
            "100/100 - 20s - loss: 0.3899 - accuracy: 0.8265 - val_loss: 0.4095 - val_accuracy: 0.8080\n",
            "Epoch 78/100\n",
            "100/100 - 20s - loss: 0.4003 - accuracy: 0.8205 - val_loss: 0.4407 - val_accuracy: 0.7990\n",
            "Epoch 79/100\n",
            "100/100 - 20s - loss: 0.3808 - accuracy: 0.8250 - val_loss: 0.4009 - val_accuracy: 0.8170\n",
            "Epoch 80/100\n",
            "100/100 - 20s - loss: 0.3717 - accuracy: 0.8360 - val_loss: 0.4469 - val_accuracy: 0.8000\n",
            "Epoch 81/100\n",
            "100/100 - 20s - loss: 0.3911 - accuracy: 0.8300 - val_loss: 0.4508 - val_accuracy: 0.7780\n",
            "Epoch 82/100\n",
            "100/100 - 20s - loss: 0.3756 - accuracy: 0.8235 - val_loss: 0.4137 - val_accuracy: 0.7990\n",
            "Epoch 83/100\n",
            "100/100 - 21s - loss: 0.3806 - accuracy: 0.8220 - val_loss: 0.3937 - val_accuracy: 0.8240\n",
            "Epoch 84/100\n",
            "100/100 - 20s - loss: 0.3739 - accuracy: 0.8385 - val_loss: 0.4478 - val_accuracy: 0.7980\n",
            "Epoch 85/100\n",
            "100/100 - 20s - loss: 0.3752 - accuracy: 0.8305 - val_loss: 0.4224 - val_accuracy: 0.8100\n",
            "Epoch 86/100\n",
            "100/100 - 20s - loss: 0.3812 - accuracy: 0.8270 - val_loss: 0.3960 - val_accuracy: 0.8150\n",
            "Epoch 87/100\n",
            "100/100 - 20s - loss: 0.3755 - accuracy: 0.8280 - val_loss: 0.4106 - val_accuracy: 0.8080\n",
            "Epoch 88/100\n",
            "100/100 - 20s - loss: 0.3676 - accuracy: 0.8390 - val_loss: 0.4273 - val_accuracy: 0.8080\n",
            "Epoch 89/100\n",
            "100/100 - 20s - loss: 0.3512 - accuracy: 0.8410 - val_loss: 0.4030 - val_accuracy: 0.8220\n",
            "Epoch 90/100\n",
            "100/100 - 20s - loss: 0.3615 - accuracy: 0.8350 - val_loss: 0.3815 - val_accuracy: 0.8330\n",
            "Epoch 91/100\n",
            "100/100 - 20s - loss: 0.3624 - accuracy: 0.8365 - val_loss: 0.3992 - val_accuracy: 0.8210\n",
            "Epoch 92/100\n",
            "100/100 - 20s - loss: 0.3645 - accuracy: 0.8300 - val_loss: 0.3861 - val_accuracy: 0.8260\n",
            "Epoch 93/100\n",
            "100/100 - 20s - loss: 0.3629 - accuracy: 0.8355 - val_loss: 0.4124 - val_accuracy: 0.8110\n",
            "Epoch 94/100\n",
            "100/100 - 20s - loss: 0.3620 - accuracy: 0.8465 - val_loss: 0.4317 - val_accuracy: 0.8020\n",
            "Epoch 95/100\n",
            "100/100 - 20s - loss: 0.3650 - accuracy: 0.8340 - val_loss: 0.4041 - val_accuracy: 0.8160\n",
            "Epoch 96/100\n",
            "100/100 - 20s - loss: 0.3501 - accuracy: 0.8515 - val_loss: 0.4334 - val_accuracy: 0.8080\n",
            "Epoch 97/100\n",
            "100/100 - 20s - loss: 0.3430 - accuracy: 0.8505 - val_loss: 0.4057 - val_accuracy: 0.8070\n",
            "Epoch 98/100\n",
            "100/100 - 20s - loss: 0.3681 - accuracy: 0.8475 - val_loss: 0.4110 - val_accuracy: 0.8230\n",
            "Epoch 99/100\n",
            "100/100 - 20s - loss: 0.3538 - accuracy: 0.8385 - val_loss: 0.4909 - val_accuracy: 0.7850\n",
            "Epoch 100/100\n",
            "100/100 - 20s - loss: 0.3446 - accuracy: 0.8430 - val_loss: 0.4617 - val_accuracy: 0.7980\n"
          ],
          "name": "stdout"
        }
      ]
    },
    {
      "cell_type": "code",
      "metadata": {
        "colab": {
          "base_uri": "https://localhost:8080/",
          "height": 545
        },
        "id": "O9W7mzyAtw_G",
        "outputId": "3d6ff3ad-3941-45a8-91e0-1abe7f292997"
      },
      "source": [
        "import matplotlib.pyplot as plt\n",
        "acc = history.history['accuracy']\n",
        "val_acc = history.history['val_accuracy']\n",
        "loss = history.history['loss']\n",
        "val_loss = history.history['val_loss']\n",
        "\n",
        "epochs = range(len(acc))\n",
        "\n",
        "plt.plot(epochs, acc, 'bo', label='Training accuracy')\n",
        "plt.plot(epochs, val_acc, 'b', label='Validation accuracy')\n",
        "plt.title('Training and validation accuracy')\n",
        "\n",
        "plt.figure()\n",
        "\n",
        "plt.plot(epochs, loss, 'bo', label='Training Loss')\n",
        "plt.plot(epochs, val_loss, 'b', label='Validation Loss')\n",
        "plt.title('Training and validation loss')\n",
        "plt.legend()\n",
        "\n",
        "plt.show()"
      ],
      "execution_count": 18,
      "outputs": [
        {
          "output_type": "display_data",
          "data": {
            "image/png": "[encoded data removed]",
            "text/plain": [
              "<Figure size 432x288 with 1 Axes>"
            ]
          },
          "metadata": {
            "tags": [],
            "needs_background": "light"
          }
        },
        {
          "output_type": "display_data",
          "data": {
            "image/png": "[encoded data removed]",
            "text/plain": [
              "<Figure size 432x288 with 1 Axes>"
            ]
          },
          "metadata": {
            "tags": [],
            "needs_background": "light"
          }
        }
      ]
    },
    {
      "cell_type": "markdown",
      "metadata": {
        "id": "fImS7X6utzxW"
      },
      "source": [
        "예제3. Dropout을 넣었을 때 결과가 가장 좋다. Flatten() 바로 전에 추가"
      ]
    },
    {
      "cell_type": "code",
      "metadata": {
        "id": "8FCbUIHwt6mG"
      },
      "source": [
        "import os\n",
        "import zipfile\n",
        "import tensorflow as tf\n",
        "from tensorflow.keras.optimizers import RMSprop\n",
        "from tensorflow.keras.preprocessing.image import ImageDataGenerator"
      ],
      "execution_count": 19,
      "outputs": []
    },
    {
      "cell_type": "code",
      "metadata": {
        "colab": {
          "base_uri": "https://localhost:8080/"
        },
        "id": "upAEx2rxt7FF",
        "outputId": "bb675d2f-c27e-4e19-ec15-f6a1db7e4e23"
      },
      "source": [
        "!wget --no-check-certificate \\\n",
        "    https://storage.googleapis.com/mledu-datasets/cats_and_dogs_filtered.zip \\\n",
        "    -O /tmp/cats_and_dogs_filtered.zip"
      ],
      "execution_count": 20,
      "outputs": [
        {
          "output_type": "stream",
          "text": [
            "--2021-05-03 06:40:39--  https://storage.googleapis.com/mledu-datasets/cats_and_dogs_filtered.zip\n",
            "Resolving storage.googleapis.com (storage.googleapis.com)... 74.125.204.128, 64.233.189.128, 108.177.97.128, ...\n",
            "Connecting to storage.googleapis.com (storage.googleapis.com)|74.125.204.128|:443... connected.\n",
            "HTTP request sent, awaiting response... 200 OK\n",
            "Length: 68606236 (65M) [application/zip]\n",
            "Saving to: ‘/tmp/cats_and_dogs_filtered.zip’\n",
            "\n",
            "/tmp/cats_and_dogs_ 100%[===================>]  65.43M   116MB/s    in 0.6s    \n",
            "\n",
            "2021-05-03 06:40:40 (116 MB/s) - ‘/tmp/cats_and_dogs_filtered.zip’ saved [68606236/68606236]\n",
            "\n"
          ],
          "name": "stdout"
        }
      ]
    },
    {
      "cell_type": "code",
      "metadata": {
        "id": "83MwtQHUt8_-"
      },
      "source": [
        "local_zip = '/tmp/cats_and_dogs_filtered.zip'\n",
        "zip_ref = zipfile.ZipFile(local_zip, 'r')\n",
        "zip_ref.extractall('/tmp')\n",
        "zip_ref.close()\n",
        "\n",
        "base_dir = '/tmp/cats_and_dogs_filtered'\n",
        "train_dir = os.path.join(base_dir, 'train')\n",
        "validation_dir = os.path.join(base_dir, 'validation')\n",
        "\n",
        "# Directory with our training cat pictures\n",
        "train_cats_dir = os.path.join(train_dir, 'cats')\n",
        "\n",
        "# Directory with our training dog pictures\n",
        "train_dogs_dir = os.path.join(train_dir, 'dogs')\n",
        "\n",
        "# Directory with our validation cat pictures\n",
        "validation_cats_dir = os.path.join(validation_dir, 'cats')\n",
        "\n",
        "# Directory with our validation dog pictures\n",
        "validation_dogs_dir = os.path.join(validation_dir, 'dogs')"
      ],
      "execution_count": 21,
      "outputs": []
    },
    {
      "cell_type": "code",
      "metadata": {
        "id": "snGSX1Ytt_I-"
      },
      "source": [
        "model = tf.keras.models.Sequential([\n",
        "    tf.keras.layers.Conv2D(32, (3,3), activation='relu', input_shape=(150, 150, 3)),\n",
        "    tf.keras.layers.MaxPooling2D(2, 2),\n",
        "    tf.keras.layers.Conv2D(64, (3,3), activation='relu'),\n",
        "    tf.keras.layers.MaxPooling2D(2,2),\n",
        "    tf.keras.layers.Conv2D(128, (3,3), activation='relu'),\n",
        "    tf.keras.layers.MaxPooling2D(2,2),\n",
        "    tf.keras.layers.Conv2D(128, (3,3), activation='relu'),\n",
        "    tf.keras.layers.MaxPooling2D(2,2),\n",
        "    tf.keras.layers.Dropout(0.5),\n",
        "    tf.keras.layers.Flatten(),\n",
        "    tf.keras.layers.Dense(512, activation='relu'),\n",
        "    tf.keras.layers.Dense(1, activation='sigmoid')\n",
        "])"
      ],
      "execution_count": 22,
      "outputs": []
    },
    {
      "cell_type": "code",
      "metadata": {
        "id": "BEuwuY_nuBdO"
      },
      "source": [
        "model.compile(loss='binary_crossentropy',\n",
        "              optimizer=RMSprop(lr=1e-4),\n",
        "              metrics=['accuracy'])"
      ],
      "execution_count": 23,
      "outputs": []
    },
    {
      "cell_type": "code",
      "metadata": {
        "colab": {
          "base_uri": "https://localhost:8080/"
        },
        "id": "or6KxuLFuDlO",
        "outputId": "fac54c06-fcf0-4d52-dac5-d4cd9de24818"
      },
      "source": [
        "# This code has changed. Now instead of the ImageGenerator just rescaling\n",
        "# the image, we also rotate and do other operations\n",
        "# Updated to do image augmentation\n",
        "train_datagen = ImageDataGenerator(\n",
        "      rescale=1./255,\n",
        "      rotation_range=40,\n",
        "      width_shift_range=0.2,\n",
        "      height_shift_range=0.2,\n",
        "      shear_range=0.2,\n",
        "      zoom_range=0.2,\n",
        "      horizontal_flip=True,\n",
        "      fill_mode='nearest')\n",
        "\n",
        "test_datagen = ImageDataGenerator(rescale=1./255)\n",
        "\n",
        "# Flow training images in batches of 20 using train_datagen generator\n",
        "train_generator = train_datagen.flow_from_directory(\n",
        "        train_dir,  # This is the source directory for training images\n",
        "        target_size=(150, 150),  # All images will be resized to 150x150\n",
        "        batch_size=20,\n",
        "        # Since we use binary_crossentropy loss, we need binary labels\n",
        "        class_mode='binary')\n",
        "\n",
        "# Flow validation images in batches of 20 using test_datagen generator\n",
        "validation_generator = test_datagen.flow_from_directory(\n",
        "        validation_dir,\n",
        "        target_size=(150, 150),\n",
        "        batch_size=20,\n",
        "        class_mode='binary')"
      ],
      "execution_count": 24,
      "outputs": [
        {
          "output_type": "stream",
          "text": [
            "Found 2000 images belonging to 2 classes.\n",
            "Found 1000 images belonging to 2 classes.\n"
          ],
          "name": "stdout"
        }
      ]
    },
    {
      "cell_type": "code",
      "metadata": {
        "colab": {
          "base_uri": "https://localhost:8080/"
        },
        "id": "xH8VSrufuFb_",
        "outputId": "ff836fa8-209c-46f3-b8c6-88c20ae7d36c"
      },
      "source": [
        "history = model.fit(\n",
        "      train_generator,\n",
        "      steps_per_epoch=100,  # 2000 images = batch_size * steps\n",
        "      epochs=100,\n",
        "      validation_data=validation_generator,\n",
        "      validation_steps=50,  # 1000 images = batch_size * steps\n",
        "      verbose=2)"
      ],
      "execution_count": 25,
      "outputs": [
        {
          "output_type": "stream",
          "text": [
            "Epoch 1/100\n",
            "100/100 - 22s - loss: 0.6944 - accuracy: 0.5035 - val_loss: 0.6884 - val_accuracy: 0.5430\n",
            "Epoch 2/100\n",
            "100/100 - 20s - loss: 0.6893 - accuracy: 0.5330 - val_loss: 0.6741 - val_accuracy: 0.5500\n",
            "Epoch 3/100\n",
            "100/100 - 20s - loss: 0.6798 - accuracy: 0.5735 - val_loss: 0.6538 - val_accuracy: 0.6260\n",
            "Epoch 4/100\n",
            "100/100 - 20s - loss: 0.6725 - accuracy: 0.5805 - val_loss: 0.6467 - val_accuracy: 0.6110\n",
            "Epoch 5/100\n",
            "100/100 - 20s - loss: 0.6623 - accuracy: 0.6100 - val_loss: 0.6244 - val_accuracy: 0.6620\n",
            "Epoch 6/100\n",
            "100/100 - 20s - loss: 0.6488 - accuracy: 0.6295 - val_loss: 0.6037 - val_accuracy: 0.6680\n",
            "Epoch 7/100\n",
            "100/100 - 21s - loss: 0.6284 - accuracy: 0.6350 - val_loss: 0.5830 - val_accuracy: 0.7050\n",
            "Epoch 8/100\n",
            "100/100 - 21s - loss: 0.6203 - accuracy: 0.6625 - val_loss: 0.6002 - val_accuracy: 0.6570\n",
            "Epoch 9/100\n",
            "100/100 - 21s - loss: 0.6115 - accuracy: 0.6605 - val_loss: 0.5901 - val_accuracy: 0.6800\n",
            "Epoch 10/100\n",
            "100/100 - 21s - loss: 0.6070 - accuracy: 0.6730 - val_loss: 0.6252 - val_accuracy: 0.6500\n",
            "Epoch 11/100\n",
            "100/100 - 20s - loss: 0.5969 - accuracy: 0.6865 - val_loss: 0.5624 - val_accuracy: 0.6960\n",
            "Epoch 12/100\n",
            "100/100 - 20s - loss: 0.5895 - accuracy: 0.6885 - val_loss: 0.5341 - val_accuracy: 0.7260\n",
            "Epoch 13/100\n",
            "100/100 - 20s - loss: 0.5874 - accuracy: 0.6855 - val_loss: 0.5449 - val_accuracy: 0.7200\n",
            "Epoch 14/100\n",
            "100/100 - 20s - loss: 0.5913 - accuracy: 0.6855 - val_loss: 0.5293 - val_accuracy: 0.7330\n",
            "Epoch 15/100\n",
            "100/100 - 20s - loss: 0.5716 - accuracy: 0.7100 - val_loss: 0.6336 - val_accuracy: 0.6490\n",
            "Epoch 16/100\n",
            "100/100 - 20s - loss: 0.5667 - accuracy: 0.7015 - val_loss: 0.5200 - val_accuracy: 0.7350\n",
            "Epoch 17/100\n",
            "100/100 - 20s - loss: 0.5626 - accuracy: 0.7105 - val_loss: 0.5509 - val_accuracy: 0.7180\n",
            "Epoch 18/100\n",
            "100/100 - 20s - loss: 0.5624 - accuracy: 0.7055 - val_loss: 0.5162 - val_accuracy: 0.7310\n",
            "Epoch 19/100\n",
            "100/100 - 20s - loss: 0.5546 - accuracy: 0.7035 - val_loss: 0.5064 - val_accuracy: 0.7330\n",
            "Epoch 20/100\n",
            "100/100 - 20s - loss: 0.5609 - accuracy: 0.7070 - val_loss: 0.5164 - val_accuracy: 0.7280\n",
            "Epoch 21/100\n",
            "100/100 - 20s - loss: 0.5360 - accuracy: 0.7275 - val_loss: 0.4891 - val_accuracy: 0.7560\n",
            "Epoch 22/100\n",
            "100/100 - 20s - loss: 0.5414 - accuracy: 0.7135 - val_loss: 0.5255 - val_accuracy: 0.7240\n",
            "Epoch 23/100\n",
            "100/100 - 20s - loss: 0.5376 - accuracy: 0.7275 - val_loss: 0.4853 - val_accuracy: 0.7510\n",
            "Epoch 24/100\n",
            "100/100 - 20s - loss: 0.5243 - accuracy: 0.7345 - val_loss: 0.4966 - val_accuracy: 0.7430\n",
            "Epoch 25/100\n",
            "100/100 - 20s - loss: 0.5330 - accuracy: 0.7260 - val_loss: 0.4942 - val_accuracy: 0.7570\n",
            "Epoch 26/100\n",
            "100/100 - 20s - loss: 0.5418 - accuracy: 0.7305 - val_loss: 0.5330 - val_accuracy: 0.7260\n",
            "Epoch 27/100\n",
            "100/100 - 20s - loss: 0.5206 - accuracy: 0.7275 - val_loss: 0.5820 - val_accuracy: 0.7130\n",
            "Epoch 28/100\n",
            "100/100 - 20s - loss: 0.5235 - accuracy: 0.7470 - val_loss: 0.4770 - val_accuracy: 0.7630\n",
            "Epoch 29/100\n",
            "100/100 - 20s - loss: 0.5315 - accuracy: 0.7380 - val_loss: 0.5123 - val_accuracy: 0.7370\n",
            "Epoch 30/100\n",
            "100/100 - 20s - loss: 0.5324 - accuracy: 0.7230 - val_loss: 0.4750 - val_accuracy: 0.7580\n",
            "Epoch 31/100\n",
            "100/100 - 20s - loss: 0.5229 - accuracy: 0.7315 - val_loss: 0.4899 - val_accuracy: 0.7490\n",
            "Epoch 32/100\n",
            "100/100 - 20s - loss: 0.5158 - accuracy: 0.7440 - val_loss: 0.4623 - val_accuracy: 0.7630\n",
            "Epoch 33/100\n",
            "100/100 - 20s - loss: 0.5145 - accuracy: 0.7365 - val_loss: 0.4682 - val_accuracy: 0.7690\n",
            "Epoch 34/100\n",
            "100/100 - 20s - loss: 0.5077 - accuracy: 0.7500 - val_loss: 0.4740 - val_accuracy: 0.7620\n",
            "Epoch 35/100\n",
            "100/100 - 20s - loss: 0.4981 - accuracy: 0.7460 - val_loss: 0.4793 - val_accuracy: 0.7560\n",
            "Epoch 36/100\n",
            "100/100 - 20s - loss: 0.5020 - accuracy: 0.7590 - val_loss: 0.5001 - val_accuracy: 0.7440\n",
            "Epoch 37/100\n",
            "100/100 - 20s - loss: 0.5058 - accuracy: 0.7635 - val_loss: 0.4663 - val_accuracy: 0.7640\n",
            "Epoch 38/100\n",
            "100/100 - 20s - loss: 0.4835 - accuracy: 0.7605 - val_loss: 0.4666 - val_accuracy: 0.7680\n",
            "Epoch 39/100\n",
            "100/100 - 20s - loss: 0.4959 - accuracy: 0.7440 - val_loss: 0.4668 - val_accuracy: 0.7850\n",
            "Epoch 40/100\n",
            "100/100 - 20s - loss: 0.4983 - accuracy: 0.7550 - val_loss: 0.4571 - val_accuracy: 0.7840\n",
            "Epoch 41/100\n",
            "100/100 - 20s - loss: 0.4872 - accuracy: 0.7605 - val_loss: 0.4616 - val_accuracy: 0.7800\n",
            "Epoch 42/100\n",
            "100/100 - 20s - loss: 0.4934 - accuracy: 0.7700 - val_loss: 0.4647 - val_accuracy: 0.7700\n",
            "Epoch 43/100\n",
            "100/100 - 20s - loss: 0.4914 - accuracy: 0.7585 - val_loss: 0.4452 - val_accuracy: 0.7840\n",
            "Epoch 44/100\n",
            "100/100 - 20s - loss: 0.4670 - accuracy: 0.7735 - val_loss: 0.4417 - val_accuracy: 0.7850\n",
            "Epoch 45/100\n",
            "100/100 - 19s - loss: 0.4727 - accuracy: 0.7805 - val_loss: 0.4760 - val_accuracy: 0.7720\n",
            "Epoch 46/100\n",
            "100/100 - 19s - loss: 0.4770 - accuracy: 0.7655 - val_loss: 0.4629 - val_accuracy: 0.7830\n",
            "Epoch 47/100\n",
            "100/100 - 19s - loss: 0.4833 - accuracy: 0.7690 - val_loss: 0.4357 - val_accuracy: 0.7960\n",
            "Epoch 48/100\n",
            "100/100 - 20s - loss: 0.4683 - accuracy: 0.7815 - val_loss: 0.4821 - val_accuracy: 0.7740\n",
            "Epoch 49/100\n",
            "100/100 - 20s - loss: 0.4677 - accuracy: 0.7765 - val_loss: 0.5079 - val_accuracy: 0.7480\n",
            "Epoch 50/100\n",
            "100/100 - 21s - loss: 0.4609 - accuracy: 0.7845 - val_loss: 0.4707 - val_accuracy: 0.7690\n",
            "Epoch 51/100\n",
            "100/100 - 20s - loss: 0.4698 - accuracy: 0.7660 - val_loss: 0.4575 - val_accuracy: 0.7740\n",
            "Epoch 52/100\n",
            "100/100 - 20s - loss: 0.4570 - accuracy: 0.7705 - val_loss: 0.4274 - val_accuracy: 0.7950\n",
            "Epoch 53/100\n",
            "100/100 - 20s - loss: 0.4626 - accuracy: 0.7815 - val_loss: 0.4729 - val_accuracy: 0.7570\n",
            "Epoch 54/100\n",
            "100/100 - 20s - loss: 0.4517 - accuracy: 0.7840 - val_loss: 0.4311 - val_accuracy: 0.7870\n",
            "Epoch 55/100\n",
            "100/100 - 20s - loss: 0.4464 - accuracy: 0.7850 - val_loss: 0.4298 - val_accuracy: 0.8020\n",
            "Epoch 56/100\n",
            "100/100 - 20s - loss: 0.4481 - accuracy: 0.7930 - val_loss: 0.4283 - val_accuracy: 0.8040\n",
            "Epoch 57/100\n",
            "100/100 - 20s - loss: 0.4405 - accuracy: 0.7965 - val_loss: 0.4509 - val_accuracy: 0.7780\n",
            "Epoch 58/100\n",
            "100/100 - 20s - loss: 0.4246 - accuracy: 0.8050 - val_loss: 0.4426 - val_accuracy: 0.7810\n",
            "Epoch 59/100\n",
            "100/100 - 20s - loss: 0.4347 - accuracy: 0.8005 - val_loss: 0.4086 - val_accuracy: 0.8100\n",
            "Epoch 60/100\n",
            "100/100 - 20s - loss: 0.4485 - accuracy: 0.7905 - val_loss: 0.4231 - val_accuracy: 0.7980\n",
            "Epoch 61/100\n",
            "100/100 - 20s - loss: 0.4435 - accuracy: 0.7930 - val_loss: 0.4111 - val_accuracy: 0.8060\n",
            "Epoch 62/100\n",
            "100/100 - 20s - loss: 0.4340 - accuracy: 0.8050 - val_loss: 0.3956 - val_accuracy: 0.8250\n",
            "Epoch 63/100\n",
            "100/100 - 20s - loss: 0.4308 - accuracy: 0.7905 - val_loss: 0.4597 - val_accuracy: 0.7880\n",
            "Epoch 64/100\n",
            "100/100 - 20s - loss: 0.4190 - accuracy: 0.8055 - val_loss: 0.4210 - val_accuracy: 0.8060\n",
            "Epoch 65/100\n",
            "100/100 - 20s - loss: 0.4466 - accuracy: 0.7885 - val_loss: 0.4171 - val_accuracy: 0.7900\n",
            "Epoch 66/100\n",
            "100/100 - 20s - loss: 0.4225 - accuracy: 0.8050 - val_loss: 0.6191 - val_accuracy: 0.7100\n",
            "Epoch 67/100\n",
            "100/100 - 20s - loss: 0.4344 - accuracy: 0.8015 - val_loss: 0.4409 - val_accuracy: 0.7810\n",
            "Epoch 68/100\n",
            "100/100 - 20s - loss: 0.4236 - accuracy: 0.8030 - val_loss: 0.4197 - val_accuracy: 0.8210\n",
            "Epoch 69/100\n",
            "100/100 - 20s - loss: 0.4266 - accuracy: 0.7980 - val_loss: 0.4520 - val_accuracy: 0.7880\n",
            "Epoch 70/100\n",
            "100/100 - 20s - loss: 0.4066 - accuracy: 0.8160 - val_loss: 0.4022 - val_accuracy: 0.8150\n",
            "Epoch 71/100\n",
            "100/100 - 20s - loss: 0.4231 - accuracy: 0.8115 - val_loss: 0.4182 - val_accuracy: 0.7950\n",
            "Epoch 72/100\n",
            "100/100 - 20s - loss: 0.4162 - accuracy: 0.8055 - val_loss: 0.4716 - val_accuracy: 0.7760\n",
            "Epoch 73/100\n",
            "100/100 - 20s - loss: 0.4195 - accuracy: 0.8130 - val_loss: 0.4187 - val_accuracy: 0.8040\n",
            "Epoch 74/100\n",
            "100/100 - 19s - loss: 0.4120 - accuracy: 0.8140 - val_loss: 0.3975 - val_accuracy: 0.8110\n",
            "Epoch 75/100\n",
            "100/100 - 19s - loss: 0.4166 - accuracy: 0.8005 - val_loss: 0.4542 - val_accuracy: 0.7850\n",
            "Epoch 76/100\n",
            "100/100 - 19s - loss: 0.4012 - accuracy: 0.8165 - val_loss: 0.3891 - val_accuracy: 0.8260\n",
            "Epoch 77/100\n",
            "100/100 - 19s - loss: 0.4085 - accuracy: 0.8170 - val_loss: 0.3925 - val_accuracy: 0.8100\n",
            "Epoch 78/100\n",
            "100/100 - 20s - loss: 0.4112 - accuracy: 0.8090 - val_loss: 0.4728 - val_accuracy: 0.7800\n",
            "Epoch 79/100\n",
            "100/100 - 19s - loss: 0.3967 - accuracy: 0.8235 - val_loss: 0.5378 - val_accuracy: 0.7560\n",
            "Epoch 80/100\n",
            "100/100 - 19s - loss: 0.3920 - accuracy: 0.8215 - val_loss: 0.3919 - val_accuracy: 0.8270\n",
            "Epoch 81/100\n",
            "100/100 - 19s - loss: 0.3917 - accuracy: 0.8220 - val_loss: 0.4110 - val_accuracy: 0.8050\n",
            "Epoch 82/100\n",
            "100/100 - 20s - loss: 0.3886 - accuracy: 0.8405 - val_loss: 0.4013 - val_accuracy: 0.8150\n",
            "Epoch 83/100\n",
            "100/100 - 19s - loss: 0.4044 - accuracy: 0.8105 - val_loss: 0.4095 - val_accuracy: 0.8010\n",
            "Epoch 84/100\n",
            "100/100 - 19s - loss: 0.3872 - accuracy: 0.8265 - val_loss: 0.3890 - val_accuracy: 0.8180\n",
            "Epoch 85/100\n",
            "100/100 - 19s - loss: 0.3894 - accuracy: 0.8220 - val_loss: 0.3799 - val_accuracy: 0.8250\n",
            "Epoch 86/100\n",
            "100/100 - 19s - loss: 0.3912 - accuracy: 0.8225 - val_loss: 0.4049 - val_accuracy: 0.8290\n",
            "Epoch 87/100\n",
            "100/100 - 19s - loss: 0.3836 - accuracy: 0.8315 - val_loss: 0.4033 - val_accuracy: 0.8310\n",
            "Epoch 88/100\n",
            "100/100 - 19s - loss: 0.3945 - accuracy: 0.8275 - val_loss: 0.3810 - val_accuracy: 0.8200\n",
            "Epoch 89/100\n",
            "100/100 - 19s - loss: 0.3912 - accuracy: 0.8205 - val_loss: 0.3942 - val_accuracy: 0.8300\n",
            "Epoch 90/100\n",
            "100/100 - 19s - loss: 0.3756 - accuracy: 0.8285 - val_loss: 0.3955 - val_accuracy: 0.8280\n",
            "Epoch 91/100\n",
            "100/100 - 19s - loss: 0.3810 - accuracy: 0.8260 - val_loss: 0.4155 - val_accuracy: 0.7990\n",
            "Epoch 92/100\n",
            "100/100 - 19s - loss: 0.3754 - accuracy: 0.8360 - val_loss: 0.4093 - val_accuracy: 0.8220\n",
            "Epoch 93/100\n",
            "100/100 - 20s - loss: 0.3894 - accuracy: 0.8225 - val_loss: 0.4080 - val_accuracy: 0.8250\n",
            "Epoch 94/100\n",
            "100/100 - 19s - loss: 0.3866 - accuracy: 0.8215 - val_loss: 0.3608 - val_accuracy: 0.8390\n",
            "Epoch 95/100\n",
            "100/100 - 20s - loss: 0.3679 - accuracy: 0.8410 - val_loss: 0.3678 - val_accuracy: 0.8390\n",
            "Epoch 96/100\n",
            "100/100 - 20s - loss: 0.3822 - accuracy: 0.8220 - val_loss: 0.4895 - val_accuracy: 0.7880\n",
            "Epoch 97/100\n",
            "100/100 - 20s - loss: 0.3735 - accuracy: 0.8245 - val_loss: 0.4446 - val_accuracy: 0.7920\n",
            "Epoch 98/100\n",
            "100/100 - 21s - loss: 0.3562 - accuracy: 0.8405 - val_loss: 0.3693 - val_accuracy: 0.8320\n",
            "Epoch 99/100\n",
            "100/100 - 20s - loss: 0.3698 - accuracy: 0.8270 - val_loss: 0.4277 - val_accuracy: 0.8140\n",
            "Epoch 100/100\n",
            "100/100 - 20s - loss: 0.3688 - accuracy: 0.8330 - val_loss: 0.3930 - val_accuracy: 0.8370\n"
          ],
          "name": "stdout"
        }
      ]
    },
    {
      "cell_type": "code",
      "metadata": {
        "colab": {
          "base_uri": "https://localhost:8080/",
          "height": 545
        },
        "id": "ssxOtMNkuLTG",
        "outputId": "8654ee82-141a-4185-cdf9-5af76bcad463"
      },
      "source": [
        "import matplotlib.pyplot as plt\n",
        "acc = history.history['accuracy']\n",
        "val_acc = history.history['val_accuracy']\n",
        "loss = history.history['loss']\n",
        "val_loss = history.history['val_loss']\n",
        "\n",
        "epochs = range(len(acc))\n",
        "\n",
        "plt.plot(epochs, acc, 'bo', label='Training accuracy')\n",
        "plt.plot(epochs, val_acc, 'b', label='Validation accuracy')\n",
        "plt.title('Training and validation accuracy')\n",
        "\n",
        "plt.figure()\n",
        "\n",
        "plt.plot(epochs, loss, 'bo', label='Training Loss')\n",
        "plt.plot(epochs, val_loss, 'b', label='Validation Loss')\n",
        "plt.title('Training and validation loss')\n",
        "plt.legend()\n",
        "\n",
        "plt.show()"
      ],
      "execution_count": 26,
      "outputs": [
        {
          "output_type": "display_data",
          "data": {
            "image/png": "[encoded data removed]",
            "text/plain": [
              "<Figure size 432x288 with 1 Axes>"
            ]
          },
          "metadata": {
            "tags": [],
            "needs_background": "light"
          }
        },
        {
          "output_type": "display_data",
          "data": {
            "image/png": "[encoded data removed]",
            "text/plain": [
              "<Figure size 432x288 with 1 Axes>"
            ]
          },
          "metadata": {
            "tags": [],
            "needs_background": "light"
          }
        }
      ]
    }
  ]
}