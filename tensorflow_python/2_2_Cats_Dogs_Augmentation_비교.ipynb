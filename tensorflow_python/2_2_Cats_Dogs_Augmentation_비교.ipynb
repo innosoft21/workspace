{
  "nbformat": 4,
  "nbformat_minor": 0,
  "metadata": {
    "colab": {
      "name": "2_2_Cats_Dogs_Augmentation_비교.ipynb",
      "provenance": [],
      "authorship_tag": "ABX9TyOMLForOgZVU0WtywxyvxKa",
      "include_colab_link": true
    },
    "kernelspec": {
      "name": "python3",
      "display_name": "Python 3"
    },
    "language_info": {
      "name": "python"
    },
    "accelerator": "GPU"
  },
  "cells": [
    {
      "cell_type": "markdown",
      "metadata": {
        "id": "view-in-github",
        "colab_type": "text"
      },
      "source": [
        "<a href=\"https://colab.research.google.com/github/innosoft21/workspace/blob/main/tensorflow_python/2_2_Cats_Dogs_Augmentation_%EB%B9%84%EA%B5%90.ipynb\" target=\"_parent\"><img src=\"https://colab.research.google.com/assets/colab-badge.svg\" alt=\"Open In Colab\"/></a>"
      ]
    },
    {
      "cell_type": "markdown",
      "metadata": {
        "id": "4YwCGuisuWu3"
      },
      "source": [
        "2-2주차 Cats v Dogs Augmentation\n",
        "\n",
        "이제 각각 32, 64, 128 및 128 컨볼 루션이있는 4 개의 컨볼 루션 레이어가 존재\n",
        "\n",
        "손실과 정확도의 그래프를 그리고 100 epoch 동안 훈련 될 것\n",
        "\n",
        "결과는 Augmentation+ Dropout 추가할 때가 가장 좋다.\n",
        "\n",
        "예제 1. Augmentation 없을 때\n"
      ]
    },
    {
      "cell_type": "code",
      "metadata": {
        "id": "4LTfV4xqs8p9"
      },
      "source": [
        "import os\n",
        "import zipfile\n",
        "import tensorflow as tf\n",
        "from tensorflow.keras.optimizers import RMSprop\n",
        "from tensorflow.keras.preprocessing.image import ImageDataGenerator"
      ],
      "execution_count": 1,
      "outputs": []
    },
    {
      "cell_type": "code",
      "metadata": {
        "colab": {
          "base_uri": "https://localhost:8080/"
        },
        "id": "H5KVybIwtL73",
        "outputId": "2d80d86f-2287-4de4-eb43-3ac3ba1bf0d9"
      },
      "source": [
        "!wget --no-check-certificate \\\n",
        "    https://storage.googleapis.com/mledu-datasets/cats_and_dogs_filtered.zip \\\n",
        "    -O /tmp/cats_and_dogs_filtered.zip"
      ],
      "execution_count": 2,
      "outputs": [
        {
          "output_type": "stream",
          "text": [
            "--2021-05-06 14:33:59--  https://storage.googleapis.com/mledu-datasets/cats_and_dogs_filtered.zip\n",
            "Resolving storage.googleapis.com (storage.googleapis.com)... 74.125.195.128, 74.125.20.128, 74.125.197.128, ...\n",
            "Connecting to storage.googleapis.com (storage.googleapis.com)|74.125.195.128|:443... connected.\n",
            "HTTP request sent, awaiting response... 200 OK\n",
            "Length: 68606236 (65M) [application/zip]\n",
            "Saving to: ‘/tmp/cats_and_dogs_filtered.zip’\n",
            "\n",
            "/tmp/cats_and_dogs_ 100%[===================>]  65.43M  25.3MB/s    in 2.6s    \n",
            "\n",
            "2021-05-06 14:34:02 (25.3 MB/s) - ‘/tmp/cats_and_dogs_filtered.zip’ saved [68606236/68606236]\n",
            "\n"
          ],
          "name": "stdout"
        }
      ]
    },
    {
      "cell_type": "code",
      "metadata": {
        "id": "GX_bNf7UtN3N"
      },
      "source": [
        "local_zip = '/tmp/cats_and_dogs_filtered.zip'\n",
        "zip_ref = zipfile.ZipFile(local_zip, 'r')\n",
        "zip_ref.extractall('/tmp')\n",
        "zip_ref.close()\n",
        "\n",
        "base_dir = '/tmp/cats_and_dogs_filtered'\n",
        "train_dir = os.path.join(base_dir, 'train')\n",
        "validation_dir = os.path.join(base_dir, 'validation')\n",
        "\n",
        "# Directory with our training cat pictures\n",
        "train_cats_dir = os.path.join(train_dir, 'cats')\n",
        "\n",
        "# Directory with our training dog pictures\n",
        "train_dogs_dir = os.path.join(train_dir, 'dogs')\n",
        "\n",
        "# Directory with our validation cat pictures\n",
        "validation_cats_dir = os.path.join(validation_dir, 'cats')\n",
        "\n",
        "# Directory with our validation dog pictures\n",
        "validation_dogs_dir = os.path.join(validation_dir, 'dogs')"
      ],
      "execution_count": 3,
      "outputs": []
    },
    {
      "cell_type": "code",
      "metadata": {
        "id": "xECK4J1UtQt-"
      },
      "source": [
        "model = tf.keras.models.Sequential([\n",
        "    tf.keras.layers.Conv2D(32, (3,3), activation='relu', input_shape=(150, 150, 3)),\n",
        "    tf.keras.layers.MaxPooling2D(2, 2),\n",
        "    tf.keras.layers.Conv2D(64, (3,3), activation='relu'),\n",
        "    tf.keras.layers.MaxPooling2D(2,2),\n",
        "    tf.keras.layers.Conv2D(128, (3,3), activation='relu'),\n",
        "    tf.keras.layers.MaxPooling2D(2,2),\n",
        "    tf.keras.layers.Conv2D(128, (3,3), activation='relu'),\n",
        "    tf.keras.layers.MaxPooling2D(2,2),\n",
        "    tf.keras.layers.Flatten(),\n",
        "    tf.keras.layers.Dense(512, activation='relu'),\n",
        "    tf.keras.layers.Dense(1, activation='sigmoid')\n",
        "])"
      ],
      "execution_count": 4,
      "outputs": []
    },
    {
      "cell_type": "code",
      "metadata": {
        "id": "2yyU9kpVtTLd"
      },
      "source": [
        "model.compile(loss='binary_crossentropy',\n",
        "              optimizer=RMSprop(lr=1e-4),\n",
        "              metrics=['accuracy'])"
      ],
      "execution_count": 5,
      "outputs": []
    },
    {
      "cell_type": "code",
      "metadata": {
        "id": "xgbDgExctUyl"
      },
      "source": [
        "# All images will be rescaled by 1./255\n",
        "train_datagen = ImageDataGenerator(rescale=1./255)\n",
        "test_datagen = ImageDataGenerator(rescale=1./255)"
      ],
      "execution_count": 6,
      "outputs": []
    },
    {
      "cell_type": "code",
      "metadata": {
        "colab": {
          "base_uri": "https://localhost:8080/"
        },
        "id": "QGt6JVkHtWv9",
        "outputId": "c880a1d7-08bc-462f-ffeb-15853eebb153"
      },
      "source": [
        "# Flow training images in batches of 20 using train_datagen generator\n",
        "train_generator = train_datagen.flow_from_directory(\n",
        "        train_dir,  # This is the source directory for training images\n",
        "        target_size=(150, 150),  # All images will be resized to 150x150\n",
        "        batch_size=20,\n",
        "        # Since we use binary_crossentropy loss, we need binary labels\n",
        "        class_mode='binary')\n",
        "\n",
        "# Flow validation images in batches of 20 using test_datagen generator\n",
        "validation_generator = test_datagen.flow_from_directory(\n",
        "        validation_dir,\n",
        "        target_size=(150, 150),\n",
        "        batch_size=20,\n",
        "        class_mode='binary')"
      ],
      "execution_count": 7,
      "outputs": [
        {
          "output_type": "stream",
          "text": [
            "Found 2000 images belonging to 2 classes.\n",
            "Found 1000 images belonging to 2 classes.\n"
          ],
          "name": "stdout"
        }
      ]
    },
    {
      "cell_type": "code",
      "metadata": {
        "id": "polJojawGJml",
        "outputId": "ee0f2290-ed3c-4030-9b17-91a13b8fbb34",
        "colab": {
          "base_uri": "https://localhost:8080/"
        }
      },
      "source": [
        "model.summary()"
      ],
      "execution_count": 8,
      "outputs": [
        {
          "output_type": "stream",
          "text": [
            "Model: \"sequential\"\n",
            "_________________________________________________________________\n",
            "Layer (type)                 Output Shape              Param #   \n",
            "=================================================================\n",
            "conv2d (Conv2D)              (None, 148, 148, 32)      896       \n",
            "_________________________________________________________________\n",
            "max_pooling2d (MaxPooling2D) (None, 74, 74, 32)        0         \n",
            "_________________________________________________________________\n",
            "conv2d_1 (Conv2D)            (None, 72, 72, 64)        18496     \n",
            "_________________________________________________________________\n",
            "max_pooling2d_1 (MaxPooling2 (None, 36, 36, 64)        0         \n",
            "_________________________________________________________________\n",
            "conv2d_2 (Conv2D)            (None, 34, 34, 128)       73856     \n",
            "_________________________________________________________________\n",
            "max_pooling2d_2 (MaxPooling2 (None, 17, 17, 128)       0         \n",
            "_________________________________________________________________\n",
            "conv2d_3 (Conv2D)            (None, 15, 15, 128)       147584    \n",
            "_________________________________________________________________\n",
            "max_pooling2d_3 (MaxPooling2 (None, 7, 7, 128)         0         \n",
            "_________________________________________________________________\n",
            "flatten (Flatten)            (None, 6272)              0         \n",
            "_________________________________________________________________\n",
            "dense (Dense)                (None, 512)               3211776   \n",
            "_________________________________________________________________\n",
            "dense_1 (Dense)              (None, 1)                 513       \n",
            "=================================================================\n",
            "Total params: 3,453,121\n",
            "Trainable params: 3,453,121\n",
            "Non-trainable params: 0\n",
            "_________________________________________________________________\n"
          ],
          "name": "stdout"
        }
      ]
    },
    {
      "cell_type": "code",
      "metadata": {
        "colab": {
          "base_uri": "https://localhost:8080/"
        },
        "id": "VrtmZaJctZA1",
        "outputId": "ae23fd6f-647a-4aaf-d22f-a460a3b57689"
      },
      "source": [
        "history = model.fit(\n",
        "      train_generator,\n",
        "      steps_per_epoch=100,  # 2000 images = batch_size * steps\n",
        "      epochs=100,\n",
        "      validation_data=validation_generator,\n",
        "      validation_steps=50,  # 1000 images = batch_size * steps\n",
        "      verbose=2)"
      ],
      "execution_count": 9,
      "outputs": [
        {
          "output_type": "stream",
          "text": [
            "Epoch 1/100\n",
            "100/100 - 42s - loss: 0.6882 - accuracy: 0.5290 - val_loss: 0.6852 - val_accuracy: 0.5290\n",
            "Epoch 2/100\n",
            "100/100 - 8s - loss: 0.6599 - accuracy: 0.6150 - val_loss: 0.6662 - val_accuracy: 0.5790\n",
            "Epoch 3/100\n",
            "100/100 - 8s - loss: 0.6198 - accuracy: 0.6500 - val_loss: 0.6010 - val_accuracy: 0.6930\n",
            "Epoch 4/100\n",
            "100/100 - 8s - loss: 0.5672 - accuracy: 0.7080 - val_loss: 0.6026 - val_accuracy: 0.6750\n",
            "Epoch 5/100\n",
            "100/100 - 8s - loss: 0.5294 - accuracy: 0.7285 - val_loss: 0.5667 - val_accuracy: 0.7190\n",
            "Epoch 6/100\n",
            "100/100 - 8s - loss: 0.5040 - accuracy: 0.7460 - val_loss: 0.5744 - val_accuracy: 0.7040\n",
            "Epoch 7/100\n",
            "100/100 - 8s - loss: 0.4775 - accuracy: 0.7685 - val_loss: 0.5443 - val_accuracy: 0.7390\n",
            "Epoch 8/100\n",
            "100/100 - 8s - loss: 0.4544 - accuracy: 0.7825 - val_loss: 0.5459 - val_accuracy: 0.7340\n",
            "Epoch 9/100\n",
            "100/100 - 8s - loss: 0.4221 - accuracy: 0.8010 - val_loss: 0.5568 - val_accuracy: 0.7280\n",
            "Epoch 10/100\n",
            "100/100 - 8s - loss: 0.3964 - accuracy: 0.8295 - val_loss: 0.5471 - val_accuracy: 0.7280\n",
            "Epoch 11/100\n",
            "100/100 - 8s - loss: 0.3784 - accuracy: 0.8220 - val_loss: 0.5607 - val_accuracy: 0.7380\n",
            "Epoch 12/100\n",
            "100/100 - 8s - loss: 0.3510 - accuracy: 0.8465 - val_loss: 0.5541 - val_accuracy: 0.7330\n",
            "Epoch 13/100\n",
            "100/100 - 8s - loss: 0.3246 - accuracy: 0.8720 - val_loss: 0.5516 - val_accuracy: 0.7410\n",
            "Epoch 14/100\n",
            "100/100 - 8s - loss: 0.3023 - accuracy: 0.8785 - val_loss: 0.6963 - val_accuracy: 0.7010\n",
            "Epoch 15/100\n",
            "100/100 - 8s - loss: 0.2798 - accuracy: 0.8815 - val_loss: 0.5465 - val_accuracy: 0.7510\n",
            "Epoch 16/100\n",
            "100/100 - 8s - loss: 0.2603 - accuracy: 0.8930 - val_loss: 0.5774 - val_accuracy: 0.7400\n",
            "Epoch 17/100\n",
            "100/100 - 8s - loss: 0.2423 - accuracy: 0.9180 - val_loss: 0.5600 - val_accuracy: 0.7480\n",
            "Epoch 18/100\n",
            "100/100 - 8s - loss: 0.2098 - accuracy: 0.9235 - val_loss: 0.6049 - val_accuracy: 0.7550\n",
            "Epoch 19/100\n",
            "100/100 - 8s - loss: 0.1984 - accuracy: 0.9295 - val_loss: 0.6151 - val_accuracy: 0.7350\n",
            "Epoch 20/100\n",
            "100/100 - 8s - loss: 0.1727 - accuracy: 0.9390 - val_loss: 0.7483 - val_accuracy: 0.6970\n",
            "Epoch 21/100\n",
            "100/100 - 8s - loss: 0.1546 - accuracy: 0.9465 - val_loss: 0.9042 - val_accuracy: 0.6970\n",
            "Epoch 22/100\n",
            "100/100 - 8s - loss: 0.1382 - accuracy: 0.9535 - val_loss: 0.6450 - val_accuracy: 0.7520\n",
            "Epoch 23/100\n",
            "100/100 - 8s - loss: 0.1183 - accuracy: 0.9635 - val_loss: 0.6857 - val_accuracy: 0.7520\n",
            "Epoch 24/100\n",
            "100/100 - 8s - loss: 0.1034 - accuracy: 0.9685 - val_loss: 0.7398 - val_accuracy: 0.7470\n",
            "Epoch 25/100\n",
            "100/100 - 8s - loss: 0.0941 - accuracy: 0.9685 - val_loss: 0.7350 - val_accuracy: 0.7630\n",
            "Epoch 26/100\n",
            "100/100 - 8s - loss: 0.0783 - accuracy: 0.9765 - val_loss: 0.7521 - val_accuracy: 0.7590\n",
            "Epoch 27/100\n",
            "100/100 - 8s - loss: 0.0621 - accuracy: 0.9835 - val_loss: 0.7855 - val_accuracy: 0.7490\n",
            "Epoch 28/100\n",
            "100/100 - 8s - loss: 0.0614 - accuracy: 0.9810 - val_loss: 0.8451 - val_accuracy: 0.7430\n",
            "Epoch 29/100\n",
            "100/100 - 8s - loss: 0.0460 - accuracy: 0.9910 - val_loss: 0.9002 - val_accuracy: 0.7420\n",
            "Epoch 30/100\n",
            "100/100 - 8s - loss: 0.0380 - accuracy: 0.9920 - val_loss: 1.0085 - val_accuracy: 0.7350\n",
            "Epoch 31/100\n",
            "100/100 - 8s - loss: 0.0333 - accuracy: 0.9920 - val_loss: 0.9904 - val_accuracy: 0.7410\n",
            "Epoch 32/100\n",
            "100/100 - 8s - loss: 0.0362 - accuracy: 0.9885 - val_loss: 0.9693 - val_accuracy: 0.7570\n",
            "Epoch 33/100\n",
            "100/100 - 8s - loss: 0.0291 - accuracy: 0.9955 - val_loss: 1.0543 - val_accuracy: 0.7520\n",
            "Epoch 34/100\n",
            "100/100 - 8s - loss: 0.0221 - accuracy: 0.9935 - val_loss: 1.0698 - val_accuracy: 0.7460\n",
            "Epoch 35/100\n",
            "100/100 - 8s - loss: 0.0263 - accuracy: 0.9935 - val_loss: 1.1080 - val_accuracy: 0.7500\n",
            "Epoch 36/100\n",
            "100/100 - 8s - loss: 0.0240 - accuracy: 0.9940 - val_loss: 1.1767 - val_accuracy: 0.7380\n",
            "Epoch 37/100\n",
            "100/100 - 8s - loss: 0.0257 - accuracy: 0.9910 - val_loss: 1.1390 - val_accuracy: 0.7460\n",
            "Epoch 38/100\n",
            "100/100 - 8s - loss: 0.0124 - accuracy: 0.9960 - val_loss: 1.3605 - val_accuracy: 0.7510\n",
            "Epoch 39/100\n",
            "100/100 - 8s - loss: 0.0167 - accuracy: 0.9950 - val_loss: 1.2764 - val_accuracy: 0.7480\n",
            "Epoch 40/100\n",
            "100/100 - 8s - loss: 0.0304 - accuracy: 0.9925 - val_loss: 1.2234 - val_accuracy: 0.7420\n",
            "Epoch 41/100\n",
            "100/100 - 8s - loss: 0.0130 - accuracy: 0.9960 - val_loss: 1.3444 - val_accuracy: 0.7430\n",
            "Epoch 42/100\n",
            "100/100 - 8s - loss: 0.0254 - accuracy: 0.9920 - val_loss: 1.2239 - val_accuracy: 0.7480\n",
            "Epoch 43/100\n",
            "100/100 - 8s - loss: 0.0128 - accuracy: 0.9975 - val_loss: 1.3876 - val_accuracy: 0.7430\n",
            "Epoch 44/100\n",
            "100/100 - 8s - loss: 0.0166 - accuracy: 0.9940 - val_loss: 1.2871 - val_accuracy: 0.7410\n",
            "Epoch 45/100\n",
            "100/100 - 8s - loss: 0.0191 - accuracy: 0.9955 - val_loss: 1.3689 - val_accuracy: 0.7330\n",
            "Epoch 46/100\n",
            "100/100 - 8s - loss: 0.0060 - accuracy: 0.9980 - val_loss: 1.3762 - val_accuracy: 0.7290\n",
            "Epoch 47/100\n",
            "100/100 - 8s - loss: 0.0085 - accuracy: 0.9975 - val_loss: 1.3968 - val_accuracy: 0.7390\n",
            "Epoch 48/100\n",
            "100/100 - 8s - loss: 0.0092 - accuracy: 0.9975 - val_loss: 1.4888 - val_accuracy: 0.7460\n",
            "Epoch 49/100\n",
            "100/100 - 8s - loss: 0.0150 - accuracy: 0.9950 - val_loss: 1.4586 - val_accuracy: 0.7410\n",
            "Epoch 50/100\n",
            "100/100 - 8s - loss: 0.0052 - accuracy: 0.9985 - val_loss: 1.6478 - val_accuracy: 0.7190\n",
            "Epoch 51/100\n",
            "100/100 - 8s - loss: 0.0054 - accuracy: 0.9985 - val_loss: 1.6139 - val_accuracy: 0.7420\n",
            "Epoch 52/100\n",
            "100/100 - 8s - loss: 0.0203 - accuracy: 0.9925 - val_loss: 1.6336 - val_accuracy: 0.7410\n",
            "Epoch 53/100\n",
            "100/100 - 8s - loss: 0.0046 - accuracy: 0.9985 - val_loss: 1.5791 - val_accuracy: 0.7480\n",
            "Epoch 54/100\n",
            "100/100 - 8s - loss: 0.0134 - accuracy: 0.9980 - val_loss: 1.6262 - val_accuracy: 0.7350\n",
            "Epoch 55/100\n",
            "100/100 - 8s - loss: 0.0122 - accuracy: 0.9955 - val_loss: 1.5841 - val_accuracy: 0.7360\n",
            "Epoch 56/100\n",
            "100/100 - 8s - loss: 0.0020 - accuracy: 0.9995 - val_loss: 1.7042 - val_accuracy: 0.7370\n",
            "Epoch 57/100\n",
            "100/100 - 8s - loss: 0.0146 - accuracy: 0.9970 - val_loss: 1.8183 - val_accuracy: 0.7350\n",
            "Epoch 58/100\n",
            "100/100 - 8s - loss: 0.0022 - accuracy: 0.9995 - val_loss: 1.7654 - val_accuracy: 0.7490\n",
            "Epoch 59/100\n",
            "100/100 - 8s - loss: 0.0065 - accuracy: 0.9975 - val_loss: 1.7057 - val_accuracy: 0.7330\n",
            "Epoch 60/100\n",
            "100/100 - 8s - loss: 0.0054 - accuracy: 0.9985 - val_loss: 1.8503 - val_accuracy: 0.7420\n",
            "Epoch 61/100\n",
            "100/100 - 8s - loss: 0.0132 - accuracy: 0.9970 - val_loss: 1.8478 - val_accuracy: 0.7330\n",
            "Epoch 62/100\n",
            "100/100 - 8s - loss: 0.0100 - accuracy: 0.9980 - val_loss: 1.8629 - val_accuracy: 0.7380\n",
            "Epoch 63/100\n",
            "100/100 - 8s - loss: 0.0026 - accuracy: 0.9985 - val_loss: 1.9012 - val_accuracy: 0.7320\n",
            "Epoch 64/100\n",
            "100/100 - 8s - loss: 0.0069 - accuracy: 0.9980 - val_loss: 1.8209 - val_accuracy: 0.7330\n",
            "Epoch 65/100\n",
            "100/100 - 8s - loss: 0.0088 - accuracy: 0.9975 - val_loss: 2.0001 - val_accuracy: 0.7380\n",
            "Epoch 66/100\n",
            "100/100 - 8s - loss: 0.0090 - accuracy: 0.9980 - val_loss: 1.8093 - val_accuracy: 0.7510\n",
            "Epoch 67/100\n",
            "100/100 - 8s - loss: 2.4882e-04 - accuracy: 1.0000 - val_loss: 1.9655 - val_accuracy: 0.7400\n",
            "Epoch 68/100\n",
            "100/100 - 8s - loss: 0.0080 - accuracy: 0.9980 - val_loss: 1.9766 - val_accuracy: 0.7360\n",
            "Epoch 69/100\n",
            "100/100 - 8s - loss: 0.0044 - accuracy: 0.9980 - val_loss: 1.9825 - val_accuracy: 0.7320\n",
            "Epoch 70/100\n",
            "100/100 - 8s - loss: 0.0043 - accuracy: 0.9985 - val_loss: 2.1111 - val_accuracy: 0.7280\n",
            "Epoch 71/100\n",
            "100/100 - 8s - loss: 0.0076 - accuracy: 0.9980 - val_loss: 2.1497 - val_accuracy: 0.7340\n",
            "Epoch 72/100\n",
            "100/100 - 8s - loss: 0.0059 - accuracy: 0.9980 - val_loss: 2.2598 - val_accuracy: 0.7340\n",
            "Epoch 73/100\n",
            "100/100 - 8s - loss: 2.8989e-04 - accuracy: 1.0000 - val_loss: 2.1863 - val_accuracy: 0.7380\n",
            "Epoch 74/100\n",
            "100/100 - 8s - loss: 0.0096 - accuracy: 0.9970 - val_loss: 2.1502 - val_accuracy: 0.7480\n",
            "Epoch 75/100\n",
            "100/100 - 8s - loss: 0.0078 - accuracy: 0.9980 - val_loss: 2.3094 - val_accuracy: 0.7280\n",
            "Epoch 76/100\n",
            "100/100 - 8s - loss: 0.0068 - accuracy: 0.9980 - val_loss: 2.1878 - val_accuracy: 0.7370\n",
            "Epoch 77/100\n",
            "100/100 - 8s - loss: 4.9561e-05 - accuracy: 1.0000 - val_loss: 2.2512 - val_accuracy: 0.7470\n",
            "Epoch 78/100\n",
            "100/100 - 8s - loss: 0.0128 - accuracy: 0.9970 - val_loss: 2.2221 - val_accuracy: 0.7410\n",
            "Epoch 79/100\n",
            "100/100 - 8s - loss: 0.0013 - accuracy: 0.9995 - val_loss: 2.1622 - val_accuracy: 0.7430\n",
            "Epoch 80/100\n",
            "100/100 - 8s - loss: 0.0049 - accuracy: 0.9990 - val_loss: 2.3328 - val_accuracy: 0.7520\n",
            "Epoch 81/100\n",
            "100/100 - 8s - loss: 0.0083 - accuracy: 0.9985 - val_loss: 2.3005 - val_accuracy: 0.7340\n",
            "Epoch 82/100\n",
            "100/100 - 8s - loss: 1.9526e-04 - accuracy: 1.0000 - val_loss: 2.2334 - val_accuracy: 0.7450\n",
            "Epoch 83/100\n",
            "100/100 - 8s - loss: 0.0098 - accuracy: 0.9960 - val_loss: 2.2076 - val_accuracy: 0.7420\n",
            "Epoch 84/100\n",
            "100/100 - 8s - loss: 0.0073 - accuracy: 0.9975 - val_loss: 2.4204 - val_accuracy: 0.7230\n",
            "Epoch 85/100\n",
            "100/100 - 8s - loss: 0.0042 - accuracy: 0.9975 - val_loss: 2.3209 - val_accuracy: 0.7340\n",
            "Epoch 86/100\n",
            "100/100 - 8s - loss: 0.0041 - accuracy: 0.9980 - val_loss: 2.2307 - val_accuracy: 0.7260\n",
            "Epoch 87/100\n",
            "100/100 - 8s - loss: 5.4756e-04 - accuracy: 0.9995 - val_loss: 2.2380 - val_accuracy: 0.7440\n",
            "Epoch 88/100\n",
            "100/100 - 8s - loss: 0.0089 - accuracy: 0.9965 - val_loss: 2.3257 - val_accuracy: 0.7340\n",
            "Epoch 89/100\n",
            "100/100 - 8s - loss: 3.5519e-05 - accuracy: 1.0000 - val_loss: 2.2899 - val_accuracy: 0.7390\n",
            "Epoch 90/100\n",
            "100/100 - 8s - loss: 0.0089 - accuracy: 0.9975 - val_loss: 2.2680 - val_accuracy: 0.7360\n",
            "Epoch 91/100\n",
            "100/100 - 8s - loss: 3.6651e-04 - accuracy: 1.0000 - val_loss: 2.4965 - val_accuracy: 0.7380\n",
            "Epoch 92/100\n",
            "100/100 - 8s - loss: 0.0042 - accuracy: 0.9985 - val_loss: 2.4055 - val_accuracy: 0.7450\n",
            "Epoch 93/100\n",
            "100/100 - 8s - loss: 0.0024 - accuracy: 0.9990 - val_loss: 2.6792 - val_accuracy: 0.7310\n",
            "Epoch 94/100\n",
            "100/100 - 8s - loss: 0.0109 - accuracy: 0.9965 - val_loss: 2.3294 - val_accuracy: 0.7380\n",
            "Epoch 95/100\n",
            "100/100 - 8s - loss: 0.0036 - accuracy: 0.9990 - val_loss: 2.3197 - val_accuracy: 0.7450\n",
            "Epoch 96/100\n",
            "100/100 - 8s - loss: 0.0012 - accuracy: 1.0000 - val_loss: 2.2328 - val_accuracy: 0.7390\n",
            "Epoch 97/100\n",
            "100/100 - 8s - loss: 0.0071 - accuracy: 0.9985 - val_loss: 2.2301 - val_accuracy: 0.7410\n",
            "Epoch 98/100\n",
            "100/100 - 8s - loss: 0.0011 - accuracy: 0.9995 - val_loss: 2.4385 - val_accuracy: 0.7430\n",
            "Epoch 99/100\n",
            "100/100 - 8s - loss: 0.0022 - accuracy: 0.9990 - val_loss: 2.4390 - val_accuracy: 0.7470\n",
            "Epoch 100/100\n",
            "100/100 - 8s - loss: 8.4699e-05 - accuracy: 1.0000 - val_loss: 2.4099 - val_accuracy: 0.7420\n"
          ],
          "name": "stdout"
        }
      ]
    },
    {
      "cell_type": "code",
      "metadata": {
        "colab": {
          "base_uri": "https://localhost:8080/",
          "height": 545
        },
        "id": "pyHa0rwwta7l",
        "outputId": "9f43e11e-471b-41e6-e2b0-0336cb1b5bce"
      },
      "source": [
        "import matplotlib.pyplot as plt\n",
        "acc = history.history['accuracy']\n",
        "val_acc = history.history['val_accuracy']\n",
        "loss = history.history['loss']\n",
        "val_loss = history.history['val_loss']\n",
        "\n",
        "epochs = range(len(acc))\n",
        "\n",
        "plt.plot(epochs, acc, 'bo', label='Training accuracy')\n",
        "plt.plot(epochs, val_acc, 'b', label='Validation accuracy')\n",
        "plt.title('Training and validation accuracy')\n",
        "\n",
        "plt.figure()\n",
        "\n",
        "plt.plot(epochs, loss, 'bo', label='Training Loss')\n",
        "plt.plot(epochs, val_loss, 'b', label='Validation Loss')\n",
        "plt.title('Training and validation loss')\n",
        "plt.legend()\n",
        "\n",
        "plt.show()"
      ],
      "execution_count": 10,
      "outputs": [
        {
          "output_type": "display_data",
          "data": {
            "image/png": "[encoded data removed]",
            "text/plain": [
              "<Figure size 432x288 with 1 Axes>"
            ]
          },
          "metadata": {
            "tags": [],
            "needs_background": "light"
          }
        },
        {
          "output_type": "display_data",
          "data": {
            "image/png": "[encoded data removed]",
            "text/plain": [
              "<Figure size 432x288 with 1 Axes>"
            ]
          },
          "metadata": {
            "tags": [],
            "needs_background": "light"
          }
        }
      ]
    },
    {
      "cell_type": "markdown",
      "metadata": {
        "id": "IuTLl9_MthwF"
      },
      "source": [
        "예제 1 은 훈련 정확도는 100 %에 가깝고 검증 정확도는 70 % -80 % 범위, 과적 합의 훌륭한 예\n",
        "\n",
        "이미지를 약간 조정하여 이미지를 약간 변경하면 어떨까요? 이미지를 회전하고 스쿼시하는 등의 작업을 수행 할 수 있습니다. \n",
        "\n",
        "이것이 바로 이미지 확대에 관한 것입니다. 그리고 쉽게 만드는 API가 있습니다."
      ]
    },
    {
      "cell_type": "markdown",
      "metadata": {
        "id": "HhFYirxXvik3"
      },
      "source": [
        "rotation_range는 그림을 임의로 회전 할 범위 인 각도 (0-180) 값입니다.\n",
        "\n",
        "width_shift 및 height_shift는 그림을 세로 또는 가로로 무작위로 번역 할 범위 (총 너비 또는 높이의 일부)입니다.\n",
        "\n",
        "shear_range는 전단 변환을 무작위로 적용하기위한 것입니다.\n",
        "\n",
        "zoom_range는 사진 내부를 무작위로 확대하기위한 것입니다.\n",
        "\n",
        "horizontal_flip은 이미지의 절반을 가로로 무작위로 뒤집기위한 것입니다. 이것은 수평 비대칭에 대한 가정이 없을 때 관련됩니다 (예 : 실제 그림).\n",
        "\n",
        "fill_mode는 새로 생성 된 픽셀을 채우는 데 사용되는 전략으로, 회전 또는 너비 / 높이 이동 후에 나타날 수 있습니다."
      ]
    },
    {
      "cell_type": "markdown",
      "metadata": {
        "id": "XLTKo_WPvmGn"
      },
      "source": [
        "예제 2. Image Augmentation을 추가 한 코드입니다. 영향을 확인하려면 실행하십시오."
      ]
    },
    {
      "cell_type": "code",
      "metadata": {
        "id": "sV-lOwwhtdK-"
      },
      "source": [
        "import os\n",
        "import zipfile\n",
        "import tensorflow as tf\n",
        "from tensorflow.keras.optimizers import RMSprop\n",
        "from tensorflow.keras.preprocessing.image import ImageDataGenerator"
      ],
      "execution_count": 11,
      "outputs": []
    },
    {
      "cell_type": "code",
      "metadata": {
        "colab": {
          "base_uri": "https://localhost:8080/"
        },
        "id": "2mDUOiPRtiid",
        "outputId": "e36d5430-bcbe-4b1b-98c3-180dbb817646"
      },
      "source": [
        "!wget --no-check-certificate \\\n",
        "    https://storage.googleapis.com/mledu-datasets/cats_and_dogs_filtered.zip \\\n",
        "    -O /tmp/cats_and_dogs_filtered.zip"
      ],
      "execution_count": 12,
      "outputs": [
        {
          "output_type": "stream",
          "text": [
            "--2021-05-06 14:48:25--  https://storage.googleapis.com/mledu-datasets/cats_and_dogs_filtered.zip\n",
            "Resolving storage.googleapis.com (storage.googleapis.com)... 74.125.142.128, 74.125.195.128, 74.125.20.128, ...\n",
            "Connecting to storage.googleapis.com (storage.googleapis.com)|74.125.142.128|:443... connected.\n",
            "HTTP request sent, awaiting response... 200 OK\n",
            "Length: 68606236 (65M) [application/zip]\n",
            "Saving to: ‘/tmp/cats_and_dogs_filtered.zip’\n",
            "\n",
            "/tmp/cats_and_dogs_ 100%[===================>]  65.43M   203MB/s    in 0.3s    \n",
            "\n",
            "2021-05-06 14:48:25 (203 MB/s) - ‘/tmp/cats_and_dogs_filtered.zip’ saved [68606236/68606236]\n",
            "\n"
          ],
          "name": "stdout"
        }
      ]
    },
    {
      "cell_type": "code",
      "metadata": {
        "id": "jTieYpYXtkiV"
      },
      "source": [
        "local_zip = '/tmp/cats_and_dogs_filtered.zip'\n",
        "zip_ref = zipfile.ZipFile(local_zip, 'r')\n",
        "zip_ref.extractall('/tmp')\n",
        "zip_ref.close()\n",
        "\n",
        "base_dir = '/tmp/cats_and_dogs_filtered'\n",
        "train_dir = os.path.join(base_dir, 'train')\n",
        "validation_dir = os.path.join(base_dir, 'validation')\n",
        "\n",
        "# Directory with our training cat pictures\n",
        "train_cats_dir = os.path.join(train_dir, 'cats')\n",
        "\n",
        "# Directory with our training dog pictures\n",
        "train_dogs_dir = os.path.join(train_dir, 'dogs')\n",
        "\n",
        "# Directory with our validation cat pictures\n",
        "validation_cats_dir = os.path.join(validation_dir, 'cats')\n",
        "\n",
        "# Directory with our validation dog pictures\n",
        "validation_dogs_dir = os.path.join(validation_dir, 'dogs')"
      ],
      "execution_count": 13,
      "outputs": []
    },
    {
      "cell_type": "code",
      "metadata": {
        "id": "a-2BNnGktm2l"
      },
      "source": [
        "model = tf.keras.models.Sequential([\n",
        "    tf.keras.layers.Conv2D(32, (3,3), activation='relu', input_shape=(150, 150, 3)),\n",
        "    tf.keras.layers.MaxPooling2D(2, 2),\n",
        "    tf.keras.layers.Conv2D(64, (3,3), activation='relu'),\n",
        "    tf.keras.layers.MaxPooling2D(2,2),\n",
        "    tf.keras.layers.Conv2D(128, (3,3), activation='relu'),\n",
        "    tf.keras.layers.MaxPooling2D(2,2),\n",
        "    tf.keras.layers.Conv2D(128, (3,3), activation='relu'),\n",
        "    tf.keras.layers.MaxPooling2D(2,2),\n",
        "    tf.keras.layers.Flatten(),\n",
        "    tf.keras.layers.Dense(512, activation='relu'),\n",
        "    tf.keras.layers.Dense(1, activation='sigmoid')\n",
        "])"
      ],
      "execution_count": 14,
      "outputs": []
    },
    {
      "cell_type": "code",
      "metadata": {
        "id": "LplYOpA5tpJV"
      },
      "source": [
        "model.compile(loss='binary_crossentropy',\n",
        "              optimizer=RMSprop(lr=1e-4),\n",
        "              metrics=['accuracy'])"
      ],
      "execution_count": 15,
      "outputs": []
    },
    {
      "cell_type": "code",
      "metadata": {
        "colab": {
          "base_uri": "https://localhost:8080/"
        },
        "id": "NwD4wF1Gtq7W",
        "outputId": "8f8ab7aa-bd9d-4427-a9c8-3571de3be003"
      },
      "source": [
        "# This code has changed. Now instead of the ImageGenerator just rescaling\n",
        "# the image, we also rotate and do other operations\n",
        "# Updated to do image augmentation\n",
        "train_datagen = ImageDataGenerator(\n",
        "      rescale=1./255,\n",
        "      rotation_range=40,\n",
        "      width_shift_range=0.2,\n",
        "      height_shift_range=0.2,\n",
        "      shear_range=0.2,\n",
        "      zoom_range=0.2,\n",
        "      horizontal_flip=True,\n",
        "      fill_mode='nearest')\n",
        "\n",
        "test_datagen = ImageDataGenerator(rescale=1./255)\n",
        "\n",
        "# Flow training images in batches of 20 using train_datagen generator\n",
        "train_generator = train_datagen.flow_from_directory(\n",
        "        train_dir,  # This is the source directory for training images\n",
        "        target_size=(150, 150),  # All images will be resized to 150x150\n",
        "        batch_size=20,\n",
        "        # Since we use binary_crossentropy loss, we need binary labels\n",
        "        class_mode='binary')\n",
        "\n",
        "# Flow validation images in batches of 20 using test_datagen generator\n",
        "validation_generator = test_datagen.flow_from_directory(\n",
        "        validation_dir,\n",
        "        target_size=(150, 150),\n",
        "        batch_size=20,\n",
        "        class_mode='binary')"
      ],
      "execution_count": 16,
      "outputs": [
        {
          "output_type": "stream",
          "text": [
            "Found 2000 images belonging to 2 classes.\n",
            "Found 1000 images belonging to 2 classes.\n"
          ],
          "name": "stdout"
        }
      ]
    },
    {
      "cell_type": "code",
      "metadata": {
        "colab": {
          "base_uri": "https://localhost:8080/"
        },
        "id": "tPrZuJGNtuuu",
        "outputId": "30a9f4c9-48c8-4aeb-a6fd-f4aa4228996a"
      },
      "source": [
        "history = model.fit(\n",
        "      train_generator,\n",
        "      steps_per_epoch=100,  # 2000 images = batch_size * steps\n",
        "      epochs=100,\n",
        "      validation_data=validation_generator,\n",
        "      validation_steps=50,  # 1000 images = batch_size * steps\n",
        "      verbose=2)"
      ],
      "execution_count": 17,
      "outputs": [
        {
          "output_type": "stream",
          "text": [
            "Epoch 1/100\n",
            "100/100 - 18s - loss: 0.6908 - accuracy: 0.5290 - val_loss: 0.6819 - val_accuracy: 0.5010\n",
            "Epoch 2/100\n",
            "100/100 - 17s - loss: 0.6825 - accuracy: 0.5435 - val_loss: 0.6556 - val_accuracy: 0.6040\n",
            "Epoch 3/100\n",
            "100/100 - 17s - loss: 0.6634 - accuracy: 0.5970 - val_loss: 0.6373 - val_accuracy: 0.6310\n",
            "Epoch 4/100\n",
            "100/100 - 17s - loss: 0.6497 - accuracy: 0.6180 - val_loss: 0.6218 - val_accuracy: 0.6420\n",
            "Epoch 5/100\n",
            "100/100 - 17s - loss: 0.6371 - accuracy: 0.6320 - val_loss: 0.5926 - val_accuracy: 0.6900\n",
            "Epoch 6/100\n",
            "100/100 - 17s - loss: 0.6221 - accuracy: 0.6500 - val_loss: 0.7028 - val_accuracy: 0.5540\n",
            "Epoch 7/100\n",
            "100/100 - 17s - loss: 0.6048 - accuracy: 0.6685 - val_loss: 0.5715 - val_accuracy: 0.6870\n",
            "Epoch 8/100\n",
            "100/100 - 17s - loss: 0.5999 - accuracy: 0.6795 - val_loss: 0.5531 - val_accuracy: 0.7200\n",
            "Epoch 9/100\n",
            "100/100 - 17s - loss: 0.5894 - accuracy: 0.6745 - val_loss: 0.5504 - val_accuracy: 0.7200\n",
            "Epoch 10/100\n",
            "100/100 - 17s - loss: 0.5900 - accuracy: 0.6930 - val_loss: 0.5554 - val_accuracy: 0.7070\n",
            "Epoch 11/100\n",
            "100/100 - 17s - loss: 0.5714 - accuracy: 0.7000 - val_loss: 0.6960 - val_accuracy: 0.6380\n",
            "Epoch 12/100\n",
            "100/100 - 17s - loss: 0.5643 - accuracy: 0.6950 - val_loss: 0.5583 - val_accuracy: 0.6950\n",
            "Epoch 13/100\n",
            "100/100 - 17s - loss: 0.5654 - accuracy: 0.6915 - val_loss: 0.5609 - val_accuracy: 0.6890\n",
            "Epoch 14/100\n",
            "100/100 - 17s - loss: 0.5676 - accuracy: 0.7045 - val_loss: 0.5174 - val_accuracy: 0.7370\n",
            "Epoch 15/100\n",
            "100/100 - 17s - loss: 0.5627 - accuracy: 0.7000 - val_loss: 0.5246 - val_accuracy: 0.7230\n",
            "Epoch 16/100\n",
            "100/100 - 17s - loss: 0.5620 - accuracy: 0.6945 - val_loss: 0.5325 - val_accuracy: 0.7140\n",
            "Epoch 17/100\n",
            "100/100 - 17s - loss: 0.5518 - accuracy: 0.7240 - val_loss: 0.5262 - val_accuracy: 0.7270\n",
            "Epoch 18/100\n",
            "100/100 - 17s - loss: 0.5450 - accuracy: 0.7115 - val_loss: 0.5188 - val_accuracy: 0.7210\n",
            "Epoch 19/100\n",
            "100/100 - 16s - loss: 0.5466 - accuracy: 0.7290 - val_loss: 0.5203 - val_accuracy: 0.7290\n",
            "Epoch 20/100\n",
            "100/100 - 17s - loss: 0.5496 - accuracy: 0.7095 - val_loss: 0.4982 - val_accuracy: 0.7500\n",
            "Epoch 21/100\n",
            "100/100 - 16s - loss: 0.5343 - accuracy: 0.7365 - val_loss: 0.5249 - val_accuracy: 0.7160\n",
            "Epoch 22/100\n",
            "100/100 - 17s - loss: 0.5342 - accuracy: 0.7320 - val_loss: 0.5071 - val_accuracy: 0.7390\n",
            "Epoch 23/100\n",
            "100/100 - 17s - loss: 0.5247 - accuracy: 0.7365 - val_loss: 0.5484 - val_accuracy: 0.7170\n",
            "Epoch 24/100\n",
            "100/100 - 17s - loss: 0.5107 - accuracy: 0.7505 - val_loss: 0.4929 - val_accuracy: 0.7550\n",
            "Epoch 25/100\n",
            "100/100 - 17s - loss: 0.5286 - accuracy: 0.7360 - val_loss: 0.4996 - val_accuracy: 0.7470\n",
            "Epoch 26/100\n",
            "100/100 - 17s - loss: 0.5154 - accuracy: 0.7360 - val_loss: 0.4984 - val_accuracy: 0.7480\n",
            "Epoch 27/100\n",
            "100/100 - 17s - loss: 0.4997 - accuracy: 0.7520 - val_loss: 0.4874 - val_accuracy: 0.7550\n",
            "Epoch 28/100\n",
            "100/100 - 16s - loss: 0.5147 - accuracy: 0.7445 - val_loss: 0.5041 - val_accuracy: 0.7380\n",
            "Epoch 29/100\n",
            "100/100 - 16s - loss: 0.5085 - accuracy: 0.7455 - val_loss: 0.5969 - val_accuracy: 0.6960\n",
            "Epoch 30/100\n",
            "100/100 - 17s - loss: 0.5043 - accuracy: 0.7485 - val_loss: 0.4714 - val_accuracy: 0.7600\n",
            "Epoch 31/100\n",
            "100/100 - 16s - loss: 0.5056 - accuracy: 0.7520 - val_loss: 0.4744 - val_accuracy: 0.7630\n",
            "Epoch 32/100\n",
            "100/100 - 17s - loss: 0.4989 - accuracy: 0.7635 - val_loss: 0.4868 - val_accuracy: 0.7590\n",
            "Epoch 33/100\n",
            "100/100 - 17s - loss: 0.4914 - accuracy: 0.7550 - val_loss: 0.5286 - val_accuracy: 0.7330\n",
            "Epoch 34/100\n",
            "100/100 - 17s - loss: 0.4917 - accuracy: 0.7545 - val_loss: 0.4590 - val_accuracy: 0.7700\n",
            "Epoch 35/100\n",
            "100/100 - 17s - loss: 0.4981 - accuracy: 0.7500 - val_loss: 0.4594 - val_accuracy: 0.7630\n",
            "Epoch 36/100\n",
            "100/100 - 17s - loss: 0.4786 - accuracy: 0.7735 - val_loss: 0.4726 - val_accuracy: 0.7700\n",
            "Epoch 37/100\n",
            "100/100 - 17s - loss: 0.4823 - accuracy: 0.7575 - val_loss: 0.4707 - val_accuracy: 0.7710\n",
            "Epoch 38/100\n",
            "100/100 - 17s - loss: 0.4758 - accuracy: 0.7695 - val_loss: 0.4599 - val_accuracy: 0.7630\n",
            "Epoch 39/100\n",
            "100/100 - 16s - loss: 0.4706 - accuracy: 0.7800 - val_loss: 0.4868 - val_accuracy: 0.7570\n",
            "Epoch 40/100\n",
            "100/100 - 17s - loss: 0.4614 - accuracy: 0.7800 - val_loss: 0.4795 - val_accuracy: 0.7540\n",
            "Epoch 41/100\n",
            "100/100 - 17s - loss: 0.4638 - accuracy: 0.7800 - val_loss: 0.4447 - val_accuracy: 0.7710\n",
            "Epoch 42/100\n",
            "100/100 - 17s - loss: 0.4692 - accuracy: 0.7740 - val_loss: 0.4631 - val_accuracy: 0.7690\n",
            "Epoch 43/100\n",
            "100/100 - 17s - loss: 0.4711 - accuracy: 0.7785 - val_loss: 0.4431 - val_accuracy: 0.7920\n",
            "Epoch 44/100\n",
            "100/100 - 17s - loss: 0.4721 - accuracy: 0.7790 - val_loss: 0.4394 - val_accuracy: 0.8010\n",
            "Epoch 45/100\n",
            "100/100 - 17s - loss: 0.4644 - accuracy: 0.7740 - val_loss: 0.4638 - val_accuracy: 0.7810\n",
            "Epoch 46/100\n",
            "100/100 - 17s - loss: 0.4514 - accuracy: 0.7835 - val_loss: 0.5037 - val_accuracy: 0.7420\n",
            "Epoch 47/100\n",
            "100/100 - 17s - loss: 0.4563 - accuracy: 0.7820 - val_loss: 0.4604 - val_accuracy: 0.7690\n",
            "Epoch 48/100\n",
            "100/100 - 17s - loss: 0.4500 - accuracy: 0.7835 - val_loss: 0.4426 - val_accuracy: 0.7930\n",
            "Epoch 49/100\n",
            "100/100 - 16s - loss: 0.4453 - accuracy: 0.7950 - val_loss: 0.4423 - val_accuracy: 0.7900\n",
            "Epoch 50/100\n",
            "100/100 - 16s - loss: 0.4523 - accuracy: 0.7870 - val_loss: 0.5495 - val_accuracy: 0.7240\n",
            "Epoch 51/100\n",
            "100/100 - 17s - loss: 0.4497 - accuracy: 0.7900 - val_loss: 0.4404 - val_accuracy: 0.7840\n",
            "Epoch 52/100\n",
            "100/100 - 17s - loss: 0.4354 - accuracy: 0.7980 - val_loss: 0.4411 - val_accuracy: 0.7830\n",
            "Epoch 53/100\n",
            "100/100 - 17s - loss: 0.4289 - accuracy: 0.7910 - val_loss: 0.5246 - val_accuracy: 0.7440\n",
            "Epoch 54/100\n",
            "100/100 - 17s - loss: 0.4436 - accuracy: 0.7940 - val_loss: 0.4207 - val_accuracy: 0.8010\n",
            "Epoch 55/100\n",
            "100/100 - 17s - loss: 0.4431 - accuracy: 0.7845 - val_loss: 0.4438 - val_accuracy: 0.7850\n",
            "Epoch 56/100\n",
            "100/100 - 17s - loss: 0.4297 - accuracy: 0.8030 - val_loss: 0.4321 - val_accuracy: 0.7990\n",
            "Epoch 57/100\n",
            "100/100 - 17s - loss: 0.4192 - accuracy: 0.8015 - val_loss: 0.4073 - val_accuracy: 0.8130\n",
            "Epoch 58/100\n",
            "100/100 - 17s - loss: 0.4330 - accuracy: 0.7935 - val_loss: 0.4760 - val_accuracy: 0.7640\n",
            "Epoch 59/100\n",
            "100/100 - 17s - loss: 0.4255 - accuracy: 0.8075 - val_loss: 0.4144 - val_accuracy: 0.8070\n",
            "Epoch 60/100\n",
            "100/100 - 17s - loss: 0.4263 - accuracy: 0.8005 - val_loss: 0.4386 - val_accuracy: 0.7800\n",
            "Epoch 61/100\n",
            "100/100 - 17s - loss: 0.4265 - accuracy: 0.7955 - val_loss: 0.4293 - val_accuracy: 0.8020\n",
            "Epoch 62/100\n",
            "100/100 - 17s - loss: 0.4112 - accuracy: 0.8150 - val_loss: 0.4247 - val_accuracy: 0.8080\n",
            "Epoch 63/100\n",
            "100/100 - 17s - loss: 0.4124 - accuracy: 0.8030 - val_loss: 0.4079 - val_accuracy: 0.8120\n",
            "Epoch 64/100\n",
            "100/100 - 17s - loss: 0.4217 - accuracy: 0.8015 - val_loss: 0.5093 - val_accuracy: 0.7560\n",
            "Epoch 65/100\n",
            "100/100 - 17s - loss: 0.4135 - accuracy: 0.8000 - val_loss: 0.4323 - val_accuracy: 0.7870\n",
            "Epoch 66/100\n",
            "100/100 - 17s - loss: 0.4212 - accuracy: 0.8020 - val_loss: 0.4223 - val_accuracy: 0.8050\n",
            "Epoch 67/100\n",
            "100/100 - 17s - loss: 0.4176 - accuracy: 0.8050 - val_loss: 0.4390 - val_accuracy: 0.7990\n",
            "Epoch 68/100\n",
            "100/100 - 17s - loss: 0.4136 - accuracy: 0.8115 - val_loss: 0.4226 - val_accuracy: 0.8040\n",
            "Epoch 69/100\n",
            "100/100 - 17s - loss: 0.4024 - accuracy: 0.8155 - val_loss: 0.4114 - val_accuracy: 0.8000\n",
            "Epoch 70/100\n",
            "100/100 - 17s - loss: 0.4001 - accuracy: 0.8200 - val_loss: 0.4024 - val_accuracy: 0.8110\n",
            "Epoch 71/100\n",
            "100/100 - 17s - loss: 0.3912 - accuracy: 0.8245 - val_loss: 0.4104 - val_accuracy: 0.8010\n",
            "Epoch 72/100\n",
            "100/100 - 17s - loss: 0.3891 - accuracy: 0.8225 - val_loss: 0.3987 - val_accuracy: 0.8020\n",
            "Epoch 73/100\n",
            "100/100 - 17s - loss: 0.3945 - accuracy: 0.8165 - val_loss: 0.5152 - val_accuracy: 0.7450\n",
            "Epoch 74/100\n",
            "100/100 - 17s - loss: 0.3898 - accuracy: 0.8185 - val_loss: 0.4128 - val_accuracy: 0.8020\n",
            "Epoch 75/100\n",
            "100/100 - 17s - loss: 0.4006 - accuracy: 0.8070 - val_loss: 0.4084 - val_accuracy: 0.8030\n",
            "Epoch 76/100\n",
            "100/100 - 17s - loss: 0.3962 - accuracy: 0.8200 - val_loss: 0.4171 - val_accuracy: 0.8000\n",
            "Epoch 77/100\n",
            "100/100 - 17s - loss: 0.3952 - accuracy: 0.8205 - val_loss: 0.4830 - val_accuracy: 0.7790\n",
            "Epoch 78/100\n",
            "100/100 - 17s - loss: 0.4072 - accuracy: 0.8135 - val_loss: 0.3820 - val_accuracy: 0.8160\n",
            "Epoch 79/100\n",
            "100/100 - 17s - loss: 0.3886 - accuracy: 0.8270 - val_loss: 0.4296 - val_accuracy: 0.7900\n",
            "Epoch 80/100\n",
            "100/100 - 17s - loss: 0.3798 - accuracy: 0.8250 - val_loss: 0.4288 - val_accuracy: 0.8030\n",
            "Epoch 81/100\n",
            "100/100 - 17s - loss: 0.3815 - accuracy: 0.8310 - val_loss: 0.4675 - val_accuracy: 0.7850\n",
            "Epoch 82/100\n",
            "100/100 - 17s - loss: 0.3803 - accuracy: 0.8230 - val_loss: 0.4097 - val_accuracy: 0.8090\n",
            "Epoch 83/100\n",
            "100/100 - 17s - loss: 0.3774 - accuracy: 0.8335 - val_loss: 0.4566 - val_accuracy: 0.7820\n",
            "Epoch 84/100\n",
            "100/100 - 17s - loss: 0.3887 - accuracy: 0.8230 - val_loss: 0.3820 - val_accuracy: 0.8190\n",
            "Epoch 85/100\n",
            "100/100 - 17s - loss: 0.3733 - accuracy: 0.8305 - val_loss: 0.3980 - val_accuracy: 0.8060\n",
            "Epoch 86/100\n",
            "100/100 - 17s - loss: 0.3764 - accuracy: 0.8355 - val_loss: 0.4325 - val_accuracy: 0.8000\n",
            "Epoch 87/100\n",
            "100/100 - 17s - loss: 0.3797 - accuracy: 0.8220 - val_loss: 0.4201 - val_accuracy: 0.8060\n",
            "Epoch 88/100\n",
            "100/100 - 17s - loss: 0.3628 - accuracy: 0.8385 - val_loss: 0.4565 - val_accuracy: 0.8140\n",
            "Epoch 89/100\n",
            "100/100 - 17s - loss: 0.3604 - accuracy: 0.8445 - val_loss: 0.3953 - val_accuracy: 0.8150\n",
            "Epoch 90/100\n",
            "100/100 - 17s - loss: 0.3771 - accuracy: 0.8300 - val_loss: 0.4007 - val_accuracy: 0.8070\n",
            "Epoch 91/100\n",
            "100/100 - 17s - loss: 0.3510 - accuracy: 0.8400 - val_loss: 0.4299 - val_accuracy: 0.7950\n",
            "Epoch 92/100\n",
            "100/100 - 17s - loss: 0.3686 - accuracy: 0.8330 - val_loss: 0.4000 - val_accuracy: 0.8180\n",
            "Epoch 93/100\n",
            "100/100 - 16s - loss: 0.3581 - accuracy: 0.8425 - val_loss: 0.3969 - val_accuracy: 0.8090\n",
            "Epoch 94/100\n",
            "100/100 - 17s - loss: 0.3308 - accuracy: 0.8520 - val_loss: 0.3877 - val_accuracy: 0.8230\n",
            "Epoch 95/100\n",
            "100/100 - 16s - loss: 0.3418 - accuracy: 0.8485 - val_loss: 0.4157 - val_accuracy: 0.8210\n",
            "Epoch 96/100\n",
            "100/100 - 17s - loss: 0.3390 - accuracy: 0.8545 - val_loss: 0.4028 - val_accuracy: 0.8190\n",
            "Epoch 97/100\n",
            "100/100 - 17s - loss: 0.3533 - accuracy: 0.8435 - val_loss: 0.6651 - val_accuracy: 0.7620\n",
            "Epoch 98/100\n",
            "100/100 - 17s - loss: 0.3514 - accuracy: 0.8475 - val_loss: 0.3837 - val_accuracy: 0.8230\n",
            "Epoch 99/100\n",
            "100/100 - 17s - loss: 0.3603 - accuracy: 0.8295 - val_loss: 0.3976 - val_accuracy: 0.8300\n",
            "Epoch 100/100\n",
            "100/100 - 17s - loss: 0.3367 - accuracy: 0.8550 - val_loss: 0.4005 - val_accuracy: 0.8250\n"
          ],
          "name": "stdout"
        }
      ]
    },
    {
      "cell_type": "code",
      "metadata": {
        "colab": {
          "base_uri": "https://localhost:8080/",
          "height": 545
        },
        "id": "O9W7mzyAtw_G",
        "outputId": "6a6bf135-7226-468e-db34-a929c4b877f1"
      },
      "source": [
        "import matplotlib.pyplot as plt\n",
        "acc = history.history['accuracy']\n",
        "val_acc = history.history['val_accuracy']\n",
        "loss = history.history['loss']\n",
        "val_loss = history.history['val_loss']\n",
        "\n",
        "epochs = range(len(acc))\n",
        "\n",
        "plt.plot(epochs, acc, 'bo', label='Training accuracy')\n",
        "plt.plot(epochs, val_acc, 'b', label='Validation accuracy')\n",
        "plt.title('Training and validation accuracy')\n",
        "\n",
        "plt.figure()\n",
        "\n",
        "plt.plot(epochs, loss, 'bo', label='Training Loss')\n",
        "plt.plot(epochs, val_loss, 'b', label='Validation Loss')\n",
        "plt.title('Training and validation loss')\n",
        "plt.legend()\n",
        "\n",
        "plt.show()"
      ],
      "execution_count": 18,
      "outputs": [
        {
          "output_type": "display_data",
          "data": {
            "image/png": "[encoded data removed]",
            "text/plain": [
              "<Figure size 432x288 with 1 Axes>"
            ]
          },
          "metadata": {
            "tags": [],
            "needs_background": "light"
          }
        },
        {
          "output_type": "display_data",
          "data": {
            "image/png": "[encoded data removed]",
            "text/plain": [
              "<Figure size 432x288 with 1 Axes>"
            ]
          },
          "metadata": {
            "tags": [],
            "needs_background": "light"
          }
        }
      ]
    },
    {
      "cell_type": "markdown",
      "metadata": {
        "id": "fImS7X6utzxW"
      },
      "source": [
        "예제3. Dropout을 넣었을 때 결과가 가장 좋다. Flatten() 바로 전에 추가"
      ]
    },
    {
      "cell_type": "code",
      "metadata": {
        "id": "8FCbUIHwt6mG"
      },
      "source": [
        "import os\n",
        "import zipfile\n",
        "import tensorflow as tf\n",
        "from tensorflow.keras.optimizers import RMSprop\n",
        "from tensorflow.keras.preprocessing.image import ImageDataGenerator"
      ],
      "execution_count": 19,
      "outputs": []
    },
    {
      "cell_type": "code",
      "metadata": {
        "colab": {
          "base_uri": "https://localhost:8080/"
        },
        "id": "upAEx2rxt7FF",
        "outputId": "d6438031-a385-47a1-ea4d-4dc32490b71e"
      },
      "source": [
        "!wget --no-check-certificate \\\n",
        "    https://storage.googleapis.com/mledu-datasets/cats_and_dogs_filtered.zip \\\n",
        "    -O /tmp/cats_and_dogs_filtered.zip"
      ],
      "execution_count": 20,
      "outputs": [
        {
          "output_type": "stream",
          "text": [
            "--2021-05-06 15:16:16--  https://storage.googleapis.com/mledu-datasets/cats_and_dogs_filtered.zip\n",
            "Resolving storage.googleapis.com (storage.googleapis.com)... 74.125.142.128, 74.125.195.128, 74.125.20.128, ...\n",
            "Connecting to storage.googleapis.com (storage.googleapis.com)|74.125.142.128|:443... connected.\n",
            "HTTP request sent, awaiting response... 200 OK\n",
            "Length: 68606236 (65M) [application/zip]\n",
            "Saving to: ‘/tmp/cats_and_dogs_filtered.zip’\n",
            "\n",
            "/tmp/cats_and_dogs_ 100%[===================>]  65.43M  86.6MB/s    in 0.8s    \n",
            "\n",
            "2021-05-06 15:16:17 (86.6 MB/s) - ‘/tmp/cats_and_dogs_filtered.zip’ saved [68606236/68606236]\n",
            "\n"
          ],
          "name": "stdout"
        }
      ]
    },
    {
      "cell_type": "code",
      "metadata": {
        "id": "83MwtQHUt8_-"
      },
      "source": [
        "local_zip = '/tmp/cats_and_dogs_filtered.zip'\n",
        "zip_ref = zipfile.ZipFile(local_zip, 'r')\n",
        "zip_ref.extractall('/tmp')\n",
        "zip_ref.close()\n",
        "\n",
        "base_dir = '/tmp/cats_and_dogs_filtered'\n",
        "train_dir = os.path.join(base_dir, 'train')\n",
        "validation_dir = os.path.join(base_dir, 'validation')\n",
        "\n",
        "# Directory with our training cat pictures\n",
        "train_cats_dir = os.path.join(train_dir, 'cats')\n",
        "\n",
        "# Directory with our training dog pictures\n",
        "train_dogs_dir = os.path.join(train_dir, 'dogs')\n",
        "\n",
        "# Directory with our validation cat pictures\n",
        "validation_cats_dir = os.path.join(validation_dir, 'cats')\n",
        "\n",
        "# Directory with our validation dog pictures\n",
        "validation_dogs_dir = os.path.join(validation_dir, 'dogs')"
      ],
      "execution_count": 21,
      "outputs": []
    },
    {
      "cell_type": "code",
      "metadata": {
        "id": "snGSX1Ytt_I-"
      },
      "source": [
        "model = tf.keras.models.Sequential([\n",
        "    tf.keras.layers.Conv2D(32, (3,3), activation='relu', input_shape=(150, 150, 3)),\n",
        "    tf.keras.layers.MaxPooling2D(2, 2),\n",
        "    tf.keras.layers.Conv2D(64, (3,3), activation='relu'),\n",
        "    tf.keras.layers.MaxPooling2D(2,2),\n",
        "    tf.keras.layers.Conv2D(128, (3,3), activation='relu'),\n",
        "    tf.keras.layers.MaxPooling2D(2,2),\n",
        "    tf.keras.layers.Conv2D(128, (3,3), activation='relu'),\n",
        "    tf.keras.layers.MaxPooling2D(2,2),\n",
        "    tf.keras.layers.Dropout(0.5),\n",
        "    tf.keras.layers.Flatten(),\n",
        "    tf.keras.layers.Dense(512, activation='relu'),\n",
        "    tf.keras.layers.Dense(1, activation='sigmoid')\n",
        "])"
      ],
      "execution_count": 22,
      "outputs": []
    },
    {
      "cell_type": "code",
      "metadata": {
        "id": "BEuwuY_nuBdO"
      },
      "source": [
        "model.compile(loss='binary_crossentropy',\n",
        "              optimizer=RMSprop(lr=1e-4),\n",
        "              metrics=['accuracy'])"
      ],
      "execution_count": 23,
      "outputs": []
    },
    {
      "cell_type": "code",
      "metadata": {
        "colab": {
          "base_uri": "https://localhost:8080/"
        },
        "id": "or6KxuLFuDlO",
        "outputId": "d641343e-21ab-45be-9637-a6fda691e6ef"
      },
      "source": [
        "# This code has changed. Now instead of the ImageGenerator just rescaling\n",
        "# the image, we also rotate and do other operations\n",
        "# Updated to do image augmentation\n",
        "train_datagen = ImageDataGenerator(\n",
        "      rescale=1./255,\n",
        "      rotation_range=40,\n",
        "      width_shift_range=0.2,\n",
        "      height_shift_range=0.2,\n",
        "      shear_range=0.2,\n",
        "      zoom_range=0.2,\n",
        "      horizontal_flip=True,\n",
        "      fill_mode='nearest')\n",
        "\n",
        "test_datagen = ImageDataGenerator(rescale=1./255)\n",
        "\n",
        "# Flow training images in batches of 20 using train_datagen generator\n",
        "train_generator = train_datagen.flow_from_directory(\n",
        "        train_dir,  # This is the source directory for training images\n",
        "        target_size=(150, 150),  # All images will be resized to 150x150\n",
        "        batch_size=20,\n",
        "        # Since we use binary_crossentropy loss, we need binary labels\n",
        "        class_mode='binary')\n",
        "\n",
        "# Flow validation images in batches of 20 using test_datagen generator\n",
        "validation_generator = test_datagen.flow_from_directory(\n",
        "        validation_dir,\n",
        "        target_size=(150, 150),\n",
        "        batch_size=20,\n",
        "        class_mode='binary')"
      ],
      "execution_count": 24,
      "outputs": [
        {
          "output_type": "stream",
          "text": [
            "Found 2000 images belonging to 2 classes.\n",
            "Found 1000 images belonging to 2 classes.\n"
          ],
          "name": "stdout"
        }
      ]
    },
    {
      "cell_type": "code",
      "metadata": {
        "colab": {
          "base_uri": "https://localhost:8080/"
        },
        "id": "xH8VSrufuFb_",
        "outputId": "9d18988c-fda0-4ae2-ae8f-db448cc03650"
      },
      "source": [
        "history = model.fit(\n",
        "      train_generator,\n",
        "      steps_per_epoch=100,  # 2000 images = batch_size * steps\n",
        "      epochs=100,\n",
        "      validation_data=validation_generator,\n",
        "      validation_steps=50,  # 1000 images = batch_size * steps\n",
        "      verbose=2)"
      ],
      "execution_count": 25,
      "outputs": [
        {
          "output_type": "stream",
          "text": [
            "Epoch 1/100\n",
            "100/100 - 18s - loss: 0.6946 - accuracy: 0.5080 - val_loss: 0.6828 - val_accuracy: 0.5190\n",
            "Epoch 2/100\n",
            "100/100 - 17s - loss: 0.6829 - accuracy: 0.5655 - val_loss: 0.6542 - val_accuracy: 0.6090\n",
            "Epoch 3/100\n",
            "100/100 - 16s - loss: 0.6699 - accuracy: 0.5880 - val_loss: 0.6388 - val_accuracy: 0.6170\n",
            "Epoch 4/100\n",
            "100/100 - 17s - loss: 0.6562 - accuracy: 0.5955 - val_loss: 0.7834 - val_accuracy: 0.5220\n",
            "Epoch 5/100\n",
            "100/100 - 17s - loss: 0.6501 - accuracy: 0.6095 - val_loss: 0.6008 - val_accuracy: 0.6920\n",
            "Epoch 6/100\n",
            "100/100 - 17s - loss: 0.6344 - accuracy: 0.6350 - val_loss: 0.5905 - val_accuracy: 0.6900\n",
            "Epoch 7/100\n",
            "100/100 - 17s - loss: 0.6142 - accuracy: 0.6595 - val_loss: 0.5721 - val_accuracy: 0.6950\n",
            "Epoch 8/100\n",
            "100/100 - 17s - loss: 0.6100 - accuracy: 0.6500 - val_loss: 0.5582 - val_accuracy: 0.7240\n",
            "Epoch 9/100\n",
            "100/100 - 17s - loss: 0.6020 - accuracy: 0.6750 - val_loss: 0.6586 - val_accuracy: 0.5920\n",
            "Epoch 10/100\n",
            "100/100 - 17s - loss: 0.5869 - accuracy: 0.6815 - val_loss: 0.5408 - val_accuracy: 0.7180\n",
            "Epoch 11/100\n",
            "100/100 - 17s - loss: 0.5876 - accuracy: 0.6825 - val_loss: 0.5656 - val_accuracy: 0.6990\n",
            "Epoch 12/100\n",
            "100/100 - 17s - loss: 0.5860 - accuracy: 0.6965 - val_loss: 0.5580 - val_accuracy: 0.7030\n",
            "Epoch 13/100\n",
            "100/100 - 17s - loss: 0.5759 - accuracy: 0.6940 - val_loss: 0.5397 - val_accuracy: 0.7220\n",
            "Epoch 14/100\n",
            "100/100 - 17s - loss: 0.5563 - accuracy: 0.7205 - val_loss: 0.5627 - val_accuracy: 0.7110\n",
            "Epoch 15/100\n",
            "100/100 - 17s - loss: 0.5554 - accuracy: 0.7240 - val_loss: 0.5189 - val_accuracy: 0.7350\n",
            "Epoch 16/100\n",
            "100/100 - 17s - loss: 0.5511 - accuracy: 0.7295 - val_loss: 0.5141 - val_accuracy: 0.7410\n",
            "Epoch 17/100\n",
            "100/100 - 17s - loss: 0.5430 - accuracy: 0.7280 - val_loss: 0.4961 - val_accuracy: 0.7480\n",
            "Epoch 18/100\n",
            "100/100 - 17s - loss: 0.5491 - accuracy: 0.7145 - val_loss: 0.5006 - val_accuracy: 0.7470\n",
            "Epoch 19/100\n",
            "100/100 - 17s - loss: 0.5323 - accuracy: 0.7300 - val_loss: 0.4889 - val_accuracy: 0.7550\n",
            "Epoch 20/100\n",
            "100/100 - 16s - loss: 0.5439 - accuracy: 0.7155 - val_loss: 0.4996 - val_accuracy: 0.7490\n",
            "Epoch 21/100\n",
            "100/100 - 17s - loss: 0.5434 - accuracy: 0.7240 - val_loss: 0.4910 - val_accuracy: 0.7560\n",
            "Epoch 22/100\n",
            "100/100 - 17s - loss: 0.5188 - accuracy: 0.7430 - val_loss: 0.4849 - val_accuracy: 0.7540\n",
            "Epoch 23/100\n",
            "100/100 - 17s - loss: 0.5372 - accuracy: 0.7225 - val_loss: 0.4879 - val_accuracy: 0.7500\n",
            "Epoch 24/100\n",
            "100/100 - 17s - loss: 0.5203 - accuracy: 0.7430 - val_loss: 0.5325 - val_accuracy: 0.7260\n",
            "Epoch 25/100\n",
            "100/100 - 17s - loss: 0.5274 - accuracy: 0.7330 - val_loss: 0.5312 - val_accuracy: 0.7160\n",
            "Epoch 26/100\n",
            "100/100 - 17s - loss: 0.5327 - accuracy: 0.7320 - val_loss: 0.4793 - val_accuracy: 0.7540\n",
            "Epoch 27/100\n",
            "100/100 - 17s - loss: 0.5253 - accuracy: 0.7315 - val_loss: 0.4740 - val_accuracy: 0.7640\n",
            "Epoch 28/100\n",
            "100/100 - 17s - loss: 0.5108 - accuracy: 0.7470 - val_loss: 0.4820 - val_accuracy: 0.7610\n",
            "Epoch 29/100\n",
            "100/100 - 17s - loss: 0.5133 - accuracy: 0.7555 - val_loss: 0.4939 - val_accuracy: 0.7580\n",
            "Epoch 30/100\n",
            "100/100 - 17s - loss: 0.5135 - accuracy: 0.7410 - val_loss: 0.5050 - val_accuracy: 0.7300\n",
            "Epoch 31/100\n",
            "100/100 - 17s - loss: 0.5117 - accuracy: 0.7475 - val_loss: 0.4660 - val_accuracy: 0.7780\n",
            "Epoch 32/100\n",
            "100/100 - 17s - loss: 0.5027 - accuracy: 0.7435 - val_loss: 0.4666 - val_accuracy: 0.7710\n",
            "Epoch 33/100\n",
            "100/100 - 17s - loss: 0.4907 - accuracy: 0.7630 - val_loss: 0.5079 - val_accuracy: 0.7330\n",
            "Epoch 34/100\n",
            "100/100 - 17s - loss: 0.5035 - accuracy: 0.7585 - val_loss: 0.5112 - val_accuracy: 0.7390\n",
            "Epoch 35/100\n",
            "100/100 - 17s - loss: 0.4963 - accuracy: 0.7560 - val_loss: 0.4560 - val_accuracy: 0.7710\n",
            "Epoch 36/100\n",
            "100/100 - 17s - loss: 0.5056 - accuracy: 0.7500 - val_loss: 0.4642 - val_accuracy: 0.7730\n",
            "Epoch 37/100\n",
            "100/100 - 17s - loss: 0.4797 - accuracy: 0.7720 - val_loss: 0.4935 - val_accuracy: 0.7580\n",
            "Epoch 38/100\n",
            "100/100 - 17s - loss: 0.5096 - accuracy: 0.7400 - val_loss: 0.4890 - val_accuracy: 0.7380\n",
            "Epoch 39/100\n",
            "100/100 - 17s - loss: 0.4901 - accuracy: 0.7600 - val_loss: 0.4615 - val_accuracy: 0.7720\n",
            "Epoch 40/100\n",
            "100/100 - 17s - loss: 0.4920 - accuracy: 0.7600 - val_loss: 0.4370 - val_accuracy: 0.7880\n",
            "Epoch 41/100\n",
            "100/100 - 17s - loss: 0.4790 - accuracy: 0.7745 - val_loss: 0.4976 - val_accuracy: 0.7480\n",
            "Epoch 42/100\n",
            "100/100 - 17s - loss: 0.4832 - accuracy: 0.7605 - val_loss: 0.4600 - val_accuracy: 0.7810\n",
            "Epoch 43/100\n",
            "100/100 - 17s - loss: 0.4765 - accuracy: 0.7785 - val_loss: 0.4602 - val_accuracy: 0.7830\n",
            "Epoch 44/100\n",
            "100/100 - 17s - loss: 0.4724 - accuracy: 0.7910 - val_loss: 0.4545 - val_accuracy: 0.7780\n",
            "Epoch 45/100\n",
            "100/100 - 17s - loss: 0.4602 - accuracy: 0.7800 - val_loss: 0.4788 - val_accuracy: 0.7650\n",
            "Epoch 46/100\n",
            "100/100 - 17s - loss: 0.4726 - accuracy: 0.7720 - val_loss: 0.4763 - val_accuracy: 0.7600\n",
            "Epoch 47/100\n",
            "100/100 - 17s - loss: 0.4665 - accuracy: 0.7850 - val_loss: 0.4660 - val_accuracy: 0.7850\n",
            "Epoch 48/100\n",
            "100/100 - 17s - loss: 0.4589 - accuracy: 0.7845 - val_loss: 0.4694 - val_accuracy: 0.7730\n",
            "Epoch 49/100\n",
            "100/100 - 16s - loss: 0.4721 - accuracy: 0.7685 - val_loss: 0.4511 - val_accuracy: 0.7820\n",
            "Epoch 50/100\n",
            "100/100 - 17s - loss: 0.4663 - accuracy: 0.7735 - val_loss: 0.4573 - val_accuracy: 0.7830\n",
            "Epoch 51/100\n",
            "100/100 - 16s - loss: 0.4637 - accuracy: 0.7805 - val_loss: 0.4423 - val_accuracy: 0.7810\n",
            "Epoch 52/100\n",
            "100/100 - 16s - loss: 0.4620 - accuracy: 0.7875 - val_loss: 0.4694 - val_accuracy: 0.7730\n",
            "Epoch 53/100\n",
            "100/100 - 17s - loss: 0.4393 - accuracy: 0.8015 - val_loss: 0.4728 - val_accuracy: 0.7480\n",
            "Epoch 54/100\n",
            "100/100 - 17s - loss: 0.4484 - accuracy: 0.7895 - val_loss: 0.4211 - val_accuracy: 0.8060\n",
            "Epoch 55/100\n",
            "100/100 - 17s - loss: 0.4562 - accuracy: 0.7820 - val_loss: 0.4243 - val_accuracy: 0.7950\n",
            "Epoch 56/100\n",
            "100/100 - 17s - loss: 0.4564 - accuracy: 0.7925 - val_loss: 0.4499 - val_accuracy: 0.7820\n",
            "Epoch 57/100\n",
            "100/100 - 17s - loss: 0.4506 - accuracy: 0.7870 - val_loss: 0.4653 - val_accuracy: 0.7840\n",
            "Epoch 58/100\n",
            "100/100 - 17s - loss: 0.4354 - accuracy: 0.8000 - val_loss: 0.4319 - val_accuracy: 0.7900\n",
            "Epoch 59/100\n",
            "100/100 - 17s - loss: 0.4626 - accuracy: 0.7880 - val_loss: 0.4263 - val_accuracy: 0.8060\n",
            "Epoch 60/100\n",
            "100/100 - 17s - loss: 0.4401 - accuracy: 0.7910 - val_loss: 0.4202 - val_accuracy: 0.8050\n",
            "Epoch 61/100\n",
            "100/100 - 17s - loss: 0.4416 - accuracy: 0.8040 - val_loss: 0.4243 - val_accuracy: 0.8020\n",
            "Epoch 62/100\n",
            "100/100 - 17s - loss: 0.4478 - accuracy: 0.7845 - val_loss: 0.4194 - val_accuracy: 0.8060\n",
            "Epoch 63/100\n",
            "100/100 - 16s - loss: 0.4425 - accuracy: 0.7995 - val_loss: 0.6145 - val_accuracy: 0.7210\n",
            "Epoch 64/100\n",
            "100/100 - 17s - loss: 0.4408 - accuracy: 0.7920 - val_loss: 0.4194 - val_accuracy: 0.8080\n",
            "Epoch 65/100\n",
            "100/100 - 17s - loss: 0.4264 - accuracy: 0.8070 - val_loss: 0.4170 - val_accuracy: 0.8060\n",
            "Epoch 66/100\n",
            "100/100 - 17s - loss: 0.4441 - accuracy: 0.8005 - val_loss: 0.4208 - val_accuracy: 0.7970\n",
            "Epoch 67/100\n",
            "100/100 - 17s - loss: 0.4291 - accuracy: 0.7910 - val_loss: 0.5418 - val_accuracy: 0.7520\n",
            "Epoch 68/100\n",
            "100/100 - 17s - loss: 0.4295 - accuracy: 0.8045 - val_loss: 0.4299 - val_accuracy: 0.8010\n",
            "Epoch 69/100\n",
            "100/100 - 16s - loss: 0.4310 - accuracy: 0.8035 - val_loss: 0.4330 - val_accuracy: 0.8010\n",
            "Epoch 70/100\n",
            "100/100 - 16s - loss: 0.4363 - accuracy: 0.7940 - val_loss: 0.4060 - val_accuracy: 0.8160\n",
            "Epoch 71/100\n",
            "100/100 - 17s - loss: 0.4313 - accuracy: 0.8115 - val_loss: 0.4331 - val_accuracy: 0.8060\n",
            "Epoch 72/100\n",
            "100/100 - 17s - loss: 0.4148 - accuracy: 0.8190 - val_loss: 0.4439 - val_accuracy: 0.7890\n",
            "Epoch 73/100\n",
            "100/100 - 17s - loss: 0.4219 - accuracy: 0.8050 - val_loss: 0.4348 - val_accuracy: 0.8010\n",
            "Epoch 74/100\n",
            "100/100 - 17s - loss: 0.4217 - accuracy: 0.7995 - val_loss: 0.4511 - val_accuracy: 0.7990\n",
            "Epoch 75/100\n",
            "100/100 - 17s - loss: 0.4193 - accuracy: 0.8030 - val_loss: 0.4174 - val_accuracy: 0.7980\n",
            "Epoch 76/100\n",
            "100/100 - 17s - loss: 0.4073 - accuracy: 0.8150 - val_loss: 0.4216 - val_accuracy: 0.7960\n",
            "Epoch 77/100\n",
            "100/100 - 18s - loss: 0.4266 - accuracy: 0.8075 - val_loss: 0.4325 - val_accuracy: 0.8070\n",
            "Epoch 78/100\n",
            "100/100 - 17s - loss: 0.4097 - accuracy: 0.8160 - val_loss: 0.3980 - val_accuracy: 0.8080\n",
            "Epoch 79/100\n",
            "100/100 - 17s - loss: 0.4001 - accuracy: 0.8170 - val_loss: 0.5373 - val_accuracy: 0.7760\n",
            "Epoch 80/100\n",
            "100/100 - 17s - loss: 0.4110 - accuracy: 0.8070 - val_loss: 0.3968 - val_accuracy: 0.8100\n",
            "Epoch 81/100\n",
            "100/100 - 17s - loss: 0.3965 - accuracy: 0.8220 - val_loss: 0.4447 - val_accuracy: 0.7980\n",
            "Epoch 82/100\n",
            "100/100 - 17s - loss: 0.3984 - accuracy: 0.8200 - val_loss: 0.4369 - val_accuracy: 0.8040\n",
            "Epoch 83/100\n",
            "100/100 - 17s - loss: 0.4024 - accuracy: 0.8165 - val_loss: 0.4514 - val_accuracy: 0.7950\n",
            "Epoch 84/100\n",
            "100/100 - 17s - loss: 0.3941 - accuracy: 0.8205 - val_loss: 0.4086 - val_accuracy: 0.8160\n",
            "Epoch 85/100\n",
            "100/100 - 17s - loss: 0.4079 - accuracy: 0.8035 - val_loss: 0.4551 - val_accuracy: 0.7960\n",
            "Epoch 86/100\n",
            "100/100 - 17s - loss: 0.4094 - accuracy: 0.8160 - val_loss: 0.4119 - val_accuracy: 0.8050\n",
            "Epoch 87/100\n",
            "100/100 - 17s - loss: 0.4056 - accuracy: 0.8075 - val_loss: 0.5255 - val_accuracy: 0.7720\n",
            "Epoch 88/100\n",
            "100/100 - 17s - loss: 0.3891 - accuracy: 0.8240 - val_loss: 0.3977 - val_accuracy: 0.8140\n",
            "Epoch 89/100\n",
            "100/100 - 17s - loss: 0.3898 - accuracy: 0.8215 - val_loss: 0.4484 - val_accuracy: 0.7930\n",
            "Epoch 90/100\n",
            "100/100 - 17s - loss: 0.3996 - accuracy: 0.8180 - val_loss: 0.4674 - val_accuracy: 0.7930\n",
            "Epoch 91/100\n",
            "100/100 - 17s - loss: 0.3979 - accuracy: 0.8250 - val_loss: 0.3798 - val_accuracy: 0.8140\n",
            "Epoch 92/100\n",
            "100/100 - 17s - loss: 0.3859 - accuracy: 0.8355 - val_loss: 0.3952 - val_accuracy: 0.7950\n",
            "Epoch 93/100\n",
            "100/100 - 17s - loss: 0.4093 - accuracy: 0.8135 - val_loss: 0.4255 - val_accuracy: 0.7970\n",
            "Epoch 94/100\n",
            "100/100 - 17s - loss: 0.4021 - accuracy: 0.8125 - val_loss: 0.4467 - val_accuracy: 0.8030\n",
            "Epoch 95/100\n",
            "100/100 - 17s - loss: 0.3868 - accuracy: 0.8270 - val_loss: 0.3970 - val_accuracy: 0.8190\n",
            "Epoch 96/100\n",
            "100/100 - 17s - loss: 0.3795 - accuracy: 0.8275 - val_loss: 0.4154 - val_accuracy: 0.8130\n",
            "Epoch 97/100\n",
            "100/100 - 17s - loss: 0.3916 - accuracy: 0.8235 - val_loss: 0.4295 - val_accuracy: 0.7960\n",
            "Epoch 98/100\n",
            "100/100 - 17s - loss: 0.3737 - accuracy: 0.8280 - val_loss: 0.4147 - val_accuracy: 0.8130\n",
            "Epoch 99/100\n",
            "100/100 - 17s - loss: 0.3709 - accuracy: 0.8280 - val_loss: 0.4151 - val_accuracy: 0.8050\n",
            "Epoch 100/100\n",
            "100/100 - 17s - loss: 0.3898 - accuracy: 0.8305 - val_loss: 0.3928 - val_accuracy: 0.8210\n"
          ],
          "name": "stdout"
        }
      ]
    },
    {
      "cell_type": "code",
      "metadata": {
        "colab": {
          "base_uri": "https://localhost:8080/",
          "height": 545
        },
        "id": "ssxOtMNkuLTG",
        "outputId": "fa61bb97-de2e-44ef-d9b7-d75a6ea89de0"
      },
      "source": [
        "import matplotlib.pyplot as plt\n",
        "acc = history.history['accuracy']\n",
        "val_acc = history.history['val_accuracy']\n",
        "loss = history.history['loss']\n",
        "val_loss = history.history['val_loss']\n",
        "\n",
        "epochs = range(len(acc))\n",
        "\n",
        "plt.plot(epochs, acc, 'bo', label='Training accuracy')\n",
        "plt.plot(epochs, val_acc, 'b', label='Validation accuracy')\n",
        "plt.title('Training and validation accuracy')\n",
        "\n",
        "plt.figure()\n",
        "\n",
        "plt.plot(epochs, loss, 'bo', label='Training Loss')\n",
        "plt.plot(epochs, val_loss, 'b', label='Validation Loss')\n",
        "plt.title('Training and validation loss')\n",
        "plt.legend()\n",
        "\n",
        "plt.show()"
      ],
      "execution_count": 26,
      "outputs": [
        {
          "output_type": "display_data",
          "data": {
            "image/png": "[encoded data removed]",
            "text/plain": [
              "<Figure size 432x288 with 1 Axes>"
            ]
          },
          "metadata": {
            "tags": [],
            "needs_background": "light"
          }
        },
        {
          "output_type": "display_data",
          "data": {
            "image/png": "[encoded data removed]",
            "text/plain": [
              "<Figure size 432x288 with 1 Axes>"
            ]
          },
          "metadata": {
            "tags": [],
            "needs_background": "light"
          }
        }
      ]
    }
  ]
}