{
  "nbformat": 4,
  "nbformat_minor": 0,
  "metadata": {
    "colab": {
      "name": "3_3_3_sarcasm_NLP_양방향LSTM_Conv1D.ipynb",
      "provenance": [],
      "include_colab_link": true
    },
    "kernelspec": {
      "name": "python3",
      "display_name": "Python 3"
    },
    "language_info": {
      "name": "python"
    },
    "accelerator": "GPU"
  },
  "cells": [
    {
      "cell_type": "markdown",
      "metadata": {
        "id": "view-in-github",
        "colab_type": "text"
      },
      "source": [
        "<a href=\"https://colab.research.google.com/github/innosoft21/workspace/blob/main/tensorflow_python/3_3_3_sarcasm_NLP_%EC%96%91%EB%B0%A9%ED%96%A5LSTM_Conv1D.ipynb\" target=\"_parent\"><img src=\"https://colab.research.google.com/assets/colab-badge.svg\" alt=\"Open In Colab\"/></a>"
      ]
    },
    {
      "cell_type": "markdown",
      "metadata": {
        "id": "MVnxzolZXjqS"
      },
      "source": [
        "3.3.3. sarcasm NLP : 양방향 LSTM추가와 Conv1D 비교\n",
        "\n",
        "1) 양방향 LSTM"
      ]
    },
    {
      "cell_type": "code",
      "metadata": {
        "colab": {
          "base_uri": "https://localhost:8080/"
        },
        "id": "8AZIp6wocvri",
        "outputId": "23721602-d25b-4b47-9fbe-874bbbb57382"
      },
      "source": [
        "import numpy as np\n",
        "\n",
        "import json\n",
        "import tensorflow as tf\n",
        "\n",
        "from tensorflow.keras.preprocessing.text import Tokenizer\n",
        "from tensorflow.keras.preprocessing.sequence import pad_sequences\n",
        "\n",
        "!wget --no-check-certificate \\\n",
        "    https://storage.googleapis.com/laurencemoroney-blog.appspot.com/sarcasm.json \\\n",
        "    -O /tmp/sarcasm.json\n",
        "\n",
        "vocab_size = 1000\n",
        "embedding_dim = 16\n",
        "max_length = 120\n",
        "trunc_type='post'\n",
        "padding_type='post'\n",
        "oov_tok = \"<OOV>\"\n",
        "training_size = 20000"
      ],
      "execution_count": 1,
      "outputs": [
        {
          "output_type": "stream",
          "text": [
            "--2021-05-05 07:37:39--  https://storage.googleapis.com/laurencemoroney-blog.appspot.com/sarcasm.json\n",
            "Resolving storage.googleapis.com (storage.googleapis.com)... 173.194.194.128, 173.194.198.128, 64.233.191.128, ...\n",
            "Connecting to storage.googleapis.com (storage.googleapis.com)|173.194.194.128|:443... connected.\n",
            "HTTP request sent, awaiting response... 200 OK\n",
            "Length: 5643545 (5.4M) [application/json]\n",
            "Saving to: ‘/tmp/sarcasm.json’\n",
            "\n",
            "\r/tmp/sarcasm.json     0%[                    ]       0  --.-KB/s               \r/tmp/sarcasm.json   100%[===================>]   5.38M  --.-KB/s    in 0.05s   \n",
            "\n",
            "2021-05-05 07:37:39 (111 MB/s) - ‘/tmp/sarcasm.json’ saved [5643545/5643545]\n",
            "\n"
          ],
          "name": "stdout"
        }
      ]
    },
    {
      "cell_type": "code",
      "metadata": {
        "id": "ShosueJKcwOZ"
      },
      "source": [
        "with open(\"/tmp/sarcasm.json\", 'r') as f:\n",
        "    datastore = json.load(f)\n",
        "\n",
        "\n",
        "sentences = []\n",
        "labels = []\n",
        "urls = []\n",
        "for item in datastore:\n",
        "    sentences.append(item['headline'])\n",
        "    labels.append(item['is_sarcastic'])\n",
        "\n",
        "training_sentences = sentences[0:training_size]\n",
        "testing_sentences = sentences[training_size:]\n",
        "training_labels = labels[0:training_size]\n",
        "testing_labels = labels[training_size:]"
      ],
      "execution_count": 2,
      "outputs": []
    },
    {
      "cell_type": "code",
      "metadata": {
        "id": "bF-m2HxXc1O5"
      },
      "source": [
        "tokenizer = Tokenizer(num_words=vocab_size, oov_token=oov_tok)\n",
        "tokenizer.fit_on_texts(training_sentences)\n",
        "\n",
        "word_index = tokenizer.word_index\n",
        "\n",
        "training_sequences = tokenizer.texts_to_sequences(training_sentences)\n",
        "training_padded = pad_sequences(training_sequences, maxlen=max_length, padding=padding_type, truncating=trunc_type)\n",
        "\n",
        "testing_sequences = tokenizer.texts_to_sequences(testing_sentences)\n",
        "testing_padded = pad_sequences(testing_sequences, maxlen=max_length, padding=padding_type, truncating=trunc_type)"
      ],
      "execution_count": 3,
      "outputs": []
    },
    {
      "cell_type": "code",
      "metadata": {
        "colab": {
          "base_uri": "https://localhost:8080/"
        },
        "id": "qFJPYjDdc3dJ",
        "outputId": "468f5ee7-7628-4811-ecab-17f246347655"
      },
      "source": [
        "model = tf.keras.Sequential([\n",
        "    tf.keras.layers.Embedding(vocab_size, embedding_dim, input_length=max_length),\n",
        "    tf.keras.layers.Bidirectional(tf.keras.layers.LSTM(32)),\n",
        "    tf.keras.layers.Dense(24, activation='relu'),\n",
        "    tf.keras.layers.Dense(1, activation='sigmoid')\n",
        "])\n",
        "model.compile(loss='binary_crossentropy',optimizer='adam',metrics=['accuracy'])\n",
        "model.summary()"
      ],
      "execution_count": 4,
      "outputs": [
        {
          "output_type": "stream",
          "text": [
            "Model: \"sequential\"\n",
            "_________________________________________________________________\n",
            "Layer (type)                 Output Shape              Param #   \n",
            "=================================================================\n",
            "embedding (Embedding)        (None, 120, 16)           16000     \n",
            "_________________________________________________________________\n",
            "bidirectional (Bidirectional (None, 64)                12544     \n",
            "_________________________________________________________________\n",
            "dense (Dense)                (None, 24)                1560      \n",
            "_________________________________________________________________\n",
            "dense_1 (Dense)              (None, 1)                 25        \n",
            "=================================================================\n",
            "Total params: 30,129\n",
            "Trainable params: 30,129\n",
            "Non-trainable params: 0\n",
            "_________________________________________________________________\n"
          ],
          "name": "stdout"
        }
      ]
    },
    {
      "cell_type": "code",
      "metadata": {
        "colab": {
          "base_uri": "https://localhost:8080/"
        },
        "id": "ApCGBeSdc6c5",
        "outputId": "6cdef181-10b2-4079-cac2-18e55eba0472"
      },
      "source": [
        "num_epochs = 50\n",
        "training_padded = np.array(training_padded)\n",
        "training_labels = np.array(training_labels)\n",
        "testing_padded = np.array(testing_padded)\n",
        "testing_labels = np.array(testing_labels)\n",
        "history = model.fit(training_padded, training_labels, epochs=num_epochs, validation_data=(testing_padded, testing_labels), verbose=1)"
      ],
      "execution_count": 5,
      "outputs": [
        {
          "output_type": "stream",
          "text": [
            "Epoch 1/50\n",
            "625/625 [==============================] - 70s 62ms/step - loss: 0.5409 - accuracy: 0.6996 - val_loss: 0.3945 - val_accuracy: 0.8196\n",
            "Epoch 2/50\n",
            "625/625 [==============================] - 37s 60ms/step - loss: 0.3589 - accuracy: 0.8318 - val_loss: 0.3734 - val_accuracy: 0.8287\n",
            "Epoch 3/50\n",
            "625/625 [==============================] - 37s 60ms/step - loss: 0.3173 - accuracy: 0.8619 - val_loss: 0.3681 - val_accuracy: 0.8363\n",
            "Epoch 4/50\n",
            "625/625 [==============================] - 37s 59ms/step - loss: 0.3033 - accuracy: 0.8639 - val_loss: 0.3689 - val_accuracy: 0.8334\n",
            "Epoch 5/50\n",
            "625/625 [==============================] - 37s 60ms/step - loss: 0.2888 - accuracy: 0.8708 - val_loss: 0.3944 - val_accuracy: 0.8258\n",
            "Epoch 6/50\n",
            "625/625 [==============================] - 37s 60ms/step - loss: 0.2795 - accuracy: 0.8776 - val_loss: 0.3937 - val_accuracy: 0.8243\n",
            "Epoch 7/50\n",
            "625/625 [==============================] - 37s 60ms/step - loss: 0.2744 - accuracy: 0.8812 - val_loss: 0.3811 - val_accuracy: 0.8311\n",
            "Epoch 8/50\n",
            "625/625 [==============================] - 37s 60ms/step - loss: 0.2711 - accuracy: 0.8824 - val_loss: 0.3859 - val_accuracy: 0.8307\n",
            "Epoch 9/50\n",
            "625/625 [==============================] - 37s 60ms/step - loss: 0.2556 - accuracy: 0.8913 - val_loss: 0.4046 - val_accuracy: 0.8308\n",
            "Epoch 10/50\n",
            "625/625 [==============================] - 38s 60ms/step - loss: 0.2546 - accuracy: 0.8911 - val_loss: 0.3925 - val_accuracy: 0.8271\n",
            "Epoch 11/50\n",
            "625/625 [==============================] - 38s 60ms/step - loss: 0.2504 - accuracy: 0.8947 - val_loss: 0.4130 - val_accuracy: 0.8253\n",
            "Epoch 12/50\n",
            "625/625 [==============================] - 37s 60ms/step - loss: 0.2423 - accuracy: 0.8958 - val_loss: 0.4303 - val_accuracy: 0.8231\n",
            "Epoch 13/50\n",
            "625/625 [==============================] - 38s 60ms/step - loss: 0.2310 - accuracy: 0.9027 - val_loss: 0.4454 - val_accuracy: 0.8232\n",
            "Epoch 14/50\n",
            "625/625 [==============================] - 38s 60ms/step - loss: 0.2281 - accuracy: 0.9066 - val_loss: 0.4358 - val_accuracy: 0.8238\n",
            "Epoch 15/50\n",
            "625/625 [==============================] - 38s 60ms/step - loss: 0.2139 - accuracy: 0.9114 - val_loss: 0.4537 - val_accuracy: 0.8189\n",
            "Epoch 16/50\n",
            "625/625 [==============================] - 37s 60ms/step - loss: 0.2148 - accuracy: 0.9113 - val_loss: 0.4552 - val_accuracy: 0.8173\n",
            "Epoch 17/50\n",
            "625/625 [==============================] - 37s 60ms/step - loss: 0.2014 - accuracy: 0.9160 - val_loss: 0.5119 - val_accuracy: 0.8246\n",
            "Epoch 18/50\n",
            "625/625 [==============================] - 38s 60ms/step - loss: 0.1910 - accuracy: 0.9212 - val_loss: 0.5032 - val_accuracy: 0.8171\n",
            "Epoch 19/50\n",
            "625/625 [==============================] - 38s 60ms/step - loss: 0.1856 - accuracy: 0.9241 - val_loss: 0.5710 - val_accuracy: 0.8185\n",
            "Epoch 20/50\n",
            "625/625 [==============================] - 37s 60ms/step - loss: 0.1768 - accuracy: 0.9265 - val_loss: 0.5684 - val_accuracy: 0.8167\n",
            "Epoch 21/50\n",
            "625/625 [==============================] - 37s 60ms/step - loss: 0.1690 - accuracy: 0.9301 - val_loss: 0.5841 - val_accuracy: 0.8155\n",
            "Epoch 22/50\n",
            "625/625 [==============================] - 38s 60ms/step - loss: 0.1700 - accuracy: 0.9319 - val_loss: 0.5953 - val_accuracy: 0.8158\n",
            "Epoch 23/50\n",
            "625/625 [==============================] - 38s 60ms/step - loss: 0.1541 - accuracy: 0.9372 - val_loss: 0.6158 - val_accuracy: 0.8132\n",
            "Epoch 24/50\n",
            "625/625 [==============================] - 37s 60ms/step - loss: 0.1529 - accuracy: 0.9385 - val_loss: 0.7241 - val_accuracy: 0.8156\n",
            "Epoch 25/50\n",
            "625/625 [==============================] - 37s 60ms/step - loss: 0.1418 - accuracy: 0.9418 - val_loss: 0.7573 - val_accuracy: 0.8113\n",
            "Epoch 26/50\n",
            "625/625 [==============================] - 38s 60ms/step - loss: 0.1388 - accuracy: 0.9460 - val_loss: 0.7956 - val_accuracy: 0.8107\n",
            "Epoch 27/50\n",
            "625/625 [==============================] - 37s 60ms/step - loss: 0.1342 - accuracy: 0.9457 - val_loss: 0.8401 - val_accuracy: 0.8107\n",
            "Epoch 28/50\n",
            "625/625 [==============================] - 38s 60ms/step - loss: 0.1248 - accuracy: 0.9495 - val_loss: 0.8218 - val_accuracy: 0.8085\n",
            "Epoch 29/50\n",
            "625/625 [==============================] - 38s 60ms/step - loss: 0.1138 - accuracy: 0.9533 - val_loss: 0.8338 - val_accuracy: 0.8098\n",
            "Epoch 30/50\n",
            "625/625 [==============================] - 38s 60ms/step - loss: 0.1149 - accuracy: 0.9530 - val_loss: 0.9096 - val_accuracy: 0.8035\n",
            "Epoch 31/50\n",
            "625/625 [==============================] - 37s 60ms/step - loss: 0.1113 - accuracy: 0.9557 - val_loss: 0.9486 - val_accuracy: 0.8074\n",
            "Epoch 32/50\n",
            "625/625 [==============================] - 37s 60ms/step - loss: 0.1078 - accuracy: 0.9539 - val_loss: 1.1050 - val_accuracy: 0.8007\n",
            "Epoch 33/50\n",
            "625/625 [==============================] - 38s 60ms/step - loss: 0.1001 - accuracy: 0.9587 - val_loss: 1.0524 - val_accuracy: 0.8007\n",
            "Epoch 34/50\n",
            "625/625 [==============================] - 37s 60ms/step - loss: 0.0962 - accuracy: 0.9602 - val_loss: 1.2019 - val_accuracy: 0.8040\n",
            "Epoch 35/50\n",
            "625/625 [==============================] - 37s 60ms/step - loss: 0.1012 - accuracy: 0.9565 - val_loss: 1.2457 - val_accuracy: 0.7982\n",
            "Epoch 36/50\n",
            "625/625 [==============================] - 38s 60ms/step - loss: 0.0952 - accuracy: 0.9589 - val_loss: 1.2664 - val_accuracy: 0.7997\n",
            "Epoch 37/50\n",
            "625/625 [==============================] - 38s 60ms/step - loss: 0.0876 - accuracy: 0.9622 - val_loss: 1.2553 - val_accuracy: 0.8006\n",
            "Epoch 38/50\n",
            "625/625 [==============================] - 37s 60ms/step - loss: 0.0847 - accuracy: 0.9634 - val_loss: 1.3520 - val_accuracy: 0.7989\n",
            "Epoch 39/50\n",
            "625/625 [==============================] - 37s 60ms/step - loss: 0.0756 - accuracy: 0.9676 - val_loss: 1.3701 - val_accuracy: 0.7995\n",
            "Epoch 40/50\n",
            "625/625 [==============================] - 38s 60ms/step - loss: 0.0812 - accuracy: 0.9659 - val_loss: 1.4543 - val_accuracy: 0.7992\n",
            "Epoch 41/50\n",
            "625/625 [==============================] - 38s 60ms/step - loss: 0.0747 - accuracy: 0.9676 - val_loss: 1.3903 - val_accuracy: 0.7992\n",
            "Epoch 42/50\n",
            "625/625 [==============================] - 38s 60ms/step - loss: 0.0717 - accuracy: 0.9687 - val_loss: 1.5558 - val_accuracy: 0.7921\n",
            "Epoch 43/50\n",
            "625/625 [==============================] - 38s 60ms/step - loss: 0.0698 - accuracy: 0.9698 - val_loss: 1.5764 - val_accuracy: 0.7998\n",
            "Epoch 44/50\n",
            "625/625 [==============================] - 38s 60ms/step - loss: 0.0635 - accuracy: 0.9739 - val_loss: 1.6063 - val_accuracy: 0.8019\n",
            "Epoch 45/50\n",
            "625/625 [==============================] - 38s 60ms/step - loss: 0.0637 - accuracy: 0.9712 - val_loss: 1.7365 - val_accuracy: 0.8019\n",
            "Epoch 46/50\n",
            "625/625 [==============================] - 37s 60ms/step - loss: 0.0636 - accuracy: 0.9724 - val_loss: 1.6089 - val_accuracy: 0.7998\n",
            "Epoch 47/50\n",
            "625/625 [==============================] - 37s 60ms/step - loss: 0.0667 - accuracy: 0.9708 - val_loss: 1.6397 - val_accuracy: 0.7998\n",
            "Epoch 48/50\n",
            "625/625 [==============================] - 38s 60ms/step - loss: 0.0598 - accuracy: 0.9725 - val_loss: 1.7388 - val_accuracy: 0.7977\n",
            "Epoch 49/50\n",
            "625/625 [==============================] - 38s 60ms/step - loss: 0.0540 - accuracy: 0.9745 - val_loss: 1.7947 - val_accuracy: 0.7989\n",
            "Epoch 50/50\n",
            "625/625 [==============================] - 38s 60ms/step - loss: 0.0590 - accuracy: 0.9724 - val_loss: 1.8827 - val_accuracy: 0.7994\n"
          ],
          "name": "stdout"
        }
      ]
    },
    {
      "cell_type": "code",
      "metadata": {
        "colab": {
          "base_uri": "https://localhost:8080/",
          "height": 541
        },
        "id": "Ig-2DR2Xc82Z",
        "outputId": "7b1b964c-642b-4344-9816-92dba6fe749b"
      },
      "source": [
        "import matplotlib.pyplot as plt\n",
        "\n",
        "\n",
        "def plot_graphs(history, string):\n",
        "  plt.plot(history.history[string])\n",
        "  plt.plot(history.history['val_'+string])\n",
        "  plt.xlabel(\"Epochs\")\n",
        "  plt.ylabel(string)\n",
        "  plt.legend([string, 'val_'+string])\n",
        "  plt.show()\n",
        "\n",
        "plot_graphs(history, 'accuracy')\n",
        "plot_graphs(history, 'loss')"
      ],
      "execution_count": 6,
      "outputs": [
        {
          "output_type": "display_data",
          "data": {
            "image/png": "[encoded data removed]",
            "text/plain": [
              "<Figure size 432x288 with 1 Axes>"
            ]
          },
          "metadata": {
            "tags": [],
            "needs_background": "light"
          }
        },
        {
          "output_type": "display_data",
          "data": {
            "image/png": "[encoded data removed]",
            "text/plain": [
              "<Figure size 432x288 with 1 Axes>"
            ]
          },
          "metadata": {
            "tags": [],
            "needs_background": "light"
          }
        }
      ]
    },
    {
      "cell_type": "code",
      "metadata": {
        "id": "TOsG0v-Nc-wq"
      },
      "source": [
        "# model.save(\"test.h5\")"
      ],
      "execution_count": null,
      "outputs": []
    },
    {
      "cell_type": "markdown",
      "metadata": {
        "id": "nozrdn0LdFLi"
      },
      "source": [
        "2) Conv1D"
      ]
    },
    {
      "cell_type": "code",
      "metadata": {
        "colab": {
          "base_uri": "https://localhost:8080/"
        },
        "id": "lkKjYzMZdHnq",
        "outputId": "857ab35c-cf48-4b59-9bd9-afdb09038885"
      },
      "source": [
        "model = tf.keras.Sequential([\n",
        "    tf.keras.layers.Embedding(vocab_size, embedding_dim, input_length=max_length),\n",
        "    tf.keras.layers.Conv1D(128, 5, activation='relu'),\n",
        "    tf.keras.layers.GlobalMaxPooling1D(),\n",
        "    tf.keras.layers.Dense(24, activation='relu'),\n",
        "    tf.keras.layers.Dense(1, activation='sigmoid')\n",
        "])\n",
        "model.compile(loss='binary_crossentropy',optimizer='adam',metrics=['accuracy'])\n",
        "model.summary()"
      ],
      "execution_count": 10,
      "outputs": [
        {
          "output_type": "stream",
          "text": [
            "Model: \"sequential_2\"\n",
            "_________________________________________________________________\n",
            "Layer (type)                 Output Shape              Param #   \n",
            "=================================================================\n",
            "embedding_2 (Embedding)      (None, 120, 16)           16000     \n",
            "_________________________________________________________________\n",
            "conv1d_1 (Conv1D)            (None, 116, 128)          10368     \n",
            "_________________________________________________________________\n",
            "global_max_pooling1d_1 (Glob (None, 128)               0         \n",
            "_________________________________________________________________\n",
            "dense_4 (Dense)              (None, 24)                3096      \n",
            "_________________________________________________________________\n",
            "dense_5 (Dense)              (None, 1)                 25        \n",
            "=================================================================\n",
            "Total params: 29,489\n",
            "Trainable params: 29,489\n",
            "Non-trainable params: 0\n",
            "_________________________________________________________________\n"
          ],
          "name": "stdout"
        }
      ]
    },
    {
      "cell_type": "code",
      "metadata": {
        "colab": {
          "base_uri": "https://localhost:8080/"
        },
        "id": "yIDzR6rjdMwK",
        "outputId": "247a2516-c272-4b0e-eb6d-399e8bbe0ecb"
      },
      "source": [
        "num_epochs = 50\n",
        "training_padded = np.array(training_padded)\n",
        "training_labels = np.array(training_labels)\n",
        "testing_padded = np.array(testing_padded)\n",
        "testing_labels = np.array(testing_labels)\n",
        "\n",
        "history = model.fit(training_padded, training_labels, epochs=num_epochs, validation_data=(testing_padded, testing_labels), verbose=1)"
      ],
      "execution_count": 8,
      "outputs": [
        {
          "output_type": "stream",
          "text": [
            "Epoch 1/50\n",
            "625/625 [==============================] - 5s 6ms/step - loss: 0.5690 - accuracy: 0.6725 - val_loss: 0.4083 - val_accuracy: 0.8171\n",
            "Epoch 2/50\n",
            "625/625 [==============================] - 4s 6ms/step - loss: 0.3592 - accuracy: 0.8386 - val_loss: 0.3868 - val_accuracy: 0.8226\n",
            "Epoch 3/50\n",
            "625/625 [==============================] - 4s 6ms/step - loss: 0.3125 - accuracy: 0.8622 - val_loss: 0.3904 - val_accuracy: 0.8217\n",
            "Epoch 4/50\n",
            "625/625 [==============================] - 4s 6ms/step - loss: 0.2848 - accuracy: 0.8781 - val_loss: 0.4023 - val_accuracy: 0.8226\n",
            "Epoch 5/50\n",
            "625/625 [==============================] - 4s 6ms/step - loss: 0.2413 - accuracy: 0.9012 - val_loss: 0.4184 - val_accuracy: 0.8216\n",
            "Epoch 6/50\n",
            "625/625 [==============================] - 4s 6ms/step - loss: 0.2126 - accuracy: 0.9169 - val_loss: 0.4653 - val_accuracy: 0.8164\n",
            "Epoch 7/50\n",
            "625/625 [==============================] - 4s 6ms/step - loss: 0.1710 - accuracy: 0.9347 - val_loss: 0.4953 - val_accuracy: 0.8170\n",
            "Epoch 8/50\n",
            "625/625 [==============================] - 4s 6ms/step - loss: 0.1446 - accuracy: 0.9461 - val_loss: 0.5675 - val_accuracy: 0.8146\n",
            "Epoch 9/50\n",
            "625/625 [==============================] - 4s 6ms/step - loss: 0.1150 - accuracy: 0.9593 - val_loss: 0.6079 - val_accuracy: 0.8110\n",
            "Epoch 10/50\n",
            "625/625 [==============================] - 4s 6ms/step - loss: 0.0962 - accuracy: 0.9642 - val_loss: 0.6977 - val_accuracy: 0.8025\n",
            "Epoch 11/50\n",
            "625/625 [==============================] - 4s 6ms/step - loss: 0.0761 - accuracy: 0.9740 - val_loss: 0.7868 - val_accuracy: 0.7982\n",
            "Epoch 12/50\n",
            "625/625 [==============================] - 4s 6ms/step - loss: 0.0670 - accuracy: 0.9781 - val_loss: 0.8677 - val_accuracy: 0.8004\n",
            "Epoch 13/50\n",
            "625/625 [==============================] - 4s 6ms/step - loss: 0.0540 - accuracy: 0.9831 - val_loss: 0.9567 - val_accuracy: 0.7986\n",
            "Epoch 14/50\n",
            "625/625 [==============================] - 4s 6ms/step - loss: 0.0489 - accuracy: 0.9833 - val_loss: 1.0258 - val_accuracy: 0.8013\n",
            "Epoch 15/50\n",
            "625/625 [==============================] - 4s 6ms/step - loss: 0.0419 - accuracy: 0.9848 - val_loss: 1.1065 - val_accuracy: 0.7991\n",
            "Epoch 16/50\n",
            "625/625 [==============================] - 4s 6ms/step - loss: 0.0492 - accuracy: 0.9820 - val_loss: 1.2180 - val_accuracy: 0.8004\n",
            "Epoch 17/50\n",
            "625/625 [==============================] - 4s 6ms/step - loss: 0.0395 - accuracy: 0.9850 - val_loss: 1.2674 - val_accuracy: 0.7931\n",
            "Epoch 18/50\n",
            "625/625 [==============================] - 4s 6ms/step - loss: 0.0334 - accuracy: 0.9872 - val_loss: 1.3519 - val_accuracy: 0.7983\n",
            "Epoch 19/50\n",
            "625/625 [==============================] - 4s 6ms/step - loss: 0.0336 - accuracy: 0.9868 - val_loss: 1.3956 - val_accuracy: 0.7949\n",
            "Epoch 20/50\n",
            "625/625 [==============================] - 4s 6ms/step - loss: 0.0352 - accuracy: 0.9869 - val_loss: 1.4551 - val_accuracy: 0.7916\n",
            "Epoch 21/50\n",
            "625/625 [==============================] - 4s 6ms/step - loss: 0.0333 - accuracy: 0.9874 - val_loss: 1.5617 - val_accuracy: 0.7879\n",
            "Epoch 22/50\n",
            "625/625 [==============================] - 4s 6ms/step - loss: 0.0320 - accuracy: 0.9884 - val_loss: 1.5625 - val_accuracy: 0.7901\n",
            "Epoch 23/50\n",
            "625/625 [==============================] - 4s 6ms/step - loss: 0.0240 - accuracy: 0.9900 - val_loss: 1.6107 - val_accuracy: 0.7913\n",
            "Epoch 24/50\n",
            "625/625 [==============================] - 4s 6ms/step - loss: 0.0226 - accuracy: 0.9910 - val_loss: 1.6414 - val_accuracy: 0.7955\n",
            "Epoch 25/50\n",
            "625/625 [==============================] - 4s 6ms/step - loss: 0.0244 - accuracy: 0.9906 - val_loss: 1.7314 - val_accuracy: 0.7922\n",
            "Epoch 26/50\n",
            "625/625 [==============================] - 4s 6ms/step - loss: 0.0246 - accuracy: 0.9907 - val_loss: 1.7738 - val_accuracy: 0.7976\n",
            "Epoch 27/50\n",
            "625/625 [==============================] - 4s 6ms/step - loss: 0.0308 - accuracy: 0.9877 - val_loss: 1.7198 - val_accuracy: 0.7952\n",
            "Epoch 28/50\n",
            "625/625 [==============================] - 4s 6ms/step - loss: 0.0236 - accuracy: 0.9902 - val_loss: 1.8336 - val_accuracy: 0.7934\n",
            "Epoch 29/50\n",
            "625/625 [==============================] - 4s 6ms/step - loss: 0.0287 - accuracy: 0.9893 - val_loss: 1.8930 - val_accuracy: 0.7955\n",
            "Epoch 30/50\n",
            "625/625 [==============================] - 4s 6ms/step - loss: 0.0210 - accuracy: 0.9906 - val_loss: 1.8140 - val_accuracy: 0.7907\n",
            "Epoch 31/50\n",
            "625/625 [==============================] - 4s 6ms/step - loss: 0.0213 - accuracy: 0.9912 - val_loss: 1.9058 - val_accuracy: 0.7922\n",
            "Epoch 32/50\n",
            "625/625 [==============================] - 4s 6ms/step - loss: 0.0251 - accuracy: 0.9888 - val_loss: 1.8521 - val_accuracy: 0.7916\n",
            "Epoch 33/50\n",
            "625/625 [==============================] - 4s 6ms/step - loss: 0.0198 - accuracy: 0.9917 - val_loss: 2.0368 - val_accuracy: 0.7994\n",
            "Epoch 34/50\n",
            "625/625 [==============================] - 4s 6ms/step - loss: 0.0201 - accuracy: 0.9918 - val_loss: 2.0249 - val_accuracy: 0.7955\n",
            "Epoch 35/50\n",
            "625/625 [==============================] - 4s 6ms/step - loss: 0.0199 - accuracy: 0.9916 - val_loss: 2.0817 - val_accuracy: 0.7936\n",
            "Epoch 36/50\n",
            "625/625 [==============================] - 4s 6ms/step - loss: 0.0232 - accuracy: 0.9912 - val_loss: 2.1517 - val_accuracy: 0.7897\n",
            "Epoch 37/50\n",
            "625/625 [==============================] - 4s 6ms/step - loss: 0.0309 - accuracy: 0.9881 - val_loss: 2.0863 - val_accuracy: 0.7922\n",
            "Epoch 38/50\n",
            "625/625 [==============================] - 4s 6ms/step - loss: 0.0216 - accuracy: 0.9910 - val_loss: 2.1193 - val_accuracy: 0.7953\n",
            "Epoch 39/50\n",
            "625/625 [==============================] - 4s 6ms/step - loss: 0.0193 - accuracy: 0.9916 - val_loss: 2.1602 - val_accuracy: 0.7939\n",
            "Epoch 40/50\n",
            "625/625 [==============================] - 4s 6ms/step - loss: 0.0170 - accuracy: 0.9921 - val_loss: 2.2797 - val_accuracy: 0.7861\n",
            "Epoch 41/50\n",
            "625/625 [==============================] - 4s 6ms/step - loss: 0.0203 - accuracy: 0.9907 - val_loss: 2.1255 - val_accuracy: 0.7988\n",
            "Epoch 42/50\n",
            "625/625 [==============================] - 4s 6ms/step - loss: 0.0300 - accuracy: 0.9878 - val_loss: 2.0541 - val_accuracy: 0.7948\n",
            "Epoch 43/50\n",
            "625/625 [==============================] - 4s 6ms/step - loss: 0.0222 - accuracy: 0.9911 - val_loss: 2.1702 - val_accuracy: 0.7956\n",
            "Epoch 44/50\n",
            "625/625 [==============================] - 4s 6ms/step - loss: 0.0150 - accuracy: 0.9935 - val_loss: 2.2998 - val_accuracy: 0.7979\n",
            "Epoch 45/50\n",
            "625/625 [==============================] - 4s 6ms/step - loss: 0.0138 - accuracy: 0.9935 - val_loss: 2.2900 - val_accuracy: 0.7892\n",
            "Epoch 46/50\n",
            "625/625 [==============================] - 4s 6ms/step - loss: 0.0129 - accuracy: 0.9934 - val_loss: 2.3811 - val_accuracy: 0.7948\n",
            "Epoch 47/50\n",
            "625/625 [==============================] - 4s 6ms/step - loss: 0.0177 - accuracy: 0.9924 - val_loss: 2.2583 - val_accuracy: 0.7894\n",
            "Epoch 48/50\n",
            "625/625 [==============================] - 4s 6ms/step - loss: 0.0246 - accuracy: 0.9901 - val_loss: 2.3226 - val_accuracy: 0.7901\n",
            "Epoch 49/50\n",
            "625/625 [==============================] - 4s 6ms/step - loss: 0.0221 - accuracy: 0.9906 - val_loss: 2.2342 - val_accuracy: 0.7842\n",
            "Epoch 50/50\n",
            "625/625 [==============================] - 4s 6ms/step - loss: 0.0211 - accuracy: 0.9902 - val_loss: 2.3142 - val_accuracy: 0.7901\n"
          ],
          "name": "stdout"
        }
      ]
    },
    {
      "cell_type": "code",
      "metadata": {
        "colab": {
          "base_uri": "https://localhost:8080/",
          "height": 541
        },
        "id": "4S1vHGTFdS4S",
        "outputId": "c852d67f-bdfd-4d5d-8cc8-cde751d9402a"
      },
      "source": [
        "import matplotlib.pyplot as plt\n",
        "\n",
        "\n",
        "def plot_graphs(history, string):\n",
        "  plt.plot(history.history[string])\n",
        "  plt.plot(history.history['val_'+string])\n",
        "  plt.xlabel(\"Epochs\")\n",
        "  plt.ylabel(string)\n",
        "  plt.legend([string, 'val_'+string])\n",
        "  plt.show()\n",
        "\n",
        "plot_graphs(history, 'accuracy')\n",
        "plot_graphs(history, 'loss')"
      ],
      "execution_count": 9,
      "outputs": [
        {
          "output_type": "display_data",
          "data": {
            "image/png": "[encoded data removed]",
            "text/plain": [
              "<Figure size 432x288 with 1 Axes>"
            ]
          },
          "metadata": {
            "tags": [],
            "needs_background": "light"
          }
        },
        {
          "output_type": "display_data",
          "data": {
            "image/png": "[encoded data removed]",
            "text/plain": [
              "<Figure size 432x288 with 1 Axes>"
            ]
          },
          "metadata": {
            "tags": [],
            "needs_background": "light"
          }
        }
      ]
    },
    {
      "cell_type": "code",
      "metadata": {
        "id": "iWcaXtDQdXbS"
      },
      "source": [
        "# model.save(\"test.h5\")"
      ],
      "execution_count": null,
      "outputs": []
    }
  ]
}