{
  "nbformat": 4,
  "nbformat_minor": 0,
  "metadata": {
    "colab": {
      "name": " linear_regression_xgb_regression_Boston주택.ipynb",
      "provenance": [],
      "authorship_tag": "ABX9TyNclUMakUAnXUZZwPN8UomE",
      "include_colab_link": true
    },
    "kernelspec": {
      "name": "python3",
      "display_name": "Python 3"
    },
    "language_info": {
      "name": "python"
    }
  },
  "cells": [
    {
      "cell_type": "markdown",
      "metadata": {
        "id": "view-in-github",
        "colab_type": "text"
      },
      "source": [
        "<a href=\"https://colab.research.google.com/github/innosoft21/workspace/blob/main/tensorflow_python/linear_regression_xgb_regression_Boston%EC%A3%BC%ED%83%9D.ipynb\" target=\"_parent\"><img src=\"https://colab.research.google.com/assets/colab-badge.svg\" alt=\"Open In Colab\"/></a>"
      ]
    },
    {
      "cell_type": "markdown",
      "metadata": {
        "id": "oV191pp5IK6g"
      },
      "source": [
        "sklearn 연습"
      ]
    },
    {
      "cell_type": "code",
      "metadata": {
        "id": "ejqyZu3BF9p0"
      },
      "source": [
        "from sklearn import datasets \n",
        "import pandas as pd "
      ],
      "execution_count": 1,
      "outputs": []
    },
    {
      "cell_type": "code",
      "metadata": {
        "colab": {
          "base_uri": "https://localhost:8080/"
        },
        "id": "qXKa4dBwGI-6",
        "outputId": "0aa8f766-19a7-4c80-ddb2-070afeb87a95"
      },
      "source": [
        "# 로드한 boston 전체 데이터에 key 값을 출력 \n",
        "boston_house_prices = datasets.load_boston() \n",
        "print(boston_house_prices.keys()) "
      ],
      "execution_count": 2,
      "outputs": [
        {
          "output_type": "stream",
          "text": [
            "dict_keys(['data', 'target', 'feature_names', 'DESCR', 'filename'])\n"
          ],
          "name": "stdout"
        }
      ]
    },
    {
      "cell_type": "code",
      "metadata": {
        "colab": {
          "base_uri": "https://localhost:8080/"
        },
        "id": "Nd3h4ekjGPbK",
        "outputId": "a01f4d92-fca0-4bab-ee2a-c2e47876dc1e"
      },
      "source": [
        "# boston 전체 데이터 중 data에 대한 전체 행, 열 길이를 출력 \n",
        "print(boston_house_prices.data.shape) "
      ],
      "execution_count": 3,
      "outputs": [
        {
          "output_type": "stream",
          "text": [
            "(506, 13)\n"
          ],
          "name": "stdout"
        }
      ]
    },
    {
      "cell_type": "code",
      "metadata": {
        "colab": {
          "base_uri": "https://localhost:8080/"
        },
        "id": "N-nDyslqGc3I",
        "outputId": "5f14cf9e-8dff-4406-e47c-70a34487bd8f"
      },
      "source": [
        "# boston 데이터에 컬럼 이름을 출력 \n",
        "print(boston_house_prices.feature_names) \n",
        "\n",
        "print(boston_house_prices.DESCR) "
      ],
      "execution_count": 4,
      "outputs": [
        {
          "output_type": "stream",
          "text": [
            "['CRIM' 'ZN' 'INDUS' 'CHAS' 'NOX' 'RM' 'AGE' 'DIS' 'RAD' 'TAX' 'PTRATIO'\n",
            " 'B' 'LSTAT']\n",
            ".. _boston_dataset:\n",
            "\n",
            "Boston house prices dataset\n",
            "---------------------------\n",
            "\n",
            "**Data Set Characteristics:**  \n",
            "\n",
            "    :Number of Instances: 506 \n",
            "\n",
            "    :Number of Attributes: 13 numeric/categorical predictive. Median Value (attribute 14) is usually the target.\n",
            "\n",
            "    :Attribute Information (in order):\n",
            "        - CRIM     per capita crime rate by town\n",
            "        - ZN       proportion of residential land zoned for lots over 25,000 sq.ft.\n",
            "        - INDUS    proportion of non-retail business acres per town\n",
            "        - CHAS     Charles River dummy variable (= 1 if tract bounds river; 0 otherwise)\n",
            "        - NOX      nitric oxides concentration (parts per 10 million)\n",
            "        - RM       average number of rooms per dwelling\n",
            "        - AGE      proportion of owner-occupied units built prior to 1940\n",
            "        - DIS      weighted distances to five Boston employment centres\n",
            "        - RAD      index of accessibility to radial highways\n",
            "        - TAX      full-value property-tax rate per $10,000\n",
            "        - PTRATIO  pupil-teacher ratio by town\n",
            "        - B        1000(Bk - 0.63)^2 where Bk is the proportion of blacks by town\n",
            "        - LSTAT    % lower status of the population\n",
            "        - MEDV     Median value of owner-occupied homes in $1000's\n",
            "\n",
            "    :Missing Attribute Values: None\n",
            "\n",
            "    :Creator: Harrison, D. and Rubinfeld, D.L.\n",
            "\n",
            "This is a copy of UCI ML housing dataset.\n",
            "https://archive.ics.uci.edu/ml/machine-learning-databases/housing/\n",
            "\n",
            "\n",
            "This dataset was taken from the StatLib library which is maintained at Carnegie Mellon University.\n",
            "\n",
            "The Boston house-price data of Harrison, D. and Rubinfeld, D.L. 'Hedonic\n",
            "prices and the demand for clean air', J. Environ. Economics & Management,\n",
            "vol.5, 81-102, 1978.   Used in Belsley, Kuh & Welsch, 'Regression diagnostics\n",
            "...', Wiley, 1980.   N.B. Various transformations are used in the table on\n",
            "pages 244-261 of the latter.\n",
            "\n",
            "The Boston house-price data has been used in many machine learning papers that address regression\n",
            "problems.   \n",
            "     \n",
            ".. topic:: References\n",
            "\n",
            "   - Belsley, Kuh & Welsch, 'Regression diagnostics: Identifying Influential Data and Sources of Collinearity', Wiley, 1980. 244-261.\n",
            "   - Quinlan,R. (1993). Combining Instance-Based and Model-Based Learning. In Proceedings on the Tenth International Conference of Machine Learning, 236-243, University of Massachusetts, Amherst. Morgan Kaufmann.\n",
            "\n"
          ],
          "name": "stdout"
        }
      ]
    },
    {
      "cell_type": "code",
      "metadata": {
        "colab": {
          "base_uri": "https://localhost:8080/"
        },
        "id": "BPW1rDY_Gfit",
        "outputId": "2cfa171b-a729-4083-8d7e-1ce17a6a0e6f"
      },
      "source": [
        "# Boston dataset을 Data Frame으로 정제하기 \n",
        "\n",
        "data = pd.DataFrame(boston_house_prices.data) \n",
        "\n",
        "print(data.tail()) "
      ],
      "execution_count": 5,
      "outputs": [
        {
          "output_type": "stream",
          "text": [
            "          0    1      2    3      4   ...   8      9     10      11    12\n",
            "501  0.06263  0.0  11.93  0.0  0.573  ...  1.0  273.0  21.0  391.99  9.67\n",
            "502  0.04527  0.0  11.93  0.0  0.573  ...  1.0  273.0  21.0  396.90  9.08\n",
            "503  0.06076  0.0  11.93  0.0  0.573  ...  1.0  273.0  21.0  396.90  5.64\n",
            "504  0.10959  0.0  11.93  0.0  0.573  ...  1.0  273.0  21.0  393.45  6.48\n",
            "505  0.04741  0.0  11.93  0.0  0.573  ...  1.0  273.0  21.0  396.90  7.88\n",
            "\n",
            "[5 rows x 13 columns]\n"
          ],
          "name": "stdout"
        }
      ]
    },
    {
      "cell_type": "code",
      "metadata": {
        "colab": {
          "base_uri": "https://localhost:8080/"
        },
        "id": "83NgEMVAGyVa",
        "outputId": "683bc1d9-e8c7-49fb-de4d-1d92a398478b"
      },
      "source": [
        "# data.columns를 이용하여, column 명이름을 바꿔준다 \n",
        "\n",
        "data.columns = boston_house_prices.feature_names \n",
        "\n",
        "print(data.tail()) "
      ],
      "execution_count": 6,
      "outputs": [
        {
          "output_type": "stream",
          "text": [
            "        CRIM   ZN  INDUS  CHAS    NOX  ...  RAD    TAX  PTRATIO       B  LSTAT\n",
            "501  0.06263  0.0  11.93   0.0  0.573  ...  1.0  273.0     21.0  391.99   9.67\n",
            "502  0.04527  0.0  11.93   0.0  0.573  ...  1.0  273.0     21.0  396.90   9.08\n",
            "503  0.06076  0.0  11.93   0.0  0.573  ...  1.0  273.0     21.0  396.90   5.64\n",
            "504  0.10959  0.0  11.93   0.0  0.573  ...  1.0  273.0     21.0  393.45   6.48\n",
            "505  0.04741  0.0  11.93   0.0  0.573  ...  1.0  273.0     21.0  396.90   7.88\n",
            "\n",
            "[5 rows x 13 columns]\n"
          ],
          "name": "stdout"
        }
      ]
    },
    {
      "cell_type": "code",
      "metadata": {
        "colab": {
          "base_uri": "https://localhost:8080/"
        },
        "id": "8bNopNeEG1Zm",
        "outputId": "9a8e15d4-47f9-49c4-a4bd-3c93133ee78e"
      },
      "source": [
        "data['Price'] = boston_house_prices.target \n",
        "\n",
        "print(data.tail()) "
      ],
      "execution_count": 7,
      "outputs": [
        {
          "output_type": "stream",
          "text": [
            "        CRIM   ZN  INDUS  CHAS    NOX  ...    TAX  PTRATIO       B  LSTAT  Price\n",
            "501  0.06263  0.0  11.93   0.0  0.573  ...  273.0     21.0  391.99   9.67   22.4\n",
            "502  0.04527  0.0  11.93   0.0  0.573  ...  273.0     21.0  396.90   9.08   20.6\n",
            "503  0.06076  0.0  11.93   0.0  0.573  ...  273.0     21.0  396.90   5.64   23.9\n",
            "504  0.10959  0.0  11.93   0.0  0.573  ...  273.0     21.0  393.45   6.48   22.0\n",
            "505  0.04741  0.0  11.93   0.0  0.573  ...  273.0     21.0  396.90   7.88   11.9\n",
            "\n",
            "[5 rows x 14 columns]\n"
          ],
          "name": "stdout"
        }
      ]
    },
    {
      "cell_type": "code",
      "metadata": {
        "id": "KlH_f9LfG4-I"
      },
      "source": [
        "# 데이터 준비하기 \n",
        "\n",
        "from sklearn.model_selection import train_test_split \n",
        "\n",
        "X_train = pd.DataFrame(data).drop(['Price'], axis=1) "
      ],
      "execution_count": 8,
      "outputs": []
    },
    {
      "cell_type": "code",
      "metadata": {
        "id": "RbJjw6a4G7vV"
      },
      "source": [
        "# Price컬럼을 제거\n",
        "\n",
        "y_train = data['Price'] \n",
        "\n",
        "# Price컬럼을 라벨로\n",
        "\n",
        "X_train, X_val, y_train, y_val = train_test_split(X_train, y_train, test_size=0.2, shuffle=True) \n",
        "\n",
        "from sklearn.model_selection import GridSearchCV \n",
        "\n",
        "from sklearn.metrics import mean_squared_error, mean_absolute_error "
      ],
      "execution_count": 11,
      "outputs": []
    },
    {
      "cell_type": "code",
      "metadata": {
        "colab": {
          "base_uri": "https://localhost:8080/"
        },
        "id": "rlvbhNsNHLN7",
        "outputId": "1cdd91ca-beba-46d5-f887-ad1ed8f52153"
      },
      "source": [
        "# 데이터 학습시키기 (GridSearchCV > LinearRegression) \n",
        "\n",
        "from sklearn import linear_model \n",
        "\n",
        "param_lin = {} \n",
        "\n",
        "model_lin = linear_model.LinearRegression() \n",
        "\n",
        "print('=== keys:', model_lin.get_params().keys()) \n",
        "\n",
        "grid_search_lin = GridSearchCV(estimator=model_lin, param_grid=param_lin, cv=5, scoring='neg_mean_squared_error', n_jobs=-1) \n",
        "\n",
        "grid_search_lin.fit(X_train, y_train) "
      ],
      "execution_count": 12,
      "outputs": [
        {
          "output_type": "stream",
          "text": [
            "=== keys: dict_keys(['copy_X', 'fit_intercept', 'n_jobs', 'normalize'])\n"
          ],
          "name": "stdout"
        },
        {
          "output_type": "execute_result",
          "data": {
            "text/plain": [
              "GridSearchCV(cv=5, error_score=nan,\n",
              "             estimator=LinearRegression(copy_X=True, fit_intercept=True,\n",
              "                                        n_jobs=None, normalize=False),\n",
              "             iid='deprecated', n_jobs=-1, param_grid={},\n",
              "             pre_dispatch='2*n_jobs', refit=True, return_train_score=False,\n",
              "             scoring='neg_mean_squared_error', verbose=0)"
            ]
          },
          "metadata": {
            "tags": []
          },
          "execution_count": 12
        }
      ]
    },
    {
      "cell_type": "code",
      "metadata": {
        "colab": {
          "base_uri": "https://localhost:8080/"
        },
        "id": "r-RYYnQVHPL_",
        "outputId": "67a14785-593b-4bcf-a226-54555cd68c30"
      },
      "source": [
        "print(grid_search_lin.best_params_) \n",
        "\n",
        "print(grid_search_lin.best_estimator_) "
      ],
      "execution_count": 13,
      "outputs": [
        {
          "output_type": "stream",
          "text": [
            "{}\n",
            "LinearRegression(copy_X=True, fit_intercept=True, n_jobs=None, normalize=False)\n"
          ],
          "name": "stdout"
        }
      ]
    },
    {
      "cell_type": "code",
      "metadata": {
        "colab": {
          "base_uri": "https://localhost:8080/"
        },
        "id": "hM81XW5UHRnY",
        "outputId": "78c6a41b-ccea-4a53-baf6-ca701d3f9ae7"
      },
      "source": [
        "pred_train = grid_search_lin.predict(X_train) \n",
        "\n",
        "pred_val = grid_search_lin.predict(X_val) \n",
        "\n",
        "print('lin > train mae score: ', mean_absolute_error(y_train, pred_train)) \n",
        "\n",
        "print('lin > val mae score:', mean_absolute_error(y_val, pred_val)) \n",
        "\n",
        "print('lin > train mse score: ', mean_squared_error(y_train, pred_train)) \n",
        "\n",
        "print('lin > val mse score:', mean_squared_error(y_val, pred_val)) "
      ],
      "execution_count": 14,
      "outputs": [
        {
          "output_type": "stream",
          "text": [
            "lin > train mae score:  3.263175548752252\n",
            "lin > val mae score: 3.4884927138904107\n",
            "lin > train mse score:  22.16328087242906\n",
            "lin > val mse score: 22.201708051736688\n"
          ],
          "name": "stdout"
        }
      ]
    },
    {
      "cell_type": "code",
      "metadata": {
        "colab": {
          "base_uri": "https://localhost:8080/"
        },
        "id": "noECkcLIHUxi",
        "outputId": "da3ada2e-c511-401f-ebdb-d47e2b646097"
      },
      "source": [
        "# 데이터 학습시키기 (GridSearchCV > XGBRegression) \n",
        "\n",
        "import xgboost as xgb\n",
        "\n",
        "param = { 'max_depth': [2, 3, 4], 'n_estimators': range(550, 700, 50), 'colsample_bytree': [0.5, 0.7, 1], 'colsample_bylevel': [0.5, 0.7, 1] } \n",
        "\n",
        "model_xgb = xgb.XGBRegressor() \n",
        "\n",
        "grid_search = GridSearchCV(estimator=model_xgb, param_grid=param, cv=5, scoring='neg_mean_squared_error', n_jobs=-1) \n",
        "\n",
        "grid_search.fit(X_train, y_train) \n",
        "\n",
        "print(grid_search.best_params_) \n",
        "\n",
        "print(grid_search.best_estimator_) \n",
        "\n",
        "pred_train = grid_search.predict(X_train) \n",
        "\n",
        "pred_val = grid_search.predict(X_val) \n",
        "\n",
        "print('xgb > train mae score: ', mean_absolute_error(y_train, pred_train)) \n",
        "\n",
        "print('xgb > val mae score:', mean_absolute_error(y_val, pred_val)) \n",
        "\n",
        "print('xgb > train mse score: ', mean_squared_error(y_train, pred_train)) \n",
        "\n",
        "print('xgb > val mse score:', mean_squared_error(y_val, pred_val)) "
      ],
      "execution_count": 17,
      "outputs": [
        {
          "output_type": "stream",
          "text": [
            "[09:05:27] WARNING: /workspace/src/objective/regression_obj.cu:152: reg:linear is now deprecated in favor of reg:squarederror.\n",
            "{'colsample_bylevel': 0.5, 'colsample_bytree': 0.7, 'max_depth': 3, 'n_estimators': 600}\n",
            "XGBRegressor(base_score=0.5, booster='gbtree', colsample_bylevel=0.5,\n",
            "             colsample_bynode=1, colsample_bytree=0.7, gamma=0,\n",
            "             importance_type='gain', learning_rate=0.1, max_delta_step=0,\n",
            "             max_depth=3, min_child_weight=1, missing=None, n_estimators=600,\n",
            "             n_jobs=1, nthread=None, objective='reg:linear', random_state=0,\n",
            "             reg_alpha=0, reg_lambda=1, scale_pos_weight=1, seed=None,\n",
            "             silent=None, subsample=1, verbosity=1)\n",
            "xgb > train mae score:  0.28151721977951505\n",
            "xgb > val mae score: 2.294718802208994\n",
            "xgb > train mse score:  0.14017410186520918\n",
            "xgb > val mse score: 10.060275548017962\n"
          ],
          "name": "stdout"
        }
      ]
    }
  ]
}